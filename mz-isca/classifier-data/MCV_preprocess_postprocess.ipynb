{
 "cells": [
  {
   "cell_type": "code",
   "execution_count": 52,
   "id": "d0e4abc1",
   "metadata": {},
   "outputs": [
    {
     "data": {
      "text/html": [
       "<style>.container { width:100% !important; }</style>"
      ],
      "text/plain": [
       "<IPython.core.display.HTML object>"
      ]
     },
     "metadata": {},
     "output_type": "display_data"
    }
   ],
   "source": [
    "from IPython.display import display, HTML\n",
    "display(HTML(\"<style>.container { width:100% !important; }</style>\"))"
   ]
  },
  {
   "cell_type": "code",
   "execution_count": null,
   "id": "3cd7f594",
   "metadata": {},
   "outputs": [],
   "source": []
  },
  {
   "cell_type": "code",
   "execution_count": 3,
   "id": "bf7fc189",
   "metadata": {},
   "outputs": [
    {
     "name": "stderr",
     "output_type": "stream",
     "text": [
      "/home/mayur/exp/anaconda3/envs/tnew/lib/python3.7/site-packages/tqdm/auto.py:22: TqdmWarning: IProgress not found. Please update jupyter and ipywidgets. See https://ipywidgets.readthedocs.io/en/stable/user_install.html\n",
      "  from .autonotebook import tqdm as notebook_tqdm\n"
     ]
    }
   ],
   "source": [
    "import numpy as np\n",
    "import pandas as pd\n",
    "\n",
    "from pathlib import Path\n",
    "from tqdm import tqdm\n",
    "\n",
    "import torchaudio\n",
    "from sklearn.model_selection import train_test_split\n",
    "\n",
    "import os, sys, json, random\n",
    "import librosa"
   ]
  },
  {
   "cell_type": "code",
   "execution_count": 7,
   "id": "a34f08b8",
   "metadata": {
    "collapsed": true
   },
   "outputs": [
    {
     "name": "stdout",
     "output_type": "stream",
     "text": [
      "loadingloadingloadingloadingloadingloadingloadingloading indian     \n",
      "  africanphilippinesscotlandhongkongusirelandengland\n",
      "\n",
      "\n",
      "\n",
      "\n",
      "\n",
      "\n"
     ]
    },
    {
     "name": "stderr",
     "output_type": "stream",
     "text": [
      "\r",
      "  0%|          | 0/2169 [00:00<?, ?it/s]"
     ]
    },
    {
     "name": "stdout",
     "output_type": "stream",
     "text": [
      "/home/mayur/mayank/Error-Driven-ASR-Personalization/mozilla/cv-corpus-7.0-2021-07-21/en/clips/common_voice_en_18715033.mp3\n"
     ]
    },
    {
     "name": "stderr",
     "output_type": "stream",
     "text": [
      "\r",
      "  0%|          | 0/1598 [00:00<?, ?it/s]"
     ]
    },
    {
     "name": "stdout",
     "output_type": "stream",
     "text": [
      "/home/mayur/mayank/Error-Driven-ASR-Personalization/mozilla/cv-corpus-7.0-2021-07-21/en/clips/common_voice_en_23802572.mp3\n",
      "/home/mayur/mayank/Error-Driven-ASR-Personalization/mozilla/cv-corpus-7.0-2021-07-21/en/clips/common_voice_en_20057361.mp3\n"
     ]
    },
    {
     "name": "stderr",
     "output_type": "stream",
     "text": [
      "\r",
      "  0%|          | 0/3000 [00:00<?, ?it/s]"
     ]
    },
    {
     "name": "stdout",
     "output_type": "stream",
     "text": [
      "/home/mayur/mayank/Error-Driven-ASR-Personalization/mozilla/cv-corpus-7.0-2021-07-21/en/clips/common_voice_en_20533149.mp3loading\n"
     ]
    },
    {
     "name": "stderr",
     "output_type": "stream",
     "text": [
      "  0%|          | 0/3000 [00:00<?, ?it/s]"
     ]
    },
    {
     "name": "stdout",
     "output_type": "stream",
     "text": [
      " /home/mayur/mayank/Error-Driven-ASR-Personalization/mozilla/cv-corpus-7.0-2021-07-21/en/clips/common_voice_en_17782044.mp3/home/mayur/mayank/Error-Driven-ASR-Personalization/mozilla/cv-corpus-7.0-2021-07-21/en/clips/common_voice_en_614556.mp3\n",
      "australia\n",
      "\n"
     ]
    },
    {
     "name": "stderr",
     "output_type": "stream",
     "text": [
      "\r",
      "  0%|          | 0/3000 [00:00<?, ?it/s]"
     ]
    },
    {
     "name": "stdout",
     "output_type": "stream",
     "text": [
      "/home/mayur/mayank/Error-Driven-ASR-Personalization/mozilla/cv-corpus-7.0-2021-07-21/en/clips/common_voice_en_606056.mp3\n"
     ]
    },
    {
     "name": "stderr",
     "output_type": "stream",
     "text": [
      "\r",
      "  0%|          | 0/3000 [00:00<?, ?it/s]"
     ]
    },
    {
     "name": "stdout",
     "output_type": "stream",
     "text": [
      "/home/mayur/mayank/Error-Driven-ASR-Personalization/mozilla/cv-corpus-7.0-2021-07-21/en/clips/common_voice_en_27143759.mp3\n"
     ]
    },
    {
     "name": "stderr",
     "output_type": "stream",
     "text": [
      "\r",
      "  0%|          | 0/3000 [00:00<?, ?it/s]"
     ]
    },
    {
     "name": "stdout",
     "output_type": "stream",
     "text": [
      "/home/mayur/mayank/Error-Driven-ASR-Personalization/mozilla/cv-corpus-7.0-2021-07-21/en/clips/common_voice_en_22161345.mp3\n"
     ]
    },
    {
     "name": "stderr",
     "output_type": "stream",
     "text": [
      "  0%|          | 1/3000 [00:00<09:35,  5.21it/s]"
     ]
    },
    {
     "name": "stdout",
     "output_type": "stream",
     "text": [
      "/home/mayur/mayank/Error-Driven-ASR-Personalization/mozilla/cv-corpus-7.0-2021-07-21/en/clips/common_voice_en_25458456.mp3"
     ]
    },
    {
     "name": "stderr",
     "output_type": "stream",
     "text": [
      "\r",
      "  0%|          | 2/2169 [00:00<03:59,  9.03it/s]"
     ]
    },
    {
     "name": "stdout",
     "output_type": "stream",
     "text": [
      "/home/mayur/mayank/Error-Driven-ASR-Personalization/mozilla/cv-corpus-7.0-2021-07-21/en/clips/common_voice_en_35850.mp3\n",
      "\n",
      "/home/mayur/mayank/Error-Driven-ASR-Personalization/mozilla/cv-corpus-7.0-2021-07-21/en/clips/common_voice_en_18874897.mp3\n"
     ]
    },
    {
     "name": "stderr",
     "output_type": "stream",
     "text": [
      "\r",
      "  0%|          | 1/1598 [00:00<05:56,  4.48it/s]"
     ]
    },
    {
     "name": "stdout",
     "output_type": "stream",
     "text": [
      "/home/mayur/mayank/Error-Driven-ASR-Personalization/mozilla/cv-corpus-7.0-2021-07-21/en/clips/common_voice_en_17808858.mp3\n"
     ]
    },
    {
     "name": "stderr",
     "output_type": "stream",
     "text": [
      "\r",
      "  0%|          | 1/3000 [00:00<10:17,  4.86it/s]"
     ]
    },
    {
     "name": "stdout",
     "output_type": "stream",
     "text": [
      "/home/mayur/mayank/Error-Driven-ASR-Personalization/mozilla/cv-corpus-7.0-2021-07-21/en/clips/common_voice_en_23989310.mp3\n"
     ]
    },
    {
     "name": "stderr",
     "output_type": "stream",
     "text": [
      "\r",
      "  0%|          | 1/3000 [00:00<10:39,  4.69it/s]"
     ]
    },
    {
     "name": "stdout",
     "output_type": "stream",
     "text": [
      "/home/mayur/mayank/Error-Driven-ASR-Personalization/mozilla/cv-corpus-7.0-2021-07-21/en/clips/common_voice_en_18530372.mp3\n",
      "/home/mayur/mayank/Error-Driven-ASR-Personalization/mozilla/cv-corpus-7.0-2021-07-21/en/clips/common_voice_en_568090.mp3\n",
      "/home/mayur/mayank/Error-Driven-ASR-Personalization/mozilla/cv-corpus-7.0-2021-07-21/en/clips/common_voice_en_19999094.mp3\n"
     ]
    },
    {
     "name": "stderr",
     "output_type": "stream",
     "text": [
      "  0%|          | 0/3000 [00:00<?, ?it/s].70it/s]"
     ]
    },
    {
     "name": "stdout",
     "output_type": "stream",
     "text": [
      "/home/mayur/mayank/Error-Driven-ASR-Personalization/mozilla/cv-corpus-7.0-2021-07-21/en/clips/common_voice_en_21283277.mp3"
     ]
    },
    {
     "name": "stderr",
     "output_type": "stream",
     "text": [
      "\r",
      "  0%|          | 1/3000 [00:00<12:55,  3.86it/s]"
     ]
    },
    {
     "name": "stdout",
     "output_type": "stream",
     "text": [
      "\n",
      "/home/mayur/mayank/Error-Driven-ASR-Personalization/mozilla/cv-corpus-7.0-2021-07-21/en/clips/common_voice_en_24575967.mp3\n",
      "/home/mayur/mayank/Error-Driven-ASR-Personalization/mozilla/cv-corpus-7.0-2021-07-21/en/clips/common_voice_en_19136341.mp3\n"
     ]
    },
    {
     "name": "stderr",
     "output_type": "stream",
     "text": [
      "  0%|          | 2/3000 [00:00<08:09,  6.12it/s]"
     ]
    },
    {
     "name": "stdout",
     "output_type": "stream",
     "text": [
      "/home/mayur/mayank/Error-Driven-ASR-Personalization/mozilla/cv-corpus-7.0-2021-07-21/en/clips/common_voice_en_22271014.mp3/home/mayur/mayank/Error-Driven-ASR-Personalization/mozilla/cv-corpus-7.0-2021-07-21/en/clips/common_voice_en_512080.mp3\n",
      "\n"
     ]
    },
    {
     "name": "stderr",
     "output_type": "stream",
     "text": [
      "\r",
      "  0%|          | 4/2169 [00:00<03:20, 10.82it/s]"
     ]
    },
    {
     "name": "stdout",
     "output_type": "stream",
     "text": [
      "/home/mayur/mayank/Error-Driven-ASR-Personalization/mozilla/cv-corpus-7.0-2021-07-21/en/clips/common_voice_en_25948057.mp3\n"
     ]
    },
    {
     "name": "stderr",
     "output_type": "stream",
     "text": [
      "\r",
      "  0%|          | 3/3000 [00:00<05:59,  8.34it/s]"
     ]
    },
    {
     "name": "stdout",
     "output_type": "stream",
     "text": [
      "/home/mayur/mayank/Error-Driven-ASR-Personalization/mozilla/cv-corpus-7.0-2021-07-21/en/clips/common_voice_en_20221619.mp3\n"
     ]
    },
    {
     "name": "stderr",
     "output_type": "stream",
     "text": [
      "\r",
      "  0%|          | 2/3000 [00:00<08:24,  5.94it/s]"
     ]
    },
    {
     "name": "stdout",
     "output_type": "stream",
     "text": [
      "/home/mayur/mayank/Error-Driven-ASR-Personalization/mozilla/cv-corpus-7.0-2021-07-21/en/clips/common_voice_en_442018.mp3\n",
      "/home/mayur/mayank/Error-Driven-ASR-Personalization/mozilla/cv-corpus-7.0-2021-07-21/en/clips/common_voice_en_23629161.mp3\n",
      "/home/mayur/mayank/Error-Driven-ASR-Personalization/mozilla/cv-corpus-7.0-2021-07-21/en/clips/common_voice_en_17816520.mp3"
     ]
    },
    {
     "name": "stderr",
     "output_type": "stream",
     "text": [
      "\r",
      "  0%|          | 2/3000 [00:00<08:29,  5.88it/s]"
     ]
    },
    {
     "name": "stdout",
     "output_type": "stream",
     "text": [
      "\n",
      "/home/mayur/mayank/Error-Driven-ASR-Personalization/mozilla/cv-corpus-7.0-2021-07-21/en/clips/common_voice_en_19201259.mp3\n"
     ]
    },
    {
     "name": "stderr",
     "output_type": "stream",
     "text": [
      "\r",
      "  0%|          | 1/3000 [00:00<13:16,  3.77it/s]"
     ]
    },
    {
     "name": "stdout",
     "output_type": "stream",
     "text": [
      "/home/mayur/mayank/Error-Driven-ASR-Personalization/mozilla/cv-corpus-7.0-2021-07-21/en/clips/common_voice_en_209789.mp3\n"
     ]
    },
    {
     "name": "stderr",
     "output_type": "stream",
     "text": [
      "\r",
      "  0%|          | 3/3000 [00:00<06:47,  7.36it/s]"
     ]
    },
    {
     "name": "stdout",
     "output_type": "stream",
     "text": [
      "/home/mayur/mayank/Error-Driven-ASR-Personalization/mozilla/cv-corpus-7.0-2021-07-21/en/clips/common_voice_en_20690362.mp3/home/mayur/mayank/Error-Driven-ASR-Personalization/mozilla/cv-corpus-7.0-2021-07-21/en/clips/common_voice_en_18973469.mp3\n",
      "\n",
      "/home/mayur/mayank/Error-Driven-ASR-Personalization/mozilla/cv-corpus-7.0-2021-07-21/en/clips/common_voice_en_490915.mp3/home/mayur/mayank/Error-Driven-ASR-Personalization/mozilla/cv-corpus-7.0-2021-07-21/en/clips/common_voice_en_17336952.mp3\n",
      "/home/mayur/mayank/Error-Driven-ASR-Personalization/mozilla/cv-corpus-7.0-2021-07-21/en/clips/common_voice_en_24978088.mp3\n",
      "\n"
     ]
    },
    {
     "name": "stderr",
     "output_type": "stream",
     "text": [
      "  0%|          | 4/1598 [00:00<03:22,  7.87it/s]"
     ]
    },
    {
     "name": "stdout",
     "output_type": "stream",
     "text": [
      "/home/mayur/mayank/Error-Driven-ASR-Personalization/mozilla/cv-corpus-7.0-2021-07-21/en/clips/common_voice_en_23610629.mp3\n",
      "/home/mayur/mayank/Error-Driven-ASR-Personalization/mozilla/cv-corpus-7.0-2021-07-21/en/clips/common_voice_en_17776582.mp3\n"
     ]
    },
    {
     "name": "stderr",
     "output_type": "stream",
     "text": [
      "  0%|          | 3/3000 [00:00<08:03,  6.20it/s]"
     ]
    },
    {
     "name": "stdout",
     "output_type": "stream",
     "text": [
      "/home/mayur/mayank/Error-Driven-ASR-Personalization/mozilla/cv-corpus-7.0-2021-07-21/en/clips/common_voice_en_22527059.mp3"
     ]
    },
    {
     "name": "stderr",
     "output_type": "stream",
     "text": [
      "  0%|          | 4/3000 [00:00<06:48,  7.34it/s]"
     ]
    },
    {
     "name": "stdout",
     "output_type": "stream",
     "text": [
      "\n",
      "/home/mayur/mayank/Error-Driven-ASR-Personalization/mozilla/cv-corpus-7.0-2021-07-21/en/clips/common_voice_en_18267434.mp3/home/mayur/mayank/Error-Driven-ASR-Personalization/mozilla/cv-corpus-7.0-2021-07-21/en/clips/common_voice_en_19008987.mp3/home/mayur/mayank/Error-Driven-ASR-Personalization/mozilla/cv-corpus-7.0-2021-07-21/en/clips/common_voice_en_19943929.mp3"
     ]
    },
    {
     "name": "stderr",
     "output_type": "stream",
     "text": [
      "\r",
      "  0%|          | 6/3000 [00:00<04:17, 11.63it/s]"
     ]
    },
    {
     "name": "stdout",
     "output_type": "stream",
     "text": [
      "/home/mayur/mayank/Error-Driven-ASR-Personalization/mozilla/cv-corpus-7.0-2021-07-21/en/clips/common_voice_en_24978096.mp3\n"
     ]
    },
    {
     "name": "stderr",
     "output_type": "stream",
     "text": [
      "\r",
      "  0%|          | 4/3000 [00:00<06:04,  8.23it/s]"
     ]
    },
    {
     "name": "stdout",
     "output_type": "stream",
     "text": [
      "\n",
      "\n",
      "/home/mayur/mayank/Error-Driven-ASR-Personalization/mozilla/cv-corpus-7.0-2021-07-21/en/clips/common_voice_en_17272683.mp3\n",
      "/home/mayur/mayank/Error-Driven-ASR-Personalization/mozilla/cv-corpus-7.0-2021-07-21/en/clips/common_voice_en_18840504.mp3\n",
      "\n"
     ]
    },
    {
     "name": "stderr",
     "output_type": "stream",
     "text": [
      "\r",
      "  0%|          | 8/2169 [00:00<02:45, 13.04it/s]"
     ]
    },
    {
     "name": "stdout",
     "output_type": "stream",
     "text": [
      "/home/mayur/mayank/Error-Driven-ASR-Personalization/mozilla/cv-corpus-7.0-2021-07-21/en/clips/common_voice_en_532632.mp3\n"
     ]
    },
    {
     "name": "stderr",
     "output_type": "stream",
     "text": [
      "  0%|          | 5/3000 [00:00<06:22,  7.83it/s]"
     ]
    },
    {
     "name": "stdout",
     "output_type": "stream",
     "text": [
      "/home/mayur/mayank/Error-Driven-ASR-Personalization/mozilla/cv-corpus-7.0-2021-07-21/en/clips/common_voice_en_21786515.mp3/home/mayur/mayank/Error-Driven-ASR-Personalization/mozilla/cv-corpus-7.0-2021-07-21/en/clips/common_voice_en_17283565.mp3/home/mayur/mayank/Error-Driven-ASR-Personalization/mozilla/cv-corpus-7.0-2021-07-21/en/clips/common_voice_en_689423.mp3/home/mayur/mayank/Error-Driven-ASR-Personalization/mozilla/cv-corpus-7.0-2021-07-21/en/clips/common_voice_en_25949872.mp3/home/mayur/mayank/Error-Driven-ASR-Personalization/mozilla/cv-corpus-7.0-2021-07-21/en/clips/common_voice_en_23378539.mp3/home/mayur/mayank/Error-Driven-ASR-Personalization/mozilla/cv-corpus-7.0-2021-07-21/en/clips/common_voice_en_22317583.mp3/home/mayur/mayank/Error-Driven-ASR-Personalization/mozilla/cv-corpus-7.0-2021-07-21/en/clips/common_voice_en_503110.mp3\n",
      "\n",
      "\n",
      "\n",
      "\n",
      "\n"
     ]
    },
    {
     "name": "stderr",
     "output_type": "stream",
     "text": [
      "\r",
      "  0%|          | 1/3000 [00:00<18:30,  2.70it/s]"
     ]
    },
    {
     "name": "stdout",
     "output_type": "stream",
     "text": [
      "\n",
      "/home/mayur/mayank/Error-Driven-ASR-Personalization/mozilla/cv-corpus-7.0-2021-07-21/en/clips/common_voice_en_18525976.mp3\n",
      "/home/mayur/mayank/Error-Driven-ASR-Personalization/mozilla/cv-corpus-7.0-2021-07-21/en/clips/common_voice_en_17280975.mp3\n"
     ]
    },
    {
     "name": "stderr",
     "output_type": "stream",
     "text": [
      "\r",
      "  0%|          | 8/3000 [00:00<04:33, 10.95it/s]"
     ]
    },
    {
     "name": "stdout",
     "output_type": "stream",
     "text": [
      "/home/mayur/mayank/Error-Driven-ASR-Personalization/mozilla/cv-corpus-7.0-2021-07-21/en/clips/common_voice_en_17283563.mp3\n"
     ]
    },
    {
     "name": "stderr",
     "output_type": "stream",
     "text": [
      "\r",
      "  0%|          | 10/2169 [00:00<02:58, 12.12it/s]"
     ]
    },
    {
     "name": "stdout",
     "output_type": "stream",
     "text": [
      "/home/mayur/mayank/Error-Driven-ASR-Personalization/mozilla/cv-corpus-7.0-2021-07-21/en/clips/common_voice_en_18829184.mp3\n"
     ]
    },
    {
     "name": "stderr",
     "output_type": "stream",
     "text": [
      "\r",
      "  0%|          | 6/1598 [00:00<03:39,  7.25it/s]"
     ]
    },
    {
     "name": "stdout",
     "output_type": "stream",
     "text": [
      "/home/mayur/mayank/Error-Driven-ASR-Personalization/mozilla/cv-corpus-7.0-2021-07-21/en/clips/common_voice_en_558042.mp3\n"
     ]
    },
    {
     "name": "stderr",
     "output_type": "stream",
     "text": [
      "\r",
      "  0%|          | 6/3000 [00:00<07:09,  6.97it/s]"
     ]
    },
    {
     "name": "stdout",
     "output_type": "stream",
     "text": [
      "/home/mayur/mayank/Error-Driven-ASR-Personalization/mozilla/cv-corpus-7.0-2021-07-21/en/clips/common_voice_en_19789142.mp3\n",
      "/home/mayur/mayank/Error-Driven-ASR-Personalization/mozilla/cv-corpus-7.0-2021-07-21/en/clips/common_voice_en_26211024.mp3\n"
     ]
    },
    {
     "name": "stderr",
     "output_type": "stream",
     "text": [
      "\r",
      "  0%|          | 5/3000 [00:00<07:56,  6.29it/s]"
     ]
    },
    {
     "name": "stdout",
     "output_type": "stream",
     "text": [
      "/home/mayur/mayank/Error-Driven-ASR-Personalization/mozilla/cv-corpus-7.0-2021-07-21/en/clips/common_voice_en_18016676.mp3\n",
      "/home/mayur/mayank/Error-Driven-ASR-Personalization/mozilla/cv-corpus-7.0-2021-07-21/en/clips/common_voice_en_25947579.mp3\n"
     ]
    },
    {
     "name": "stderr",
     "output_type": "stream",
     "text": [
      "  0%|          | 6/3000 [00:00<07:28,  6.67it/s]"
     ]
    },
    {
     "name": "stdout",
     "output_type": "stream",
     "text": [
      "/home/mayur/mayank/Error-Driven-ASR-Personalization/mozilla/cv-corpus-7.0-2021-07-21/en/clips/common_voice_en_117643.mp3/home/mayur/mayank/Error-Driven-ASR-Personalization/mozilla/cv-corpus-7.0-2021-07-21/en/clips/common_voice_en_18517426.mp3\n",
      "\n",
      "/home/mayur/mayank/Error-Driven-ASR-Personalization/mozilla/cv-corpus-7.0-2021-07-21/en/clips/common_voice_en_22305796.mp3"
     ]
    },
    {
     "name": "stderr",
     "output_type": "stream",
     "text": [
      "\r",
      "  0%|          | 6/3000 [00:00<08:24,  5.93it/s]"
     ]
    },
    {
     "name": "stdout",
     "output_type": "stream",
     "text": [
      "\n"
     ]
    },
    {
     "name": "stderr",
     "output_type": "stream",
     "text": [
      "\r",
      "  0%|          | 4/3000 [00:00<09:57,  5.01it/s]"
     ]
    },
    {
     "name": "stdout",
     "output_type": "stream",
     "text": [
      "/home/mayur/mayank/Error-Driven-ASR-Personalization/mozilla/cv-corpus-7.0-2021-07-21/en/clips/common_voice_en_20377071.mp3/home/mayur/mayank/Error-Driven-ASR-Personalization/mozilla/cv-corpus-7.0-2021-07-21/en/clips/common_voice_en_19036401.mp3\n",
      "\n"
     ]
    },
    {
     "name": "stderr",
     "output_type": "stream",
     "text": [
      "\r",
      "  0%|          | 10/3000 [00:00<04:28, 11.15it/s]"
     ]
    },
    {
     "name": "stdout",
     "output_type": "stream",
     "text": [
      "/home/mayur/mayank/Error-Driven-ASR-Personalization/mozilla/cv-corpus-7.0-2021-07-21/en/clips/common_voice_en_17256480.mp3\n"
     ]
    },
    {
     "name": "stderr",
     "output_type": "stream",
     "text": [
      "\r",
      "  0%|          | 6/3000 [00:00<07:11,  6.94it/s]"
     ]
    },
    {
     "name": "stdout",
     "output_type": "stream",
     "text": [
      "/home/mayur/mayank/Error-Driven-ASR-Personalization/mozilla/cv-corpus-7.0-2021-07-21/en/clips/common_voice_en_19451398.mp3"
     ]
    },
    {
     "name": "stderr",
     "output_type": "stream",
     "text": [
      "\r",
      "  0%|          | 7/3000 [00:00<06:55,  7.21it/s]"
     ]
    },
    {
     "name": "stdout",
     "output_type": "stream",
     "text": [
      "\n",
      "/home/mayur/mayank/Error-Driven-ASR-Personalization/mozilla/cv-corpus-7.0-2021-07-21/en/clips/common_voice_en_20928363.mp3\n"
     ]
    },
    {
     "name": "stderr",
     "output_type": "stream",
     "text": [
      "  1%|          | 12/2169 [00:01<03:10, 11.32it/s]"
     ]
    },
    {
     "name": "stdout",
     "output_type": "stream",
     "text": [
      "/home/mayur/mayank/Error-Driven-ASR-Personalization/mozilla/cv-corpus-7.0-2021-07-21/en/clips/common_voice_en_15741.mp3/home/mayur/mayank/Error-Driven-ASR-Personalization/mozilla/cv-corpus-7.0-2021-07-21/en/clips/common_voice_en_24996333.mp3"
     ]
    },
    {
     "name": "stderr",
     "output_type": "stream",
     "text": [
      "\r",
      "  1%|          | 8/1598 [00:01<03:10,  8.34it/s]"
     ]
    },
    {
     "name": "stdout",
     "output_type": "stream",
     "text": [
      "\n"
     ]
    },
    {
     "name": "stderr",
     "output_type": "stream",
     "text": [
      "\r",
      "  0%|          | 3/3000 [00:00<10:27,  4.77it/s]"
     ]
    },
    {
     "name": "stdout",
     "output_type": "stream",
     "text": [
      "/home/mayur/mayank/Error-Driven-ASR-Personalization/mozilla/cv-corpus-7.0-2021-07-21/en/clips/common_voice_en_17808817.mp3\n",
      "/home/mayur/mayank/Error-Driven-ASR-Personalization/mozilla/cv-corpus-7.0-2021-07-21/en/clips/common_voice_en_11208957.mp3\n",
      "\n",
      "/home/mayur/mayank/Error-Driven-ASR-Personalization/mozilla/cv-corpus-7.0-2021-07-21/en/clips/common_voice_en_17586921.mp3"
     ]
    },
    {
     "name": "stderr",
     "output_type": "stream",
     "text": [
      "\r",
      "  0%|          | 5/3000 [00:00<08:10,  6.11it/s]"
     ]
    },
    {
     "name": "stdout",
     "output_type": "stream",
     "text": [
      "\n",
      "/home/mayur/mayank/Error-Driven-ASR-Personalization/mozilla/cv-corpus-7.0-2021-07-21/en/clips/common_voice_en_23376721.mp3\n"
     ]
    },
    {
     "name": "stderr",
     "output_type": "stream",
     "text": [
      "\r",
      "  0%|          | 7/3000 [00:01<07:22,  6.76it/s]"
     ]
    },
    {
     "name": "stdout",
     "output_type": "stream",
     "text": [
      "/home/mayur/mayank/Error-Driven-ASR-Personalization/mozilla/cv-corpus-7.0-2021-07-21/en/clips/common_voice_en_20801695.mp3\n",
      "/home/mayur/mayank/Error-Driven-ASR-Personalization/mozilla/cv-corpus-7.0-2021-07-21/en/clips/common_voice_en_22047623.mp3/home/mayur/mayank/Error-Driven-ASR-Personalization/mozilla/cv-corpus-7.0-2021-07-21/en/clips/common_voice_en_47386.mp3\n",
      "\n"
     ]
    },
    {
     "name": "stderr",
     "output_type": "stream",
     "text": [
      "\r",
      "  0%|          | 12/3000 [00:01<05:36,  8.89it/s]"
     ]
    },
    {
     "name": "stdout",
     "output_type": "stream",
     "text": [
      "/home/mayur/mayank/Error-Driven-ASR-Personalization/mozilla/cv-corpus-7.0-2021-07-21/en/clips/common_voice_en_17272604.mp3\n",
      "/home/mayur/mayank/Error-Driven-ASR-Personalization/mozilla/cv-corpus-7.0-2021-07-21/en/clips/common_voice_en_21948883.mp3\n"
     ]
    },
    {
     "name": "stderr",
     "output_type": "stream",
     "text": [
      "\r",
      "  0%|          | 8/3000 [00:01<08:58,  5.55it/s]"
     ]
    },
    {
     "name": "stdout",
     "output_type": "stream",
     "text": [
      "/home/mayur/mayank/Error-Driven-ASR-Personalization/mozilla/cv-corpus-7.0-2021-07-21/en/clips/common_voice_en_15904036.mp3\n"
     ]
    },
    {
     "name": "stderr",
     "output_type": "stream",
     "text": [
      "\r",
      "  0%|          | 4/3000 [00:00<11:42,  4.27it/s]"
     ]
    },
    {
     "name": "stdout",
     "output_type": "stream",
     "text": [
      "/home/mayur/mayank/Error-Driven-ASR-Personalization/mozilla/cv-corpus-7.0-2021-07-21/en/clips/common_voice_en_156231.mp3"
     ]
    },
    {
     "name": "stderr",
     "output_type": "stream",
     "text": [
      "\r",
      "  0%|          | 6/3000 [00:01<10:01,  4.98it/s]"
     ]
    },
    {
     "name": "stdout",
     "output_type": "stream",
     "text": [
      "\n"
     ]
    },
    {
     "name": "stderr",
     "output_type": "stream",
     "text": [
      "\r",
      "  0%|          | 8/3000 [00:01<09:17,  5.37it/s]"
     ]
    },
    {
     "name": "stdout",
     "output_type": "stream",
     "text": [
      "/home/mayur/mayank/Error-Driven-ASR-Personalization/mozilla/cv-corpus-7.0-2021-07-21/en/clips/common_voice_en_695771.mp3"
     ]
    },
    {
     "name": "stderr",
     "output_type": "stream",
     "text": [
      "  0%|          | 8/3000 [00:01<07:32,  6.62it/s]"
     ]
    },
    {
     "name": "stdout",
     "output_type": "stream",
     "text": [
      "/home/mayur/mayank/Error-Driven-ASR-Personalization/mozilla/cv-corpus-7.0-2021-07-21/en/clips/common_voice_en_18605209.mp3\n",
      "/home/mayur/mayank/Error-Driven-ASR-Personalization/mozilla/cv-corpus-7.0-2021-07-21/en/clips/common_voice_en_219311.mp3/home/mayur/mayank/Error-Driven-ASR-Personalization/mozilla/cv-corpus-7.0-2021-07-21/en/clips/common_voice_en_22318247.mp3\n",
      "\n",
      "\n"
     ]
    },
    {
     "name": "stderr",
     "output_type": "stream",
     "text": [
      "\r",
      "  0%|          | 9/3000 [00:01<07:23,  6.75it/s]"
     ]
    },
    {
     "name": "stdout",
     "output_type": "stream",
     "text": [
      "/home/mayur/mayank/Error-Driven-ASR-Personalization/mozilla/cv-corpus-7.0-2021-07-21/en/clips/common_voice_en_20867156.mp3\n",
      "/home/mayur/mayank/Error-Driven-ASR-Personalization/mozilla/cv-corpus-7.0-2021-07-21/en/clips/common_voice_en_19409279.mp3\n"
     ]
    },
    {
     "name": "stderr",
     "output_type": "stream",
     "text": [
      "\r",
      "  1%|          | 14/2169 [00:01<04:03,  8.85it/s]"
     ]
    },
    {
     "name": "stdout",
     "output_type": "stream",
     "text": [
      "/home/mayur/mayank/Error-Driven-ASR-Personalization/mozilla/cv-corpus-7.0-2021-07-21/en/clips/common_voice_en_17281030.mp3\n"
     ]
    },
    {
     "name": "stderr",
     "output_type": "stream",
     "text": [
      "  0%|          | 9/3000 [00:01<08:04,  6.18it/s]"
     ]
    },
    {
     "name": "stdout",
     "output_type": "stream",
     "text": [
      "/home/mayur/mayank/Error-Driven-ASR-Personalization/mozilla/cv-corpus-7.0-2021-07-21/en/clips/common_voice_en_21329583.mp3/home/mayur/mayank/Error-Driven-ASR-Personalization/mozilla/cv-corpus-7.0-2021-07-21/en/clips/common_voice_en_18253131.mp3\n",
      "\n"
     ]
    },
    {
     "name": "stderr",
     "output_type": "stream",
     "text": [
      "\r",
      "  1%|          | 10/1598 [00:01<03:55,  6.75it/s]"
     ]
    },
    {
     "name": "stdout",
     "output_type": "stream",
     "text": [
      "/home/mayur/mayank/Error-Driven-ASR-Personalization/mozilla/cv-corpus-7.0-2021-07-21/en/clips/common_voice_en_22121710.mp3/home/mayur/mayank/Error-Driven-ASR-Personalization/mozilla/cv-corpus-7.0-2021-07-21/en/clips/common_voice_en_23871344.mp3\n",
      "\n"
     ]
    },
    {
     "name": "stderr",
     "output_type": "stream",
     "text": [
      "\r",
      "  0%|          | 10/3000 [00:01<07:15,  6.87it/s]"
     ]
    },
    {
     "name": "stdout",
     "output_type": "stream",
     "text": [
      "/home/mayur/mayank/Error-Driven-ASR-Personalization/mozilla/cv-corpus-7.0-2021-07-21/en/clips/common_voice_en_19666055.mp3\n"
     ]
    },
    {
     "name": "stderr",
     "output_type": "stream",
     "text": [
      "  0%|          | 7/3000 [00:01<09:10,  5.44it/s]"
     ]
    },
    {
     "name": "stdout",
     "output_type": "stream",
     "text": [
      "/home/mayur/mayank/Error-Driven-ASR-Personalization/mozilla/cv-corpus-7.0-2021-07-21/en/clips/common_voice_en_19589766.mp3/home/mayur/mayank/Error-Driven-ASR-Personalization/mozilla/cv-corpus-7.0-2021-07-21/en/clips/common_voice_en_486067.mp3/home/mayur/mayank/Error-Driven-ASR-Personalization/mozilla/cv-corpus-7.0-2021-07-21/en/clips/common_voice_en_17262162.mp3\n",
      "\n",
      "\n"
     ]
    },
    {
     "name": "stderr",
     "output_type": "stream",
     "text": [
      "\r",
      "  0%|          | 14/3000 [00:01<05:19,  9.34it/s]"
     ]
    },
    {
     "name": "stdout",
     "output_type": "stream",
     "text": [
      "/home/mayur/mayank/Error-Driven-ASR-Personalization/mozilla/cv-corpus-7.0-2021-07-21/en/clips/common_voice_en_23628702.mp3\n",
      "/home/mayur/mayank/Error-Driven-ASR-Personalization/mozilla/cv-corpus-7.0-2021-07-21/en/clips/common_voice_en_21759856.mp3/home/mayur/mayank/Error-Driven-ASR-Personalization/mozilla/cv-corpus-7.0-2021-07-21/en/clips/common_voice_en_480470.mp3/home/mayur/mayank/Error-Driven-ASR-Personalization/mozilla/cv-corpus-7.0-2021-07-21/en/clips/common_voice_en_180998.mp3\n"
     ]
    },
    {
     "name": "stderr",
     "output_type": "stream",
     "text": [
      "\r",
      "  1%|          | 16/2169 [00:01<03:37,  9.88it/s]"
     ]
    },
    {
     "name": "stdout",
     "output_type": "stream",
     "text": [
      "\n",
      "\n",
      "/home/mayur/mayank/Error-Driven-ASR-Personalization/mozilla/cv-corpus-7.0-2021-07-21/en/clips/common_voice_en_22265040.mp3\n",
      "/home/mayur/mayank/Error-Driven-ASR-Personalization/mozilla/cv-corpus-7.0-2021-07-21/en/clips/common_voice_en_19958627.mp3/home/mayur/mayank/Error-Driven-ASR-Personalization/mozilla/cv-corpus-7.0-2021-07-21/en/clips/common_voice_en_25199915.mp3\n",
      "\n"
     ]
    },
    {
     "name": "stderr",
     "output_type": "stream",
     "text": [
      "  1%|          | 12/1598 [00:01<03:03,  8.63it/s]"
     ]
    },
    {
     "name": "stdout",
     "output_type": "stream",
     "text": [
      "/home/mayur/mayank/Error-Driven-ASR-Personalization/mozilla/cv-corpus-7.0-2021-07-21/en/clips/common_voice_en_19340378.mp3/home/mayur/mayank/Error-Driven-ASR-Personalization/mozilla/cv-corpus-7.0-2021-07-21/en/clips/common_voice_en_19497762.mp3/home/mayur/mayank/Error-Driven-ASR-Personalization/mozilla/cv-corpus-7.0-2021-07-21/en/clips/common_voice_en_558096.mp3\n",
      "\n"
     ]
    },
    {
     "name": "stderr",
     "output_type": "stream",
     "text": [
      "\r",
      "  0%|          | 10/3000 [00:01<07:03,  7.06it/s]"
     ]
    },
    {
     "name": "stdout",
     "output_type": "stream",
     "text": [
      "\n"
     ]
    },
    {
     "name": "stderr",
     "output_type": "stream",
     "text": [
      "\r",
      "  0%|          | 15/3000 [00:01<05:22,  9.25it/s]"
     ]
    },
    {
     "name": "stdout",
     "output_type": "stream",
     "text": [
      "/home/mayur/mayank/Error-Driven-ASR-Personalization/mozilla/cv-corpus-7.0-2021-07-21/en/clips/common_voice_en_30423.mp3/home/mayur/mayank/Error-Driven-ASR-Personalization/mozilla/cv-corpus-7.0-2021-07-21/en/clips/common_voice_en_32909.mp3\n",
      "\n",
      "/home/mayur/mayank/Error-Driven-ASR-Personalization/mozilla/cv-corpus-7.0-2021-07-21/en/clips/common_voice_en_17280983.mp3"
     ]
    },
    {
     "name": "stderr",
     "output_type": "stream",
     "text": [
      "\r",
      "  0%|          | 12/3000 [00:01<05:49,  8.54it/s]"
     ]
    },
    {
     "name": "stdout",
     "output_type": "stream",
     "text": [
      "\n"
     ]
    },
    {
     "name": "stderr",
     "output_type": "stream",
     "text": [
      "\r",
      "  0%|          | 7/3000 [00:01<07:01,  7.11it/s]"
     ]
    },
    {
     "name": "stdout",
     "output_type": "stream",
     "text": [
      "/home/mayur/mayank/Error-Driven-ASR-Personalization/mozilla/cv-corpus-7.0-2021-07-21/en/clips/common_voice_en_71615.mp3/home/mayur/mayank/Error-Driven-ASR-Personalization/mozilla/cv-corpus-7.0-2021-07-21/en/clips/common_voice_en_18340071.mp3\n",
      "\n"
     ]
    },
    {
     "name": "stderr",
     "output_type": "stream",
     "text": [
      "\r",
      "  1%|          | 16/3000 [00:01<05:32,  8.99it/s]"
     ]
    },
    {
     "name": "stdout",
     "output_type": "stream",
     "text": [
      "/home/mayur/mayank/Error-Driven-ASR-Personalization/mozilla/cv-corpus-7.0-2021-07-21/en/clips/common_voice_en_25201947.mp3\n"
     ]
    },
    {
     "name": "stderr",
     "output_type": "stream",
     "text": [
      "\r",
      "  1%|          | 18/2169 [00:01<03:35,  9.99it/s]"
     ]
    },
    {
     "name": "stdout",
     "output_type": "stream",
     "text": [
      "/home/mayur/mayank/Error-Driven-ASR-Personalization/mozilla/cv-corpus-7.0-2021-07-21/en/clips/common_voice_en_22264938.mp3\n"
     ]
    },
    {
     "name": "stderr",
     "output_type": "stream",
     "text": [
      "  0%|          | 9/3000 [00:01<08:10,  6.10it/s]]"
     ]
    },
    {
     "name": "stdout",
     "output_type": "stream",
     "text": [
      "/home/mayur/mayank/Error-Driven-ASR-Personalization/mozilla/cv-corpus-7.0-2021-07-21/en/clips/common_voice_en_558145.mp3/home/mayur/mayank/Error-Driven-ASR-Personalization/mozilla/cv-corpus-7.0-2021-07-21/en/clips/common_voice_en_545753.mp3/home/mayur/mayank/Error-Driven-ASR-Personalization/mozilla/cv-corpus-7.0-2021-07-21/en/clips/common_voice_en_18339168.mp3/home/mayur/mayank/Error-Driven-ASR-Personalization/mozilla/cv-corpus-7.0-2021-07-21/en/clips/common_voice_en_19445291.mp3/home/mayur/mayank/Error-Driven-ASR-Personalization/mozilla/cv-corpus-7.0-2021-07-21/en/clips/common_voice_en_209826.mp3\n",
      "/home/mayur/mayank/Error-Driven-ASR-Personalization/mozilla/cv-corpus-7.0-2021-07-21/en/clips/common_voice_en_18169039.mp3\n",
      "\n",
      "\n",
      "\n",
      "\n"
     ]
    },
    {
     "name": "stderr",
     "output_type": "stream",
     "text": [
      "\r",
      "  1%|          | 17/3000 [00:01<05:25,  9.16it/s]"
     ]
    },
    {
     "name": "stdout",
     "output_type": "stream",
     "text": [
      "/home/mayur/mayank/Error-Driven-ASR-Personalization/mozilla/cv-corpus-7.0-2021-07-21/en/clips/common_voice_en_17343605.mp3\n",
      "/home/mayur/mayank/Error-Driven-ASR-Personalization/mozilla/cv-corpus-7.0-2021-07-21/en/clips/common_voice_en_24978050.mp3"
     ]
    },
    {
     "name": "stderr",
     "output_type": "stream",
     "text": [
      "  0%|          | 12/3000 [00:01<07:11,  6.93it/s]"
     ]
    },
    {
     "name": "stdout",
     "output_type": "stream",
     "text": [
      "/home/mayur/mayank/Error-Driven-ASR-Personalization/mozilla/cv-corpus-7.0-2021-07-21/en/clips/common_voice_en_19409297.mp3/home/mayur/mayank/Error-Driven-ASR-Personalization/mozilla/cv-corpus-7.0-2021-07-21/en/clips/common_voice_en_558044.mp3\n",
      "\n",
      "/home/mayur/mayank/Error-Driven-ASR-Personalization/mozilla/cv-corpus-7.0-2021-07-21/en/clips/common_voice_en_650156.mp3\n",
      "\n"
     ]
    },
    {
     "name": "stderr",
     "output_type": "stream",
     "text": [
      "\r",
      "  0%|          | 13/3000 [00:01<06:33,  7.59it/s]"
     ]
    },
    {
     "name": "stdout",
     "output_type": "stream",
     "text": [
      "/home/mayur/mayank/Error-Driven-ASR-Personalization/mozilla/cv-corpus-7.0-2021-07-21/en/clips/common_voice_en_22292262.mp3\n"
     ]
    },
    {
     "name": "stderr",
     "output_type": "stream",
     "text": [
      "  0%|          | 10/3000 [00:01<08:06,  6.15it/s]"
     ]
    },
    {
     "name": "stdout",
     "output_type": "stream",
     "text": [
      "/home/mayur/mayank/Error-Driven-ASR-Personalization/mozilla/cv-corpus-7.0-2021-07-21/en/clips/common_voice_en_15653.mp3/home/mayur/mayank/Error-Driven-ASR-Personalization/mozilla/cv-corpus-7.0-2021-07-21/en/clips/common_voice_en_30008.mp3/home/mayur/mayank/Error-Driven-ASR-Personalization/mozilla/cv-corpus-7.0-2021-07-21/en/clips/common_voice_en_18335250.mp3/home/mayur/mayank/Error-Driven-ASR-Personalization/mozilla/cv-corpus-7.0-2021-07-21/en/clips/common_voice_en_24477154.mp3\n",
      "\n",
      "\n",
      "\n"
     ]
    },
    {
     "name": "stderr",
     "output_type": "stream",
     "text": [
      "  0%|          | 13/3000 [00:01<06:38,  7.50it/s]"
     ]
    },
    {
     "name": "stdout",
     "output_type": "stream",
     "text": [
      "/home/mayur/mayank/Error-Driven-ASR-Personalization/mozilla/cv-corpus-7.0-2021-07-21/en/clips/common_voice_en_17799132.mp3/home/mayur/mayank/Error-Driven-ASR-Personalization/mozilla/cv-corpus-7.0-2021-07-21/en/clips/common_voice_en_614367.mp3/home/mayur/mayank/Error-Driven-ASR-Personalization/mozilla/cv-corpus-7.0-2021-07-21/en/clips/common_voice_en_17256503.mp3\n",
      "\n",
      "\n"
     ]
    },
    {
     "name": "stderr",
     "output_type": "stream",
     "text": [
      "\r",
      "  0%|          | 14/3000 [00:01<06:26,  7.73it/s]"
     ]
    },
    {
     "name": "stdout",
     "output_type": "stream",
     "text": [
      "/home/mayur/mayank/Error-Driven-ASR-Personalization/mozilla/cv-corpus-7.0-2021-07-21/en/clips/common_voice_en_25947588.mp3/home/mayur/mayank/Error-Driven-ASR-Personalization/mozilla/cv-corpus-7.0-2021-07-21/en/clips/common_voice_en_25110196.mp3\n",
      "\n",
      "/home/mayur/mayank/Error-Driven-ASR-Personalization/mozilla/cv-corpus-7.0-2021-07-21/en/clips/common_voice_en_17901447.mp3/home/mayur/mayank/Error-Driven-ASR-Personalization/mozilla/cv-corpus-7.0-2021-07-21/en/clips/common_voice_en_581289.mp3\n",
      "\n",
      "/home/mayur/mayank/Error-Driven-ASR-Personalization/mozilla/cv-corpus-7.0-2021-07-21/en/clips/common_voice_en_161210.mp3/home/mayur/mayank/Error-Driven-ASR-Personalization/mozilla/cv-corpus-7.0-2021-07-21/en/clips/common_voice_en_19729829.mp3/home/mayur/mayank/Error-Driven-ASR-Personalization/mozilla/cv-corpus-7.0-2021-07-21/en/clips/common_voice_en_19409148.mp3\n",
      "\n"
     ]
    },
    {
     "name": "stderr",
     "output_type": "stream",
     "text": [
      "\r",
      "  0%|          | 10/3000 [00:01<06:56,  7.17it/s]"
     ]
    },
    {
     "name": "stdout",
     "output_type": "stream",
     "text": [
      "\n",
      "/home/mayur/mayank/Error-Driven-ASR-Personalization/mozilla/cv-corpus-7.0-2021-07-21/en/clips/common_voice_en_23813120.mp3\n",
      "/home/mayur/mayank/Error-Driven-ASR-Personalization/mozilla/cv-corpus-7.0-2021-07-21/en/clips/common_voice_en_22252755.mp3"
     ]
    },
    {
     "name": "stderr",
     "output_type": "stream",
     "text": [
      "\r",
      "  1%|          | 22/2169 [00:02<03:23, 10.54it/s]"
     ]
    },
    {
     "name": "stdout",
     "output_type": "stream",
     "text": [
      "\n",
      "/home/mayur/mayank/Error-Driven-ASR-Personalization/mozilla/cv-corpus-7.0-2021-07-21/en/clips/common_voice_en_20057236.mp3\n"
     ]
    },
    {
     "name": "stderr",
     "output_type": "stream",
     "text": [
      "  1%|          | 17/1598 [00:02<02:36, 10.12it/s]"
     ]
    },
    {
     "name": "stdout",
     "output_type": "stream",
     "text": [
      "/home/mayur/mayank/Error-Driven-ASR-Personalization/mozilla/cv-corpus-7.0-2021-07-21/en/clips/common_voice_en_17853217.mp3/home/mayur/mayank/Error-Driven-ASR-Personalization/mozilla/cv-corpus-7.0-2021-07-21/en/clips/common_voice_en_18335773.mp3/home/mayur/mayank/Error-Driven-ASR-Personalization/mozilla/cv-corpus-7.0-2021-07-21/en/clips/common_voice_en_22323737.mp3\n",
      "\n",
      "\n",
      "/home/mayur/mayank/Error-Driven-ASR-Personalization/mozilla/cv-corpus-7.0-2021-07-21/en/clips/common_voice_en_26971621.mp3"
     ]
    },
    {
     "name": "stderr",
     "output_type": "stream",
     "text": [
      "\r",
      "  0%|          | 12/3000 [00:01<06:49,  7.30it/s]"
     ]
    },
    {
     "name": "stdout",
     "output_type": "stream",
     "text": [
      "/home/mayur/mayank/Error-Driven-ASR-Personalization/mozilla/cv-corpus-7.0-2021-07-21/en/clips/common_voice_en_158023.mp3\n",
      "\n",
      "/home/mayur/mayank/Error-Driven-ASR-Personalization/mozilla/cv-corpus-7.0-2021-07-21/en/clips/common_voice_en_19739321.mp3"
     ]
    },
    {
     "name": "stderr",
     "output_type": "stream",
     "text": [
      "\r",
      "  1%|          | 16/3000 [00:02<05:15,  9.45it/s]"
     ]
    },
    {
     "name": "stdout",
     "output_type": "stream",
     "text": [
      "\n"
     ]
    },
    {
     "name": "stderr",
     "output_type": "stream",
     "text": [
      "\r",
      "  0%|          | 11/3000 [00:01<06:37,  7.52it/s]"
     ]
    },
    {
     "name": "stdout",
     "output_type": "stream",
     "text": [
      "/home/mayur/mayank/Error-Driven-ASR-Personalization/mozilla/cv-corpus-7.0-2021-07-21/en/clips/common_voice_en_20934319.mp3/home/mayur/mayank/Error-Driven-ASR-Personalization/mozilla/cv-corpus-7.0-2021-07-21/en/clips/common_voice_en_22900930.mp3\n",
      "\n"
     ]
    },
    {
     "name": "stderr",
     "output_type": "stream",
     "text": [
      "\r",
      "  1%|          | 24/2169 [00:02<03:08, 11.37it/s]"
     ]
    },
    {
     "name": "stdout",
     "output_type": "stream",
     "text": [
      "/home/mayur/mayank/Error-Driven-ASR-Personalization/mozilla/cv-corpus-7.0-2021-07-21/en/clips/common_voice_en_24977997.mp3\n",
      "/home/mayur/mayank/Error-Driven-ASR-Personalization/mozilla/cv-corpus-7.0-2021-07-21/en/clips/common_voice_en_17808891.mp3\n",
      "/home/mayur/mayank/Error-Driven-ASR-Personalization/mozilla/cv-corpus-7.0-2021-07-21/en/clips/common_voice_en_17272610.mp3\n",
      "/home/mayur/mayank/Error-Driven-ASR-Personalization/mozilla/cv-corpus-7.0-2021-07-21/en/clips/common_voice_en_17281039.mp3\n"
     ]
    },
    {
     "name": "stderr",
     "output_type": "stream",
     "text": [
      "\r",
      "  0%|          | 13/3000 [00:02<07:08,  6.97it/s]"
     ]
    },
    {
     "name": "stdout",
     "output_type": "stream",
     "text": [
      "/home/mayur/mayank/Error-Driven-ASR-Personalization/mozilla/cv-corpus-7.0-2021-07-21/en/clips/common_voice_en_22071255.mp3\n"
     ]
    },
    {
     "name": "stderr",
     "output_type": "stream",
     "text": [
      "  1%|          | 17/3000 [00:02<05:59,  8.29it/s]"
     ]
    },
    {
     "name": "stdout",
     "output_type": "stream",
     "text": [
      "/home/mayur/mayank/Error-Driven-ASR-Personalization/mozilla/cv-corpus-7.0-2021-07-21/en/clips/common_voice_en_660535.mp3"
     ]
    },
    {
     "name": "stderr",
     "output_type": "stream",
     "text": [
      "\r",
      "  0%|          | 15/3000 [00:02<07:22,  6.75it/s]"
     ]
    },
    {
     "name": "stdout",
     "output_type": "stream",
     "text": [
      "/home/mayur/mayank/Error-Driven-ASR-Personalization/mozilla/cv-corpus-7.0-2021-07-21/en/clips/common_voice_en_141144.mp3/home/mayur/mayank/Error-Driven-ASR-Personalization/mozilla/cv-corpus-7.0-2021-07-21/en/clips/common_voice_en_25118865.mp3/home/mayur/mayank/Error-Driven-ASR-Personalization/mozilla/cv-corpus-7.0-2021-07-21/en/clips/common_voice_en_17860947.mp3\n",
      "/home/mayur/mayank/Error-Driven-ASR-Personalization/mozilla/cv-corpus-7.0-2021-07-21/en/clips/common_voice_en_19742685.mp3/home/mayur/mayank/Error-Driven-ASR-Personalization/mozilla/cv-corpus-7.0-2021-07-21/en/clips/common_voice_en_27910.mp3\n",
      "\n",
      "\n",
      "\n",
      "\n"
     ]
    },
    {
     "name": "stderr",
     "output_type": "stream",
     "text": [
      "\r",
      "  1%|          | 27/2169 [00:02<02:27, 14.53it/s]"
     ]
    },
    {
     "name": "stdout",
     "output_type": "stream",
     "text": [
      "/home/mayur/mayank/Error-Driven-ASR-Personalization/mozilla/cv-corpus-7.0-2021-07-21/en/clips/common_voice_en_20040334.mp3\n",
      "/home/mayur/mayank/Error-Driven-ASR-Personalization/mozilla/cv-corpus-7.0-2021-07-21/en/clips/common_voice_en_18811003.mp3"
     ]
    },
    {
     "name": "stderr",
     "output_type": "stream",
     "text": [
      "\r",
      "  1%|          | 23/3000 [00:02<05:00,  9.90it/s]"
     ]
    },
    {
     "name": "stdout",
     "output_type": "stream",
     "text": [
      "\n",
      "/home/mayur/mayank/Error-Driven-ASR-Personalization/mozilla/cv-corpus-7.0-2021-07-21/en/clips/common_voice_en_33400.mp3\n",
      "/home/mayur/mayank/Error-Driven-ASR-Personalization/mozilla/cv-corpus-7.0-2021-07-21/en/clips/common_voice_en_22468164.mp3/home/mayur/mayank/Error-Driven-ASR-Personalization/mozilla/cv-corpus-7.0-2021-07-21/en/clips/common_voice_en_25721703.mp3/home/mayur/mayank/Error-Driven-ASR-Personalization/mozilla/cv-corpus-7.0-2021-07-21/en/clips/common_voice_en_17936276.mp3/home/mayur/mayank/Error-Driven-ASR-Personalization/mozilla/cv-corpus-7.0-2021-07-21/en/clips/common_voice_en_20424021.mp3\n",
      "\n",
      "\n",
      "\n",
      "/home/mayur/mayank/Error-Driven-ASR-Personalization/mozilla/cv-corpus-7.0-2021-07-21/en/clips/common_voice_en_3759.mp3\n",
      "/home/mayur/mayank/Error-Driven-ASR-Personalization/mozilla/cv-corpus-7.0-2021-07-21/en/clips/common_voice_en_19791270.mp3/home/mayur/mayank/Error-Driven-ASR-Personalization/mozilla/cv-corpus-7.0-2021-07-21/en/clips/common_voice_en_20057405.mp3\n",
      "\n"
     ]
    },
    {
     "name": "stderr",
     "output_type": "stream",
     "text": [
      "\r",
      "  0%|          | 15/3000 [00:02<05:48,  8.56it/s]"
     ]
    },
    {
     "name": "stdout",
     "output_type": "stream",
     "text": [
      "/home/mayur/mayank/Error-Driven-ASR-Personalization/mozilla/cv-corpus-7.0-2021-07-21/en/clips/common_voice_en_18542802.mp3\n"
     ]
    },
    {
     "name": "stderr",
     "output_type": "stream",
     "text": [
      "\r",
      "  1%|          | 19/3000 [00:02<05:00,  9.93it/s]"
     ]
    },
    {
     "name": "stdout",
     "output_type": "stream",
     "text": [
      "/home/mayur/mayank/Error-Driven-ASR-Personalization/mozilla/cv-corpus-7.0-2021-07-21/en/clips/common_voice_en_684982.mp3"
     ]
    },
    {
     "name": "stderr",
     "output_type": "stream",
     "text": [
      "  1%|▏         | 21/1598 [00:02<02:23, 11.00it/s]"
     ]
    },
    {
     "name": "stdout",
     "output_type": "stream",
     "text": [
      "\n",
      "/home/mayur/mayank/Error-Driven-ASR-Personalization/mozilla/cv-corpus-7.0-2021-07-21/en/clips/common_voice_en_23380629.mp3/home/mayur/mayank/Error-Driven-ASR-Personalization/mozilla/cv-corpus-7.0-2021-07-21/en/clips/common_voice_en_20060011.mp3/home/mayur/mayank/Error-Driven-ASR-Personalization/mozilla/cv-corpus-7.0-2021-07-21/en/clips/common_voice_en_17776574.mp3\n",
      "\n",
      "\n",
      "/home/mayur/mayank/Error-Driven-ASR-Personalization/mozilla/cv-corpus-7.0-2021-07-21/en/clips/common_voice_en_18582828.mp3"
     ]
    },
    {
     "name": "stderr",
     "output_type": "stream",
     "text": [
      "  0%|          | 13/3000 [00:02<14:45,  3.37it/s]"
     ]
    },
    {
     "name": "stdout",
     "output_type": "stream",
     "text": [
      "\n",
      "/home/mayur/mayank/Error-Driven-ASR-Personalization/mozilla/cv-corpus-7.0-2021-07-21/en/clips/common_voice_en_20012504.mp3/home/mayur/mayank/Error-Driven-ASR-Personalization/mozilla/cv-corpus-7.0-2021-07-21/en/clips/common_voice_en_25236745.mp3\n",
      "/home/mayur/mayank/Error-Driven-ASR-Personalization/mozilla/cv-corpus-7.0-2021-07-21/en/clips/common_voice_en_20057234.mp3/home/mayur/mayank/Error-Driven-ASR-Personalization/mozilla/cv-corpus-7.0-2021-07-21/en/clips/common_voice_en_20713038.mp3\n",
      "\n",
      "\n",
      "/home/mayur/mayank/Error-Driven-ASR-Personalization/mozilla/cv-corpus-7.0-2021-07-21/en/clips/common_voice_en_558067.mp3/home/mayur/mayank/Error-Driven-ASR-Personalization/mozilla/cv-corpus-7.0-2021-07-21/en/clips/common_voice_en_19641777.mp3\n",
      "\n",
      "/home/mayur/mayank/Error-Driven-ASR-Personalization/mozilla/cv-corpus-7.0-2021-07-21/en/clips/common_voice_en_17385421.mp3\n"
     ]
    },
    {
     "name": "stderr",
     "output_type": "stream",
     "text": [
      "  0%|          | 15/3000 [00:02<06:05,  8.17it/s]"
     ]
    },
    {
     "name": "stdout",
     "output_type": "stream",
     "text": [
      "/home/mayur/mayank/Error-Driven-ASR-Personalization/mozilla/cv-corpus-7.0-2021-07-21/en/clips/common_voice_en_20691749.mp3"
     ]
    },
    {
     "name": "stderr",
     "output_type": "stream",
     "text": [
      "\r",
      "  0%|          | 14/3000 [00:02<12:27,  4.00it/s]"
     ]
    },
    {
     "name": "stdout",
     "output_type": "stream",
     "text": [
      "/home/mayur/mayank/Error-Driven-ASR-Personalization/mozilla/cv-corpus-7.0-2021-07-21/en/clips/common_voice_en_18020629.mp3/home/mayur/mayank/Error-Driven-ASR-Personalization/mozilla/cv-corpus-7.0-2021-07-21/en/clips/common_voice_en_19789193.mp3/home/mayur/mayank/Error-Driven-ASR-Personalization/mozilla/cv-corpus-7.0-2021-07-21/en/clips/common_voice_en_21681305.mp3\n"
     ]
    },
    {
     "name": "stderr",
     "output_type": "stream",
     "text": [
      "\r",
      "  1%|          | 17/3000 [00:02<05:25,  9.17it/s]"
     ]
    },
    {
     "name": "stdout",
     "output_type": "stream",
     "text": [
      "\n",
      "\n",
      "\n",
      "/home/mayur/mayank/Error-Driven-ASR-Personalization/mozilla/cv-corpus-7.0-2021-07-21/en/clips/common_voice_en_25752383.mp3"
     ]
    },
    {
     "name": "stderr",
     "output_type": "stream",
     "text": [
      "\r",
      "  1%|          | 18/3000 [00:02<06:08,  8.09it/s]"
     ]
    },
    {
     "name": "stdout",
     "output_type": "stream",
     "text": [
      "\n",
      "/home/mayur/mayank/Error-Driven-ASR-Personalization/mozilla/cv-corpus-7.0-2021-07-21/en/clips/common_voice_en_28424.mp3\n"
     ]
    },
    {
     "name": "stderr",
     "output_type": "stream",
     "text": [
      "  1%|          | 27/3000 [00:02<04:26, 11.15it/s]"
     ]
    },
    {
     "name": "stdout",
     "output_type": "stream",
     "text": [
      "/home/mayur/mayank/Error-Driven-ASR-Personalization/mozilla/cv-corpus-7.0-2021-07-21/en/clips/common_voice_en_17816570.mp3/home/mayur/mayank/Error-Driven-ASR-Personalization/mozilla/cv-corpus-7.0-2021-07-21/en/clips/common_voice_en_20526495.mp3/home/mayur/mayank/Error-Driven-ASR-Personalization/mozilla/cv-corpus-7.0-2021-07-21/en/clips/common_voice_en_17272545.mp3\n",
      "\n",
      "\n"
     ]
    },
    {
     "name": "stderr",
     "output_type": "stream",
     "text": [
      "\r",
      "  1%|▏         | 31/2169 [00:02<02:55, 12.21it/s]"
     ]
    },
    {
     "name": "stdout",
     "output_type": "stream",
     "text": [
      "/home/mayur/mayank/Error-Driven-ASR-Personalization/mozilla/cv-corpus-7.0-2021-07-21/en/clips/common_voice_en_23930473.mp3\n"
     ]
    },
    {
     "name": "stderr",
     "output_type": "stream",
     "text": [
      "  1%|          | 16/3000 [00:02<06:16,  7.94it/s]"
     ]
    },
    {
     "name": "stdout",
     "output_type": "stream",
     "text": [
      "/home/mayur/mayank/Error-Driven-ASR-Personalization/mozilla/cv-corpus-7.0-2021-07-21/en/clips/common_voice_en_560215.mp3/home/mayur/mayank/Error-Driven-ASR-Personalization/mozilla/cv-corpus-7.0-2021-07-21/en/clips/common_voice_en_19796110.mp3/home/mayur/mayank/Error-Driven-ASR-Personalization/mozilla/cv-corpus-7.0-2021-07-21/en/clips/common_voice_en_617565.mp3/home/mayur/mayank/Error-Driven-ASR-Personalization/mozilla/cv-corpus-7.0-2021-07-21/en/clips/common_voice_en_26206221.mp3\n",
      "\n",
      "\n",
      "\n"
     ]
    },
    {
     "name": "stderr",
     "output_type": "stream",
     "text": [
      "  1%|          | 19/3000 [00:02<06:18,  7.87it/s]"
     ]
    },
    {
     "name": "stdout",
     "output_type": "stream",
     "text": [
      "/home/mayur/mayank/Error-Driven-ASR-Personalization/mozilla/cv-corpus-7.0-2021-07-21/en/clips/common_voice_en_20927386.mp3/home/mayur/mayank/Error-Driven-ASR-Personalization/mozilla/cv-corpus-7.0-2021-07-21/en/clips/common_voice_en_672669.mp3\n",
      "\n",
      "/home/mayur/mayank/Error-Driven-ASR-Personalization/mozilla/cv-corpus-7.0-2021-07-21/en/clips/common_voice_en_23930437.mp3/home/mayur/mayank/Error-Driven-ASR-Personalization/mozilla/cv-corpus-7.0-2021-07-21/en/clips/common_voice_en_23628648.mp3\n"
     ]
    },
    {
     "name": "stderr",
     "output_type": "stream",
     "text": [
      "\r",
      "  1%|          | 22/3000 [00:02<05:13,  9.48it/s]"
     ]
    },
    {
     "name": "stdout",
     "output_type": "stream",
     "text": [
      "\n",
      "/home/mayur/mayank/Error-Driven-ASR-Personalization/mozilla/cv-corpus-7.0-2021-07-21/en/clips/common_voice_en_16114758.mp3\n"
     ]
    },
    {
     "name": "stderr",
     "output_type": "stream",
     "text": [
      "\r",
      "  1%|          | 20/3000 [00:02<06:23,  7.77it/s]"
     ]
    },
    {
     "name": "stdout",
     "output_type": "stream",
     "text": [
      "/home/mayur/mayank/Error-Driven-ASR-Personalization/mozilla/cv-corpus-7.0-2021-07-21/en/clips/common_voice_en_21269440.mp3\n"
     ]
    },
    {
     "name": "stderr",
     "output_type": "stream",
     "text": [
      "\r",
      "  2%|▏         | 25/1598 [00:02<02:46,  9.45it/s]"
     ]
    },
    {
     "name": "stdout",
     "output_type": "stream",
     "text": [
      "/home/mayur/mayank/Error-Driven-ASR-Personalization/mozilla/cv-corpus-7.0-2021-07-21/en/clips/common_voice_en_22322499.mp3"
     ]
    },
    {
     "name": "stderr",
     "output_type": "stream",
     "text": [
      "\r",
      "  1%|          | 21/3000 [00:02<06:46,  7.33it/s]"
     ]
    },
    {
     "name": "stdout",
     "output_type": "stream",
     "text": [
      "\n",
      "/home/mayur/mayank/Error-Driven-ASR-Personalization/mozilla/cv-corpus-7.0-2021-07-21/en/clips/common_voice_en_19647271.mp3\n"
     ]
    },
    {
     "name": "stderr",
     "output_type": "stream",
     "text": [
      "  1%|          | 17/3000 [00:02<07:00,  7.09it/s]"
     ]
    },
    {
     "name": "stdout",
     "output_type": "stream",
     "text": [
      "/home/mayur/mayank/Error-Driven-ASR-Personalization/mozilla/cv-corpus-7.0-2021-07-21/en/clips/common_voice_en_20149548.mp3"
     ]
    },
    {
     "name": "stderr",
     "output_type": "stream",
     "text": [
      "\r",
      "  1%|          | 29/3000 [00:02<05:03,  9.80it/s]"
     ]
    },
    {
     "name": "stdout",
     "output_type": "stream",
     "text": [
      "/home/mayur/mayank/Error-Driven-ASR-Personalization/mozilla/cv-corpus-7.0-2021-07-21/en/clips/common_voice_en_22165986.mp3/home/mayur/mayank/Error-Driven-ASR-Personalization/mozilla/cv-corpus-7.0-2021-07-21/en/clips/common_voice_en_14838.mp3/home/mayur/mayank/Error-Driven-ASR-Personalization/mozilla/cv-corpus-7.0-2021-07-21/en/clips/common_voice_en_17877848.mp3/home/mayur/mayank/Error-Driven-ASR-Personalization/mozilla/cv-corpus-7.0-2021-07-21/en/clips/common_voice_en_27173995.mp3/home/mayur/mayank/Error-Driven-ASR-Personalization/mozilla/cv-corpus-7.0-2021-07-21/en/clips/common_voice_en_3236.mp3\n",
      "\n",
      "\n",
      "\n",
      "\n",
      "\n",
      "/home/mayur/mayank/Error-Driven-ASR-Personalization/mozilla/cv-corpus-7.0-2021-07-21/en/clips/common_voice_en_28717.mp3\n",
      "/home/mayur/mayank/Error-Driven-ASR-Personalization/mozilla/cv-corpus-7.0-2021-07-21/en/clips/common_voice_en_25948030.mp3\n"
     ]
    },
    {
     "name": "stderr",
     "output_type": "stream",
     "text": [
      "\r",
      "  2%|▏         | 26/1598 [00:03<03:03,  8.59it/s]"
     ]
    },
    {
     "name": "stdout",
     "output_type": "stream",
     "text": [
      "/home/mayur/mayank/Error-Driven-ASR-Personalization/mozilla/cv-corpus-7.0-2021-07-21/en/clips/common_voice_en_23802585.mp3\n"
     ]
    },
    {
     "name": "stderr",
     "output_type": "stream",
     "text": [
      "\r",
      "  1%|          | 22/3000 [00:03<06:04,  8.17it/s]"
     ]
    },
    {
     "name": "stdout",
     "output_type": "stream",
     "text": [
      "/home/mayur/mayank/Error-Driven-ASR-Personalization/mozilla/cv-corpus-7.0-2021-07-21/en/clips/common_voice_en_187524.mp3"
     ]
    },
    {
     "name": "stderr",
     "output_type": "stream",
     "text": [
      "\r",
      "  1%|          | 24/3000 [00:03<06:34,  7.55it/s]"
     ]
    },
    {
     "name": "stdout",
     "output_type": "stream",
     "text": [
      "/home/mayur/mayank/Error-Driven-ASR-Personalization/mozilla/cv-corpus-7.0-2021-07-21/en/clips/common_voice_en_22343084.mp3\n",
      "/home/mayur/mayank/Error-Driven-ASR-Personalization/mozilla/cv-corpus-7.0-2021-07-21/en/clips/common_voice_en_25094229.mp3\n",
      "\n"
     ]
    },
    {
     "name": "stderr",
     "output_type": "stream",
     "text": [
      "\r",
      "  1%|          | 17/3000 [00:03<10:08,  4.90it/s]"
     ]
    },
    {
     "name": "stdout",
     "output_type": "stream",
     "text": [
      "/home/mayur/mayank/Error-Driven-ASR-Personalization/mozilla/cv-corpus-7.0-2021-07-21/en/clips/common_voice_en_21104111.mp3"
     ]
    },
    {
     "name": "stderr",
     "output_type": "stream",
     "text": [
      "\r",
      "  1%|          | 22/3000 [00:03<07:34,  6.55it/s]"
     ]
    },
    {
     "name": "stdout",
     "output_type": "stream",
     "text": [
      "\n",
      "/home/mayur/mayank/Error-Driven-ASR-Personalization/mozilla/cv-corpus-7.0-2021-07-21/en/clips/common_voice_en_24476886.mp3\n"
     ]
    },
    {
     "name": "stderr",
     "output_type": "stream",
     "text": [
      "\r",
      "  1%|          | 18/3000 [00:02<07:44,  6.41it/s]"
     ]
    },
    {
     "name": "stdout",
     "output_type": "stream",
     "text": [
      "/home/mayur/mayank/Error-Driven-ASR-Personalization/mozilla/cv-corpus-7.0-2021-07-21/en/clips/common_voice_en_598502.mp3\n",
      "/home/mayur/mayank/Error-Driven-ASR-Personalization/mozilla/cv-corpus-7.0-2021-07-21/en/clips/common_voice_en_219243.mp3"
     ]
    },
    {
     "name": "stderr",
     "output_type": "stream",
     "text": [
      "  1%|          | 20/3000 [00:03<07:32,  6.59it/s]"
     ]
    },
    {
     "name": "stdout",
     "output_type": "stream",
     "text": [
      "\n",
      "/home/mayur/mayank/Error-Driven-ASR-Personalization/mozilla/cv-corpus-7.0-2021-07-21/en/clips/common_voice_en_22265068.mp3/home/mayur/mayank/Error-Driven-ASR-Personalization/mozilla/cv-corpus-7.0-2021-07-21/en/clips/common_voice_en_63877.mp3\n",
      "\n"
     ]
    },
    {
     "name": "stderr",
     "output_type": "stream",
     "text": [
      "\r",
      "  1%|          | 31/3000 [00:03<06:45,  7.33it/s]"
     ]
    },
    {
     "name": "stdout",
     "output_type": "stream",
     "text": [
      "/home/mayur/mayank/Error-Driven-ASR-Personalization/mozilla/cv-corpus-7.0-2021-07-21/en/clips/common_voice_en_86459.mp3\n"
     ]
    },
    {
     "name": "stderr",
     "output_type": "stream",
     "text": [
      "\r",
      "  1%|          | 18/3000 [00:03<11:06,  4.48it/s]"
     ]
    },
    {
     "name": "stdout",
     "output_type": "stream",
     "text": [
      "/home/mayur/mayank/Error-Driven-ASR-Personalization/mozilla/cv-corpus-7.0-2021-07-21/en/clips/common_voice_en_19666219.mp3"
     ]
    },
    {
     "name": "stderr",
     "output_type": "stream",
     "text": [
      "\r",
      "  2%|▏         | 28/1598 [00:03<03:23,  7.70it/s]"
     ]
    },
    {
     "name": "stdout",
     "output_type": "stream",
     "text": [
      "\n",
      "/home/mayur/mayank/Error-Driven-ASR-Personalization/mozilla/cv-corpus-7.0-2021-07-21/en/clips/common_voice_en_22913033.mp3"
     ]
    },
    {
     "name": "stderr",
     "output_type": "stream",
     "text": [
      "\r",
      "  1%|          | 23/3000 [00:03<07:53,  6.29it/s]"
     ]
    },
    {
     "name": "stdout",
     "output_type": "stream",
     "text": [
      "/home/mayur/mayank/Error-Driven-ASR-Personalization/mozilla/cv-corpus-7.0-2021-07-21/en/clips/common_voice_en_18716013.mp3"
     ]
    },
    {
     "name": "stderr",
     "output_type": "stream",
     "text": [
      "\r",
      "  1%|          | 19/3000 [00:03<09:20,  5.32it/s]"
     ]
    },
    {
     "name": "stdout",
     "output_type": "stream",
     "text": [
      "\n"
     ]
    },
    {
     "name": "stderr",
     "output_type": "stream",
     "text": [
      "\r",
      "  1%|          | 25/3000 [00:03<08:27,  5.86it/s]"
     ]
    },
    {
     "name": "stdout",
     "output_type": "stream",
     "text": [
      "/home/mayur/mayank/Error-Driven-ASR-Personalization/mozilla/cv-corpus-7.0-2021-07-21/en/clips/common_voice_en_22262409.mp3\n",
      "/home/mayur/mayank/Error-Driven-ASR-Personalization/mozilla/cv-corpus-7.0-2021-07-21/en/clips/common_voice_en_20714255.mp3\n",
      "/home/mayur/mayank/Error-Driven-ASR-Personalization/mozilla/cv-corpus-7.0-2021-07-21/en/clips/common_voice_en_19081598.mp3\n",
      "\n"
     ]
    },
    {
     "name": "stderr",
     "output_type": "stream",
     "text": [
      "\r",
      "  1%|          | 23/3000 [00:03<09:18,  5.33it/s]"
     ]
    },
    {
     "name": "stdout",
     "output_type": "stream",
     "text": [
      "/home/mayur/mayank/Error-Driven-ASR-Personalization/mozilla/cv-corpus-7.0-2021-07-21/en/clips/common_voice_en_20148576.mp3\n"
     ]
    },
    {
     "name": "stderr",
     "output_type": "stream",
     "text": [
      "\r",
      "  1%|          | 21/3000 [00:03<09:06,  5.45it/s]"
     ]
    },
    {
     "name": "stdout",
     "output_type": "stream",
     "text": [
      "/home/mayur/mayank/Error-Driven-ASR-Personalization/mozilla/cv-corpus-7.0-2021-07-21/en/clips/common_voice_en_18518574.mp3/home/mayur/mayank/Error-Driven-ASR-Personalization/mozilla/cv-corpus-7.0-2021-07-21/en/clips/common_voice_en_18023311.mp3\n",
      "\n"
     ]
    },
    {
     "name": "stderr",
     "output_type": "stream",
     "text": [
      "\r",
      "  2%|▏         | 37/2169 [00:03<04:14,  8.38it/s]"
     ]
    },
    {
     "name": "stdout",
     "output_type": "stream",
     "text": [
      "/home/mayur/mayank/Error-Driven-ASR-Personalization/mozilla/cv-corpus-7.0-2021-07-21/en/clips/common_voice_en_22264829.mp3\n"
     ]
    },
    {
     "name": "stderr",
     "output_type": "stream",
     "text": [
      "\r",
      "  2%|▏         | 29/1598 [00:03<03:21,  7.77it/s]"
     ]
    },
    {
     "name": "stdout",
     "output_type": "stream",
     "text": [
      "/home/mayur/mayank/Error-Driven-ASR-Personalization/mozilla/cv-corpus-7.0-2021-07-21/en/clips/common_voice_en_22668577.mp3\n"
     ]
    },
    {
     "name": "stderr",
     "output_type": "stream",
     "text": [
      "  1%|          | 24/3000 [00:03<07:45,  6.39it/s]"
     ]
    },
    {
     "name": "stdout",
     "output_type": "stream",
     "text": [
      "/home/mayur/mayank/Error-Driven-ASR-Personalization/mozilla/cv-corpus-7.0-2021-07-21/en/clips/common_voice_en_17355320.mp3/home/mayur/mayank/Error-Driven-ASR-Personalization/mozilla/cv-corpus-7.0-2021-07-21/en/clips/common_voice_en_22322178.mp3\n"
     ]
    },
    {
     "name": "stderr",
     "output_type": "stream",
     "text": [
      "\r",
      "  1%|          | 26/3000 [00:03<08:10,  6.06it/s]"
     ]
    },
    {
     "name": "stdout",
     "output_type": "stream",
     "text": [
      "\n"
     ]
    },
    {
     "name": "stderr",
     "output_type": "stream",
     "text": [
      "  1%|          | 33/3000 [00:03<06:07,  8.08it/s]"
     ]
    },
    {
     "name": "stdout",
     "output_type": "stream",
     "text": [
      "/home/mayur/mayank/Error-Driven-ASR-Personalization/mozilla/cv-corpus-7.0-2021-07-21/en/clips/common_voice_en_482099.mp3/home/mayur/mayank/Error-Driven-ASR-Personalization/mozilla/cv-corpus-7.0-2021-07-21/en/clips/common_voice_en_19836316.mp3"
     ]
    },
    {
     "name": "stderr",
     "output_type": "stream",
     "text": [
      "\r",
      "  1%|          | 20/3000 [00:03<08:50,  5.61it/s]"
     ]
    },
    {
     "name": "stdout",
     "output_type": "stream",
     "text": [
      "/home/mayur/mayank/Error-Driven-ASR-Personalization/mozilla/cv-corpus-7.0-2021-07-21/en/clips/common_voice_en_86402.mp3\n",
      "\n",
      "\n",
      "/home/mayur/mayank/Error-Driven-ASR-Personalization/mozilla/cv-corpus-7.0-2021-07-21/en/clips/common_voice_en_22414176.mp3\n",
      "/home/mayur/mayank/Error-Driven-ASR-Personalization/mozilla/cv-corpus-7.0-2021-07-21/en/clips/common_voice_en_17474512.mp3/home/mayur/mayank/Error-Driven-ASR-Personalization/mozilla/cv-corpus-7.0-2021-07-21/en/clips/common_voice_en_22248863.mp3\n"
     ]
    },
    {
     "name": "stderr",
     "output_type": "stream",
     "text": [
      "\r",
      "  1%|          | 22/3000 [00:03<08:47,  5.65it/s]"
     ]
    },
    {
     "name": "stdout",
     "output_type": "stream",
     "text": [
      "\n",
      "/home/mayur/mayank/Error-Driven-ASR-Personalization/mozilla/cv-corpus-7.0-2021-07-21/en/clips/common_voice_en_19567150.mp3\n",
      "/home/mayur/mayank/Error-Driven-ASR-Personalization/mozilla/cv-corpus-7.0-2021-07-21/en/clips/common_voice_en_21916802.mp3\n",
      "/home/mayur/mayank/Error-Driven-ASR-Personalization/mozilla/cv-corpus-7.0-2021-07-21/en/clips/common_voice_en_15903648.mp3/home/mayur/mayank/Error-Driven-ASR-Personalization/mozilla/cv-corpus-7.0-2021-07-21/en/clips/common_voice_en_18099094.mp3\n",
      "\n",
      "/home/mayur/mayank/Error-Driven-ASR-Personalization/mozilla/cv-corpus-7.0-2021-07-21/en/clips/common_voice_en_22550708.mp3\n"
     ]
    },
    {
     "name": "stderr",
     "output_type": "stream",
     "text": [
      "  1%|          | 21/3000 [00:03<10:17,  4.82it/s]"
     ]
    },
    {
     "name": "stdout",
     "output_type": "stream",
     "text": [
      "/home/mayur/mayank/Error-Driven-ASR-Personalization/mozilla/cv-corpus-7.0-2021-07-21/en/clips/common_voice_en_19492394.mp3/home/mayur/mayank/Error-Driven-ASR-Personalization/mozilla/cv-corpus-7.0-2021-07-21/en/clips/common_voice_en_20040358.mp3/home/mayur/mayank/Error-Driven-ASR-Personalization/mozilla/cv-corpus-7.0-2021-07-21/en/clips/common_voice_en_23377199.mp3/home/mayur/mayank/Error-Driven-ASR-Personalization/mozilla/cv-corpus-7.0-2021-07-21/en/clips/common_voice_en_23385152.mp3/home/mayur/mayank/Error-Driven-ASR-Personalization/mozilla/cv-corpus-7.0-2021-07-21/en/clips/common_voice_en_19794528.mp3\n",
      "\n",
      "\n",
      "\n",
      "\n"
     ]
    },
    {
     "name": "stderr",
     "output_type": "stream",
     "text": [
      "\r",
      "  1%|          | 26/3000 [00:03<08:22,  5.92it/s]"
     ]
    },
    {
     "name": "stdout",
     "output_type": "stream",
     "text": [
      "/home/mayur/mayank/Error-Driven-ASR-Personalization/mozilla/cv-corpus-7.0-2021-07-21/en/clips/common_voice_en_21476581.mp3\n",
      "/home/mayur/mayank/Error-Driven-ASR-Personalization/mozilla/cv-corpus-7.0-2021-07-21/en/clips/common_voice_en_219277.mp3/home/mayur/mayank/Error-Driven-ASR-Personalization/mozilla/cv-corpus-7.0-2021-07-21/en/clips/common_voice_en_656313.mp3"
     ]
    },
    {
     "name": "stderr",
     "output_type": "stream",
     "text": [
      "\r",
      "  1%|          | 35/3000 [00:03<07:04,  6.99it/s]"
     ]
    },
    {
     "name": "stdout",
     "output_type": "stream",
     "text": [
      "/home/mayur/mayank/Error-Driven-ASR-Personalization/mozilla/cv-corpus-7.0-2021-07-21/en/clips/common_voice_en_17263096.mp3\n",
      "\n",
      "/home/mayur/mayank/Error-Driven-ASR-Personalization/mozilla/cv-corpus-7.0-2021-07-21/en/clips/common_voice_en_18518354.mp3\n",
      "\n"
     ]
    },
    {
     "name": "stderr",
     "output_type": "stream",
     "text": [
      "  1%|          | 21/3000 [00:03<09:49,  5.05it/s]"
     ]
    },
    {
     "name": "stdout",
     "output_type": "stream",
     "text": [
      "/home/mayur/mayank/Error-Driven-ASR-Personalization/mozilla/cv-corpus-7.0-2021-07-21/en/clips/common_voice_en_596706.mp3/home/mayur/mayank/Error-Driven-ASR-Personalization/mozilla/cv-corpus-7.0-2021-07-21/en/clips/common_voice_en_21225179.mp3\n",
      "\n"
     ]
    },
    {
     "name": "stderr",
     "output_type": "stream",
     "text": [
      "  1%|          | 26/3000 [00:04<09:50,  5.04it/s]"
     ]
    },
    {
     "name": "stdout",
     "output_type": "stream",
     "text": [
      "/home/mayur/mayank/Error-Driven-ASR-Personalization/mozilla/cv-corpus-7.0-2021-07-21/en/clips/common_voice_en_6923184.mp3/home/mayur/mayank/Error-Driven-ASR-Personalization/mozilla/cv-corpus-7.0-2021-07-21/en/clips/common_voice_en_25722072.mp3\n",
      "\n"
     ]
    },
    {
     "name": "stderr",
     "output_type": "stream",
     "text": [
      "\r",
      "  2%|▏         | 41/2169 [00:04<04:29,  7.90it/s]"
     ]
    },
    {
     "name": "stdout",
     "output_type": "stream",
     "text": [
      "/home/mayur/mayank/Error-Driven-ASR-Personalization/mozilla/cv-corpus-7.0-2021-07-21/en/clips/common_voice_en_20040415.mp3\n"
     ]
    },
    {
     "name": "stderr",
     "output_type": "stream",
     "text": [
      "  1%|          | 27/3000 [00:04<08:43,  5.67it/s]"
     ]
    },
    {
     "name": "stdout",
     "output_type": "stream",
     "text": [
      "/home/mayur/mayank/Error-Driven-ASR-Personalization/mozilla/cv-corpus-7.0-2021-07-21/en/clips/common_voice_en_595401.mp3"
     ]
    },
    {
     "name": "stderr",
     "output_type": "stream",
     "text": [
      "\r",
      "  1%|          | 27/3000 [00:04<08:51,  5.60it/s]"
     ]
    },
    {
     "name": "stdout",
     "output_type": "stream",
     "text": [
      "/home/mayur/mayank/Error-Driven-ASR-Personalization/mozilla/cv-corpus-7.0-2021-07-21/en/clips/common_voice_en_15905029.mp3/home/mayur/mayank/Error-Driven-ASR-Personalization/mozilla/cv-corpus-7.0-2021-07-21/en/clips/common_voice_en_17999111.mp3/home/mayur/mayank/Error-Driven-ASR-Personalization/mozilla/cv-corpus-7.0-2021-07-21/en/clips/common_voice_en_17271436.mp3\n",
      "/home/mayur/mayank/Error-Driven-ASR-Personalization/mozilla/cv-corpus-7.0-2021-07-21/en/clips/common_voice_en_18594354.mp3/home/mayur/mayank/Error-Driven-ASR-Personalization/mozilla/cv-corpus-7.0-2021-07-21/en/clips/common_voice_en_27747.mp3\n",
      "\n"
     ]
    },
    {
     "name": "stderr",
     "output_type": "stream",
     "text": [
      "\r",
      "  1%|          | 36/3000 [00:04<07:39,  6.46it/s]"
     ]
    },
    {
     "name": "stdout",
     "output_type": "stream",
     "text": [
      "\n",
      "\n",
      "\n",
      "/home/mayur/mayank/Error-Driven-ASR-Personalization/mozilla/cv-corpus-7.0-2021-07-21/en/clips/common_voice_en_22322431.mp3/home/mayur/mayank/Error-Driven-ASR-Personalization/mozilla/cv-corpus-7.0-2021-07-21/en/clips/common_voice_en_26980588.mp3\n",
      "\n"
     ]
    },
    {
     "name": "stderr",
     "output_type": "stream",
     "text": [
      "\r",
      "  2%|▏         | 42/2169 [00:04<04:31,  7.82it/s]"
     ]
    },
    {
     "name": "stdout",
     "output_type": "stream",
     "text": [
      "/home/mayur/mayank/Error-Driven-ASR-Personalization/mozilla/cv-corpus-7.0-2021-07-21/en/clips/common_voice_en_21250852.mp3\n"
     ]
    },
    {
     "name": "stderr",
     "output_type": "stream",
     "text": [
      "  1%|          | 23/3000 [00:04<08:52,  5.59it/s]"
     ]
    },
    {
     "name": "stdout",
     "output_type": "stream",
     "text": [
      "/home/mayur/mayank/Error-Driven-ASR-Personalization/mozilla/cv-corpus-7.0-2021-07-21/en/clips/common_voice_en_25148282.mp3/home/mayur/mayank/Error-Driven-ASR-Personalization/mozilla/cv-corpus-7.0-2021-07-21/en/clips/common_voice_en_20927321.mp3\n",
      "\n",
      "/home/mayur/mayank/Error-Driven-ASR-Personalization/mozilla/cv-corpus-7.0-2021-07-21/en/clips/common_voice_en_23930462.mp3\n"
     ]
    },
    {
     "name": "stderr",
     "output_type": "stream",
     "text": [
      "\r",
      "  2%|▏         | 34/1598 [00:04<03:36,  7.21it/s]"
     ]
    },
    {
     "name": "stdout",
     "output_type": "stream",
     "text": [
      "/home/mayur/mayank/Error-Driven-ASR-Personalization/mozilla/cv-corpus-7.0-2021-07-21/en/clips/common_voice_en_17787352.mp3\n"
     ]
    },
    {
     "name": "stderr",
     "output_type": "stream",
     "text": [
      "\r",
      "  1%|          | 28/3000 [00:04<08:32,  5.80it/s]"
     ]
    },
    {
     "name": "stdout",
     "output_type": "stream",
     "text": [
      "/home/mayur/mayank/Error-Driven-ASR-Personalization/mozilla/cv-corpus-7.0-2021-07-21/en/clips/common_voice_en_21343022.mp3\n"
     ]
    },
    {
     "name": "stderr",
     "output_type": "stream",
     "text": [
      "  1%|          | 24/3000 [00:03<08:34,  5.78it/s]"
     ]
    },
    {
     "name": "stdout",
     "output_type": "stream",
     "text": [
      "/home/mayur/mayank/Error-Driven-ASR-Personalization/mozilla/cv-corpus-7.0-2021-07-21/en/clips/common_voice_en_22177455.mp3"
     ]
    },
    {
     "name": "stderr",
     "output_type": "stream",
     "text": [
      "\r",
      "  1%|          | 37/3000 [00:04<07:43,  6.39it/s]"
     ]
    },
    {
     "name": "stdout",
     "output_type": "stream",
     "text": [
      "/home/mayur/mayank/Error-Driven-ASR-Personalization/mozilla/cv-corpus-7.0-2021-07-21/en/clips/common_voice_en_22946563.mp3\n"
     ]
    },
    {
     "name": "stderr",
     "output_type": "stream",
     "text": [
      "\r",
      "  1%|          | 28/3000 [00:04<08:33,  5.78it/s]"
     ]
    },
    {
     "name": "stdout",
     "output_type": "stream",
     "text": [
      "/home/mayur/mayank/Error-Driven-ASR-Personalization/mozilla/cv-corpus-7.0-2021-07-21/en/clips/common_voice_en_20532768.mp3\n",
      "/home/mayur/mayank/Error-Driven-ASR-Personalization/mozilla/cv-corpus-7.0-2021-07-21/en/clips/common_voice_en_19435011.mp3\n",
      "\n",
      "/home/mayur/mayank/Error-Driven-ASR-Personalization/mozilla/cv-corpus-7.0-2021-07-21/en/clips/common_voice_en_20927429.mp3\n",
      "/home/mayur/mayank/Error-Driven-ASR-Personalization/mozilla/cv-corpus-7.0-2021-07-21/en/clips/common_voice_en_17816513.mp3\n",
      "/home/mayur/mayank/Error-Driven-ASR-Personalization/mozilla/cv-corpus-7.0-2021-07-21/en/clips/common_voice_en_27015708.mp3\n"
     ]
    },
    {
     "name": "stderr",
     "output_type": "stream",
     "text": [
      "\r",
      "  2%|▏         | 44/2169 [00:04<03:54,  9.06it/s]"
     ]
    },
    {
     "name": "stdout",
     "output_type": "stream",
     "text": [
      "/home/mayur/mayank/Error-Driven-ASR-Personalization/mozilla/cv-corpus-7.0-2021-07-21/en/clips/common_voice_en_20040322.mp3\n",
      "/home/mayur/mayank/Error-Driven-ASR-Personalization/mozilla/cv-corpus-7.0-2021-07-21/en/clips/common_voice_en_164714.mp3\n",
      "/home/mayur/mayank/Error-Driven-ASR-Personalization/mozilla/cv-corpus-7.0-2021-07-21/en/clips/common_voice_en_486125.mp3\n"
     ]
    },
    {
     "name": "stderr",
     "output_type": "stream",
     "text": [
      "  2%|▏         | 36/1598 [00:04<02:54,  8.94it/s]"
     ]
    },
    {
     "name": "stdout",
     "output_type": "stream",
     "text": [
      "/home/mayur/mayank/Error-Driven-ASR-Personalization/mozilla/cv-corpus-7.0-2021-07-21/en/clips/common_voice_en_21273176.mp3/home/mayur/mayank/Error-Driven-ASR-Personalization/mozilla/cv-corpus-7.0-2021-07-21/en/clips/common_voice_en_19886675.mp3/home/mayur/mayank/Error-Driven-ASR-Personalization/mozilla/cv-corpus-7.0-2021-07-21/en/clips/common_voice_en_22955114.mp3/home/mayur/mayank/Error-Driven-ASR-Personalization/mozilla/cv-corpus-7.0-2021-07-21/en/clips/common_voice_en_23366927.mp3\n",
      "\n",
      "\n",
      "\n"
     ]
    },
    {
     "name": "stderr",
     "output_type": "stream",
     "text": [
      "\r",
      "  1%|          | 31/3000 [00:04<07:46,  6.36it/s]"
     ]
    },
    {
     "name": "stdout",
     "output_type": "stream",
     "text": [
      "/home/mayur/mayank/Error-Driven-ASR-Personalization/mozilla/cv-corpus-7.0-2021-07-21/en/clips/common_voice_en_18516657.mp3\n"
     ]
    },
    {
     "name": "stderr",
     "output_type": "stream",
     "text": [
      "\r",
      "  1%|          | 28/3000 [00:04<06:16,  7.89it/s]"
     ]
    },
    {
     "name": "stdout",
     "output_type": "stream",
     "text": [
      "/home/mayur/mayank/Error-Driven-ASR-Personalization/mozilla/cv-corpus-7.0-2021-07-21/en/clips/common_voice_en_23918215.mp3\n",
      "/home/mayur/mayank/Error-Driven-ASR-Personalization/mozilla/cv-corpus-7.0-2021-07-21/en/clips/common_voice_en_23930414.mp3/home/mayur/mayank/Error-Driven-ASR-Personalization/mozilla/cv-corpus-7.0-2021-07-21/en/clips/common_voice_en_22238293.mp3"
     ]
    },
    {
     "name": "stderr",
     "output_type": "stream",
     "text": [
      "\r",
      "  1%|          | 26/3000 [00:04<06:12,  7.98it/s]"
     ]
    },
    {
     "name": "stdout",
     "output_type": "stream",
     "text": [
      "\n"
     ]
    },
    {
     "name": "stderr",
     "output_type": "stream",
     "text": [
      "\r",
      "  1%|          | 30/3000 [00:04<06:31,  7.58it/s]"
     ]
    },
    {
     "name": "stdout",
     "output_type": "stream",
     "text": [
      "\n",
      "/home/mayur/mayank/Error-Driven-ASR-Personalization/mozilla/cv-corpus-7.0-2021-07-21/en/clips/common_voice_en_26020169.mp3/home/mayur/mayank/Error-Driven-ASR-Personalization/mozilla/cv-corpus-7.0-2021-07-21/en/clips/common_voice_en_18750283.mp3\n",
      "\n",
      "/home/mayur/mayank/Error-Driven-ASR-Personalization/mozilla/cv-corpus-7.0-2021-07-21/en/clips/common_voice_en_47316.mp3/home/mayur/mayank/Error-Driven-ASR-Personalization/mozilla/cv-corpus-7.0-2021-07-21/en/clips/common_voice_en_19004255.mp3\n",
      "\n"
     ]
    },
    {
     "name": "stderr",
     "output_type": "stream",
     "text": [
      "\r",
      "  1%|          | 30/3000 [00:04<06:38,  7.45it/s]"
     ]
    },
    {
     "name": "stdout",
     "output_type": "stream",
     "text": [
      "/home/mayur/mayank/Error-Driven-ASR-Personalization/mozilla/cv-corpus-7.0-2021-07-21/en/clips/common_voice_en_19775789.mp3\n"
     ]
    },
    {
     "name": "stderr",
     "output_type": "stream",
     "text": [
      "\r",
      "  1%|▏         | 39/3000 [00:04<06:33,  7.53it/s]"
     ]
    },
    {
     "name": "stdout",
     "output_type": "stream",
     "text": [
      "/home/mayur/mayank/Error-Driven-ASR-Personalization/mozilla/cv-corpus-7.0-2021-07-21/en/clips/common_voice_en_26971754.mp3\n"
     ]
    },
    {
     "name": "stderr",
     "output_type": "stream",
     "text": [
      "  1%|          | 29/3000 [00:04<06:03,  8.18it/s]"
     ]
    },
    {
     "name": "stdout",
     "output_type": "stream",
     "text": [
      "/home/mayur/mayank/Error-Driven-ASR-Personalization/mozilla/cv-corpus-7.0-2021-07-21/en/clips/common_voice_en_370851.mp3"
     ]
    },
    {
     "name": "stderr",
     "output_type": "stream",
     "text": [
      "\r",
      "  2%|▏         | 46/2169 [00:04<03:35,  9.84it/s]"
     ]
    },
    {
     "name": "stdout",
     "output_type": "stream",
     "text": [
      "/home/mayur/mayank/Error-Driven-ASR-Personalization/mozilla/cv-corpus-7.0-2021-07-21/en/clips/common_voice_en_22964174.mp3/home/mayur/mayank/Error-Driven-ASR-Personalization/mozilla/cv-corpus-7.0-2021-07-21/en/clips/common_voice_en_17860945.mp3\n",
      "/home/mayur/mayank/Error-Driven-ASR-Personalization/mozilla/cv-corpus-7.0-2021-07-21/en/clips/common_voice_en_24979009.mp3\n",
      "\n",
      "\n"
     ]
    },
    {
     "name": "stderr",
     "output_type": "stream",
     "text": [
      "\r",
      "  1%|          | 27/3000 [00:04<05:22,  9.21it/s]"
     ]
    },
    {
     "name": "stdout",
     "output_type": "stream",
     "text": [
      "/home/mayur/mayank/Error-Driven-ASR-Personalization/mozilla/cv-corpus-7.0-2021-07-21/en/clips/common_voice_en_22238217.mp3\n"
     ]
    },
    {
     "name": "stderr",
     "output_type": "stream",
     "text": [
      "\r",
      "  1%|▏         | 40/3000 [00:04<06:17,  7.84it/s]"
     ]
    },
    {
     "name": "stdout",
     "output_type": "stream",
     "text": [
      "/home/mayur/mayank/Error-Driven-ASR-Personalization/mozilla/cv-corpus-7.0-2021-07-21/en/clips/common_voice_en_17272617.mp3\n"
     ]
    },
    {
     "name": "stderr",
     "output_type": "stream",
     "text": [
      "\r",
      "  1%|          | 33/3000 [00:04<06:43,  7.34it/s]"
     ]
    },
    {
     "name": "stdout",
     "output_type": "stream",
     "text": [
      "/home/mayur/mayank/Error-Driven-ASR-Personalization/mozilla/cv-corpus-7.0-2021-07-21/en/clips/common_voice_en_18497184.mp3\n",
      "/home/mayur/mayank/Error-Driven-ASR-Personalization/mozilla/cv-corpus-7.0-2021-07-21/en/clips/common_voice_en_21949743.mp3\n"
     ]
    },
    {
     "name": "stderr",
     "output_type": "stream",
     "text": [
      "\r",
      "  1%|          | 31/3000 [00:04<07:37,  6.49it/s]"
     ]
    },
    {
     "name": "stdout",
     "output_type": "stream",
     "text": [
      "/home/mayur/mayank/Error-Driven-ASR-Personalization/mozilla/cv-corpus-7.0-2021-07-21/en/clips/common_voice_en_19752760.mp3"
     ]
    },
    {
     "name": "stderr",
     "output_type": "stream",
     "text": [
      "\r",
      "  1%|          | 30/3000 [00:04<06:47,  7.29it/s]"
     ]
    },
    {
     "name": "stdout",
     "output_type": "stream",
     "text": [
      "\n",
      "/home/mayur/mayank/Error-Driven-ASR-Personalization/mozilla/cv-corpus-7.0-2021-07-21/en/clips/common_voice_en_18411909.mp3\n"
     ]
    },
    {
     "name": "stderr",
     "output_type": "stream",
     "text": [
      "\r",
      "  1%|          | 31/3000 [00:04<08:13,  6.01it/s]"
     ]
    },
    {
     "name": "stdout",
     "output_type": "stream",
     "text": [
      "/home/mayur/mayank/Error-Driven-ASR-Personalization/mozilla/cv-corpus-7.0-2021-07-21/en/clips/common_voice_en_21908284.mp3/home/mayur/mayank/Error-Driven-ASR-Personalization/mozilla/cv-corpus-7.0-2021-07-21/en/clips/common_voice_en_22245653.mp3"
     ]
    },
    {
     "name": "stderr",
     "output_type": "stream",
     "text": [
      "\r",
      "  1%|          | 28/3000 [00:04<06:32,  7.57it/s]"
     ]
    },
    {
     "name": "stdout",
     "output_type": "stream",
     "text": [
      "\n",
      "\n",
      "/home/mayur/mayank/Error-Driven-ASR-Personalization/mozilla/cv-corpus-7.0-2021-07-21/en/clips/common_voice_en_688244.mp3\n"
     ]
    },
    {
     "name": "stderr",
     "output_type": "stream",
     "text": [
      "\r",
      "  1%|▏         | 41/3000 [00:04<06:23,  7.73it/s]"
     ]
    },
    {
     "name": "stdout",
     "output_type": "stream",
     "text": [
      "/home/mayur/mayank/Error-Driven-ASR-Personalization/mozilla/cv-corpus-7.0-2021-07-21/en/clips/common_voice_en_22938253.mp3\n"
     ]
    },
    {
     "name": "stderr",
     "output_type": "stream",
     "text": [
      "\r",
      "  2%|▏         | 48/2169 [00:04<03:49,  9.23it/s]"
     ]
    },
    {
     "name": "stdout",
     "output_type": "stream",
     "text": [
      "/home/mayur/mayank/Error-Driven-ASR-Personalization/mozilla/cv-corpus-7.0-2021-07-21/en/clips/common_voice_en_657871.mp3"
     ]
    },
    {
     "name": "stderr",
     "output_type": "stream",
     "text": [
      "\r",
      "  1%|          | 34/3000 [00:04<06:47,  7.28it/s]"
     ]
    },
    {
     "name": "stdout",
     "output_type": "stream",
     "text": [
      "/home/mayur/mayank/Error-Driven-ASR-Personalization/mozilla/cv-corpus-7.0-2021-07-21/en/clips/common_voice_en_20057402.mp3\n",
      "/home/mayur/mayank/Error-Driven-ASR-Personalization/mozilla/cv-corpus-7.0-2021-07-21/en/clips/common_voice_en_19798188.mp3\n",
      "/home/mayur/mayank/Error-Driven-ASR-Personalization/mozilla/cv-corpus-7.0-2021-07-21/en/clips/common_voice_en_20442016.mp3\n",
      "\n",
      "/home/mayur/mayank/Error-Driven-ASR-Personalization/mozilla/cv-corpus-7.0-2021-07-21/en/clips/common_voice_en_18400523.mp3/home/mayur/mayank/Error-Driven-ASR-Personalization/mozilla/cv-corpus-7.0-2021-07-21/en/clips/common_voice_en_17246370.mp3\n",
      "\n"
     ]
    },
    {
     "name": "stderr",
     "output_type": "stream",
     "text": [
      "\r",
      "  3%|▎         | 40/1598 [00:04<02:51,  9.08it/s]"
     ]
    },
    {
     "name": "stdout",
     "output_type": "stream",
     "text": [
      "/home/mayur/mayank/Error-Driven-ASR-Personalization/mozilla/cv-corpus-7.0-2021-07-21/en/clips/common_voice_en_17272704.mp3/home/mayur/mayank/Error-Driven-ASR-Personalization/mozilla/cv-corpus-7.0-2021-07-21/en/clips/common_voice_en_17816529.mp3\n",
      "\n",
      "/home/mayur/mayank/Error-Driven-ASR-Personalization/mozilla/cv-corpus-7.0-2021-07-21/en/clips/common_voice_en_22446887.mp3\n"
     ]
    },
    {
     "name": "stderr",
     "output_type": "stream",
     "text": [
      "\r",
      "  1%|          | 29/3000 [00:04<05:57,  8.31it/s]"
     ]
    },
    {
     "name": "stdout",
     "output_type": "stream",
     "text": [
      "/home/mayur/mayank/Error-Driven-ASR-Personalization/mozilla/cv-corpus-7.0-2021-07-21/en/clips/common_voice_en_23296991.mp3/home/mayur/mayank/Error-Driven-ASR-Personalization/mozilla/cv-corpus-7.0-2021-07-21/en/clips/common_voice_en_20928420.mp3\n",
      "\n",
      "/home/mayur/mayank/Error-Driven-ASR-Personalization/mozilla/cv-corpus-7.0-2021-07-21/en/clips/common_voice_en_660528.mp3"
     ]
    },
    {
     "name": "stderr",
     "output_type": "stream",
     "text": [
      "\r",
      "  1%|          | 33/3000 [00:04<05:54,  8.36it/s]"
     ]
    },
    {
     "name": "stdout",
     "output_type": "stream",
     "text": [
      "\n",
      "/home/mayur/mayank/Error-Driven-ASR-Personalization/mozilla/cv-corpus-7.0-2021-07-21/en/clips/common_voice_en_597643.mp3\n"
     ]
    },
    {
     "name": "stderr",
     "output_type": "stream",
     "text": [
      "\r",
      "  2%|▏         | 50/2169 [00:04<03:23, 10.42it/s]"
     ]
    },
    {
     "name": "stdout",
     "output_type": "stream",
     "text": [
      "/home/mayur/mayank/Error-Driven-ASR-Personalization/mozilla/cv-corpus-7.0-2021-07-21/en/clips/common_voice_en_25947902.mp3\n"
     ]
    },
    {
     "name": "stderr",
     "output_type": "stream",
     "text": [
      "  1%|▏         | 43/3000 [00:04<05:46,  8.53it/s]"
     ]
    },
    {
     "name": "stdout",
     "output_type": "stream",
     "text": [
      "/home/mayur/mayank/Error-Driven-ASR-Personalization/mozilla/cv-corpus-7.0-2021-07-21/en/clips/common_voice_en_25182079.mp3/home/mayur/mayank/Error-Driven-ASR-Personalization/mozilla/cv-corpus-7.0-2021-07-21/en/clips/common_voice_en_22178626.mp3/home/mayur/mayank/Error-Driven-ASR-Personalization/mozilla/cv-corpus-7.0-2021-07-21/en/clips/common_voice_en_17816514.mp3\n",
      "\n",
      "\n"
     ]
    },
    {
     "name": "stderr",
     "output_type": "stream",
     "text": [
      "  1%|          | 33/3000 [00:04<07:02,  7.03it/s]"
     ]
    },
    {
     "name": "stdout",
     "output_type": "stream",
     "text": [
      "/home/mayur/mayank/Error-Driven-ASR-Personalization/mozilla/cv-corpus-7.0-2021-07-21/en/clips/common_voice_en_3204.mp3/home/mayur/mayank/Error-Driven-ASR-Personalization/mozilla/cv-corpus-7.0-2021-07-21/en/clips/common_voice_en_22947122.mp3"
     ]
    },
    {
     "name": "stderr",
     "output_type": "stream",
     "text": [
      "\r",
      "  1%|          | 30/3000 [00:04<06:02,  8.18it/s]"
     ]
    },
    {
     "name": "stdout",
     "output_type": "stream",
     "text": [
      "\n",
      "\n",
      "/home/mayur/mayank/Error-Driven-ASR-Personalization/mozilla/cv-corpus-7.0-2021-07-21/en/clips/common_voice_en_17740602.mp3/home/mayur/mayank/Error-Driven-ASR-Personalization/mozilla/cv-corpus-7.0-2021-07-21/en/clips/common_voice_en_192824.mp3\n",
      "\n"
     ]
    },
    {
     "name": "stderr",
     "output_type": "stream",
     "text": [
      "\r",
      "  1%|          | 34/3000 [00:04<05:46,  8.56it/s]"
     ]
    },
    {
     "name": "stdout",
     "output_type": "stream",
     "text": [
      "/home/mayur/mayank/Error-Driven-ASR-Personalization/mozilla/cv-corpus-7.0-2021-07-21/en/clips/common_voice_en_20730882.mp3\n",
      "/home/mayur/mayank/Error-Driven-ASR-Personalization/mozilla/cv-corpus-7.0-2021-07-21/en/clips/common_voice_en_18012402.mp3\n"
     ]
    },
    {
     "name": "stderr",
     "output_type": "stream",
     "text": [
      "\r",
      "  1%|▏         | 44/3000 [00:05<05:52,  8.38it/s]"
     ]
    },
    {
     "name": "stdout",
     "output_type": "stream",
     "text": [
      "/home/mayur/mayank/Error-Driven-ASR-Personalization/mozilla/cv-corpus-7.0-2021-07-21/en/clips/common_voice_en_18118184.mp3\n"
     ]
    },
    {
     "name": "stderr",
     "output_type": "stream",
     "text": [
      "\r",
      "  2%|▏         | 52/2169 [00:05<03:13, 10.97it/s]"
     ]
    },
    {
     "name": "stdout",
     "output_type": "stream",
     "text": [
      "/home/mayur/mayank/Error-Driven-ASR-Personalization/mozilla/cv-corpus-7.0-2021-07-21/en/clips/common_voice_en_19727704.mp3\n"
     ]
    },
    {
     "name": "stderr",
     "output_type": "stream",
     "text": [
      "\r",
      "  1%|          | 35/3000 [00:05<06:21,  7.77it/s]"
     ]
    },
    {
     "name": "stdout",
     "output_type": "stream",
     "text": [
      "/home/mayur/mayank/Error-Driven-ASR-Personalization/mozilla/cv-corpus-7.0-2021-07-21/en/clips/common_voice_en_19791317.mp3"
     ]
    },
    {
     "name": "stderr",
     "output_type": "stream",
     "text": [
      "  1%|          | 31/3000 [00:05<06:31,  7.58it/s]"
     ]
    },
    {
     "name": "stdout",
     "output_type": "stream",
     "text": [
      "/home/mayur/mayank/Error-Driven-ASR-Personalization/mozilla/cv-corpus-7.0-2021-07-21/en/clips/common_voice_en_500000.mp3"
     ]
    },
    {
     "name": "stderr",
     "output_type": "stream",
     "text": [
      "\r",
      "  1%|          | 34/3000 [00:05<07:24,  6.67it/s]"
     ]
    },
    {
     "name": "stdout",
     "output_type": "stream",
     "text": [
      "\n"
     ]
    },
    {
     "name": "stderr",
     "output_type": "stream",
     "text": [
      "\r",
      "  1%|          | 33/3000 [00:04<06:56,  7.13it/s]"
     ]
    },
    {
     "name": "stdout",
     "output_type": "stream",
     "text": [
      "/home/mayur/mayank/Error-Driven-ASR-Personalization/mozilla/cv-corpus-7.0-2021-07-21/en/clips/common_voice_en_480679.mp3/home/mayur/mayank/Error-Driven-ASR-Personalization/mozilla/cv-corpus-7.0-2021-07-21/en/clips/common_voice_en_674656.mp3/home/mayur/mayank/Error-Driven-ASR-Personalization/mozilla/cv-corpus-7.0-2021-07-21/en/clips/common_voice_en_660533.mp3/home/mayur/mayank/Error-Driven-ASR-Personalization/mozilla/cv-corpus-7.0-2021-07-21/en/clips/common_voice_en_17799201.mp3\n",
      "/home/mayur/mayank/Error-Driven-ASR-Personalization/mozilla/cv-corpus-7.0-2021-07-21/en/clips/common_voice_en_591899.mp3/home/mayur/mayank/Error-Driven-ASR-Personalization/mozilla/cv-corpus-7.0-2021-07-21/en/clips/common_voice_en_27157140.mp3/home/mayur/mayank/Error-Driven-ASR-Personalization/mozilla/cv-corpus-7.0-2021-07-21/en/clips/common_voice_en_20114803.mp3\n",
      "\n",
      "\n",
      "\n",
      "\n",
      "\n",
      "\n"
     ]
    },
    {
     "name": "stderr",
     "output_type": "stream",
     "text": [
      "\r",
      "  2%|▏         | 54/2169 [00:05<03:02, 11.58it/s]"
     ]
    },
    {
     "name": "stdout",
     "output_type": "stream",
     "text": [
      "/home/mayur/mayank/Error-Driven-ASR-Personalization/mozilla/cv-corpus-7.0-2021-07-21/en/clips/common_voice_en_20040261.mp3\n"
     ]
    },
    {
     "name": "stderr",
     "output_type": "stream",
     "text": [
      "\r",
      "  2%|▏         | 46/3000 [00:05<05:11,  9.47it/s]"
     ]
    },
    {
     "name": "stdout",
     "output_type": "stream",
     "text": [
      "/home/mayur/mayank/Error-Driven-ASR-Personalization/mozilla/cv-corpus-7.0-2021-07-21/en/clips/common_voice_en_48748.mp3\n"
     ]
    },
    {
     "name": "stderr",
     "output_type": "stream",
     "text": [
      "  1%|          | 35/3000 [00:05<07:16,  6.79it/s]"
     ]
    },
    {
     "name": "stdout",
     "output_type": "stream",
     "text": [
      "/home/mayur/mayank/Error-Driven-ASR-Personalization/mozilla/cv-corpus-7.0-2021-07-21/en/clips/common_voice_en_20132829.mp3"
     ]
    },
    {
     "name": "stderr",
     "output_type": "stream",
     "text": [
      "\r",
      "  3%|▎         | 43/1598 [00:05<03:18,  7.83it/s]"
     ]
    },
    {
     "name": "stdout",
     "output_type": "stream",
     "text": [
      "/home/mayur/mayank/Error-Driven-ASR-Personalization/mozilla/cv-corpus-7.0-2021-07-21/en/clips/common_voice_en_20008667.mp3/home/mayur/mayank/Error-Driven-ASR-Personalization/mozilla/cv-corpus-7.0-2021-07-21/en/clips/common_voice_en_19796423.mp3/home/mayur/mayank/Error-Driven-ASR-Personalization/mozilla/cv-corpus-7.0-2021-07-21/en/clips/common_voice_en_22293582.mp3\n",
      "/home/mayur/mayank/Error-Driven-ASR-Personalization/mozilla/cv-corpus-7.0-2021-07-21/en/clips/common_voice_en_31101.mp3\n",
      "\n",
      "\n",
      "\n"
     ]
    },
    {
     "name": "stderr",
     "output_type": "stream",
     "text": [
      "  1%|▏         | 38/3000 [00:05<06:34,  7.50it/s]"
     ]
    },
    {
     "name": "stdout",
     "output_type": "stream",
     "text": [
      "/home/mayur/mayank/Error-Driven-ASR-Personalization/mozilla/cv-corpus-7.0-2021-07-21/en/clips/common_voice_en_21671099.mp3/home/mayur/mayank/Error-Driven-ASR-Personalization/mozilla/cv-corpus-7.0-2021-07-21/en/clips/common_voice_en_20303516.mp3\n",
      "\n",
      "/home/mayur/mayank/Error-Driven-ASR-Personalization/mozilla/cv-corpus-7.0-2021-07-21/en/clips/common_voice_en_23622595.mp3/home/mayur/mayank/Error-Driven-ASR-Personalization/mozilla/cv-corpus-7.0-2021-07-21/en/clips/common_voice_en_20057334.mp3\n",
      "\n",
      "/home/mayur/mayank/Error-Driven-ASR-Personalization/mozilla/cv-corpus-7.0-2021-07-21/en/clips/common_voice_en_19260840.mp3/home/mayur/mayank/Error-Driven-ASR-Personalization/mozilla/cv-corpus-7.0-2021-07-21/en/clips/common_voice_en_22262672.mp3\n",
      "\n",
      "/home/mayur/mayank/Error-Driven-ASR-Personalization/mozilla/cv-corpus-7.0-2021-07-21/en/clips/common_voice_en_614455.mp3\n"
     ]
    },
    {
     "name": "stderr",
     "output_type": "stream",
     "text": [
      "\r",
      "  1%|          | 36/3000 [00:05<06:41,  7.38it/s]"
     ]
    },
    {
     "name": "stdout",
     "output_type": "stream",
     "text": [
      "/home/mayur/mayank/Error-Driven-ASR-Personalization/mozilla/cv-corpus-7.0-2021-07-21/en/clips/common_voice_en_18302468.mp3\n"
     ]
    },
    {
     "name": "stderr",
     "output_type": "stream",
     "text": [
      "  1%|          | 35/3000 [00:05<06:26,  7.67it/s]"
     ]
    },
    {
     "name": "stdout",
     "output_type": "stream",
     "text": [
      "/home/mayur/mayank/Error-Driven-ASR-Personalization/mozilla/cv-corpus-7.0-2021-07-21/en/clips/common_voice_en_26000313.mp3/home/mayur/mayank/Error-Driven-ASR-Personalization/mozilla/cv-corpus-7.0-2021-07-21/en/clips/common_voice_en_17941014.mp3\n",
      "\n"
     ]
    },
    {
     "name": "stderr",
     "output_type": "stream",
     "text": [
      "\r",
      "  1%|▏         | 39/3000 [00:05<06:11,  7.97it/s]"
     ]
    },
    {
     "name": "stdout",
     "output_type": "stream",
     "text": [
      "/home/mayur/mayank/Error-Driven-ASR-Personalization/mozilla/cv-corpus-7.0-2021-07-21/en/clips/common_voice_en_21998379.mp3"
     ]
    },
    {
     "name": "stderr",
     "output_type": "stream",
     "text": [
      "\r",
      "  2%|▏         | 48/3000 [00:05<04:32, 10.85it/s]"
     ]
    },
    {
     "name": "stdout",
     "output_type": "stream",
     "text": [
      "\n",
      "/home/mayur/mayank/Error-Driven-ASR-Personalization/mozilla/cv-corpus-7.0-2021-07-21/en/clips/common_voice_en_24883633.mp3"
     ]
    },
    {
     "name": "stderr",
     "output_type": "stream",
     "text": [
      "\r",
      "  3%|▎         | 56/2169 [00:05<02:55, 12.06it/s]"
     ]
    },
    {
     "name": "stdout",
     "output_type": "stream",
     "text": [
      "\n",
      "/home/mayur/mayank/Error-Driven-ASR-Personalization/mozilla/cv-corpus-7.0-2021-07-21/en/clips/common_voice_en_656353.mp3\n"
     ]
    },
    {
     "name": "stderr",
     "output_type": "stream",
     "text": [
      "\r",
      "  3%|▎         | 45/1598 [00:05<02:54,  8.89it/s]"
     ]
    },
    {
     "name": "stdout",
     "output_type": "stream",
     "text": [
      "/home/mayur/mayank/Error-Driven-ASR-Personalization/mozilla/cv-corpus-7.0-2021-07-21/en/clips/common_voice_en_21786202.mp3\n",
      "/home/mayur/mayank/Error-Driven-ASR-Personalization/mozilla/cv-corpus-7.0-2021-07-21/en/clips/common_voice_en_656352.mp3\n"
     ]
    },
    {
     "name": "stderr",
     "output_type": "stream",
     "text": [
      "\r",
      "  3%|▎         | 58/2169 [00:05<02:40, 13.19it/s]"
     ]
    },
    {
     "name": "stdout",
     "output_type": "stream",
     "text": [
      "/home/mayur/mayank/Error-Driven-ASR-Personalization/mozilla/cv-corpus-7.0-2021-07-21/en/clips/common_voice_en_22355827.mp3/home/mayur/mayank/Error-Driven-ASR-Personalization/mozilla/cv-corpus-7.0-2021-07-21/en/clips/common_voice_en_17256521.mp3"
     ]
    },
    {
     "name": "stderr",
     "output_type": "stream",
     "text": [
      "\r",
      "  1%|▏         | 38/3000 [00:05<06:08,  8.04it/s]"
     ]
    },
    {
     "name": "stdout",
     "output_type": "stream",
     "text": [
      "/home/mayur/mayank/Error-Driven-ASR-Personalization/mozilla/cv-corpus-7.0-2021-07-21/en/clips/common_voice_en_20040097.mp3\n",
      "\n"
     ]
    },
    {
     "name": "stderr",
     "output_type": "stream",
     "text": [
      "  1%|          | 34/3000 [00:05<06:16,  7.89it/s]"
     ]
    },
    {
     "name": "stdout",
     "output_type": "stream",
     "text": [
      "/home/mayur/mayank/Error-Driven-ASR-Personalization/mozilla/cv-corpus-7.0-2021-07-21/en/clips/common_voice_en_19589397.mp3\n"
     ]
    },
    {
     "name": "stderr",
     "output_type": "stream",
     "text": [
      "  1%|          | 36/3000 [00:05<06:24,  7.71it/s]"
     ]
    },
    {
     "name": "stdout",
     "output_type": "stream",
     "text": [
      "/home/mayur/mayank/Error-Driven-ASR-Personalization/mozilla/cv-corpus-7.0-2021-07-21/en/clips/common_voice_en_18707507.mp3"
     ]
    },
    {
     "name": "stderr",
     "output_type": "stream",
     "text": [
      "\r",
      "  1%|          | 34/3000 [00:05<06:13,  7.95it/s]"
     ]
    },
    {
     "name": "stdout",
     "output_type": "stream",
     "text": [
      "/home/mayur/mayank/Error-Driven-ASR-Personalization/mozilla/cv-corpus-7.0-2021-07-21/en/clips/common_voice_en_25355627.mp3\n",
      "\n",
      "/home/mayur/mayank/Error-Driven-ASR-Personalization/mozilla/cv-corpus-7.0-2021-07-21/en/clips/common_voice_en_14819.mp3/home/mayur/mayank/Error-Driven-ASR-Personalization/mozilla/cv-corpus-7.0-2021-07-21/en/clips/common_voice_en_23917867.mp3\n",
      "/home/mayur/mayank/Error-Driven-ASR-Personalization/mozilla/cv-corpus-7.0-2021-07-21/en/clips/common_voice_en_20867273.mp3\n",
      "\n",
      "\n",
      "/home/mayur/mayank/Error-Driven-ASR-Personalization/mozilla/cv-corpus-7.0-2021-07-21/en/clips/common_voice_en_20040045.mp3"
     ]
    },
    {
     "name": "stderr",
     "output_type": "stream",
     "text": [
      "\r",
      "  3%|▎         | 47/1598 [00:05<02:36,  9.92it/s]"
     ]
    },
    {
     "name": "stdout",
     "output_type": "stream",
     "text": [
      "/home/mayur/mayank/Error-Driven-ASR-Personalization/mozilla/cv-corpus-7.0-2021-07-21/en/clips/common_voice_en_19645898.mp3/home/mayur/mayank/Error-Driven-ASR-Personalization/mozilla/cv-corpus-7.0-2021-07-21/en/clips/common_voice_en_19132487.mp3\n"
     ]
    },
    {
     "name": "stderr",
     "output_type": "stream",
     "text": [
      "\r",
      "  2%|▏         | 50/3000 [00:05<04:46, 10.29it/s]"
     ]
    },
    {
     "name": "stdout",
     "output_type": "stream",
     "text": [
      "\n",
      "/home/mayur/mayank/Error-Driven-ASR-Personalization/mozilla/cv-corpus-7.0-2021-07-21/en/clips/common_voice_en_25970677.mp3/home/mayur/mayank/Error-Driven-ASR-Personalization/mozilla/cv-corpus-7.0-2021-07-21/en/clips/common_voice_en_17860939.mp3\n",
      "/home/mayur/mayank/Error-Driven-ASR-Personalization/mozilla/cv-corpus-7.0-2021-07-21/en/clips/common_voice_en_5194361.mp3\n",
      "\n",
      "\n"
     ]
    },
    {
     "name": "stderr",
     "output_type": "stream",
     "text": [
      "  1%|▏         | 38/3000 [00:05<06:09,  8.01it/s]"
     ]
    },
    {
     "name": "stdout",
     "output_type": "stream",
     "text": [
      "/home/mayur/mayank/Error-Driven-ASR-Personalization/mozilla/cv-corpus-7.0-2021-07-21/en/clips/common_voice_en_19625806.mp3/home/mayur/mayank/Error-Driven-ASR-Personalization/mozilla/cv-corpus-7.0-2021-07-21/en/clips/common_voice_en_22395826.mp3\n",
      "\n"
     ]
    },
    {
     "name": "stderr",
     "output_type": "stream",
     "text": [
      "\r",
      "  1%|          | 35/3000 [00:05<06:09,  8.03it/s]"
     ]
    },
    {
     "name": "stdout",
     "output_type": "stream",
     "text": [
      "/home/mayur/mayank/Error-Driven-ASR-Personalization/mozilla/cv-corpus-7.0-2021-07-21/en/clips/common_voice_en_25459061.mp3\n",
      "/home/mayur/mayank/Error-Driven-ASR-Personalization/mozilla/cv-corpus-7.0-2021-07-21/en/clips/common_voice_en_25170658.mp3\n"
     ]
    },
    {
     "name": "stderr",
     "output_type": "stream",
     "text": [
      "  3%|▎         | 60/2169 [00:05<03:05, 11.36it/s]"
     ]
    },
    {
     "name": "stdout",
     "output_type": "stream",
     "text": [
      "/home/mayur/mayank/Error-Driven-ASR-Personalization/mozilla/cv-corpus-7.0-2021-07-21/en/clips/common_voice_en_20136166.mp3"
     ]
    },
    {
     "name": "stderr",
     "output_type": "stream",
     "text": [
      "\r",
      "  1%|▏         | 38/3000 [00:05<06:05,  8.11it/s]"
     ]
    },
    {
     "name": "stdout",
     "output_type": "stream",
     "text": [
      "/home/mayur/mayank/Error-Driven-ASR-Personalization/mozilla/cv-corpus-7.0-2021-07-21/en/clips/common_voice_en_18570631.mp3/home/mayur/mayank/Error-Driven-ASR-Personalization/mozilla/cv-corpus-7.0-2021-07-21/en/clips/common_voice_en_25947633.mp3\n",
      "/home/mayur/mayank/Error-Driven-ASR-Personalization/mozilla/cv-corpus-7.0-2021-07-21/en/clips/common_voice_en_638925.mp3"
     ]
    },
    {
     "name": "stderr",
     "output_type": "stream",
     "text": [
      "\r",
      "  1%|          | 36/3000 [00:05<06:01,  8.19it/s]"
     ]
    },
    {
     "name": "stdout",
     "output_type": "stream",
     "text": [
      "\n",
      "/home/mayur/mayank/Error-Driven-ASR-Personalization/mozilla/cv-corpus-7.0-2021-07-21/en/clips/common_voice_en_22672362.mp3\n",
      "\n",
      "/home/mayur/mayank/Error-Driven-ASR-Personalization/mozilla/cv-corpus-7.0-2021-07-21/en/clips/common_voice_en_17860907.mp3/home/mayur/mayank/Error-Driven-ASR-Personalization/mozilla/cv-corpus-7.0-2021-07-21/en/clips/common_voice_en_19260609.mp3\n",
      "\n",
      "\n"
     ]
    },
    {
     "name": "stderr",
     "output_type": "stream",
     "text": [
      "  2%|▏         | 52/3000 [00:05<04:34, 10.75it/s]"
     ]
    },
    {
     "name": "stdout",
     "output_type": "stream",
     "text": [
      "/home/mayur/mayank/Error-Driven-ASR-Personalization/mozilla/cv-corpus-7.0-2021-07-21/en/clips/common_voice_en_23817421.mp3/home/mayur/mayank/Error-Driven-ASR-Personalization/mozilla/cv-corpus-7.0-2021-07-21/en/clips/common_voice_en_18884107.mp3\n",
      "\n"
     ]
    },
    {
     "name": "stderr",
     "output_type": "stream",
     "text": [
      "\r",
      "  1%|          | 37/3000 [00:05<05:45,  8.57it/s]"
     ]
    },
    {
     "name": "stdout",
     "output_type": "stream",
     "text": [
      "/home/mayur/mayank/Error-Driven-ASR-Personalization/mozilla/cv-corpus-7.0-2021-07-21/en/clips/common_voice_en_25456957.mp3/home/mayur/mayank/Error-Driven-ASR-Personalization/mozilla/cv-corpus-7.0-2021-07-21/en/clips/common_voice_en_23930413.mp3"
     ]
    },
    {
     "name": "stderr",
     "output_type": "stream",
     "text": [
      "\r",
      "  1%|▏         | 43/3000 [00:05<05:46,  8.53it/s]"
     ]
    },
    {
     "name": "stdout",
     "output_type": "stream",
     "text": [
      "\n"
     ]
    },
    {
     "name": "stderr",
     "output_type": "stream",
     "text": [
      "\r",
      "  3%|▎         | 49/1598 [00:05<02:46,  9.28it/s]"
     ]
    },
    {
     "name": "stdout",
     "output_type": "stream",
     "text": [
      "/home/mayur/mayank/Error-Driven-ASR-Personalization/mozilla/cv-corpus-7.0-2021-07-21/en/clips/common_voice_en_18840309.mp3\n",
      "/home/mayur/mayank/Error-Driven-ASR-Personalization/mozilla/cv-corpus-7.0-2021-07-21/en/clips/common_voice_en_22322502.mp3"
     ]
    },
    {
     "name": "stderr",
     "output_type": "stream",
     "text": [
      "\r",
      "  1%|▏         | 41/3000 [00:05<05:50,  8.43it/s]"
     ]
    },
    {
     "name": "stdout",
     "output_type": "stream",
     "text": [
      "\n",
      "\n",
      "/home/mayur/mayank/Error-Driven-ASR-Personalization/mozilla/cv-corpus-7.0-2021-07-21/en/clips/common_voice_en_20124537.mp3\n"
     ]
    },
    {
     "name": "stderr",
     "output_type": "stream",
     "text": [
      "\r",
      "  1%|▏         | 39/3000 [00:05<05:57,  8.27it/s]"
     ]
    },
    {
     "name": "stdout",
     "output_type": "stream",
     "text": [
      "/home/mayur/mayank/Error-Driven-ASR-Personalization/mozilla/cv-corpus-7.0-2021-07-21/en/clips/common_voice_en_20053645.mp3\n"
     ]
    },
    {
     "name": "stderr",
     "output_type": "stream",
     "text": [
      "\r",
      "  1%|          | 37/3000 [00:05<05:57,  8.28it/s]"
     ]
    },
    {
     "name": "stdout",
     "output_type": "stream",
     "text": [
      "/home/mayur/mayank/Error-Driven-ASR-Personalization/mozilla/cv-corpus-7.0-2021-07-21/en/clips/common_voice_en_22061157.mp3\n"
     ]
    },
    {
     "name": "stderr",
     "output_type": "stream",
     "text": [
      "\r",
      "  1%|▏         | 40/3000 [00:05<06:16,  7.86it/s]"
     ]
    },
    {
     "name": "stdout",
     "output_type": "stream",
     "text": [
      "/home/mayur/mayank/Error-Driven-ASR-Personalization/mozilla/cv-corpus-7.0-2021-07-21/en/clips/common_voice_en_25153051.mp3/home/mayur/mayank/Error-Driven-ASR-Personalization/mozilla/cv-corpus-7.0-2021-07-21/en/clips/common_voice_en_19728274.mp3\n",
      "\n",
      "/home/mayur/mayank/Error-Driven-ASR-Personalization/mozilla/cv-corpus-7.0-2021-07-21/en/clips/common_voice_en_25969717.mp3\n",
      "/home/mayur/mayank/Error-Driven-ASR-Personalization/mozilla/cv-corpus-7.0-2021-07-21/en/clips/common_voice_en_637478.mp3/home/mayur/mayank/Error-Driven-ASR-Personalization/mozilla/cv-corpus-7.0-2021-07-21/en/clips/common_voice_en_27144211.mp3"
     ]
    },
    {
     "name": "stderr",
     "output_type": "stream",
     "text": [
      "  1%|▏         | 38/3000 [00:05<05:41,  8.68it/s]"
     ]
    },
    {
     "name": "stdout",
     "output_type": "stream",
     "text": [
      "\n"
     ]
    },
    {
     "name": "stderr",
     "output_type": "stream",
     "text": [
      "  1%|▏         | 44/3000 [00:05<05:41,  8.66it/s]"
     ]
    },
    {
     "name": "stdout",
     "output_type": "stream",
     "text": [
      "\n",
      "/home/mayur/mayank/Error-Driven-ASR-Personalization/mozilla/cv-corpus-7.0-2021-07-21/en/clips/common_voice_en_20040313.mp3/home/mayur/mayank/Error-Driven-ASR-Personalization/mozilla/cv-corpus-7.0-2021-07-21/en/clips/common_voice_en_591912.mp3/home/mayur/mayank/Error-Driven-ASR-Personalization/mozilla/cv-corpus-7.0-2021-07-21/en/clips/common_voice_en_17816564.mp3/home/mayur/mayank/Error-Driven-ASR-Personalization/mozilla/cv-corpus-7.0-2021-07-21/en/clips/common_voice_en_31251.mp3\n",
      "\n",
      "\n",
      "\n"
     ]
    },
    {
     "name": "stderr",
     "output_type": "stream",
     "text": [
      "  2%|▏         | 54/3000 [00:05<04:34, 10.73it/s]"
     ]
    },
    {
     "name": "stdout",
     "output_type": "stream",
     "text": [
      "/home/mayur/mayank/Error-Driven-ASR-Personalization/mozilla/cv-corpus-7.0-2021-07-21/en/clips/common_voice_en_614472.mp3/home/mayur/mayank/Error-Driven-ASR-Personalization/mozilla/cv-corpus-7.0-2021-07-21/en/clips/common_voice_en_17391861.mp3\n",
      "\n",
      "/home/mayur/mayank/Error-Driven-ASR-Personalization/mozilla/cv-corpus-7.0-2021-07-21/en/clips/common_voice_en_22938246.mp3/home/mayur/mayank/Error-Driven-ASR-Personalization/mozilla/cv-corpus-7.0-2021-07-21/en/clips/common_voice_en_25947583.mp3"
     ]
    },
    {
     "name": "stderr",
     "output_type": "stream",
     "text": [
      "\r",
      "  1%|▏         | 39/3000 [00:06<05:36,  8.80it/s]"
     ]
    },
    {
     "name": "stdout",
     "output_type": "stream",
     "text": [
      "\n"
     ]
    },
    {
     "name": "stderr",
     "output_type": "stream",
     "text": [
      "\r",
      "  1%|▏         | 39/3000 [00:05<05:35,  8.82it/s]"
     ]
    },
    {
     "name": "stdout",
     "output_type": "stream",
     "text": [
      "\n",
      "/home/mayur/mayank/Error-Driven-ASR-Personalization/mozilla/cv-corpus-7.0-2021-07-21/en/clips/common_voice_en_18845496.mp3"
     ]
    },
    {
     "name": "stderr",
     "output_type": "stream",
     "text": [
      "\r",
      "  1%|▏         | 41/3000 [00:05<05:39,  8.71it/s]"
     ]
    },
    {
     "name": "stdout",
     "output_type": "stream",
     "text": [
      "\n",
      "/home/mayur/mayank/Error-Driven-ASR-Personalization/mozilla/cv-corpus-7.0-2021-07-21/en/clips/common_voice_en_17765621.mp3/home/mayur/mayank/Error-Driven-ASR-Personalization/mozilla/cv-corpus-7.0-2021-07-21/en/clips/common_voice_en_19142323.mp3\n"
     ]
    },
    {
     "name": "stderr",
     "output_type": "stream",
     "text": [
      "\r",
      "  1%|▏         | 43/3000 [00:06<05:39,  8.71it/s]"
     ]
    },
    {
     "name": "stdout",
     "output_type": "stream",
     "text": [
      "\n",
      "/home/mayur/mayank/Error-Driven-ASR-Personalization/mozilla/cv-corpus-7.0-2021-07-21/en/clips/common_voice_en_19286482.mp3\n"
     ]
    },
    {
     "name": "stderr",
     "output_type": "stream",
     "text": [
      "  3%|▎         | 51/1598 [00:06<02:49,  9.13it/s]"
     ]
    },
    {
     "name": "stdout",
     "output_type": "stream",
     "text": [
      "/home/mayur/mayank/Error-Driven-ASR-Personalization/mozilla/cv-corpus-7.0-2021-07-21/en/clips/common_voice_en_594264.mp3/home/mayur/mayank/Error-Driven-ASR-Personalization/mozilla/cv-corpus-7.0-2021-07-21/en/clips/common_voice_en_17776724.mp3\n",
      "\n"
     ]
    },
    {
     "name": "stderr",
     "output_type": "stream",
     "text": [
      "\r",
      "  1%|▏         | 42/3000 [00:05<05:35,  8.81it/s]"
     ]
    },
    {
     "name": "stdout",
     "output_type": "stream",
     "text": [
      "/home/mayur/mayank/Error-Driven-ASR-Personalization/mozilla/cv-corpus-7.0-2021-07-21/en/clips/common_voice_en_23627828.mp3\n",
      "/home/mayur/mayank/Error-Driven-ASR-Personalization/mozilla/cv-corpus-7.0-2021-07-21/en/clips/common_voice_en_21273014.mp3"
     ]
    },
    {
     "name": "stderr",
     "output_type": "stream",
     "text": [
      "\r",
      "  3%|▎         | 64/2169 [00:06<03:19, 10.53it/s]"
     ]
    },
    {
     "name": "stdout",
     "output_type": "stream",
     "text": [
      "/home/mayur/mayank/Error-Driven-ASR-Personalization/mozilla/cv-corpus-7.0-2021-07-21/en/clips/common_voice_en_25721744.mp3\n",
      "/home/mayur/mayank/Error-Driven-ASR-Personalization/mozilla/cv-corpus-7.0-2021-07-21/en/clips/common_voice_en_22265009.mp3\n"
     ]
    },
    {
     "name": "stderr",
     "output_type": "stream",
     "text": [
      "\r",
      "  2%|▏         | 56/3000 [00:06<04:37, 10.61it/s]"
     ]
    },
    {
     "name": "stdout",
     "output_type": "stream",
     "text": [
      "\n",
      "/home/mayur/mayank/Error-Driven-ASR-Personalization/mozilla/cv-corpus-7.0-2021-07-21/en/clips/common_voice_en_22982287.mp3/home/mayur/mayank/Error-Driven-ASR-Personalization/mozilla/cv-corpus-7.0-2021-07-21/en/clips/common_voice_en_22168242.mp3/home/mayur/mayank/Error-Driven-ASR-Personalization/mozilla/cv-corpus-7.0-2021-07-21/en/clips/common_voice_en_17816554.mp3\n",
      "\n",
      "\n",
      "/home/mayur/mayank/Error-Driven-ASR-Personalization/mozilla/cv-corpus-7.0-2021-07-21/en/clips/common_voice_en_27217142.mp3\n"
     ]
    },
    {
     "name": "stderr",
     "output_type": "stream",
     "text": [
      "  1%|▏         | 43/3000 [00:06<05:27,  9.03it/s]"
     ]
    },
    {
     "name": "stdout",
     "output_type": "stream",
     "text": [
      "/home/mayur/mayank/Error-Driven-ASR-Personalization/mozilla/cv-corpus-7.0-2021-07-21/en/clips/common_voice_en_71354.mp3/home/mayur/mayank/Error-Driven-ASR-Personalization/mozilla/cv-corpus-7.0-2021-07-21/en/clips/common_voice_en_17733576.mp3\n",
      "\n",
      "/home/mayur/mayank/Error-Driven-ASR-Personalization/mozilla/cv-corpus-7.0-2021-07-21/en/clips/common_voice_en_24997773.mp3"
     ]
    },
    {
     "name": "stderr",
     "output_type": "stream",
     "text": [
      "\r",
      "  2%|▏         | 45/3000 [00:06<04:45, 10.37it/s]"
     ]
    },
    {
     "name": "stdout",
     "output_type": "stream",
     "text": [
      "\n",
      "/home/mayur/mayank/Error-Driven-ASR-Personalization/mozilla/cv-corpus-7.0-2021-07-21/en/clips/common_voice_en_624819.mp3\n"
     ]
    },
    {
     "name": "stderr",
     "output_type": "stream",
     "text": [
      "\r",
      "  1%|▏         | 41/3000 [00:06<04:51, 10.14it/s]"
     ]
    },
    {
     "name": "stdout",
     "output_type": "stream",
     "text": [
      "/home/mayur/mayank/Error-Driven-ASR-Personalization/mozilla/cv-corpus-7.0-2021-07-21/en/clips/common_voice_en_25456518.mp3\n",
      "/home/mayur/mayank/Error-Driven-ASR-Personalization/mozilla/cv-corpus-7.0-2021-07-21/en/clips/common_voice_en_23954342.mp3\n"
     ]
    },
    {
     "name": "stderr",
     "output_type": "stream",
     "text": [
      "\r",
      "  3%|▎         | 66/2169 [00:06<02:58, 11.76it/s]"
     ]
    },
    {
     "name": "stdout",
     "output_type": "stream",
     "text": [
      "/home/mayur/mayank/Error-Driven-ASR-Personalization/mozilla/cv-corpus-7.0-2021-07-21/en/clips/common_voice_en_21087884.mp3\n"
     ]
    },
    {
     "name": "stderr",
     "output_type": "stream",
     "text": [
      "\r",
      "  3%|▎         | 53/1598 [00:06<02:45,  9.35it/s]"
     ]
    },
    {
     "name": "stdout",
     "output_type": "stream",
     "text": [
      "/home/mayur/mayank/Error-Driven-ASR-Personalization/mozilla/cv-corpus-7.0-2021-07-21/en/clips/common_voice_en_21759847.mp3\n",
      "/home/mayur/mayank/Error-Driven-ASR-Personalization/mozilla/cv-corpus-7.0-2021-07-21/en/clips/common_voice_en_23628431.mp3\n"
     ]
    },
    {
     "name": "stderr",
     "output_type": "stream",
     "text": [
      "  1%|▏         | 43/3000 [00:06<05:57,  8.28it/s]"
     ]
    },
    {
     "name": "stdout",
     "output_type": "stream",
     "text": [
      "/home/mayur/mayank/Error-Driven-ASR-Personalization/mozilla/cv-corpus-7.0-2021-07-21/en/clips/common_voice_en_19513726.mp3"
     ]
    },
    {
     "name": "stderr",
     "output_type": "stream",
     "text": [
      "\r",
      "  2%|▏         | 47/3000 [00:06<05:51,  8.40it/s]"
     ]
    },
    {
     "name": "stdout",
     "output_type": "stream",
     "text": [
      "/home/mayur/mayank/Error-Driven-ASR-Personalization/mozilla/cv-corpus-7.0-2021-07-21/en/clips/common_voice_en_18468305.mp3/home/mayur/mayank/Error-Driven-ASR-Personalization/mozilla/cv-corpus-7.0-2021-07-21/en/clips/common_voice_en_18276305.mp3\n",
      "/home/mayur/mayank/Error-Driven-ASR-Personalization/mozilla/cv-corpus-7.0-2021-07-21/en/clips/common_voice_en_15904884.mp3\n",
      "\n",
      "\n",
      "/home/mayur/mayank/Error-Driven-ASR-Personalization/mozilla/cv-corpus-7.0-2021-07-21/en/clips/common_voice_en_20057448.mp3\n",
      "/home/mayur/mayank/Error-Driven-ASR-Personalization/mozilla/cv-corpus-7.0-2021-07-21/en/clips/common_voice_en_19260590.mp3/home/mayur/mayank/Error-Driven-ASR-Personalization/mozilla/cv-corpus-7.0-2021-07-21/en/clips/common_voice_en_26053329.mp3"
     ]
    },
    {
     "name": "stderr",
     "output_type": "stream",
     "text": [
      "\r",
      "  2%|▏         | 45/3000 [00:06<05:13,  9.43it/s]"
     ]
    },
    {
     "name": "stdout",
     "output_type": "stream",
     "text": [
      "\n",
      "\n",
      "/home/mayur/mayank/Error-Driven-ASR-Personalization/mozilla/cv-corpus-7.0-2021-07-21/en/clips/common_voice_en_22262336.mp3\n",
      "/home/mayur/mayank/Error-Driven-ASR-Personalization/mozilla/cv-corpus-7.0-2021-07-21/en/clips/common_voice_en_654085.mp3\n"
     ]
    },
    {
     "name": "stderr",
     "output_type": "stream",
     "text": [
      "\r",
      "  2%|▏         | 47/3000 [00:06<05:03,  9.73it/s]"
     ]
    },
    {
     "name": "stdout",
     "output_type": "stream",
     "text": [
      "/home/mayur/mayank/Error-Driven-ASR-Personalization/mozilla/cv-corpus-7.0-2021-07-21/en/clips/common_voice_en_19439911.mp3\n"
     ]
    },
    {
     "name": "stderr",
     "output_type": "stream",
     "text": [
      "  1%|▏         | 44/3000 [00:06<06:06,  8.06it/s]"
     ]
    },
    {
     "name": "stdout",
     "output_type": "stream",
     "text": [
      "/home/mayur/mayank/Error-Driven-ASR-Personalization/mozilla/cv-corpus-7.0-2021-07-21/en/clips/common_voice_en_20532052.mp3/home/mayur/mayank/Error-Driven-ASR-Personalization/mozilla/cv-corpus-7.0-2021-07-21/en/clips/common_voice_en_22165868.mp3/home/mayur/mayank/Error-Driven-ASR-Personalization/mozilla/cv-corpus-7.0-2021-07-21/en/clips/common_voice_en_18420184.mp3/home/mayur/mayank/Error-Driven-ASR-Personalization/mozilla/cv-corpus-7.0-2021-07-21/en/clips/common_voice_en_25459107.mp3"
     ]
    },
    {
     "name": "stderr",
     "output_type": "stream",
     "text": [
      "  2%|▏         | 48/3000 [00:06<06:02,  8.15it/s]"
     ]
    },
    {
     "name": "stdout",
     "output_type": "stream",
     "text": [
      "\n",
      "\n",
      "\n",
      "\n",
      "/home/mayur/mayank/Error-Driven-ASR-Personalization/mozilla/cv-corpus-7.0-2021-07-21/en/clips/common_voice_en_17787316.mp3/home/mayur/mayank/Error-Driven-ASR-Personalization/mozilla/cv-corpus-7.0-2021-07-21/en/clips/common_voice_en_18816294.mp3\n",
      "\n",
      "/home/mayur/mayank/Error-Driven-ASR-Personalization/mozilla/cv-corpus-7.0-2021-07-21/en/clips/common_voice_en_22276774.mp3\n",
      "/home/mayur/mayank/Error-Driven-ASR-Personalization/mozilla/cv-corpus-7.0-2021-07-21/en/clips/common_voice_en_15710.mp3\n",
      "/home/mayur/mayank/Error-Driven-ASR-Personalization/mozilla/cv-corpus-7.0-2021-07-21/en/clips/common_voice_en_25712034.mp3"
     ]
    },
    {
     "name": "stderr",
     "output_type": "stream",
     "text": [
      "\r",
      "  1%|▏         | 43/3000 [00:06<05:23,  9.14it/s]"
     ]
    },
    {
     "name": "stdout",
     "output_type": "stream",
     "text": [
      "\n",
      "/home/mayur/mayank/Error-Driven-ASR-Personalization/mozilla/cv-corpus-7.0-2021-07-21/en/clips/common_voice_en_20900415.mp3\n",
      "/home/mayur/mayank/Error-Driven-ASR-Personalization/mozilla/cv-corpus-7.0-2021-07-21/en/clips/common_voice_en_19747908.mp3\n",
      "/home/mayur/mayank/Error-Driven-ASR-Personalization/mozilla/cv-corpus-7.0-2021-07-21/en/clips/common_voice_en_18518413.mp3\n",
      "/home/mayur/mayank/Error-Driven-ASR-Personalization/mozilla/cv-corpus-7.0-2021-07-21/en/clips/common_voice_en_21759867.mp3\n"
     ]
    },
    {
     "name": "stderr",
     "output_type": "stream",
     "text": [
      "  2%|▏         | 45/3000 [00:06<05:49,  8.46it/s]"
     ]
    },
    {
     "name": "stdout",
     "output_type": "stream",
     "text": [
      "/home/mayur/mayank/Error-Driven-ASR-Personalization/mozilla/cv-corpus-7.0-2021-07-21/en/clips/common_voice_en_22147655.mp3/home/mayur/mayank/Error-Driven-ASR-Personalization/mozilla/cv-corpus-7.0-2021-07-21/en/clips/common_voice_en_22707145.mp3\n",
      "\n"
     ]
    },
    {
     "name": "stderr",
     "output_type": "stream",
     "text": [
      "  2%|▏         | 47/3000 [00:06<04:59,  9.88it/s]"
     ]
    },
    {
     "name": "stdout",
     "output_type": "stream",
     "text": [
      "/home/mayur/mayank/Error-Driven-ASR-Personalization/mozilla/cv-corpus-7.0-2021-07-21/en/clips/common_voice_en_614568.mp3\n",
      "/home/mayur/mayank/Error-Driven-ASR-Personalization/mozilla/cv-corpus-7.0-2021-07-21/en/clips/common_voice_en_21476363.mp3\n",
      "/home/mayur/mayank/Error-Driven-ASR-Personalization/mozilla/cv-corpus-7.0-2021-07-21/en/clips/common_voice_en_19957483.mp3"
     ]
    },
    {
     "name": "stderr",
     "output_type": "stream",
     "text": [
      "\r",
      "  3%|▎         | 70/2169 [00:06<02:46, 12.62it/s]"
     ]
    },
    {
     "name": "stdout",
     "output_type": "stream",
     "text": [
      "\n",
      "/home/mayur/mayank/Error-Driven-ASR-Personalization/mozilla/cv-corpus-7.0-2021-07-21/en/clips/common_voice_en_22265057.mp3\n"
     ]
    },
    {
     "name": "stderr",
     "output_type": "stream",
     "text": [
      "\r",
      "  2%|▏         | 60/3000 [00:06<04:56,  9.90it/s]"
     ]
    },
    {
     "name": "stdout",
     "output_type": "stream",
     "text": [
      "/home/mayur/mayank/Error-Driven-ASR-Personalization/mozilla/cv-corpus-7.0-2021-07-21/en/clips/common_voice_en_21566475.mp3\n"
     ]
    },
    {
     "name": "stderr",
     "output_type": "stream",
     "text": [
      "\r",
      "  2%|▏         | 50/3000 [00:06<05:25,  9.05it/s]"
     ]
    },
    {
     "name": "stdout",
     "output_type": "stream",
     "text": [
      "/home/mayur/mayank/Error-Driven-ASR-Personalization/mozilla/cv-corpus-7.0-2021-07-21/en/clips/common_voice_en_23977139.mp3\n"
     ]
    },
    {
     "name": "stderr",
     "output_type": "stream",
     "text": [
      "\r",
      "  2%|▏         | 46/3000 [00:06<05:36,  8.77it/s]"
     ]
    },
    {
     "name": "stdout",
     "output_type": "stream",
     "text": [
      "/home/mayur/mayank/Error-Driven-ASR-Personalization/mozilla/cv-corpus-7.0-2021-07-21/en/clips/common_voice_en_19290161.mp3/home/mayur/mayank/Error-Driven-ASR-Personalization/mozilla/cv-corpus-7.0-2021-07-21/en/clips/common_voice_en_614902.mp3/home/mayur/mayank/Error-Driven-ASR-Personalization/mozilla/cv-corpus-7.0-2021-07-21/en/clips/common_voice_en_21250851.mp3/home/mayur/mayank/Error-Driven-ASR-Personalization/mozilla/cv-corpus-7.0-2021-07-21/en/clips/common_voice_en_22262248.mp3\n",
      "\n"
     ]
    },
    {
     "name": "stderr",
     "output_type": "stream",
     "text": [
      "  2%|▏         | 45/3000 [00:06<05:07,  9.60it/s]"
     ]
    },
    {
     "name": "stdout",
     "output_type": "stream",
     "text": [
      "\n",
      "\n",
      "/home/mayur/mayank/Error-Driven-ASR-Personalization/mozilla/cv-corpus-7.0-2021-07-21/en/clips/common_voice_en_17808881.mp3/home/mayur/mayank/Error-Driven-ASR-Personalization/mozilla/cv-corpus-7.0-2021-07-21/en/clips/common_voice_en_17355414.mp3\n",
      "\n",
      "/home/mayur/mayank/Error-Driven-ASR-Personalization/mozilla/cv-corpus-7.0-2021-07-21/en/clips/common_voice_en_23628552.mp3\n",
      "/home/mayur/mayank/Error-Driven-ASR-Personalization/mozilla/cv-corpus-7.0-2021-07-21/en/clips/common_voice_en_68729.mp3\n"
     ]
    },
    {
     "name": "stderr",
     "output_type": "stream",
     "text": [
      "\r",
      "  2%|▏         | 45/3000 [00:06<05:14,  9.39it/s]"
     ]
    },
    {
     "name": "stdout",
     "output_type": "stream",
     "text": [
      "/home/mayur/mayank/Error-Driven-ASR-Personalization/mozilla/cv-corpus-7.0-2021-07-21/en/clips/common_voice_en_24328979.mp3\n"
     ]
    },
    {
     "name": "stderr",
     "output_type": "stream",
     "text": [
      "\r",
      "  3%|▎         | 72/2169 [00:06<02:43, 12.86it/s]"
     ]
    },
    {
     "name": "stdout",
     "output_type": "stream",
     "text": [
      "/home/mayur/mayank/Error-Driven-ASR-Personalization/mozilla/cv-corpus-7.0-2021-07-21/en/clips/common_voice_en_22248913.mp3\n"
     ]
    },
    {
     "name": "stderr",
     "output_type": "stream",
     "text": [
      "\r",
      "  2%|▏         | 47/3000 [00:06<06:10,  7.97it/s]"
     ]
    },
    {
     "name": "stdout",
     "output_type": "stream",
     "text": [
      "/home/mayur/mayank/Error-Driven-ASR-Personalization/mozilla/cv-corpus-7.0-2021-07-21/en/clips/common_voice_en_21102835.mp3\n"
     ]
    },
    {
     "name": "stderr",
     "output_type": "stream",
     "text": [
      "\r",
      "  2%|▏         | 51/3000 [00:06<05:00,  9.80it/s]"
     ]
    },
    {
     "name": "stdout",
     "output_type": "stream",
     "text": [
      "/home/mayur/mayank/Error-Driven-ASR-Personalization/mozilla/cv-corpus-7.0-2021-07-21/en/clips/common_voice_en_20103418.mp3\n"
     ]
    },
    {
     "name": "stderr",
     "output_type": "stream",
     "text": [
      "  2%|▏         | 52/3000 [00:06<05:18,  9.25it/s]"
     ]
    },
    {
     "name": "stdout",
     "output_type": "stream",
     "text": [
      "/home/mayur/mayank/Error-Driven-ASR-Personalization/mozilla/cv-corpus-7.0-2021-07-21/en/clips/common_voice_en_610337.mp3/home/mayur/mayank/Error-Driven-ASR-Personalization/mozilla/cv-corpus-7.0-2021-07-21/en/clips/common_voice_en_27172732.mp3"
     ]
    },
    {
     "name": "stderr",
     "output_type": "stream",
     "text": [
      "  2%|▏         | 62/3000 [00:06<05:14,  9.34it/s]"
     ]
    },
    {
     "name": "stdout",
     "output_type": "stream",
     "text": [
      "/home/mayur/mayank/Error-Driven-ASR-Personalization/mozilla/cv-corpus-7.0-2021-07-21/en/clips/common_voice_en_15734327.mp3\n",
      "\n",
      "\n",
      "/home/mayur/mayank/Error-Driven-ASR-Personalization/mozilla/cv-corpus-7.0-2021-07-21/en/clips/common_voice_en_17272470.mp3/home/mayur/mayank/Error-Driven-ASR-Personalization/mozilla/cv-corpus-7.0-2021-07-21/en/clips/common_voice_en_558131.mp3\n",
      "\n",
      "/home/mayur/mayank/Error-Driven-ASR-Personalization/mozilla/cv-corpus-7.0-2021-07-21/en/clips/common_voice_en_21948843.mp3"
     ]
    },
    {
     "name": "stderr",
     "output_type": "stream",
     "text": [
      "\r",
      "  2%|▏         | 46/3000 [00:06<05:54,  8.33it/s]"
     ]
    },
    {
     "name": "stdout",
     "output_type": "stream",
     "text": [
      "\n",
      "/home/mayur/mayank/Error-Driven-ASR-Personalization/mozilla/cv-corpus-7.0-2021-07-21/en/clips/common_voice_en_537769.mp3\n",
      "/home/mayur/mayank/Error-Driven-ASR-Personalization/mozilla/cv-corpus-7.0-2021-07-21/en/clips/common_voice_en_106449.mp3\n"
     ]
    },
    {
     "name": "stderr",
     "output_type": "stream",
     "text": [
      "\r",
      "  2%|▏         | 48/3000 [00:06<05:50,  8.42it/s]"
     ]
    },
    {
     "name": "stdout",
     "output_type": "stream",
     "text": [
      "/home/mayur/mayank/Error-Driven-ASR-Personalization/mozilla/cv-corpus-7.0-2021-07-21/en/clips/common_voice_en_70970.mp3/home/mayur/mayank/Error-Driven-ASR-Personalization/mozilla/cv-corpus-7.0-2021-07-21/en/clips/common_voice_en_19150628.mp3/home/mayur/mayank/Error-Driven-ASR-Personalization/mozilla/cv-corpus-7.0-2021-07-21/en/clips/common_voice_en_19788241.mp3\n",
      "\n",
      "\n",
      "/home/mayur/mayank/Error-Driven-ASR-Personalization/mozilla/cv-corpus-7.0-2021-07-21/en/clips/common_voice_en_17737894.mp3\n",
      "/home/mayur/mayank/Error-Driven-ASR-Personalization/mozilla/cv-corpus-7.0-2021-07-21/en/clips/common_voice_en_26137749.mp3/home/mayur/mayank/Error-Driven-ASR-Personalization/mozilla/cv-corpus-7.0-2021-07-21/en/clips/common_voice_en_21765874.mp3"
     ]
    },
    {
     "name": "stderr",
     "output_type": "stream",
     "text": [
      "\r",
      "  3%|▎         | 74/2169 [00:06<03:02, 11.47it/s]"
     ]
    },
    {
     "name": "stdout",
     "output_type": "stream",
     "text": [
      "\n",
      "\n",
      "/home/mayur/mayank/Error-Driven-ASR-Personalization/mozilla/cv-corpus-7.0-2021-07-21/en/clips/common_voice_en_44718.mp3\n"
     ]
    },
    {
     "name": "stderr",
     "output_type": "stream",
     "text": [
      "\r",
      "  2%|▏         | 54/3000 [00:06<04:37, 10.63it/s]"
     ]
    },
    {
     "name": "stdout",
     "output_type": "stream",
     "text": [
      "/home/mayur/mayank/Error-Driven-ASR-Personalization/mozilla/cv-corpus-7.0-2021-07-21/en/clips/common_voice_en_18421352.mp3\n"
     ]
    },
    {
     "name": "stderr",
     "output_type": "stream",
     "text": [
      "  2%|▏         | 53/3000 [00:06<05:01,  9.77it/s]"
     ]
    },
    {
     "name": "stdout",
     "output_type": "stream",
     "text": [
      "/home/mayur/mayank/Error-Driven-ASR-Personalization/mozilla/cv-corpus-7.0-2021-07-21/en/clips/common_voice_en_21345567.mp3/home/mayur/mayank/Error-Driven-ASR-Personalization/mozilla/cv-corpus-7.0-2021-07-21/en/clips/common_voice_en_20122561.mp3\n",
      "\n"
     ]
    },
    {
     "name": "stderr",
     "output_type": "stream",
     "text": [
      "\r",
      "  2%|▏         | 64/3000 [00:07<05:20,  9.17it/s]"
     ]
    },
    {
     "name": "stdout",
     "output_type": "stream",
     "text": [
      "/home/mayur/mayank/Error-Driven-ASR-Personalization/mozilla/cv-corpus-7.0-2021-07-21/en/clips/common_voice_en_18518310.mp3\n",
      "/home/mayur/mayank/Error-Driven-ASR-Personalization/mozilla/cv-corpus-7.0-2021-07-21/en/clips/common_voice_en_22223922.mp3\n"
     ]
    },
    {
     "name": "stderr",
     "output_type": "stream",
     "text": [
      "\r",
      "  2%|▏         | 48/3000 [00:07<06:14,  7.88it/s]"
     ]
    },
    {
     "name": "stdout",
     "output_type": "stream",
     "text": [
      "/home/mayur/mayank/Error-Driven-ASR-Personalization/mozilla/cv-corpus-7.0-2021-07-21/en/clips/common_voice_en_663246.mp3/home/mayur/mayank/Error-Driven-ASR-Personalization/mozilla/cv-corpus-7.0-2021-07-21/en/clips/common_voice_en_22105388.mp3\n",
      "\n"
     ]
    },
    {
     "name": "stderr",
     "output_type": "stream",
     "text": [
      "\r",
      "  4%|▍         | 60/1598 [00:07<03:15,  7.85it/s]"
     ]
    },
    {
     "name": "stdout",
     "output_type": "stream",
     "text": [
      "/home/mayur/mayank/Error-Driven-ASR-Personalization/mozilla/cv-corpus-7.0-2021-07-21/en/clips/common_voice_en_22177047.mp3"
     ]
    },
    {
     "name": "stderr",
     "output_type": "stream",
     "text": [
      "\r",
      "  2%|▏         | 51/3000 [00:07<06:10,  7.95it/s]"
     ]
    },
    {
     "name": "stdout",
     "output_type": "stream",
     "text": [
      "\n",
      "/home/mayur/mayank/Error-Driven-ASR-Personalization/mozilla/cv-corpus-7.0-2021-07-21/en/clips/common_voice_en_22510414.mp3"
     ]
    },
    {
     "name": "stderr",
     "output_type": "stream",
     "text": [
      "\r",
      "  2%|▏         | 49/3000 [00:06<07:23,  6.66it/s]"
     ]
    },
    {
     "name": "stdout",
     "output_type": "stream",
     "text": [
      "\n",
      "/home/mayur/mayank/Error-Driven-ASR-Personalization/mozilla/cv-corpus-7.0-2021-07-21/en/clips/common_voice_en_19612912.mp3\n",
      "/home/mayur/mayank/Error-Driven-ASR-Personalization/mozilla/cv-corpus-7.0-2021-07-21/en/clips/common_voice_en_18309500.mp3\n"
     ]
    },
    {
     "name": "stderr",
     "output_type": "stream",
     "text": [
      "\r",
      "  2%|▏         | 56/3000 [00:07<04:36, 10.65it/s]"
     ]
    },
    {
     "name": "stdout",
     "output_type": "stream",
     "text": [
      "/home/mayur/mayank/Error-Driven-ASR-Personalization/mozilla/cv-corpus-7.0-2021-07-21/en/clips/common_voice_en_16047499.mp3\n",
      "/home/mayur/mayank/Error-Driven-ASR-Personalization/mozilla/cv-corpus-7.0-2021-07-21/en/clips/common_voice_en_20713170.mp3"
     ]
    },
    {
     "name": "stderr",
     "output_type": "stream",
     "text": [
      "  2%|▏         | 65/3000 [00:07<05:20,  9.14it/s]"
     ]
    },
    {
     "name": "stdout",
     "output_type": "stream",
     "text": [
      "\n",
      "/home/mayur/mayank/Error-Driven-ASR-Personalization/mozilla/cv-corpus-7.0-2021-07-21/en/clips/common_voice_en_23619660.mp3/home/mayur/mayank/Error-Driven-ASR-Personalization/mozilla/cv-corpus-7.0-2021-07-21/en/clips/common_voice_en_656355.mp3/home/mayur/mayank/Error-Driven-ASR-Personalization/mozilla/cv-corpus-7.0-2021-07-21/en/clips/common_voice_en_20532045.mp3\n",
      "\n",
      "\n",
      "/home/mayur/mayank/Error-Driven-ASR-Personalization/mozilla/cv-corpus-7.0-2021-07-21/en/clips/common_voice_en_628473.mp3"
     ]
    },
    {
     "name": "stderr",
     "output_type": "stream",
     "text": [
      "\r",
      "  2%|▏         | 55/3000 [00:07<05:01,  9.77it/s]"
     ]
    },
    {
     "name": "stdout",
     "output_type": "stream",
     "text": [
      "\n",
      "/home/mayur/mayank/Error-Driven-ASR-Personalization/mozilla/cv-corpus-7.0-2021-07-21/en/clips/common_voice_en_17787371.mp3/home/mayur/mayank/Error-Driven-ASR-Personalization/mozilla/cv-corpus-7.0-2021-07-21/en/clips/common_voice_en_141134.mp3\n",
      "\n",
      "/home/mayur/mayank/Error-Driven-ASR-Personalization/mozilla/cv-corpus-7.0-2021-07-21/en/clips/common_voice_en_17453324.mp3\n",
      "/home/mayur/mayank/Error-Driven-ASR-Personalization/mozilla/cv-corpus-7.0-2021-07-21/en/clips/common_voice_en_35281.mp3"
     ]
    },
    {
     "name": "stderr",
     "output_type": "stream",
     "text": [
      "\r",
      "  2%|▏         | 50/3000 [00:07<07:19,  6.72it/s]"
     ]
    },
    {
     "name": "stdout",
     "output_type": "stream",
     "text": [
      "\n",
      "/home/mayur/mayank/Error-Driven-ASR-Personalization/mozilla/cv-corpus-7.0-2021-07-21/en/clips/common_voice_en_17249110.mp3\n"
     ]
    },
    {
     "name": "stderr",
     "output_type": "stream",
     "text": [
      "\r",
      "  2%|▏         | 49/3000 [00:06<06:12,  7.91it/s]"
     ]
    },
    {
     "name": "stdout",
     "output_type": "stream",
     "text": [
      "/home/mayur/mayank/Error-Driven-ASR-Personalization/mozilla/cv-corpus-7.0-2021-07-21/en/clips/common_voice_en_19886672.mp3"
     ]
    },
    {
     "name": "stderr",
     "output_type": "stream",
     "text": [
      "\r",
      "  2%|▏         | 50/3000 [00:07<05:37,  8.74it/s]"
     ]
    },
    {
     "name": "stdout",
     "output_type": "stream",
     "text": [
      "/home/mayur/mayank/Error-Driven-ASR-Personalization/mozilla/cv-corpus-7.0-2021-07-21/en/clips/common_voice_en_2324753.mp3\n",
      "\n",
      "/home/mayur/mayank/Error-Driven-ASR-Personalization/mozilla/cv-corpus-7.0-2021-07-21/en/clips/common_voice_en_19260554.mp3\n"
     ]
    },
    {
     "name": "stderr",
     "output_type": "stream",
     "text": [
      "\r",
      "  2%|▏         | 53/3000 [00:07<05:26,  9.03it/s]"
     ]
    },
    {
     "name": "stdout",
     "output_type": "stream",
     "text": [
      "/home/mayur/mayank/Error-Driven-ASR-Personalization/mozilla/cv-corpus-7.0-2021-07-21/en/clips/common_voice_en_111044.mp3\n"
     ]
    },
    {
     "name": "stderr",
     "output_type": "stream",
     "text": [
      "\r",
      "  2%|▏         | 66/3000 [00:07<05:18,  9.22it/s]"
     ]
    },
    {
     "name": "stdout",
     "output_type": "stream",
     "text": [
      "/home/mayur/mayank/Error-Driven-ASR-Personalization/mozilla/cv-corpus-7.0-2021-07-21/en/clips/common_voice_en_19181566.mp3\n"
     ]
    },
    {
     "name": "stderr",
     "output_type": "stream",
     "text": [
      "  4%|▍         | 62/1598 [00:07<02:55,  8.77it/s]"
     ]
    },
    {
     "name": "stdout",
     "output_type": "stream",
     "text": [
      "/home/mayur/mayank/Error-Driven-ASR-Personalization/mozilla/cv-corpus-7.0-2021-07-21/en/clips/common_voice_en_20057447.mp3/home/mayur/mayank/Error-Driven-ASR-Personalization/mozilla/cv-corpus-7.0-2021-07-21/en/clips/common_voice_en_21785998.mp3\n",
      "\n",
      "/home/mayur/mayank/Error-Driven-ASR-Personalization/mozilla/cv-corpus-7.0-2021-07-21/en/clips/common_voice_en_17272461.mp3/home/mayur/mayank/Error-Driven-ASR-Personalization/mozilla/cv-corpus-7.0-2021-07-21/en/clips/common_voice_en_18253306.mp3"
     ]
    },
    {
     "name": "stderr",
     "output_type": "stream",
     "text": [
      "\r",
      "  2%|▏         | 57/3000 [00:07<04:35, 10.68it/s]"
     ]
    },
    {
     "name": "stdout",
     "output_type": "stream",
     "text": [
      "\n",
      "/home/mayur/mayank/Error-Driven-ASR-Personalization/mozilla/cv-corpus-7.0-2021-07-21/en/clips/common_voice_en_19641542.mp3\n",
      "\n",
      "/home/mayur/mayank/Error-Driven-ASR-Personalization/mozilla/cv-corpus-7.0-2021-07-21/en/clips/common_voice_en_106407.mp3\n",
      "/home/mayur/mayank/Error-Driven-ASR-Personalization/mozilla/cv-corpus-7.0-2021-07-21/en/clips/common_voice_en_25458784.mp3"
     ]
    },
    {
     "name": "stderr",
     "output_type": "stream",
     "text": [
      "\r",
      "  2%|▏         | 58/3000 [00:07<04:49, 10.15it/s]"
     ]
    },
    {
     "name": "stdout",
     "output_type": "stream",
     "text": [
      "\n",
      "/home/mayur/mayank/Error-Driven-ASR-Personalization/mozilla/cv-corpus-7.0-2021-07-21/en/clips/common_voice_en_24510747.mp3\n",
      "/home/mayur/mayank/Error-Driven-ASR-Personalization/mozilla/cv-corpus-7.0-2021-07-21/en/clips/common_voice_en_15742.mp3"
     ]
    },
    {
     "name": "stderr",
     "output_type": "stream",
     "text": [
      "  2%|▏         | 54/3000 [00:07<05:33,  8.82it/s]"
     ]
    },
    {
     "name": "stdout",
     "output_type": "stream",
     "text": [
      "\n",
      "/home/mayur/mayank/Error-Driven-ASR-Personalization/mozilla/cv-corpus-7.0-2021-07-21/en/clips/common_voice_en_22177157.mp3/home/mayur/mayank/Error-Driven-ASR-Personalization/mozilla/cv-corpus-7.0-2021-07-21/en/clips/common_voice_en_28364.mp3\n",
      "\n"
     ]
    },
    {
     "name": "stderr",
     "output_type": "stream",
     "text": [
      "\r",
      "  2%|▏         | 68/3000 [00:07<04:51, 10.07it/s]"
     ]
    },
    {
     "name": "stdout",
     "output_type": "stream",
     "text": [
      "/home/mayur/mayank/Error-Driven-ASR-Personalization/mozilla/cv-corpus-7.0-2021-07-21/en/clips/common_voice_en_22168007.mp3\n"
     ]
    },
    {
     "name": "stderr",
     "output_type": "stream",
     "text": [
      "\r",
      "  2%|▏         | 51/3000 [00:07<05:34,  8.81it/s]"
     ]
    },
    {
     "name": "stdout",
     "output_type": "stream",
     "text": [
      "/home/mayur/mayank/Error-Driven-ASR-Personalization/mozilla/cv-corpus-7.0-2021-07-21/en/clips/common_voice_en_17776723.mp3"
     ]
    },
    {
     "name": "stderr",
     "output_type": "stream",
     "text": [
      "  4%|▎         | 80/2169 [00:07<03:01, 11.54it/s]"
     ]
    },
    {
     "name": "stdout",
     "output_type": "stream",
     "text": [
      "\n",
      "/home/mayur/mayank/Error-Driven-ASR-Personalization/mozilla/cv-corpus-7.0-2021-07-21/en/clips/common_voice_en_96324.mp3/home/mayur/mayank/Error-Driven-ASR-Personalization/mozilla/cv-corpus-7.0-2021-07-21/en/clips/common_voice_en_19825741.mp3/home/mayur/mayank/Error-Driven-ASR-Personalization/mozilla/cv-corpus-7.0-2021-07-21/en/clips/common_voice_en_22007353.mp3/home/mayur/mayank/Error-Driven-ASR-Personalization/mozilla/cv-corpus-7.0-2021-07-21/en/clips/common_voice_en_20545726.mp3\n",
      "\n",
      "\n",
      "\n"
     ]
    },
    {
     "name": "stderr",
     "output_type": "stream",
     "text": [
      "\r",
      "  2%|▏         | 52/3000 [00:07<05:20,  9.21it/s]"
     ]
    },
    {
     "name": "stdout",
     "output_type": "stream",
     "text": [
      "/home/mayur/mayank/Error-Driven-ASR-Personalization/mozilla/cv-corpus-7.0-2021-07-21/en/clips/common_voice_en_17286978.mp3/home/mayur/mayank/Error-Driven-ASR-Personalization/mozilla/cv-corpus-7.0-2021-07-21/en/clips/common_voice_en_24986820.mp3\n",
      "\n",
      "/home/mayur/mayank/Error-Driven-ASR-Personalization/mozilla/cv-corpus-7.0-2021-07-21/en/clips/common_voice_en_111066.mp3\n",
      "/home/mayur/mayank/Error-Driven-ASR-Personalization/mozilla/cv-corpus-7.0-2021-07-21/en/clips/common_voice_en_20532102.mp3\n",
      "/home/mayur/mayank/Error-Driven-ASR-Personalization/mozilla/cv-corpus-7.0-2021-07-21/en/clips/common_voice_en_44723.mp3"
     ]
    },
    {
     "name": "stderr",
     "output_type": "stream",
     "text": [
      "\r",
      "  4%|▍         | 65/1598 [00:07<02:34,  9.94it/s]"
     ]
    },
    {
     "name": "stdout",
     "output_type": "stream",
     "text": [
      "\n",
      "/home/mayur/mayank/Error-Driven-ASR-Personalization/mozilla/cv-corpus-7.0-2021-07-21/en/clips/common_voice_en_21786008.mp3"
     ]
    },
    {
     "name": "stderr",
     "output_type": "stream",
     "text": [
      "\r",
      "  2%|▏         | 59/3000 [00:07<04:41, 10.44it/s]"
     ]
    },
    {
     "name": "stdout",
     "output_type": "stream",
     "text": [
      "/home/mayur/mayank/Error-Driven-ASR-Personalization/mozilla/cv-corpus-7.0-2021-07-21/en/clips/common_voice_en_3176.mp3\n",
      "/home/mayur/mayank/Error-Driven-ASR-Personalization/mozilla/cv-corpus-7.0-2021-07-21/en/clips/common_voice_en_24582516.mp3\n",
      "/home/mayur/mayank/Error-Driven-ASR-Personalization/mozilla/cv-corpus-7.0-2021-07-21/en/clips/common_voice_en_20486104.mp3/home/mayur/mayank/Error-Driven-ASR-Personalization/mozilla/cv-corpus-7.0-2021-07-21/en/clips/common_voice_en_17966103.mp3"
     ]
    },
    {
     "name": "stderr",
     "output_type": "stream",
     "text": [
      "\r",
      "  2%|▏         | 60/3000 [00:07<04:49, 10.15it/s]"
     ]
    },
    {
     "name": "stdout",
     "output_type": "stream",
     "text": [
      "\n",
      "\n",
      "\n",
      "/home/mayur/mayank/Error-Driven-ASR-Personalization/mozilla/cv-corpus-7.0-2021-07-21/en/clips/common_voice_en_316853.mp3\n"
     ]
    },
    {
     "name": "stderr",
     "output_type": "stream",
     "text": [
      "  2%|▏         | 70/3000 [00:07<04:21, 11.18it/s]"
     ]
    },
    {
     "name": "stdout",
     "output_type": "stream",
     "text": [
      "/home/mayur/mayank/Error-Driven-ASR-Personalization/mozilla/cv-corpus-7.0-2021-07-21/en/clips/common_voice_en_20050233.mp3/home/mayur/mayank/Error-Driven-ASR-Personalization/mozilla/cv-corpus-7.0-2021-07-21/en/clips/common_voice_en_18884087.mp3\n",
      "\n"
     ]
    },
    {
     "name": "stderr",
     "output_type": "stream",
     "text": [
      "\r",
      "  4%|▍         | 82/2169 [00:07<02:56, 11.80it/s]"
     ]
    },
    {
     "name": "stdout",
     "output_type": "stream",
     "text": [
      "/home/mayur/mayank/Error-Driven-ASR-Personalization/mozilla/cv-corpus-7.0-2021-07-21/en/clips/common_voice_en_568177.mp3\n",
      "/home/mayur/mayank/Error-Driven-ASR-Personalization/mozilla/cv-corpus-7.0-2021-07-21/en/clips/common_voice_en_17281038.mp3\n",
      "/home/mayur/mayank/Error-Driven-ASR-Personalization/mozilla/cv-corpus-7.0-2021-07-21/en/clips/common_voice_en_18823633.mp3\n",
      "/home/mayur/mayank/Error-Driven-ASR-Personalization/mozilla/cv-corpus-7.0-2021-07-21/en/clips/common_voice_en_22959173.mp3"
     ]
    },
    {
     "name": "stderr",
     "output_type": "stream",
     "text": [
      "  2%|▏         | 54/3000 [00:07<05:44,  8.55it/s]"
     ]
    },
    {
     "name": "stdout",
     "output_type": "stream",
     "text": [
      "\n",
      "/home/mayur/mayank/Error-Driven-ASR-Personalization/mozilla/cv-corpus-7.0-2021-07-21/en/clips/common_voice_en_18725704.mp3/home/mayur/mayank/Error-Driven-ASR-Personalization/mozilla/cv-corpus-7.0-2021-07-21/en/clips/common_voice_en_19026066.mp3/home/mayur/mayank/Error-Driven-ASR-Personalization/mozilla/cv-corpus-7.0-2021-07-21/en/clips/common_voice_en_22121887.mp3\n",
      "\n",
      "\n",
      "/home/mayur/mayank/Error-Driven-ASR-Personalization/mozilla/cv-corpus-7.0-2021-07-21/en/clips/common_voice_en_19908633.mp3\n"
     ]
    },
    {
     "name": "stderr",
     "output_type": "stream",
     "text": [
      "\r",
      "  2%|▏         | 54/3000 [00:07<05:19,  9.21it/s]"
     ]
    },
    {
     "name": "stdout",
     "output_type": "stream",
     "text": [
      "/home/mayur/mayank/Error-Driven-ASR-Personalization/mozilla/cv-corpus-7.0-2021-07-21/en/clips/common_voice_en_18953296.mp3\n"
     ]
    },
    {
     "name": "stderr",
     "output_type": "stream",
     "text": [
      "\r",
      "  2%|▏         | 57/3000 [00:07<05:54,  8.30it/s]"
     ]
    },
    {
     "name": "stdout",
     "output_type": "stream",
     "text": [
      "/home/mayur/mayank/Error-Driven-ASR-Personalization/mozilla/cv-corpus-7.0-2021-07-21/en/clips/common_voice_en_17347971.mp3\n"
     ]
    },
    {
     "name": "stderr",
     "output_type": "stream",
     "text": [
      "\r",
      "  4%|▍         | 84/2169 [00:07<03:00, 11.58it/s]"
     ]
    },
    {
     "name": "stdout",
     "output_type": "stream",
     "text": [
      "/home/mayur/mayank/Error-Driven-ASR-Personalization/mozilla/cv-corpus-7.0-2021-07-21/en/clips/common_voice_en_23865956.mp3\n"
     ]
    },
    {
     "name": "stderr",
     "output_type": "stream",
     "text": [
      "\r",
      "  2%|▏         | 62/3000 [00:07<05:23,  9.07it/s]"
     ]
    },
    {
     "name": "stdout",
     "output_type": "stream",
     "text": [
      "/home/mayur/mayank/Error-Driven-ASR-Personalization/mozilla/cv-corpus-7.0-2021-07-21/en/clips/common_voice_en_22304919.mp3\n"
     ]
    },
    {
     "name": "stderr",
     "output_type": "stream",
     "text": [
      "\r",
      "  2%|▏         | 72/3000 [00:07<05:00,  9.76it/s]"
     ]
    },
    {
     "name": "stdout",
     "output_type": "stream",
     "text": [
      "/home/mayur/mayank/Error-Driven-ASR-Personalization/mozilla/cv-corpus-7.0-2021-07-21/en/clips/common_voice_en_17272501.mp3\n"
     ]
    },
    {
     "name": "stderr",
     "output_type": "stream",
     "text": [
      "\r",
      "  4%|▍         | 67/1598 [00:07<03:04,  8.31it/s]"
     ]
    },
    {
     "name": "stdout",
     "output_type": "stream",
     "text": [
      "/home/mayur/mayank/Error-Driven-ASR-Personalization/mozilla/cv-corpus-7.0-2021-07-21/en/clips/common_voice_en_18803681.mp3"
     ]
    },
    {
     "name": "stderr",
     "output_type": "stream",
     "text": [
      "\r",
      "  2%|▏         | 61/3000 [00:07<05:37,  8.70it/s]"
     ]
    },
    {
     "name": "stdout",
     "output_type": "stream",
     "text": [
      "\n",
      "/home/mayur/mayank/Error-Driven-ASR-Personalization/mozilla/cv-corpus-7.0-2021-07-21/en/clips/common_voice_en_20060043.mp3"
     ]
    },
    {
     "name": "stderr",
     "output_type": "stream",
     "text": [
      "\r",
      "  2%|▏         | 54/3000 [00:07<06:25,  7.65it/s]"
     ]
    },
    {
     "name": "stdout",
     "output_type": "stream",
     "text": [
      "\n",
      "/home/mayur/mayank/Error-Driven-ASR-Personalization/mozilla/cv-corpus-7.0-2021-07-21/en/clips/common_voice_en_27103516.mp3"
     ]
    },
    {
     "name": "stderr",
     "output_type": "stream",
     "text": [
      "  2%|▏         | 55/3000 [00:07<06:09,  7.96it/s]"
     ]
    },
    {
     "name": "stdout",
     "output_type": "stream",
     "text": [
      "\n",
      "/home/mayur/mayank/Error-Driven-ASR-Personalization/mozilla/cv-corpus-7.0-2021-07-21/en/clips/common_voice_en_21895822.mp3/home/mayur/mayank/Error-Driven-ASR-Personalization/mozilla/cv-corpus-7.0-2021-07-21/en/clips/common_voice_en_19260852.mp3\n",
      "\n",
      "/home/mayur/mayank/Error-Driven-ASR-Personalization/mozilla/cv-corpus-7.0-2021-07-21/en/clips/common_voice_en_18518471.mp3/home/mayur/mayank/Error-Driven-ASR-Personalization/mozilla/cv-corpus-7.0-2021-07-21/en/clips/common_voice_en_20562613.mp3"
     ]
    },
    {
     "name": "stderr",
     "output_type": "stream",
     "text": [
      "\r",
      "  2%|▏         | 58/3000 [00:07<06:12,  7.89it/s]"
     ]
    },
    {
     "name": "stdout",
     "output_type": "stream",
     "text": [
      "/home/mayur/mayank/Error-Driven-ASR-Personalization/mozilla/cv-corpus-7.0-2021-07-21/en/clips/common_voice_en_23871398.mp3\n",
      "\n",
      "/home/mayur/mayank/Error-Driven-ASR-Personalization/mozilla/cv-corpus-7.0-2021-07-21/en/clips/common_voice_en_27210840.mp3\n",
      "\n"
     ]
    },
    {
     "name": "stderr",
     "output_type": "stream",
     "text": [
      "\r",
      "  4%|▍         | 68/1598 [00:07<03:02,  8.39it/s]"
     ]
    },
    {
     "name": "stdout",
     "output_type": "stream",
     "text": [
      "/home/mayur/mayank/Error-Driven-ASR-Personalization/mozilla/cv-corpus-7.0-2021-07-21/en/clips/common_voice_en_17808895.mp3\n"
     ]
    },
    {
     "name": "stderr",
     "output_type": "stream",
     "text": [
      "  2%|▏         | 56/3000 [00:07<06:38,  7.38it/s]"
     ]
    },
    {
     "name": "stdout",
     "output_type": "stream",
     "text": [
      "/home/mayur/mayank/Error-Driven-ASR-Personalization/mozilla/cv-corpus-7.0-2021-07-21/en/clips/common_voice_en_20057201.mp3/home/mayur/mayank/Error-Driven-ASR-Personalization/mozilla/cv-corpus-7.0-2021-07-21/en/clips/common_voice_en_22710970.mp3/home/mayur/mayank/Error-Driven-ASR-Personalization/mozilla/cv-corpus-7.0-2021-07-21/en/clips/common_voice_en_586023.mp3\n"
     ]
    },
    {
     "name": "stderr",
     "output_type": "stream",
     "text": [
      "\r",
      "  2%|▏         | 62/3000 [00:07<05:47,  8.46it/s]"
     ]
    },
    {
     "name": "stdout",
     "output_type": "stream",
     "text": [
      "\n"
     ]
    },
    {
     "name": "stderr",
     "output_type": "stream",
     "text": [
      "\r",
      "  2%|▏         | 55/3000 [00:07<06:25,  7.64it/s]"
     ]
    },
    {
     "name": "stdout",
     "output_type": "stream",
     "text": [
      "\n",
      "/home/mayur/mayank/Error-Driven-ASR-Personalization/mozilla/cv-corpus-7.0-2021-07-21/en/clips/common_voice_en_18600079.mp3/home/mayur/mayank/Error-Driven-ASR-Personalization/mozilla/cv-corpus-7.0-2021-07-21/en/clips/common_voice_en_23702249.mp3\n",
      "\n"
     ]
    },
    {
     "name": "stderr",
     "output_type": "stream",
     "text": [
      "  2%|▏         | 56/3000 [00:07<06:16,  7.83it/s]"
     ]
    },
    {
     "name": "stdout",
     "output_type": "stream",
     "text": [
      "/home/mayur/mayank/Error-Driven-ASR-Personalization/mozilla/cv-corpus-7.0-2021-07-21/en/clips/common_voice_en_143974.mp3/home/mayur/mayank/Error-Driven-ASR-Personalization/mozilla/cv-corpus-7.0-2021-07-21/en/clips/common_voice_en_19665565.mp3\n",
      "\n"
     ]
    },
    {
     "name": "stderr",
     "output_type": "stream",
     "text": [
      "\r",
      "  2%|▏         | 59/3000 [00:07<06:16,  7.80it/s]"
     ]
    },
    {
     "name": "stdout",
     "output_type": "stream",
     "text": [
      "/home/mayur/mayank/Error-Driven-ASR-Personalization/mozilla/cv-corpus-7.0-2021-07-21/en/clips/common_voice_en_27154070.mp3\n",
      "/home/mayur/mayank/Error-Driven-ASR-Personalization/mozilla/cv-corpus-7.0-2021-07-21/en/clips/common_voice_en_22177031.mp3\n",
      "/home/mayur/mayank/Error-Driven-ASR-Personalization/mozilla/cv-corpus-7.0-2021-07-21/en/clips/common_voice_en_17400252.mp3/home/mayur/mayank/Error-Driven-ASR-Personalization/mozilla/cv-corpus-7.0-2021-07-21/en/clips/common_voice_en_20040100.mp3\n",
      "\n",
      "/home/mayur/mayank/Error-Driven-ASR-Personalization/mozilla/cv-corpus-7.0-2021-07-21/en/clips/common_voice_en_19786273.mp3\n",
      "/home/mayur/mayank/Error-Driven-ASR-Personalization/mozilla/cv-corpus-7.0-2021-07-21/en/clips/common_voice_en_17277939.mp3\n",
      "/home/mayur/mayank/Error-Driven-ASR-Personalization/mozilla/cv-corpus-7.0-2021-07-21/en/clips/common_voice_en_17822184.mp3/home/mayur/mayank/Error-Driven-ASR-Personalization/mozilla/cv-corpus-7.0-2021-07-21/en/clips/common_voice_en_24986153.mp3/home/mayur/mayank/Error-Driven-ASR-Personalization/mozilla/cv-corpus-7.0-2021-07-21/en/clips/common_voice_en_17725988.mp3\n",
      "\n",
      "/home/mayur/mayank/Error-Driven-ASR-Personalization/mozilla/cv-corpus-7.0-2021-07-21/en/clips/common_voice_en_22052876.mp3\n",
      "\n"
     ]
    },
    {
     "name": "stderr",
     "output_type": "stream",
     "text": [
      "\r",
      "  4%|▍         | 70/1598 [00:08<02:28, 10.32it/s]"
     ]
    },
    {
     "name": "stdout",
     "output_type": "stream",
     "text": [
      "/home/mayur/mayank/Error-Driven-ASR-Personalization/mozilla/cv-corpus-7.0-2021-07-21/en/clips/common_voice_en_17787342.mp3\n"
     ]
    },
    {
     "name": "stderr",
     "output_type": "stream",
     "text": [
      "\r",
      "  4%|▍         | 88/2169 [00:08<02:53, 11.98it/s]"
     ]
    },
    {
     "name": "stdout",
     "output_type": "stream",
     "text": [
      "/home/mayur/mayank/Error-Driven-ASR-Personalization/mozilla/cv-corpus-7.0-2021-07-21/en/clips/common_voice_en_25947715.mp3"
     ]
    },
    {
     "name": "stderr",
     "output_type": "stream",
     "text": [
      "\r",
      "  2%|▏         | 58/3000 [00:07<05:15,  9.31it/s]"
     ]
    },
    {
     "name": "stdout",
     "output_type": "stream",
     "text": [
      "\n",
      "/home/mayur/mayank/Error-Driven-ASR-Personalization/mozilla/cv-corpus-7.0-2021-07-21/en/clips/common_voice_en_27070152.mp3\n"
     ]
    },
    {
     "name": "stderr",
     "output_type": "stream",
     "text": [
      "  3%|▎         | 76/3000 [00:08<04:35, 10.60it/s]"
     ]
    },
    {
     "name": "stdout",
     "output_type": "stream",
     "text": [
      "/home/mayur/mayank/Error-Driven-ASR-Personalization/mozilla/cv-corpus-7.0-2021-07-21/en/clips/common_voice_en_17787338.mp3"
     ]
    },
    {
     "name": "stderr",
     "output_type": "stream",
     "text": [
      "\r",
      "  2%|▏         | 58/3000 [00:08<05:28,  8.96it/s]"
     ]
    },
    {
     "name": "stdout",
     "output_type": "stream",
     "text": [
      "/home/mayur/mayank/Error-Driven-ASR-Personalization/mozilla/cv-corpus-7.0-2021-07-21/en/clips/common_voice_en_614506.mp3/home/mayur/mayank/Error-Driven-ASR-Personalization/mozilla/cv-corpus-7.0-2021-07-21/en/clips/common_voice_en_26958374.mp3"
     ]
    },
    {
     "name": "stderr",
     "output_type": "stream",
     "text": [
      "\r",
      "  2%|▏         | 66/3000 [00:08<04:50, 10.10it/s]"
     ]
    },
    {
     "name": "stdout",
     "output_type": "stream",
     "text": [
      "\n",
      "\n",
      "\n",
      "/home/mayur/mayank/Error-Driven-ASR-Personalization/mozilla/cv-corpus-7.0-2021-07-21/en/clips/common_voice_en_22148093.mp3/home/mayur/mayank/Error-Driven-ASR-Personalization/mozilla/cv-corpus-7.0-2021-07-21/en/clips/common_voice_en_699831.mp3\n",
      "\n"
     ]
    },
    {
     "name": "stderr",
     "output_type": "stream",
     "text": [
      "\r",
      "  2%|▏         | 57/3000 [00:07<05:37,  8.72it/s]"
     ]
    },
    {
     "name": "stdout",
     "output_type": "stream",
     "text": [
      "/home/mayur/mayank/Error-Driven-ASR-Personalization/mozilla/cv-corpus-7.0-2021-07-21/en/clips/common_voice_en_20877172.mp3\n",
      "/home/mayur/mayank/Error-Driven-ASR-Personalization/mozilla/cv-corpus-7.0-2021-07-21/en/clips/common_voice_en_26989297.mp3\n",
      "/home/mayur/mayank/Error-Driven-ASR-Personalization/mozilla/cv-corpus-7.0-2021-07-21/en/clips/common_voice_en_44716.mp3"
     ]
    },
    {
     "name": "stderr",
     "output_type": "stream",
     "text": [
      "\r",
      "  2%|▏         | 59/3000 [00:08<05:54,  8.30it/s]"
     ]
    },
    {
     "name": "stdout",
     "output_type": "stream",
     "text": [
      "\n",
      "/home/mayur/mayank/Error-Driven-ASR-Personalization/mozilla/cv-corpus-7.0-2021-07-21/en/clips/common_voice_en_56366.mp3"
     ]
    },
    {
     "name": "stderr",
     "output_type": "stream",
     "text": [
      "\r",
      "  2%|▏         | 61/3000 [00:08<06:21,  7.70it/s]"
     ]
    },
    {
     "name": "stdout",
     "output_type": "stream",
     "text": [
      "\n",
      "/home/mayur/mayank/Error-Driven-ASR-Personalization/mozilla/cv-corpus-7.0-2021-07-21/en/clips/common_voice_en_19442497.mp3\n"
     ]
    },
    {
     "name": "stderr",
     "output_type": "stream",
     "text": [
      "\r",
      "  4%|▍         | 90/2169 [00:08<04:18,  8.05it/s]"
     ]
    },
    {
     "name": "stdout",
     "output_type": "stream",
     "text": [
      "/home/mayur/mayank/Error-Driven-ASR-Personalization/mozilla/cv-corpus-7.0-2021-07-21/en/clips/common_voice_en_17453373.mp3\n"
     ]
    },
    {
     "name": "stderr",
     "output_type": "stream",
     "text": [
      "  5%|▍         | 72/1598 [00:08<03:41,  6.89it/s]"
     ]
    },
    {
     "name": "stdout",
     "output_type": "stream",
     "text": [
      "/home/mayur/mayank/Error-Driven-ASR-Personalization/mozilla/cv-corpus-7.0-2021-07-21/en/clips/common_voice_en_18979287.mp3"
     ]
    },
    {
     "name": "stderr",
     "output_type": "stream",
     "text": [
      "\r",
      "  2%|▏         | 59/3000 [00:08<08:25,  5.81it/s]"
     ]
    },
    {
     "name": "stdout",
     "output_type": "stream",
     "text": [
      "/home/mayur/mayank/Error-Driven-ASR-Personalization/mozilla/cv-corpus-7.0-2021-07-21/en/clips/common_voice_en_25721743.mp3/home/mayur/mayank/Error-Driven-ASR-Personalization/mozilla/cv-corpus-7.0-2021-07-21/en/clips/common_voice_en_17808915.mp3/home/mayur/mayank/Error-Driven-ASR-Personalization/mozilla/cv-corpus-7.0-2021-07-21/en/clips/common_voice_en_47298.mp3\n",
      "\n",
      "\n",
      "\n"
     ]
    },
    {
     "name": "stderr",
     "output_type": "stream",
     "text": [
      "  2%|▏         | 58/3000 [00:08<09:03,  5.41it/s]"
     ]
    },
    {
     "name": "stdout",
     "output_type": "stream",
     "text": [
      "/home/mayur/mayank/Error-Driven-ASR-Personalization/mozilla/cv-corpus-7.0-2021-07-21/en/clips/common_voice_en_18892859.mp3/home/mayur/mayank/Error-Driven-ASR-Personalization/mozilla/cv-corpus-7.0-2021-07-21/en/clips/common_voice_en_17782224.mp3/home/mayur/mayank/Error-Driven-ASR-Personalization/mozilla/cv-corpus-7.0-2021-07-21/en/clips/common_voice_en_21264382.mp3"
     ]
    },
    {
     "name": "stderr",
     "output_type": "stream",
     "text": [
      "\r",
      "  2%|▏         | 62/3000 [00:08<08:24,  5.82it/s]"
     ]
    },
    {
     "name": "stdout",
     "output_type": "stream",
     "text": [
      "/home/mayur/mayank/Error-Driven-ASR-Personalization/mozilla/cv-corpus-7.0-2021-07-21/en/clips/common_voice_en_17453358.mp3\n",
      "\n",
      "\n",
      "/home/mayur/mayank/Error-Driven-ASR-Personalization/mozilla/cv-corpus-7.0-2021-07-21/en/clips/common_voice_en_600365.mp3\n",
      "\n"
     ]
    },
    {
     "name": "stderr",
     "output_type": "stream",
     "text": [
      "\r",
      "  3%|▎         | 78/3000 [00:08<06:28,  7.52it/s]"
     ]
    },
    {
     "name": "stdout",
     "output_type": "stream",
     "text": [
      "/home/mayur/mayank/Error-Driven-ASR-Personalization/mozilla/cv-corpus-7.0-2021-07-21/en/clips/common_voice_en_22550459.mp3\n"
     ]
    },
    {
     "name": "stderr",
     "output_type": "stream",
     "text": [
      "\r",
      "  2%|▏         | 68/3000 [00:08<06:50,  7.14it/s]"
     ]
    },
    {
     "name": "stdout",
     "output_type": "stream",
     "text": [
      "/home/mayur/mayank/Error-Driven-ASR-Personalization/mozilla/cv-corpus-7.0-2021-07-21/en/clips/common_voice_en_19333650.mp3/home/mayur/mayank/Error-Driven-ASR-Personalization/mozilla/cv-corpus-7.0-2021-07-21/en/clips/common_voice_en_17576769.mp3/home/mayur/mayank/Error-Driven-ASR-Personalization/mozilla/cv-corpus-7.0-2021-07-21/en/clips/common_voice_en_21382120.mp3\n",
      "\n",
      "\n"
     ]
    },
    {
     "name": "stderr",
     "output_type": "stream",
     "text": [
      "\r",
      "  5%|▍         | 74/1598 [00:08<03:01,  8.39it/s]"
     ]
    },
    {
     "name": "stdout",
     "output_type": "stream",
     "text": [
      "/home/mayur/mayank/Error-Driven-ASR-Personalization/mozilla/cv-corpus-7.0-2021-07-21/en/clips/common_voice_en_22244380.mp3\n",
      "/home/mayur/mayank/Error-Driven-ASR-Personalization/mozilla/cv-corpus-7.0-2021-07-21/en/clips/common_voice_en_18750258.mp3\n"
     ]
    },
    {
     "name": "stderr",
     "output_type": "stream",
     "text": [
      "  4%|▍         | 92/2169 [00:08<03:51,  8.96it/s]"
     ]
    },
    {
     "name": "stdout",
     "output_type": "stream",
     "text": [
      "/home/mayur/mayank/Error-Driven-ASR-Personalization/mozilla/cv-corpus-7.0-2021-07-21/en/clips/common_voice_en_514298.mp3/home/mayur/mayank/Error-Driven-ASR-Personalization/mozilla/cv-corpus-7.0-2021-07-21/en/clips/common_voice_en_17280978.mp3\n",
      "\n"
     ]
    },
    {
     "name": "stderr",
     "output_type": "stream",
     "text": [
      "  2%|▏         | 61/3000 [00:08<06:46,  7.23it/s]"
     ]
    },
    {
     "name": "stdout",
     "output_type": "stream",
     "text": [
      "/home/mayur/mayank/Error-Driven-ASR-Personalization/mozilla/cv-corpus-7.0-2021-07-21/en/clips/common_voice_en_620143.mp3/home/mayur/mayank/Error-Driven-ASR-Personalization/mozilla/cv-corpus-7.0-2021-07-21/en/clips/common_voice_en_20927157.mp3\n",
      "\n",
      "/home/mayur/mayank/Error-Driven-ASR-Personalization/mozilla/cv-corpus-7.0-2021-07-21/en/clips/common_voice_en_22245711.mp3"
     ]
    },
    {
     "name": "stderr",
     "output_type": "stream",
     "text": [
      "  2%|▏         | 67/3000 [00:08<06:48,  7.18it/s]"
     ]
    },
    {
     "name": "stdout",
     "output_type": "stream",
     "text": [
      "\n",
      "/home/mayur/mayank/Error-Driven-ASR-Personalization/mozilla/cv-corpus-7.0-2021-07-21/en/clips/common_voice_en_22550826.mp3/home/mayur/mayank/Error-Driven-ASR-Personalization/mozilla/cv-corpus-7.0-2021-07-21/en/clips/common_voice_en_25094122.mp3/home/mayur/mayank/Error-Driven-ASR-Personalization/mozilla/cv-corpus-7.0-2021-07-21/en/clips/common_voice_en_20170395.mp3\n",
      "\n",
      "\n"
     ]
    },
    {
     "name": "stderr",
     "output_type": "stream",
     "text": [
      "\r",
      "  2%|▏         | 64/3000 [00:08<07:24,  6.60it/s]"
     ]
    },
    {
     "name": "stdout",
     "output_type": "stream",
     "text": [
      "/home/mayur/mayank/Error-Driven-ASR-Personalization/mozilla/cv-corpus-7.0-2021-07-21/en/clips/common_voice_en_22317236.mp3\n"
     ]
    },
    {
     "name": "stderr",
     "output_type": "stream",
     "text": [
      "  5%|▍         | 76/1598 [00:08<03:06,  8.16it/s]"
     ]
    },
    {
     "name": "stdout",
     "output_type": "stream",
     "text": [
      "/home/mayur/mayank/Error-Driven-ASR-Personalization/mozilla/cv-corpus-7.0-2021-07-21/en/clips/common_voice_en_17730683.mp3"
     ]
    },
    {
     "name": "stderr",
     "output_type": "stream",
     "text": [
      "\r",
      "  3%|▎         | 80/3000 [00:08<07:15,  6.71it/s]"
     ]
    },
    {
     "name": "stdout",
     "output_type": "stream",
     "text": [
      "/home/mayur/mayank/Error-Driven-ASR-Personalization/mozilla/cv-corpus-7.0-2021-07-21/en/clips/common_voice_en_17816509.mp3"
     ]
    },
    {
     "name": "stderr",
     "output_type": "stream",
     "text": [
      "  2%|▏         | 70/3000 [00:08<07:17,  6.70it/s]"
     ]
    },
    {
     "name": "stdout",
     "output_type": "stream",
     "text": [
      "\n"
     ]
    },
    {
     "name": "stderr",
     "output_type": "stream",
     "text": [
      "\r",
      "  2%|▏         | 62/3000 [00:08<08:37,  5.68it/s]"
     ]
    },
    {
     "name": "stdout",
     "output_type": "stream",
     "text": [
      "/home/mayur/mayank/Error-Driven-ASR-Personalization/mozilla/cv-corpus-7.0-2021-07-21/en/clips/common_voice_en_19773836.mp3\n",
      "\n",
      "/home/mayur/mayank/Error-Driven-ASR-Personalization/mozilla/cv-corpus-7.0-2021-07-21/en/clips/common_voice_en_19708582.mp3/home/mayur/mayank/Error-Driven-ASR-Personalization/mozilla/cv-corpus-7.0-2021-07-21/en/clips/common_voice_en_20726432.mp3/home/mayur/mayank/Error-Driven-ASR-Personalization/mozilla/cv-corpus-7.0-2021-07-21/en/clips/common_voice_en_18854069.mp3\n",
      "\n",
      "\n",
      "/home/mayur/mayank/Error-Driven-ASR-Personalization/mozilla/cv-corpus-7.0-2021-07-21/en/clips/common_voice_en_22322202.mp3\n"
     ]
    },
    {
     "name": "stderr",
     "output_type": "stream",
     "text": [
      "\r",
      "  2%|▏         | 68/3000 [00:09<08:30,  5.74it/s]"
     ]
    },
    {
     "name": "stdout",
     "output_type": "stream",
     "text": [
      "/home/mayur/mayank/Error-Driven-ASR-Personalization/mozilla/cv-corpus-7.0-2021-07-21/en/clips/common_voice_en_20014084.mp3\n"
     ]
    },
    {
     "name": "stderr",
     "output_type": "stream",
     "text": [
      "  2%|▏         | 63/3000 [00:09<09:43,  5.03it/s]"
     ]
    },
    {
     "name": "stdout",
     "output_type": "stream",
     "text": [
      "/home/mayur/mayank/Error-Driven-ASR-Personalization/mozilla/cv-corpus-7.0-2021-07-21/en/clips/common_voice_en_21786629.mp3/home/mayur/mayank/Error-Driven-ASR-Personalization/mozilla/cv-corpus-7.0-2021-07-21/en/clips/common_voice_en_591916.mp3/home/mayur/mayank/Error-Driven-ASR-Personalization/mozilla/cv-corpus-7.0-2021-07-21/en/clips/common_voice_en_23810548.mp3"
     ]
    },
    {
     "name": "stderr",
     "output_type": "stream",
     "text": [
      "\r",
      "  3%|▎         | 81/3000 [00:09<09:19,  5.22it/s]"
     ]
    },
    {
     "name": "stdout",
     "output_type": "stream",
     "text": [
      "\n"
     ]
    },
    {
     "name": "stderr",
     "output_type": "stream",
     "text": [
      "  2%|▏         | 61/3000 [00:08<11:02,  4.44it/s]"
     ]
    },
    {
     "name": "stdout",
     "output_type": "stream",
     "text": [
      "\n",
      "\n",
      "/home/mayur/mayank/Error-Driven-ASR-Personalization/mozilla/cv-corpus-7.0-2021-07-21/en/clips/common_voice_en_23628524.mp3/home/mayur/mayank/Error-Driven-ASR-Personalization/mozilla/cv-corpus-7.0-2021-07-21/en/clips/common_voice_en_18645475.mp3\n",
      "/home/mayur/mayank/Error-Driven-ASR-Personalization/mozilla/cv-corpus-7.0-2021-07-21/en/clips/common_voice_en_19591794.mp3\n",
      "\n"
     ]
    },
    {
     "name": "stderr",
     "output_type": "stream",
     "text": [
      "  4%|▍         | 94/2169 [00:09<05:40,  6.10it/s]"
     ]
    },
    {
     "name": "stdout",
     "output_type": "stream",
     "text": [
      "/home/mayur/mayank/Error-Driven-ASR-Personalization/mozilla/cv-corpus-7.0-2021-07-21/en/clips/common_voice_en_25744420.mp3"
     ]
    },
    {
     "name": "stderr",
     "output_type": "stream",
     "text": [
      "\r",
      "  2%|▏         | 63/3000 [00:09<10:54,  4.49it/s]"
     ]
    },
    {
     "name": "stdout",
     "output_type": "stream",
     "text": [
      "\n",
      "/home/mayur/mayank/Error-Driven-ASR-Personalization/mozilla/cv-corpus-7.0-2021-07-21/en/clips/common_voice_en_17281016.mp3/home/mayur/mayank/Error-Driven-ASR-Personalization/mozilla/cv-corpus-7.0-2021-07-21/en/clips/common_voice_en_528286.mp3\n",
      "\n"
     ]
    },
    {
     "name": "stderr",
     "output_type": "stream",
     "text": [
      "  2%|▏         | 64/3000 [00:09<10:11,  4.80it/s]"
     ]
    },
    {
     "name": "stdout",
     "output_type": "stream",
     "text": [
      "/home/mayur/mayank/Error-Driven-ASR-Personalization/mozilla/cv-corpus-7.0-2021-07-21/en/clips/common_voice_en_17280986.mp3/home/mayur/mayank/Error-Driven-ASR-Personalization/mozilla/cv-corpus-7.0-2021-07-21/en/clips/common_voice_en_20712746.mp3\n",
      "\n"
     ]
    },
    {
     "name": "stderr",
     "output_type": "stream",
     "text": [
      "  2%|▏         | 62/3000 [00:09<12:20,  3.97it/s]"
     ]
    },
    {
     "name": "stdout",
     "output_type": "stream",
     "text": [
      "/home/mayur/mayank/Error-Driven-ASR-Personalization/mozilla/cv-corpus-7.0-2021-07-21/en/clips/common_voice_en_23628753.mp3/home/mayur/mayank/Error-Driven-ASR-Personalization/mozilla/cv-corpus-7.0-2021-07-21/en/clips/common_voice_en_30610.mp3/home/mayur/mayank/Error-Driven-ASR-Personalization/mozilla/cv-corpus-7.0-2021-07-21/en/clips/common_voice_en_624968.mp3/home/mayur/mayank/Error-Driven-ASR-Personalization/mozilla/cv-corpus-7.0-2021-07-21/en/clips/common_voice_en_24861833.mp3/home/mayur/mayank/Error-Driven-ASR-Personalization/mozilla/cv-corpus-7.0-2021-07-21/en/clips/common_voice_en_129218.mp3/home/mayur/mayank/Error-Driven-ASR-Personalization/mozilla/cv-corpus-7.0-2021-07-21/en/clips/common_voice_en_81191.mp3/home/mayur/mayank/Error-Driven-ASR-Personalization/mozilla/cv-corpus-7.0-2021-07-21/en/clips/common_voice_en_17808853.mp3\n",
      "\n",
      "\n",
      "\n",
      "\n",
      "\n",
      "\n"
     ]
    },
    {
     "name": "stderr",
     "output_type": "stream",
     "text": [
      "\r",
      "  4%|▍         | 96/2169 [00:09<07:45,  4.45it/s]"
     ]
    },
    {
     "name": "stdout",
     "output_type": "stream",
     "text": [
      "/home/mayur/mayank/Error-Driven-ASR-Personalization/mozilla/cv-corpus-7.0-2021-07-21/en/clips/common_voice_en_23610672.mp3\n"
     ]
    },
    {
     "name": "stderr",
     "output_type": "stream",
     "text": [
      "\r",
      "  2%|▏         | 65/3000 [00:09<13:25,  3.64it/s]"
     ]
    },
    {
     "name": "stdout",
     "output_type": "stream",
     "text": [
      "/home/mayur/mayank/Error-Driven-ASR-Personalization/mozilla/cv-corpus-7.0-2021-07-21/en/clips/common_voice_en_21060803.mp3\n"
     ]
    },
    {
     "name": "stderr",
     "output_type": "stream",
     "text": [
      "\r",
      "  2%|▏         | 73/3000 [00:09<12:55,  3.77it/s]"
     ]
    },
    {
     "name": "stdout",
     "output_type": "stream",
     "text": [
      "/home/mayur/mayank/Error-Driven-ASR-Personalization/mozilla/cv-corpus-7.0-2021-07-21/en/clips/common_voice_en_21230861.mp3\n"
     ]
    },
    {
     "name": "stderr",
     "output_type": "stream",
     "text": [
      "\r",
      "  2%|▏         | 71/3000 [00:10<13:15,  3.68it/s]"
     ]
    },
    {
     "name": "stdout",
     "output_type": "stream",
     "text": [
      "/home/mayur/mayank/Error-Driven-ASR-Personalization/mozilla/cv-corpus-7.0-2021-07-21/en/clips/common_voice_en_22322182.mp3/home/mayur/mayank/Error-Driven-ASR-Personalization/mozilla/cv-corpus-7.0-2021-07-21/en/clips/common_voice_en_20801721.mp3\n",
      "\n"
     ]
    },
    {
     "name": "stderr",
     "output_type": "stream",
     "text": [
      "\r",
      "  5%|▍         | 79/1598 [00:10<05:59,  4.22it/s]"
     ]
    },
    {
     "name": "stdout",
     "output_type": "stream",
     "text": [
      "/home/mayur/mayank/Error-Driven-ASR-Personalization/mozilla/cv-corpus-7.0-2021-07-21/en/clips/common_voice_en_17267647.mp3"
     ]
    },
    {
     "name": "stderr",
     "output_type": "stream",
     "text": [
      "\r",
      "  2%|▏         | 67/3000 [00:10<14:29,  3.37it/s]"
     ]
    },
    {
     "name": "stdout",
     "output_type": "stream",
     "text": [
      "/home/mayur/mayank/Error-Driven-ASR-Personalization/mozilla/cv-corpus-7.0-2021-07-21/en/clips/common_voice_en_558123.mp3\n",
      "\n",
      "/home/mayur/mayank/Error-Driven-ASR-Personalization/mozilla/cv-corpus-7.0-2021-07-21/en/clips/common_voice_en_29295.mp3\n"
     ]
    },
    {
     "name": "stderr",
     "output_type": "stream",
     "text": [
      "  2%|▏         | 63/3000 [00:09<15:15,  3.21it/s]"
     ]
    },
    {
     "name": "stdout",
     "output_type": "stream",
     "text": [
      "/home/mayur/mayank/Error-Driven-ASR-Personalization/mozilla/cv-corpus-7.0-2021-07-21/en/clips/common_voice_en_498094.mp3/home/mayur/mayank/Error-Driven-ASR-Personalization/mozilla/cv-corpus-7.0-2021-07-21/en/clips/common_voice_en_217813.mp3/home/mayur/mayank/Error-Driven-ASR-Personalization/mozilla/cv-corpus-7.0-2021-07-21/en/clips/common_voice_en_19719767.mp3\n",
      "\n",
      "\n"
     ]
    },
    {
     "name": "stderr",
     "output_type": "stream",
     "text": [
      "  2%|▏         | 74/3000 [00:10<10:45,  4.53it/s]"
     ]
    },
    {
     "name": "stdout",
     "output_type": "stream",
     "text": [
      "/home/mayur/mayank/Error-Driven-ASR-Personalization/mozilla/cv-corpus-7.0-2021-07-21/en/clips/common_voice_en_23610662.mp3/home/mayur/mayank/Error-Driven-ASR-Personalization/mozilla/cv-corpus-7.0-2021-07-21/en/clips/common_voice_en_22252746.mp3\n",
      "\n"
     ]
    },
    {
     "name": "stderr",
     "output_type": "stream",
     "text": [
      "\r",
      "  2%|▏         | 72/3000 [00:10<12:37,  3.87it/s]"
     ]
    },
    {
     "name": "stdout",
     "output_type": "stream",
     "text": [
      "/home/mayur/mayank/Error-Driven-ASR-Personalization/mozilla/cv-corpus-7.0-2021-07-21/en/clips/common_voice_en_25274099.mp3\n"
     ]
    },
    {
     "name": "stderr",
     "output_type": "stream",
     "text": [
      "\r",
      "  3%|▎         | 84/3000 [00:10<13:39,  3.56it/s]"
     ]
    },
    {
     "name": "stdout",
     "output_type": "stream",
     "text": [
      "/home/mayur/mayank/Error-Driven-ASR-Personalization/mozilla/cv-corpus-7.0-2021-07-21/en/clips/common_voice_en_139680.mp3\n"
     ]
    },
    {
     "name": "stderr",
     "output_type": "stream",
     "text": [
      "\r",
      "  5%|▍         | 99/2169 [00:10<06:26,  5.36it/s]"
     ]
    },
    {
     "name": "stdout",
     "output_type": "stream",
     "text": [
      "/home/mayur/mayank/Error-Driven-ASR-Personalization/mozilla/cv-corpus-7.0-2021-07-21/en/clips/common_voice_en_23930450.mp3\n"
     ]
    },
    {
     "name": "stderr",
     "output_type": "stream",
     "text": [
      "  2%|▏         | 66/3000 [00:10<15:09,  3.22it/s]"
     ]
    },
    {
     "name": "stdout",
     "output_type": "stream",
     "text": [
      "/home/mayur/mayank/Error-Driven-ASR-Personalization/mozilla/cv-corpus-7.0-2021-07-21/en/clips/common_voice_en_22763669.mp3"
     ]
    },
    {
     "name": "stderr",
     "output_type": "stream",
     "text": [
      "\r",
      "  2%|▏         | 67/3000 [00:10<11:50,  4.13it/s]"
     ]
    },
    {
     "name": "stdout",
     "output_type": "stream",
     "text": [
      "\n",
      "/home/mayur/mayank/Error-Driven-ASR-Personalization/mozilla/cv-corpus-7.0-2021-07-21/en/clips/common_voice_en_21275000.mp3/home/mayur/mayank/Error-Driven-ASR-Personalization/mozilla/cv-corpus-7.0-2021-07-21/en/clips/common_voice_en_26982935.mp3\n",
      "/home/mayur/mayank/Error-Driven-ASR-Personalization/mozilla/cv-corpus-7.0-2021-07-21/en/clips/common_voice_en_17355386.mp3\n",
      "\n"
     ]
    },
    {
     "name": "stderr",
     "output_type": "stream",
     "text": [
      "  2%|▎         | 75/3000 [00:10<12:44,  3.83it/s]"
     ]
    },
    {
     "name": "stdout",
     "output_type": "stream",
     "text": [
      "/home/mayur/mayank/Error-Driven-ASR-Personalization/mozilla/cv-corpus-7.0-2021-07-21/en/clips/common_voice_en_22940314.mp3/home/mayur/mayank/Error-Driven-ASR-Personalization/mozilla/cv-corpus-7.0-2021-07-21/en/clips/common_voice_en_478597.mp3\n",
      "\n"
     ]
    },
    {
     "name": "stderr",
     "output_type": "stream",
     "text": [
      "\r",
      "  3%|▎         | 85/3000 [00:10<13:15,  3.67it/s]"
     ]
    },
    {
     "name": "stdout",
     "output_type": "stream",
     "text": [
      "/home/mayur/mayank/Error-Driven-ASR-Personalization/mozilla/cv-corpus-7.0-2021-07-21/en/clips/common_voice_en_25152937.mp3\n"
     ]
    },
    {
     "name": "stderr",
     "output_type": "stream",
     "text": [
      "  2%|▏         | 73/3000 [00:10<13:42,  3.56it/s]]"
     ]
    },
    {
     "name": "stdout",
     "output_type": "stream",
     "text": [
      "/home/mayur/mayank/Error-Driven-ASR-Personalization/mozilla/cv-corpus-7.0-2021-07-21/en/clips/common_voice_en_20057427.mp3/home/mayur/mayank/Error-Driven-ASR-Personalization/mozilla/cv-corpus-7.0-2021-07-21/en/clips/common_voice_en_18339187.mp3\n",
      "\n"
     ]
    },
    {
     "name": "stderr",
     "output_type": "stream",
     "text": [
      "\r",
      "  2%|▏         | 68/3000 [00:10<11:56,  4.09it/s]"
     ]
    },
    {
     "name": "stdout",
     "output_type": "stream",
     "text": [
      "/home/mayur/mayank/Error-Driven-ASR-Personalization/mozilla/cv-corpus-7.0-2021-07-21/en/clips/common_voice_en_22106481.mp3\n"
     ]
    },
    {
     "name": "stderr",
     "output_type": "stream",
     "text": [
      "  2%|▏         | 65/3000 [00:10<14:34,  3.36it/s]"
     ]
    },
    {
     "name": "stdout",
     "output_type": "stream",
     "text": [
      "/home/mayur/mayank/Error-Driven-ASR-Personalization/mozilla/cv-corpus-7.0-2021-07-21/en/clips/common_voice_en_26261525.mp3/home/mayur/mayank/Error-Driven-ASR-Personalization/mozilla/cv-corpus-7.0-2021-07-21/en/clips/common_voice_en_18945581.mp3/home/mayur/mayank/Error-Driven-ASR-Personalization/mozilla/cv-corpus-7.0-2021-07-21/en/clips/common_voice_en_617192.mp3\n"
     ]
    },
    {
     "name": "stderr",
     "output_type": "stream",
     "text": [
      "\r",
      "  2%|▏         | 69/3000 [00:10<14:15,  3.43it/s]"
     ]
    },
    {
     "name": "stdout",
     "output_type": "stream",
     "text": [
      "\n",
      "\n",
      "/home/mayur/mayank/Error-Driven-ASR-Personalization/mozilla/cv-corpus-7.0-2021-07-21/en/clips/common_voice_en_18034233.mp3/home/mayur/mayank/Error-Driven-ASR-Personalization/mozilla/cv-corpus-7.0-2021-07-21/en/clips/common_voice_en_512950.mp3/home/mayur/mayank/Error-Driven-ASR-Personalization/mozilla/cv-corpus-7.0-2021-07-21/en/clips/common_voice_en_23628874.mp3\n",
      "\n",
      "\n",
      "/home/mayur/mayank/Error-Driven-ASR-Personalization/mozilla/cv-corpus-7.0-2021-07-21/en/clips/common_voice_en_23930484.mp3\n"
     ]
    },
    {
     "name": "stderr",
     "output_type": "stream",
     "text": [
      "\r",
      "  5%|▌         | 81/1598 [00:10<06:59,  3.62it/s]"
     ]
    },
    {
     "name": "stdout",
     "output_type": "stream",
     "text": [
      "/home/mayur/mayank/Error-Driven-ASR-Personalization/mozilla/cv-corpus-7.0-2021-07-21/en/clips/common_voice_en_22449627.mp3\n"
     ]
    },
    {
     "name": "stderr",
     "output_type": "stream",
     "text": [
      "  2%|▏         | 69/3000 [00:10<11:13,  4.35it/s]"
     ]
    },
    {
     "name": "stdout",
     "output_type": "stream",
     "text": [
      "/home/mayur/mayank/Error-Driven-ASR-Personalization/mozilla/cv-corpus-7.0-2021-07-21/en/clips/common_voice_en_20934315.mp3/home/mayur/mayank/Error-Driven-ASR-Personalization/mozilla/cv-corpus-7.0-2021-07-21/en/clips/common_voice_en_19666194.mp3"
     ]
    },
    {
     "name": "stderr",
     "output_type": "stream",
     "text": [
      "  3%|▎         | 87/3000 [00:10<09:50,  4.93it/s]"
     ]
    },
    {
     "name": "stdout",
     "output_type": "stream",
     "text": [
      "\n"
     ]
    },
    {
     "name": "stderr",
     "output_type": "stream",
     "text": [
      "\r",
      "  2%|▎         | 75/3000 [00:10<10:05,  4.83it/s]"
     ]
    },
    {
     "name": "stdout",
     "output_type": "stream",
     "text": [
      "\n",
      "/home/mayur/mayank/Error-Driven-ASR-Personalization/mozilla/cv-corpus-7.0-2021-07-21/en/clips/common_voice_en_547146.mp3/home/mayur/mayank/Error-Driven-ASR-Personalization/mozilla/cv-corpus-7.0-2021-07-21/en/clips/common_voice_en_498111.mp3/home/mayur/mayank/Error-Driven-ASR-Personalization/mozilla/cv-corpus-7.0-2021-07-21/en/clips/common_voice_en_19853757.mp3\n",
      "\n",
      "\n"
     ]
    },
    {
     "name": "stderr",
     "output_type": "stream",
     "text": [
      "  5%|▍         | 102/2169 [00:10<05:46,  5.97it/s]"
     ]
    },
    {
     "name": "stdout",
     "output_type": "stream",
     "text": [
      "/home/mayur/mayank/Error-Driven-ASR-Personalization/mozilla/cv-corpus-7.0-2021-07-21/en/clips/common_voice_en_20877921.mp3/home/mayur/mayank/Error-Driven-ASR-Personalization/mozilla/cv-corpus-7.0-2021-07-21/en/clips/common_voice_en_18673988.mp3\n",
      "\n"
     ]
    },
    {
     "name": "stderr",
     "output_type": "stream",
     "text": [
      "  2%|▏         | 70/3000 [00:10<13:50,  3.53it/s]"
     ]
    },
    {
     "name": "stdout",
     "output_type": "stream",
     "text": [
      "/home/mayur/mayank/Error-Driven-ASR-Personalization/mozilla/cv-corpus-7.0-2021-07-21/en/clips/common_voice_en_17782890.mp3/home/mayur/mayank/Error-Driven-ASR-Personalization/mozilla/cv-corpus-7.0-2021-07-21/en/clips/common_voice_en_610610.mp3\n",
      "\n"
     ]
    },
    {
     "name": "stderr",
     "output_type": "stream",
     "text": [
      "\r",
      "  3%|▎         | 88/3000 [00:11<10:43,  4.52it/s]"
     ]
    },
    {
     "name": "stdout",
     "output_type": "stream",
     "text": [
      "/home/mayur/mayank/Error-Driven-ASR-Personalization/mozilla/cv-corpus-7.0-2021-07-21/en/clips/common_voice_en_23626021.mp3\n"
     ]
    },
    {
     "name": "stderr",
     "output_type": "stream",
     "text": [
      "\r",
      "  3%|▎         | 78/3000 [00:11<11:40,  4.17it/s]"
     ]
    },
    {
     "name": "stdout",
     "output_type": "stream",
     "text": [
      "/home/mayur/mayank/Error-Driven-ASR-Personalization/mozilla/cv-corpus-7.0-2021-07-21/en/clips/common_voice_en_550918.mp3\n"
     ]
    },
    {
     "name": "stderr",
     "output_type": "stream",
     "text": [
      "\r",
      "  5%|▍         | 103/2169 [00:11<06:44,  5.11it/s]"
     ]
    },
    {
     "name": "stdout",
     "output_type": "stream",
     "text": [
      "/home/mayur/mayank/Error-Driven-ASR-Personalization/mozilla/cv-corpus-7.0-2021-07-21/en/clips/common_voice_en_18715003.mp3\n"
     ]
    },
    {
     "name": "stderr",
     "output_type": "stream",
     "text": [
      "\r",
      "  2%|▏         | 70/3000 [00:11<12:22,  3.94it/s]"
     ]
    },
    {
     "name": "stdout",
     "output_type": "stream",
     "text": [
      "/home/mayur/mayank/Error-Driven-ASR-Personalization/mozilla/cv-corpus-7.0-2021-07-21/en/clips/common_voice_en_545920.mp3\n"
     ]
    },
    {
     "name": "stderr",
     "output_type": "stream",
     "text": [
      "  2%|▏         | 67/3000 [00:10<14:30,  3.37it/s]"
     ]
    },
    {
     "name": "stdout",
     "output_type": "stream",
     "text": [
      "/home/mayur/mayank/Error-Driven-ASR-Personalization/mozilla/cv-corpus-7.0-2021-07-21/en/clips/common_voice_en_492954.mp3/home/mayur/mayank/Error-Driven-ASR-Personalization/mozilla/cv-corpus-7.0-2021-07-21/en/clips/common_voice_en_581295.mp3/home/mayur/mayank/Error-Driven-ASR-Personalization/mozilla/cv-corpus-7.0-2021-07-21/en/clips/common_voice_en_22913333.mp3/home/mayur/mayank/Error-Driven-ASR-Personalization/mozilla/cv-corpus-7.0-2021-07-21/en/clips/common_voice_en_624793.mp3\n",
      "/home/mayur/mayank/Error-Driven-ASR-Personalization/mozilla/cv-corpus-7.0-2021-07-21/en/clips/common_voice_en_23948200.mp3\n",
      "\n",
      "\n",
      "\n"
     ]
    },
    {
     "name": "stderr",
     "output_type": "stream",
     "text": [
      "\r",
      "  5%|▍         | 104/2169 [00:11<06:51,  5.02it/s]"
     ]
    },
    {
     "name": "stdout",
     "output_type": "stream",
     "text": [
      "/home/mayur/mayank/Error-Driven-ASR-Personalization/mozilla/cv-corpus-7.0-2021-07-21/en/clips/common_voice_en_15639.mp3\n"
     ]
    },
    {
     "name": "stderr",
     "output_type": "stream",
     "text": [
      "\r",
      "  3%|▎         | 89/3000 [00:11<10:54,  4.45it/s]"
     ]
    },
    {
     "name": "stdout",
     "output_type": "stream",
     "text": [
      "/home/mayur/mayank/Error-Driven-ASR-Personalization/mozilla/cv-corpus-7.0-2021-07-21/en/clips/common_voice_en_48819.mp3\n"
     ]
    },
    {
     "name": "stderr",
     "output_type": "stream",
     "text": [
      "  2%|▏         | 72/3000 [00:11<12:22,  3.95it/s]"
     ]
    },
    {
     "name": "stdout",
     "output_type": "stream",
     "text": [
      "/home/mayur/mayank/Error-Driven-ASR-Personalization/mozilla/cv-corpus-7.0-2021-07-21/en/clips/common_voice_en_672293.mp3\n",
      "/home/mayur/mayank/Error-Driven-ASR-Personalization/mozilla/cv-corpus-7.0-2021-07-21/en/clips/common_voice_en_17799208.mp3/home/mayur/mayank/Error-Driven-ASR-Personalization/mozilla/cv-corpus-7.0-2021-07-21/en/clips/common_voice_en_22016476.mp3\n",
      "\n"
     ]
    },
    {
     "name": "stderr",
     "output_type": "stream",
     "text": [
      "\r",
      "  2%|▏         | 70/3000 [00:11<12:45,  3.83it/s]"
     ]
    },
    {
     "name": "stdout",
     "output_type": "stream",
     "text": [
      "/home/mayur/mayank/Error-Driven-ASR-Personalization/mozilla/cv-corpus-7.0-2021-07-21/en/clips/common_voice_en_205576.mp3\n"
     ]
    },
    {
     "name": "stderr",
     "output_type": "stream",
     "text": [
      "\r",
      "  2%|▏         | 71/3000 [00:11<12:13,  4.00it/s]"
     ]
    },
    {
     "name": "stdout",
     "output_type": "stream",
     "text": [
      "/home/mayur/mayank/Error-Driven-ASR-Personalization/mozilla/cv-corpus-7.0-2021-07-21/en/clips/common_voice_en_22503950.mp3\n"
     ]
    },
    {
     "name": "stderr",
     "output_type": "stream",
     "text": [
      "\r",
      "  3%|▎         | 77/3000 [00:11<13:07,  3.71it/s]"
     ]
    },
    {
     "name": "stdout",
     "output_type": "stream",
     "text": [
      "/home/mayur/mayank/Error-Driven-ASR-Personalization/mozilla/cv-corpus-7.0-2021-07-21/en/clips/common_voice_en_564336.mp3"
     ]
    },
    {
     "name": "stderr",
     "output_type": "stream",
     "text": [
      "\r",
      "  3%|▎         | 90/3000 [00:11<10:33,  4.59it/s]"
     ]
    },
    {
     "name": "stdout",
     "output_type": "stream",
     "text": [
      "\n"
     ]
    },
    {
     "name": "stderr",
     "output_type": "stream",
     "text": [
      "  5%|▍         | 105/2169 [00:11<06:53,  4.99it/s]"
     ]
    },
    {
     "name": "stdout",
     "output_type": "stream",
     "text": [
      "/home/mayur/mayank/Error-Driven-ASR-Personalization/mozilla/cv-corpus-7.0-2021-07-21/en/clips/common_voice_en_25153022.mp3/home/mayur/mayank/Error-Driven-ASR-Personalization/mozilla/cv-corpus-7.0-2021-07-21/en/clips/common_voice_en_501424.mp3\n",
      "/home/mayur/mayank/Error-Driven-ASR-Personalization/mozilla/cv-corpus-7.0-2021-07-21/en/clips/common_voice_en_23930475.mp3\n",
      "\n"
     ]
    },
    {
     "name": "stderr",
     "output_type": "stream",
     "text": [
      "\r",
      "  2%|▏         | 73/3000 [00:11<11:31,  4.23it/s]"
     ]
    },
    {
     "name": "stdout",
     "output_type": "stream",
     "text": [
      "/home/mayur/mayank/Error-Driven-ASR-Personalization/mozilla/cv-corpus-7.0-2021-07-21/en/clips/common_voice_en_27144003.mp3"
     ]
    },
    {
     "name": "stderr",
     "output_type": "stream",
     "text": [
      "\r",
      "  3%|▎         | 80/3000 [00:11<11:20,  4.29it/s]"
     ]
    },
    {
     "name": "stdout",
     "output_type": "stream",
     "text": [
      "\n",
      "/home/mayur/mayank/Error-Driven-ASR-Personalization/mozilla/cv-corpus-7.0-2021-07-21/en/clips/common_voice_en_18996306.mp3"
     ]
    },
    {
     "name": "stderr",
     "output_type": "stream",
     "text": [
      "\r",
      "  5%|▌         | 85/1598 [00:11<05:39,  4.45it/s]"
     ]
    },
    {
     "name": "stdout",
     "output_type": "stream",
     "text": [
      "\n",
      "/home/mayur/mayank/Error-Driven-ASR-Personalization/mozilla/cv-corpus-7.0-2021-07-21/en/clips/common_voice_en_22940319.mp3\n"
     ]
    },
    {
     "name": "stderr",
     "output_type": "stream",
     "text": [
      "\r",
      "  2%|▏         | 72/3000 [00:11<11:45,  4.15it/s]"
     ]
    },
    {
     "name": "stdout",
     "output_type": "stream",
     "text": [
      "/home/mayur/mayank/Error-Driven-ASR-Personalization/mozilla/cv-corpus-7.0-2021-07-21/en/clips/common_voice_en_20124391.mp3"
     ]
    },
    {
     "name": "stderr",
     "output_type": "stream",
     "text": [
      "\r",
      "  2%|▏         | 71/3000 [00:11<12:06,  4.03it/s]"
     ]
    },
    {
     "name": "stdout",
     "output_type": "stream",
     "text": [
      "/home/mayur/mayank/Error-Driven-ASR-Personalization/mozilla/cv-corpus-7.0-2021-07-21/en/clips/common_voice_en_20532009.mp3/home/mayur/mayank/Error-Driven-ASR-Personalization/mozilla/cv-corpus-7.0-2021-07-21/en/clips/common_voice_en_8546800.mp3\n",
      "/home/mayur/mayank/Error-Driven-ASR-Personalization/mozilla/cv-corpus-7.0-2021-07-21/en/clips/common_voice_en_23816716.mp3\n",
      "\n",
      "/home/mayur/mayank/Error-Driven-ASR-Personalization/mozilla/cv-corpus-7.0-2021-07-21/en/clips/common_voice_en_19055596.mp3\n",
      "\n",
      "/home/mayur/mayank/Error-Driven-ASR-Personalization/mozilla/cv-corpus-7.0-2021-07-21/en/clips/common_voice_en_514721.mp3\n"
     ]
    },
    {
     "name": "stderr",
     "output_type": "stream",
     "text": [
      "\r",
      "  2%|▏         | 74/3000 [00:11<11:24,  4.28it/s]"
     ]
    },
    {
     "name": "stdout",
     "output_type": "stream",
     "text": [
      "/home/mayur/mayank/Error-Driven-ASR-Personalization/mozilla/cv-corpus-7.0-2021-07-21/en/clips/common_voice_en_11803.mp3\n"
     ]
    },
    {
     "name": "stderr",
     "output_type": "stream",
     "text": [
      "\r",
      "  5%|▍         | 107/2169 [00:11<05:56,  5.79it/s]"
     ]
    },
    {
     "name": "stdout",
     "output_type": "stream",
     "text": [
      "/home/mayur/mayank/Error-Driven-ASR-Personalization/mozilla/cv-corpus-7.0-2021-07-21/en/clips/common_voice_en_21949143.mp3\n"
     ]
    },
    {
     "name": "stderr",
     "output_type": "stream",
     "text": [
      "  5%|▌         | 86/1598 [00:11<05:56,  4.24it/s]"
     ]
    },
    {
     "name": "stdout",
     "output_type": "stream",
     "text": [
      "/home/mayur/mayank/Error-Driven-ASR-Personalization/mozilla/cv-corpus-7.0-2021-07-21/en/clips/common_voice_en_20120158.mp3"
     ]
    },
    {
     "name": "stderr",
     "output_type": "stream",
     "text": [
      "\r",
      "  3%|▎         | 79/3000 [00:11<10:44,  4.53it/s]"
     ]
    },
    {
     "name": "stdout",
     "output_type": "stream",
     "text": [
      "/home/mayur/mayank/Error-Driven-ASR-Personalization/mozilla/cv-corpus-7.0-2021-07-21/en/clips/common_voice_en_19156125.mp3/home/mayur/mayank/Error-Driven-ASR-Personalization/mozilla/cv-corpus-7.0-2021-07-21/en/clips/common_voice_en_21786539.mp3"
     ]
    },
    {
     "name": "stderr",
     "output_type": "stream",
     "text": [
      "\r",
      "  2%|▏         | 72/3000 [00:11<12:02,  4.05it/s]"
     ]
    },
    {
     "name": "stdout",
     "output_type": "stream",
     "text": [
      "\n",
      "/home/mayur/mayank/Error-Driven-ASR-Personalization/mozilla/cv-corpus-7.0-2021-07-21/en/clips/common_voice_en_20441995.mp3\n",
      "\n",
      "\n",
      "/home/mayur/mayank/Error-Driven-ASR-Personalization/mozilla/cv-corpus-7.0-2021-07-21/en/clips/common_voice_en_22937792.mp3\n"
     ]
    },
    {
     "name": "stderr",
     "output_type": "stream",
     "text": [
      "  3%|▎         | 92/3000 [00:11<09:25,  5.14it/s]"
     ]
    },
    {
     "name": "stdout",
     "output_type": "stream",
     "text": [
      "/home/mayur/mayank/Error-Driven-ASR-Personalization/mozilla/cv-corpus-7.0-2021-07-21/en/clips/common_voice_en_20183784.mp3/home/mayur/mayank/Error-Driven-ASR-Personalization/mozilla/cv-corpus-7.0-2021-07-21/en/clips/common_voice_en_26980565.mp3\n",
      "\n"
     ]
    },
    {
     "name": "stderr",
     "output_type": "stream",
     "text": [
      "\r",
      "  2%|▎         | 75/3000 [00:11<09:35,  5.08it/s]"
     ]
    },
    {
     "name": "stdout",
     "output_type": "stream",
     "text": [
      "/home/mayur/mayank/Error-Driven-ASR-Personalization/mozilla/cv-corpus-7.0-2021-07-21/en/clips/common_voice_en_23945381.mp3\n"
     ]
    },
    {
     "name": "stderr",
     "output_type": "stream",
     "text": [
      "\r",
      "  5%|▍         | 108/2169 [00:11<05:35,  6.14it/s]"
     ]
    },
    {
     "name": "stdout",
     "output_type": "stream",
     "text": [
      "/home/mayur/mayank/Error-Driven-ASR-Personalization/mozilla/cv-corpus-7.0-2021-07-21/en/clips/common_voice_en_20040124.mp3\n"
     ]
    },
    {
     "name": "stderr",
     "output_type": "stream",
     "text": [
      "\r",
      "  3%|▎         | 82/3000 [00:11<11:11,  4.35it/s]"
     ]
    },
    {
     "name": "stdout",
     "output_type": "stream",
     "text": [
      "/home/mayur/mayank/Error-Driven-ASR-Personalization/mozilla/cv-corpus-7.0-2021-07-21/en/clips/common_voice_en_216443.mp3\n"
     ]
    },
    {
     "name": "stderr",
     "output_type": "stream",
     "text": [
      "\r",
      "  5%|▌         | 87/1598 [00:12<05:41,  4.42it/s]"
     ]
    },
    {
     "name": "stdout",
     "output_type": "stream",
     "text": [
      "/home/mayur/mayank/Error-Driven-ASR-Personalization/mozilla/cv-corpus-7.0-2021-07-21/en/clips/common_voice_en_21786378.mp3\n"
     ]
    },
    {
     "name": "stderr",
     "output_type": "stream",
     "text": [
      "  3%|▎         | 80/3000 [00:12<11:50,  4.11it/s]"
     ]
    },
    {
     "name": "stdout",
     "output_type": "stream",
     "text": [
      "/home/mayur/mayank/Error-Driven-ASR-Personalization/mozilla/cv-corpus-7.0-2021-07-21/en/clips/common_voice_en_26996367.mp3/home/mayur/mayank/Error-Driven-ASR-Personalization/mozilla/cv-corpus-7.0-2021-07-21/en/clips/common_voice_en_19439918.mp3\n"
     ]
    },
    {
     "name": "stderr",
     "output_type": "stream",
     "text": [
      "\r",
      "  3%|▎         | 76/3000 [00:12<10:24,  4.68it/s]"
     ]
    },
    {
     "name": "stdout",
     "output_type": "stream",
     "text": [
      "\n",
      "/home/mayur/mayank/Error-Driven-ASR-Personalization/mozilla/cv-corpus-7.0-2021-07-21/en/clips/common_voice_en_25128141.mp3\n"
     ]
    },
    {
     "name": "stderr",
     "output_type": "stream",
     "text": [
      "\r",
      "  3%|▎         | 93/3000 [00:12<10:56,  4.43it/s]"
     ]
    },
    {
     "name": "stdout",
     "output_type": "stream",
     "text": [
      "/home/mayur/mayank/Error-Driven-ASR-Personalization/mozilla/cv-corpus-7.0-2021-07-21/en/clips/common_voice_en_17272502.mp3\n"
     ]
    },
    {
     "name": "stderr",
     "output_type": "stream",
     "text": [
      "\r",
      "  3%|▎         | 83/3000 [00:12<10:04,  4.83it/s]"
     ]
    },
    {
     "name": "stdout",
     "output_type": "stream",
     "text": [
      "/home/mayur/mayank/Error-Driven-ASR-Personalization/mozilla/cv-corpus-7.0-2021-07-21/en/clips/common_voice_en_25570239.mp3\n"
     ]
    },
    {
     "name": "stderr",
     "output_type": "stream",
     "text": [
      "  2%|▏         | 73/3000 [00:12<13:37,  3.58it/s]]"
     ]
    },
    {
     "name": "stdout",
     "output_type": "stream",
     "text": [
      "/home/mayur/mayank/Error-Driven-ASR-Personalization/mozilla/cv-corpus-7.0-2021-07-21/en/clips/common_voice_en_23930412.mp3/home/mayur/mayank/Error-Driven-ASR-Personalization/mozilla/cv-corpus-7.0-2021-07-21/en/clips/common_voice_en_17877602.mp3/home/mayur/mayank/Error-Driven-ASR-Personalization/mozilla/cv-corpus-7.0-2021-07-21/en/clips/common_voice_en_22960450.mp3\n",
      "\n",
      "\n"
     ]
    },
    {
     "name": "stderr",
     "output_type": "stream",
     "text": [
      "  2%|▎         | 75/3000 [00:12<10:54,  4.47it/s]"
     ]
    },
    {
     "name": "stdout",
     "output_type": "stream",
     "text": [
      "/home/mayur/mayank/Error-Driven-ASR-Personalization/mozilla/cv-corpus-7.0-2021-07-21/en/clips/common_voice_en_17776722.mp3"
     ]
    },
    {
     "name": "stderr",
     "output_type": "stream",
     "text": [
      "\r",
      "  3%|▎         | 77/3000 [00:12<09:06,  5.35it/s]"
     ]
    },
    {
     "name": "stdout",
     "output_type": "stream",
     "text": [
      "/home/mayur/mayank/Error-Driven-ASR-Personalization/mozilla/cv-corpus-7.0-2021-07-21/en/clips/common_voice_en_19402704.mp3\n",
      "\n",
      "/home/mayur/mayank/Error-Driven-ASR-Personalization/mozilla/cv-corpus-7.0-2021-07-21/en/clips/common_voice_en_19943667.mp3/home/mayur/mayank/Error-Driven-ASR-Personalization/mozilla/cv-corpus-7.0-2021-07-21/en/clips/common_voice_en_27180303.mp3\n",
      "\n"
     ]
    },
    {
     "name": "stderr",
     "output_type": "stream",
     "text": [
      "\r",
      "  5%|▌         | 110/2169 [00:12<05:51,  5.86it/s]"
     ]
    },
    {
     "name": "stdout",
     "output_type": "stream",
     "text": [
      "/home/mayur/mayank/Error-Driven-ASR-Personalization/mozilla/cv-corpus-7.0-2021-07-21/en/clips/common_voice_en_152369.mp3\n"
     ]
    },
    {
     "name": "stderr",
     "output_type": "stream",
     "text": [
      "\r",
      "  2%|▏         | 72/3000 [00:12<11:10,  4.37it/s]"
     ]
    },
    {
     "name": "stdout",
     "output_type": "stream",
     "text": [
      "/home/mayur/mayank/Error-Driven-ASR-Personalization/mozilla/cv-corpus-7.0-2021-07-21/en/clips/common_voice_en_26982788.mp3\n"
     ]
    },
    {
     "name": "stderr",
     "output_type": "stream",
     "text": [
      "  3%|▎         | 84/3000 [00:12<09:04,  5.36it/s]"
     ]
    },
    {
     "name": "stdout",
     "output_type": "stream",
     "text": [
      "/home/mayur/mayank/Error-Driven-ASR-Personalization/mozilla/cv-corpus-7.0-2021-07-21/en/clips/common_voice_en_18518397.mp3\n",
      "/home/mayur/mayank/Error-Driven-ASR-Personalization/mozilla/cv-corpus-7.0-2021-07-21/en/clips/common_voice_en_684991.mp3\n",
      "/home/mayur/mayank/Error-Driven-ASR-Personalization/mozilla/cv-corpus-7.0-2021-07-21/en/clips/common_voice_en_17249752.mp3"
     ]
    },
    {
     "name": "stderr",
     "output_type": "stream",
     "text": [
      "\r",
      "  2%|▏         | 74/3000 [00:12<12:12,  3.99it/s]"
     ]
    },
    {
     "name": "stdout",
     "output_type": "stream",
     "text": [
      "/home/mayur/mayank/Error-Driven-ASR-Personalization/mozilla/cv-corpus-7.0-2021-07-21/en/clips/common_voice_en_17782894.mp3/home/mayur/mayank/Error-Driven-ASR-Personalization/mozilla/cv-corpus-7.0-2021-07-21/en/clips/common_voice_en_19652585.mp3/home/mayur/mayank/Error-Driven-ASR-Personalization/mozilla/cv-corpus-7.0-2021-07-21/en/clips/common_voice_en_20870839.mp3\n",
      "\n",
      "/home/mayur/mayank/Error-Driven-ASR-Personalization/mozilla/cv-corpus-7.0-2021-07-21/en/clips/common_voice_en_10679051.mp3\n",
      "\n",
      "\n"
     ]
    },
    {
     "name": "stderr",
     "output_type": "stream",
     "text": [
      "\r",
      "  5%|▌         | 111/2169 [00:12<06:21,  5.39it/s]"
     ]
    },
    {
     "name": "stdout",
     "output_type": "stream",
     "text": [
      "/home/mayur/mayank/Error-Driven-ASR-Personalization/mozilla/cv-corpus-7.0-2021-07-21/en/clips/common_voice_en_18714871.mp3\n"
     ]
    },
    {
     "name": "stderr",
     "output_type": "stream",
     "text": [
      "\r",
      "  2%|▏         | 73/3000 [00:12<11:07,  4.39it/s]"
     ]
    },
    {
     "name": "stdout",
     "output_type": "stream",
     "text": [
      "/home/mayur/mayank/Error-Driven-ASR-Personalization/mozilla/cv-corpus-7.0-2021-07-21/en/clips/common_voice_en_24477155.mp3\n"
     ]
    },
    {
     "name": "stderr",
     "output_type": "stream",
     "text": [
      "\r",
      "  3%|▎         | 85/3000 [00:12<09:44,  4.99it/s]"
     ]
    },
    {
     "name": "stdout",
     "output_type": "stream",
     "text": [
      "/home/mayur/mayank/Error-Driven-ASR-Personalization/mozilla/cv-corpus-7.0-2021-07-21/en/clips/common_voice_en_17280478.mp3\n"
     ]
    },
    {
     "name": "stderr",
     "output_type": "stream",
     "text": [
      "\r",
      "  3%|▎         | 79/3000 [00:12<08:25,  5.78it/s]"
     ]
    },
    {
     "name": "stdout",
     "output_type": "stream",
     "text": [
      "/home/mayur/mayank/Error-Driven-ASR-Personalization/mozilla/cv-corpus-7.0-2021-07-21/en/clips/common_voice_en_26782440.mp3/home/mayur/mayank/Error-Driven-ASR-Personalization/mozilla/cv-corpus-7.0-2021-07-21/en/clips/common_voice_en_656320.mp3\n"
     ]
    },
    {
     "name": "stderr",
     "output_type": "stream",
     "text": [
      "\r",
      "  2%|▎         | 75/3000 [00:12<11:49,  4.12it/s]"
     ]
    },
    {
     "name": "stdout",
     "output_type": "stream",
     "text": [
      "\n"
     ]
    },
    {
     "name": "stderr",
     "output_type": "stream",
     "text": [
      "  3%|▎         | 83/3000 [00:12<09:18,  5.22it/s]"
     ]
    },
    {
     "name": "stdout",
     "output_type": "stream",
     "text": [
      "/home/mayur/mayank/Error-Driven-ASR-Personalization/mozilla/cv-corpus-7.0-2021-07-21/en/clips/common_voice_en_25046395.mp3/home/mayur/mayank/Error-Driven-ASR-Personalization/mozilla/cv-corpus-7.0-2021-07-21/en/clips/common_voice_en_642791.mp3\n",
      "/home/mayur/mayank/Error-Driven-ASR-Personalization/mozilla/cv-corpus-7.0-2021-07-21/en/clips/common_voice_en_614546.mp3/home/mayur/mayank/Error-Driven-ASR-Personalization/mozilla/cv-corpus-7.0-2021-07-21/en/clips/common_voice_en_23786947.mp3\n",
      "\n",
      "\n"
     ]
    },
    {
     "name": "stderr",
     "output_type": "stream",
     "text": [
      "\r",
      "  3%|▎         | 77/3000 [00:12<09:59,  4.88it/s]"
     ]
    },
    {
     "name": "stdout",
     "output_type": "stream",
     "text": [
      "/home/mayur/mayank/Error-Driven-ASR-Personalization/mozilla/cv-corpus-7.0-2021-07-21/en/clips/common_voice_en_19666257.mp3\n"
     ]
    },
    {
     "name": "stderr",
     "output_type": "stream",
     "text": [
      "\r",
      "  5%|▌         | 113/2169 [00:12<04:48,  7.12it/s]"
     ]
    },
    {
     "name": "stdout",
     "output_type": "stream",
     "text": [
      "/home/mayur/mayank/Error-Driven-ASR-Personalization/mozilla/cv-corpus-7.0-2021-07-21/en/clips/common_voice_en_18673989.mp3\n",
      "/home/mayur/mayank/Error-Driven-ASR-Personalization/mozilla/cv-corpus-7.0-2021-07-21/en/clips/common_voice_en_568174.mp3"
     ]
    },
    {
     "name": "stderr",
     "output_type": "stream",
     "text": [
      "  2%|▏         | 74/3000 [00:12<11:03,  4.41it/s]"
     ]
    },
    {
     "name": "stdout",
     "output_type": "stream",
     "text": [
      "/home/mayur/mayank/Error-Driven-ASR-Personalization/mozilla/cv-corpus-7.0-2021-07-21/en/clips/common_voice_en_22305260.mp3\n"
     ]
    },
    {
     "name": "stderr",
     "output_type": "stream",
     "text": [
      "  3%|▎         | 96/3000 [00:12<10:05,  4.80it/s]"
     ]
    },
    {
     "name": "stdout",
     "output_type": "stream",
     "text": [
      "\n",
      "/home/mayur/mayank/Error-Driven-ASR-Personalization/mozilla/cv-corpus-7.0-2021-07-21/en/clips/common_voice_en_20259836.mp3/home/mayur/mayank/Error-Driven-ASR-Personalization/mozilla/cv-corpus-7.0-2021-07-21/en/clips/common_voice_en_18680566.mp3/home/mayur/mayank/Error-Driven-ASR-Personalization/mozilla/cv-corpus-7.0-2021-07-21/en/clips/common_voice_en_18334407.mp3/home/mayur/mayank/Error-Driven-ASR-Personalization/mozilla/cv-corpus-7.0-2021-07-21/en/clips/common_voice_en_22103351.mp3/home/mayur/mayank/Error-Driven-ASR-Personalization/mozilla/cv-corpus-7.0-2021-07-21/en/clips/common_voice_en_17256481.mp3\n",
      "\n",
      "\n",
      "\n",
      "\n"
     ]
    },
    {
     "name": "stderr",
     "output_type": "stream",
     "text": [
      "\r",
      "  5%|▌         | 115/2169 [00:12<03:44,  9.13it/s]"
     ]
    },
    {
     "name": "stdout",
     "output_type": "stream",
     "text": [
      "/home/mayur/mayank/Error-Driven-ASR-Personalization/mozilla/cv-corpus-7.0-2021-07-21/en/clips/common_voice_en_656361.mp3\n"
     ]
    },
    {
     "name": "stderr",
     "output_type": "stream",
     "text": [
      "  3%|▎         | 76/3000 [00:12<11:37,  4.19it/s]"
     ]
    },
    {
     "name": "stdout",
     "output_type": "stream",
     "text": [
      "/home/mayur/mayank/Error-Driven-ASR-Personalization/mozilla/cv-corpus-7.0-2021-07-21/en/clips/common_voice_en_25456579.mp3/home/mayur/mayank/Error-Driven-ASR-Personalization/mozilla/cv-corpus-7.0-2021-07-21/en/clips/common_voice_en_174975.mp3\n",
      "\n",
      "/home/mayur/mayank/Error-Driven-ASR-Personalization/mozilla/cv-corpus-7.0-2021-07-21/en/clips/common_voice_en_18714990.mp3"
     ]
    },
    {
     "name": "stderr",
     "output_type": "stream",
     "text": [
      "\r",
      "  3%|▎         | 87/3000 [00:12<08:31,  5.69it/s]"
     ]
    },
    {
     "name": "stdout",
     "output_type": "stream",
     "text": [
      "\n"
     ]
    },
    {
     "name": "stderr",
     "output_type": "stream",
     "text": [
      "\r",
      "  3%|▎         | 81/3000 [00:12<07:38,  6.36it/s]"
     ]
    },
    {
     "name": "stdout",
     "output_type": "stream",
     "text": [
      "/home/mayur/mayank/Error-Driven-ASR-Personalization/mozilla/cv-corpus-7.0-2021-07-21/en/clips/common_voice_en_18488089.mp3"
     ]
    },
    {
     "name": "stderr",
     "output_type": "stream",
     "text": [
      "\r",
      "  3%|▎         | 97/3000 [00:12<08:46,  5.52it/s]"
     ]
    },
    {
     "name": "stdout",
     "output_type": "stream",
     "text": [
      "/home/mayur/mayank/Error-Driven-ASR-Personalization/mozilla/cv-corpus-7.0-2021-07-21/en/clips/common_voice_en_22773452.mp3"
     ]
    },
    {
     "name": "stderr",
     "output_type": "stream",
     "text": [
      "\r",
      "  6%|▌         | 92/1598 [00:12<04:17,  5.85it/s]"
     ]
    },
    {
     "name": "stdout",
     "output_type": "stream",
     "text": [
      "\n",
      "/home/mayur/mayank/Error-Driven-ASR-Personalization/mozilla/cv-corpus-7.0-2021-07-21/en/clips/common_voice_en_32912.mp3\n",
      "/home/mayur/mayank/Error-Driven-ASR-Personalization/mozilla/cv-corpus-7.0-2021-07-21/en/clips/common_voice_en_23383927.mp3\n",
      "\n"
     ]
    },
    {
     "name": "stderr",
     "output_type": "stream",
     "text": [
      "  3%|▎         | 85/3000 [00:12<08:48,  5.51it/s]"
     ]
    },
    {
     "name": "stdout",
     "output_type": "stream",
     "text": [
      "/home/mayur/mayank/Error-Driven-ASR-Personalization/mozilla/cv-corpus-7.0-2021-07-21/en/clips/common_voice_en_18595005.mp3/home/mayur/mayank/Error-Driven-ASR-Personalization/mozilla/cv-corpus-7.0-2021-07-21/en/clips/common_voice_en_19150734.mp3\n",
      "/home/mayur/mayank/Error-Driven-ASR-Personalization/mozilla/cv-corpus-7.0-2021-07-21/en/clips/common_voice_en_19817837.mp3\n",
      "\n"
     ]
    },
    {
     "name": "stderr",
     "output_type": "stream",
     "text": [
      "\r",
      "  5%|▌         | 117/2169 [00:12<03:11, 10.70it/s]"
     ]
    },
    {
     "name": "stdout",
     "output_type": "stream",
     "text": [
      "/home/mayur/mayank/Error-Driven-ASR-Personalization/mozilla/cv-corpus-7.0-2021-07-21/en/clips/common_voice_en_21949253.mp3\n"
     ]
    },
    {
     "name": "stderr",
     "output_type": "stream",
     "text": [
      "\r",
      "  3%|▎         | 79/3000 [00:12<09:01,  5.40it/s]"
     ]
    },
    {
     "name": "stdout",
     "output_type": "stream",
     "text": [
      "/home/mayur/mayank/Error-Driven-ASR-Personalization/mozilla/cv-corpus-7.0-2021-07-21/en/clips/common_voice_en_17267751.mp3\n"
     ]
    },
    {
     "name": "stderr",
     "output_type": "stream",
     "text": [
      "\r",
      "  3%|▎         | 98/3000 [00:13<07:49,  6.19it/s]"
     ]
    },
    {
     "name": "stdout",
     "output_type": "stream",
     "text": [
      "/home/mayur/mayank/Error-Driven-ASR-Personalization/mozilla/cv-corpus-7.0-2021-07-21/en/clips/common_voice_en_17996546.mp3\n"
     ]
    },
    {
     "name": "stderr",
     "output_type": "stream",
     "text": [
      "  6%|▌         | 93/1598 [00:13<04:16,  5.87it/s]"
     ]
    },
    {
     "name": "stdout",
     "output_type": "stream",
     "text": [
      "/home/mayur/mayank/Error-Driven-ASR-Personalization/mozilla/cv-corpus-7.0-2021-07-21/en/clips/common_voice_en_22416079.mp3/home/mayur/mayank/Error-Driven-ASR-Personalization/mozilla/cv-corpus-7.0-2021-07-21/en/clips/common_voice_en_35791.mp3/home/mayur/mayank/Error-Driven-ASR-Personalization/mozilla/cv-corpus-7.0-2021-07-21/en/clips/common_voice_en_20240312.mp3\n",
      "/home/mayur/mayank/Error-Driven-ASR-Personalization/mozilla/cv-corpus-7.0-2021-07-21/en/clips/common_voice_en_17860921.mp3\n",
      "\n",
      "\n",
      "/home/mayur/mayank/Error-Driven-ASR-Personalization/mozilla/cv-corpus-7.0-2021-07-21/en/clips/common_voice_en_18884117.mp3\n"
     ]
    },
    {
     "name": "stderr",
     "output_type": "stream",
     "text": [
      "\r",
      "  3%|▎         | 76/3000 [00:12<09:32,  5.11it/s]"
     ]
    },
    {
     "name": "stdout",
     "output_type": "stream",
     "text": [
      "/home/mayur/mayank/Error-Driven-ASR-Personalization/mozilla/cv-corpus-7.0-2021-07-21/en/clips/common_voice_en_21705209.mp3\n",
      "/home/mayur/mayank/Error-Driven-ASR-Personalization/mozilla/cv-corpus-7.0-2021-07-21/en/clips/common_voice_en_211446.mp3/home/mayur/mayank/Error-Driven-ASR-Personalization/mozilla/cv-corpus-7.0-2021-07-21/en/clips/common_voice_en_564720.mp3"
     ]
    },
    {
     "name": "stderr",
     "output_type": "stream",
     "text": [
      "\r",
      "  3%|▎         | 80/3000 [00:13<08:42,  5.59it/s]"
     ]
    },
    {
     "name": "stdout",
     "output_type": "stream",
     "text": [
      "\n",
      "\n",
      "/home/mayur/mayank/Error-Driven-ASR-Personalization/mozilla/cv-corpus-7.0-2021-07-21/en/clips/common_voice_en_22147656.mp3"
     ]
    },
    {
     "name": "stderr",
     "output_type": "stream",
     "text": [
      "\r",
      "  3%|▎         | 78/3000 [00:13<09:43,  5.00it/s]"
     ]
    },
    {
     "name": "stdout",
     "output_type": "stream",
     "text": [
      "/home/mayur/mayank/Error-Driven-ASR-Personalization/mozilla/cv-corpus-7.0-2021-07-21/en/clips/common_voice_en_21998752.mp3\n",
      "/home/mayur/mayank/Error-Driven-ASR-Personalization/mozilla/cv-corpus-7.0-2021-07-21/en/clips/common_voice_en_18837534.mp3\n",
      "\n"
     ]
    },
    {
     "name": "stderr",
     "output_type": "stream",
     "text": [
      "  3%|▎         | 87/3000 [00:13<07:18,  6.65it/s]]"
     ]
    },
    {
     "name": "stdout",
     "output_type": "stream",
     "text": [
      "/home/mayur/mayank/Error-Driven-ASR-Personalization/mozilla/cv-corpus-7.0-2021-07-21/en/clips/common_voice_en_19540117.mp3\n",
      "/home/mayur/mayank/Error-Driven-ASR-Personalization/mozilla/cv-corpus-7.0-2021-07-21/en/clips/common_voice_en_17850113.mp3\n"
     ]
    },
    {
     "name": "stderr",
     "output_type": "stream",
     "text": [
      "\r",
      "  3%|▎         | 83/3000 [00:13<07:39,  6.35it/s]"
     ]
    },
    {
     "name": "stdout",
     "output_type": "stream",
     "text": [
      "/home/mayur/mayank/Error-Driven-ASR-Personalization/mozilla/cv-corpus-7.0-2021-07-21/en/clips/common_voice_en_20386583.mp3\n"
     ]
    },
    {
     "name": "stderr",
     "output_type": "stream",
     "text": [
      "\r",
      "  5%|▌         | 119/2169 [00:13<03:45,  9.09it/s]"
     ]
    },
    {
     "name": "stdout",
     "output_type": "stream",
     "text": [
      "/home/mayur/mayank/Error-Driven-ASR-Personalization/mozilla/cv-corpus-7.0-2021-07-21/en/clips/common_voice_en_22223953.mp3\n"
     ]
    },
    {
     "name": "stderr",
     "output_type": "stream",
     "text": [
      "\r",
      "  3%|▎         | 77/3000 [00:12<08:48,  5.53it/s]"
     ]
    },
    {
     "name": "stdout",
     "output_type": "stream",
     "text": [
      "/home/mayur/mayank/Error-Driven-ASR-Personalization/mozilla/cv-corpus-7.0-2021-07-21/en/clips/common_voice_en_22070877.mp3/home/mayur/mayank/Error-Driven-ASR-Personalization/mozilla/cv-corpus-7.0-2021-07-21/en/clips/common_voice_en_71618.mp3\n",
      "\n"
     ]
    },
    {
     "name": "stderr",
     "output_type": "stream",
     "text": [
      "\r",
      "  6%|▌         | 95/1598 [00:13<03:30,  7.15it/s]"
     ]
    },
    {
     "name": "stdout",
     "output_type": "stream",
     "text": [
      "/home/mayur/mayank/Error-Driven-ASR-Personalization/mozilla/cv-corpus-7.0-2021-07-21/en/clips/common_voice_en_26206534.mp3\n"
     ]
    },
    {
     "name": "stderr",
     "output_type": "stream",
     "text": [
      "  3%|▎         | 88/3000 [00:13<07:00,  6.93it/s]"
     ]
    },
    {
     "name": "stdout",
     "output_type": "stream",
     "text": [
      "/home/mayur/mayank/Error-Driven-ASR-Personalization/mozilla/cv-corpus-7.0-2021-07-21/en/clips/common_voice_en_158212.mp3/home/mayur/mayank/Error-Driven-ASR-Personalization/mozilla/cv-corpus-7.0-2021-07-21/en/clips/common_voice_en_21456193.mp3/home/mayur/mayank/Error-Driven-ASR-Personalization/mozilla/cv-corpus-7.0-2021-07-21/en/clips/common_voice_en_595418.mp3/home/mayur/mayank/Error-Driven-ASR-Personalization/mozilla/cv-corpus-7.0-2021-07-21/en/clips/common_voice_en_20729648.mp3\n",
      "\n",
      "\n",
      "\n"
     ]
    },
    {
     "name": "stderr",
     "output_type": "stream",
     "text": [
      "\r",
      "  3%|▎         | 102/3000 [00:13<06:17,  7.67it/s]"
     ]
    },
    {
     "name": "stdout",
     "output_type": "stream",
     "text": [
      "/home/mayur/mayank/Error-Driven-ASR-Personalization/mozilla/cv-corpus-7.0-2021-07-21/en/clips/common_voice_en_20531998.mp3\n"
     ]
    },
    {
     "name": "stderr",
     "output_type": "stream",
     "text": [
      "\r",
      "  3%|▎         | 84/3000 [00:13<08:49,  5.51it/s]"
     ]
    },
    {
     "name": "stdout",
     "output_type": "stream",
     "text": [
      "/home/mayur/mayank/Error-Driven-ASR-Personalization/mozilla/cv-corpus-7.0-2021-07-21/en/clips/common_voice_en_676974.mp3\n",
      "/home/mayur/mayank/Error-Driven-ASR-Personalization/mozilla/cv-corpus-7.0-2021-07-21/en/clips/common_voice_en_24546298.mp3\n"
     ]
    },
    {
     "name": "stderr",
     "output_type": "stream",
     "text": [
      "  3%|▎         | 78/3000 [00:13<09:33,  5.10it/s]"
     ]
    },
    {
     "name": "stdout",
     "output_type": "stream",
     "text": [
      "/home/mayur/mayank/Error-Driven-ASR-Personalization/mozilla/cv-corpus-7.0-2021-07-21/en/clips/common_voice_en_17816531.mp3/home/mayur/mayank/Error-Driven-ASR-Personalization/mozilla/cv-corpus-7.0-2021-07-21/en/clips/common_voice_en_122840.mp3\n",
      "\n"
     ]
    },
    {
     "name": "stderr",
     "output_type": "stream",
     "text": [
      "\r",
      "  3%|▎         | 82/3000 [00:13<08:35,  5.66it/s]"
     ]
    },
    {
     "name": "stdout",
     "output_type": "stream",
     "text": [
      "/home/mayur/mayank/Error-Driven-ASR-Personalization/mozilla/cv-corpus-7.0-2021-07-21/en/clips/common_voice_en_21101857.mp3"
     ]
    },
    {
     "name": "stderr",
     "output_type": "stream",
     "text": [
      "  3%|▎         | 91/3000 [00:13<07:42,  6.29it/s]"
     ]
    },
    {
     "name": "stdout",
     "output_type": "stream",
     "text": [
      "/home/mayur/mayank/Error-Driven-ASR-Personalization/mozilla/cv-corpus-7.0-2021-07-21/en/clips/common_voice_en_636063.mp3\n",
      "/home/mayur/mayank/Error-Driven-ASR-Personalization/mozilla/cv-corpus-7.0-2021-07-21/en/clips/common_voice_en_22371719.mp3\n",
      "\n",
      "/home/mayur/mayank/Error-Driven-ASR-Personalization/mozilla/cv-corpus-7.0-2021-07-21/en/clips/common_voice_en_23628495.mp3/home/mayur/mayank/Error-Driven-ASR-Personalization/mozilla/cv-corpus-7.0-2021-07-21/en/clips/common_voice_en_483038.mp3\n"
     ]
    },
    {
     "name": "stderr",
     "output_type": "stream",
     "text": [
      "\r",
      "  3%|▎         | 89/3000 [00:13<08:04,  6.01it/s]"
     ]
    },
    {
     "name": "stdout",
     "output_type": "stream",
     "text": [
      "\n",
      "/home/mayur/mayank/Error-Driven-ASR-Personalization/mozilla/cv-corpus-7.0-2021-07-21/en/clips/common_voice_en_20128754.mp3\n",
      "/home/mayur/mayank/Error-Driven-ASR-Personalization/mozilla/cv-corpus-7.0-2021-07-21/en/clips/common_voice_en_126655.mp3\n",
      "/home/mayur/mayank/Error-Driven-ASR-Personalization/mozilla/cv-corpus-7.0-2021-07-21/en/clips/common_voice_en_18920987.mp3"
     ]
    },
    {
     "name": "stderr",
     "output_type": "stream",
     "text": [
      "\r",
      "  6%|▌         | 121/2169 [00:13<04:15,  8.01it/s]"
     ]
    },
    {
     "name": "stdout",
     "output_type": "stream",
     "text": [
      "\n",
      "/home/mayur/mayank/Error-Driven-ASR-Personalization/mozilla/cv-corpus-7.0-2021-07-21/en/clips/common_voice_en_22322211.mp3\n",
      "/home/mayur/mayank/Error-Driven-ASR-Personalization/mozilla/cv-corpus-7.0-2021-07-21/en/clips/common_voice_en_22103191.mp3/home/mayur/mayank/Error-Driven-ASR-Personalization/mozilla/cv-corpus-7.0-2021-07-21/en/clips/common_voice_en_18854025.mp3\n",
      "\n",
      "/home/mayur/mayank/Error-Driven-ASR-Personalization/mozilla/cv-corpus-7.0-2021-07-21/en/clips/common_voice_en_26565270.mp3\n",
      "/home/mayur/mayank/Error-Driven-ASR-Personalization/mozilla/cv-corpus-7.0-2021-07-21/en/clips/common_voice_en_20523851.mp3"
     ]
    },
    {
     "name": "stderr",
     "output_type": "stream",
     "text": [
      "\r",
      "  3%|▎         | 86/3000 [00:13<06:34,  7.40it/s]"
     ]
    },
    {
     "name": "stdout",
     "output_type": "stream",
     "text": [
      "\n"
     ]
    },
    {
     "name": "stderr",
     "output_type": "stream",
     "text": [
      "\r",
      "  3%|▎         | 104/3000 [00:13<05:27,  8.85it/s]"
     ]
    },
    {
     "name": "stdout",
     "output_type": "stream",
     "text": [
      "/home/mayur/mayank/Error-Driven-ASR-Personalization/mozilla/cv-corpus-7.0-2021-07-21/en/clips/common_voice_en_17520258.mp3\n",
      "/home/mayur/mayank/Error-Driven-ASR-Personalization/mozilla/cv-corpus-7.0-2021-07-21/en/clips/common_voice_en_555778.mp3\n"
     ]
    },
    {
     "name": "stderr",
     "output_type": "stream",
     "text": [
      "\r",
      "  3%|▎         | 80/3000 [00:13<06:48,  7.15it/s]"
     ]
    },
    {
     "name": "stdout",
     "output_type": "stream",
     "text": [
      "/home/mayur/mayank/Error-Driven-ASR-Personalization/mozilla/cv-corpus-7.0-2021-07-21/en/clips/common_voice_en_18752397.mp3\n"
     ]
    },
    {
     "name": "stderr",
     "output_type": "stream",
     "text": [
      "\r",
      "  6%|▌         | 98/1598 [00:13<03:13,  7.75it/s]"
     ]
    },
    {
     "name": "stdout",
     "output_type": "stream",
     "text": [
      "/home/mayur/mayank/Error-Driven-ASR-Personalization/mozilla/cv-corpus-7.0-2021-07-21/en/clips/common_voice_en_15651.mp3"
     ]
    },
    {
     "name": "stderr",
     "output_type": "stream",
     "text": [
      "  3%|▎         | 84/3000 [00:13<06:31,  7.45it/s]"
     ]
    },
    {
     "name": "stdout",
     "output_type": "stream",
     "text": [
      "/home/mayur/mayank/Error-Driven-ASR-Personalization/mozilla/cv-corpus-7.0-2021-07-21/en/clips/common_voice_en_22224600.mp3\n",
      "/home/mayur/mayank/Error-Driven-ASR-Personalization/mozilla/cv-corpus-7.0-2021-07-21/en/clips/common_voice_en_111201.mp3/home/mayur/mayank/Error-Driven-ASR-Personalization/mozilla/cv-corpus-7.0-2021-07-21/en/clips/common_voice_en_19260676.mp3\n",
      "\n",
      "\n"
     ]
    },
    {
     "name": "stderr",
     "output_type": "stream",
     "text": [
      "\r",
      "  3%|▎         | 82/3000 [00:13<06:48,  7.14it/s]"
     ]
    },
    {
     "name": "stdout",
     "output_type": "stream",
     "text": [
      "/home/mayur/mayank/Error-Driven-ASR-Personalization/mozilla/cv-corpus-7.0-2021-07-21/en/clips/common_voice_en_22072.mp3\n"
     ]
    },
    {
     "name": "stderr",
     "output_type": "stream",
     "text": [
      "\r",
      "  3%|▎         | 91/3000 [00:13<05:58,  8.11it/s]"
     ]
    },
    {
     "name": "stdout",
     "output_type": "stream",
     "text": [
      "/home/mayur/mayank/Error-Driven-ASR-Personalization/mozilla/cv-corpus-7.0-2021-07-21/en/clips/common_voice_en_25713440.mp3\n",
      "/home/mayur/mayank/Error-Driven-ASR-Personalization/mozilla/cv-corpus-7.0-2021-07-21/en/clips/common_voice_en_17787326.mp3/home/mayur/mayank/Error-Driven-ASR-Personalization/mozilla/cv-corpus-7.0-2021-07-21/en/clips/common_voice_en_19528710.mp3/home/mayur/mayank/Error-Driven-ASR-Personalization/mozilla/cv-corpus-7.0-2021-07-21/en/clips/common_voice_en_18740467.mp3/home/mayur/mayank/Error-Driven-ASR-Personalization/mozilla/cv-corpus-7.0-2021-07-21/en/clips/common_voice_en_26980576.mp3\n",
      "\n",
      "\n",
      "\n",
      "/home/mayur/mayank/Error-Driven-ASR-Personalization/mozilla/cv-corpus-7.0-2021-07-21/en/clips/common_voice_en_21449167.mp3/home/mayur/mayank/Error-Driven-ASR-Personalization/mozilla/cv-corpus-7.0-2021-07-21/en/clips/common_voice_en_20712744.mp3\n",
      "/home/mayur/mayank/Error-Driven-ASR-Personalization/mozilla/cv-corpus-7.0-2021-07-21/en/clips/common_voice_en_18801995.mp3"
     ]
    },
    {
     "name": "stderr",
     "output_type": "stream",
     "text": [
      "\r",
      "  6%|▌         | 123/2169 [00:13<03:52,  8.78it/s]"
     ]
    },
    {
     "name": "stdout",
     "output_type": "stream",
     "text": [
      "\n",
      "\n",
      "/home/mayur/mayank/Error-Driven-ASR-Personalization/mozilla/cv-corpus-7.0-2021-07-21/en/clips/common_voice_en_25947702.mp3\n"
     ]
    },
    {
     "name": "stderr",
     "output_type": "stream",
     "text": [
      "  3%|▎         | 92/3000 [00:13<05:42,  8.49it/s]]"
     ]
    },
    {
     "name": "stdout",
     "output_type": "stream",
     "text": [
      "/home/mayur/mayank/Error-Driven-ASR-Personalization/mozilla/cv-corpus-7.0-2021-07-21/en/clips/common_voice_en_17816536.mp3/home/mayur/mayank/Error-Driven-ASR-Personalization/mozilla/cv-corpus-7.0-2021-07-21/en/clips/common_voice_en_20139260.mp3\n",
      "\n"
     ]
    },
    {
     "name": "stderr",
     "output_type": "stream",
     "text": [
      "  3%|▎         | 88/3000 [00:13<05:34,  8.71it/s]]"
     ]
    },
    {
     "name": "stdout",
     "output_type": "stream",
     "text": [
      "/home/mayur/mayank/Error-Driven-ASR-Personalization/mozilla/cv-corpus-7.0-2021-07-21/en/clips/common_voice_en_23628796.mp3/home/mayur/mayank/Error-Driven-ASR-Personalization/mozilla/cv-corpus-7.0-2021-07-21/en/clips/common_voice_en_22007776.mp3\n",
      "\n",
      "/home/mayur/mayank/Error-Driven-ASR-Personalization/mozilla/cv-corpus-7.0-2021-07-21/en/clips/common_voice_en_18715968.mp3"
     ]
    },
    {
     "name": "stderr",
     "output_type": "stream",
     "text": [
      "  3%|▎         | 84/3000 [00:13<05:39,  8.58it/s]"
     ]
    },
    {
     "name": "stdout",
     "output_type": "stream",
     "text": [
      "\n"
     ]
    },
    {
     "name": "stderr",
     "output_type": "stream",
     "text": [
      "\r",
      "  3%|▎         | 82/3000 [00:13<05:57,  8.17it/s]"
     ]
    },
    {
     "name": "stdout",
     "output_type": "stream",
     "text": [
      "/home/mayur/mayank/Error-Driven-ASR-Personalization/mozilla/cv-corpus-7.0-2021-07-21/en/clips/common_voice_en_25458802.mp3"
     ]
    },
    {
     "name": "stderr",
     "output_type": "stream",
     "text": [
      "\r",
      "  3%|▎         | 95/3000 [00:13<05:23,  8.99it/s]"
     ]
    },
    {
     "name": "stdout",
     "output_type": "stream",
     "text": [
      "/home/mayur/mayank/Error-Driven-ASR-Personalization/mozilla/cv-corpus-7.0-2021-07-21/en/clips/common_voice_en_19500429.mp3/home/mayur/mayank/Error-Driven-ASR-Personalization/mozilla/cv-corpus-7.0-2021-07-21/en/clips/common_voice_en_20114883.mp3\n",
      "/home/mayur/mayank/Error-Driven-ASR-Personalization/mozilla/cv-corpus-7.0-2021-07-21/en/clips/common_voice_en_14804.mp3\n",
      "\n",
      "\n",
      "/home/mayur/mayank/Error-Driven-ASR-Personalization/mozilla/cv-corpus-7.0-2021-07-21/en/clips/common_voice_en_17776674.mp3\n"
     ]
    },
    {
     "name": "stderr",
     "output_type": "stream",
     "text": [
      "\r",
      "  6%|▌         | 125/2169 [00:14<04:04,  8.34it/s]"
     ]
    },
    {
     "name": "stdout",
     "output_type": "stream",
     "text": [
      "/home/mayur/mayank/Error-Driven-ASR-Personalization/mozilla/cv-corpus-7.0-2021-07-21/en/clips/common_voice_en_656342.mp3\n",
      "/home/mayur/mayank/Error-Driven-ASR-Personalization/mozilla/cv-corpus-7.0-2021-07-21/en/clips/common_voice_en_17272635.mp3\n"
     ]
    },
    {
     "name": "stderr",
     "output_type": "stream",
     "text": [
      "\r",
      "  3%|▎         | 93/3000 [00:14<07:40,  6.31it/s]"
     ]
    },
    {
     "name": "stdout",
     "output_type": "stream",
     "text": [
      "/home/mayur/mayank/Error-Driven-ASR-Personalization/mozilla/cv-corpus-7.0-2021-07-21/en/clips/common_voice_en_23610693.mp3/home/mayur/mayank/Error-Driven-ASR-Personalization/mozilla/cv-corpus-7.0-2021-07-21/en/clips/common_voice_en_18345533.mp3"
     ]
    },
    {
     "name": "stderr",
     "output_type": "stream",
     "text": [
      "  3%|▎         | 87/3000 [00:14<06:42,  7.24it/s]"
     ]
    },
    {
     "name": "stdout",
     "output_type": "stream",
     "text": [
      "\n",
      "\n",
      "/home/mayur/mayank/Error-Driven-ASR-Personalization/mozilla/cv-corpus-7.0-2021-07-21/en/clips/common_voice_en_23613635.mp3/home/mayur/mayank/Error-Driven-ASR-Personalization/mozilla/cv-corpus-7.0-2021-07-21/en/clips/common_voice_en_20358005.mp3/home/mayur/mayank/Error-Driven-ASR-Personalization/mozilla/cv-corpus-7.0-2021-07-21/en/clips/common_voice_en_23836794.mp3/home/mayur/mayank/Error-Driven-ASR-Personalization/mozilla/cv-corpus-7.0-2021-07-21/en/clips/common_voice_en_19665936.mp3\n",
      "\n",
      "\n",
      "\n"
     ]
    },
    {
     "name": "stderr",
     "output_type": "stream",
     "text": [
      "\r",
      "  3%|▎         | 85/3000 [00:13<06:49,  7.12it/s]"
     ]
    },
    {
     "name": "stdout",
     "output_type": "stream",
     "text": [
      "/home/mayur/mayank/Error-Driven-ASR-Personalization/mozilla/cv-corpus-7.0-2021-07-21/en/clips/common_voice_en_22204197.mp3\n"
     ]
    },
    {
     "name": "stderr",
     "output_type": "stream",
     "text": [
      "\r",
      "  6%|▋         | 102/1598 [00:14<03:06,  8.04it/s]"
     ]
    },
    {
     "name": "stdout",
     "output_type": "stream",
     "text": [
      "/home/mayur/mayank/Error-Driven-ASR-Personalization/mozilla/cv-corpus-7.0-2021-07-21/en/clips/common_voice_en_22251493.mp3\n"
     ]
    },
    {
     "name": "stderr",
     "output_type": "stream",
     "text": [
      "\r",
      "  6%|▌         | 127/2169 [00:14<03:21, 10.13it/s]"
     ]
    },
    {
     "name": "stdout",
     "output_type": "stream",
     "text": [
      "/home/mayur/mayank/Error-Driven-ASR-Personalization/mozilla/cv-corpus-7.0-2021-07-21/en/clips/common_voice_en_24546294.mp3\n"
     ]
    },
    {
     "name": "stderr",
     "output_type": "stream",
     "text": [
      "  4%|▎         | 108/3000 [00:14<06:14,  7.71it/s]"
     ]
    },
    {
     "name": "stdout",
     "output_type": "stream",
     "text": [
      "/home/mayur/mayank/Error-Driven-ASR-Personalization/mozilla/cv-corpus-7.0-2021-07-21/en/clips/common_voice_en_663242.mp3"
     ]
    },
    {
     "name": "stderr",
     "output_type": "stream",
     "text": [
      "\r",
      "  3%|▎         | 94/3000 [00:14<06:58,  6.95it/s]"
     ]
    },
    {
     "name": "stdout",
     "output_type": "stream",
     "text": [
      "/home/mayur/mayank/Error-Driven-ASR-Personalization/mozilla/cv-corpus-7.0-2021-07-21/en/clips/common_voice_en_23626071.mp3\n",
      "/home/mayur/mayank/Error-Driven-ASR-Personalization/mozilla/cv-corpus-7.0-2021-07-21/en/clips/common_voice_en_20197201.mp3\n",
      "\n"
     ]
    },
    {
     "name": "stderr",
     "output_type": "stream",
     "text": [
      "\r",
      "  3%|▎         | 84/3000 [00:13<06:33,  7.41it/s]"
     ]
    },
    {
     "name": "stdout",
     "output_type": "stream",
     "text": [
      "/home/mayur/mayank/Error-Driven-ASR-Personalization/mozilla/cv-corpus-7.0-2021-07-21/en/clips/common_voice_en_588569.mp3"
     ]
    },
    {
     "name": "stderr",
     "output_type": "stream",
     "text": [
      "  3%|▎         | 97/3000 [00:14<06:12,  7.80it/s]"
     ]
    },
    {
     "name": "stdout",
     "output_type": "stream",
     "text": [
      "\n",
      "/home/mayur/mayank/Error-Driven-ASR-Personalization/mozilla/cv-corpus-7.0-2021-07-21/en/clips/common_voice_en_22793279.mp3/home/mayur/mayank/Error-Driven-ASR-Personalization/mozilla/cv-corpus-7.0-2021-07-21/en/clips/common_voice_en_23977151.mp3/home/mayur/mayank/Error-Driven-ASR-Personalization/mozilla/cv-corpus-7.0-2021-07-21/en/clips/common_voice_en_17816588.mp3\n",
      "\n",
      "\n"
     ]
    },
    {
     "name": "stderr",
     "output_type": "stream",
     "text": [
      "\r",
      "  3%|▎         | 86/3000 [00:14<07:04,  6.86it/s]"
     ]
    },
    {
     "name": "stdout",
     "output_type": "stream",
     "text": [
      "/home/mayur/mayank/Error-Driven-ASR-Personalization/mozilla/cv-corpus-7.0-2021-07-21/en/clips/common_voice_en_24607155.mp3/home/mayur/mayank/Error-Driven-ASR-Personalization/mozilla/cv-corpus-7.0-2021-07-21/en/clips/common_voice_en_17899477.mp3\n",
      "\n"
     ]
    },
    {
     "name": "stderr",
     "output_type": "stream",
     "text": [
      "  4%|▎         | 109/3000 [00:14<06:36,  7.30it/s]"
     ]
    },
    {
     "name": "stdout",
     "output_type": "stream",
     "text": [
      "/home/mayur/mayank/Error-Driven-ASR-Personalization/mozilla/cv-corpus-7.0-2021-07-21/en/clips/common_voice_en_26995798.mp3/home/mayur/mayank/Error-Driven-ASR-Personalization/mozilla/cv-corpus-7.0-2021-07-21/en/clips/common_voice_en_20354.mp3\n",
      "\n"
     ]
    },
    {
     "name": "stderr",
     "output_type": "stream",
     "text": [
      "  3%|▎         | 95/3000 [00:14<07:46,  6.23it/s]]"
     ]
    },
    {
     "name": "stdout",
     "output_type": "stream",
     "text": [
      "/home/mayur/mayank/Error-Driven-ASR-Personalization/mozilla/cv-corpus-7.0-2021-07-21/en/clips/common_voice_en_18331469.mp3"
     ]
    },
    {
     "name": "stderr",
     "output_type": "stream",
     "text": [
      "\r",
      "  3%|▎         | 85/3000 [00:14<07:22,  6.59it/s]"
     ]
    },
    {
     "name": "stdout",
     "output_type": "stream",
     "text": [
      "/home/mayur/mayank/Error-Driven-ASR-Personalization/mozilla/cv-corpus-7.0-2021-07-21/en/clips/common_voice_en_219312.mp3/home/mayur/mayank/Error-Driven-ASR-Personalization/mozilla/cv-corpus-7.0-2021-07-21/en/clips/common_voice_en_22165802.mp3/home/mayur/mayank/Error-Driven-ASR-Personalization/mozilla/cv-corpus-7.0-2021-07-21/en/clips/common_voice_en_2756090.mp3\n",
      "/home/mayur/mayank/Error-Driven-ASR-Personalization/mozilla/cv-corpus-7.0-2021-07-21/en/clips/common_voice_en_19645899.mp3\n",
      "\n",
      "/home/mayur/mayank/Error-Driven-ASR-Personalization/mozilla/cv-corpus-7.0-2021-07-21/en/clips/common_voice_en_57967.mp3\n",
      "\n",
      "\n"
     ]
    },
    {
     "name": "stderr",
     "output_type": "stream",
     "text": [
      "\r",
      "  3%|▎         | 98/3000 [00:14<07:03,  6.85it/s]"
     ]
    },
    {
     "name": "stdout",
     "output_type": "stream",
     "text": [
      "/home/mayur/mayank/Error-Driven-ASR-Personalization/mozilla/cv-corpus-7.0-2021-07-21/en/clips/common_voice_en_24975045.mp3\n"
     ]
    },
    {
     "name": "stderr",
     "output_type": "stream",
     "text": [
      "\r",
      "  4%|▎         | 110/3000 [00:14<09:55,  4.85it/s]"
     ]
    },
    {
     "name": "stdout",
     "output_type": "stream",
     "text": [
      "/home/mayur/mayank/Error-Driven-ASR-Personalization/mozilla/cv-corpus-7.0-2021-07-21/en/clips/common_voice_en_45531.mp3\n"
     ]
    },
    {
     "name": "stderr",
     "output_type": "stream",
     "text": [
      "\r",
      "  3%|▎         | 90/3000 [00:14<11:44,  4.13it/s]"
     ]
    },
    {
     "name": "stdout",
     "output_type": "stream",
     "text": [
      "/home/mayur/mayank/Error-Driven-ASR-Personalization/mozilla/cv-corpus-7.0-2021-07-21/en/clips/common_voice_en_20978482.mp3\n",
      "/home/mayur/mayank/Error-Driven-ASR-Personalization/mozilla/cv-corpus-7.0-2021-07-21/en/clips/common_voice_en_22265135.mp3"
     ]
    },
    {
     "name": "stderr",
     "output_type": "stream",
     "text": [
      "\r",
      "  3%|▎         | 92/3000 [00:14<13:02,  3.71it/s]"
     ]
    },
    {
     "name": "stdout",
     "output_type": "stream",
     "text": [
      "\n",
      "/home/mayur/mayank/Error-Driven-ASR-Personalization/mozilla/cv-corpus-7.0-2021-07-21/en/clips/common_voice_en_23596419.mp3\n"
     ]
    },
    {
     "name": "stderr",
     "output_type": "stream",
     "text": [
      "\r",
      "  3%|▎         | 86/3000 [00:14<15:46,  3.08it/s]"
     ]
    },
    {
     "name": "stdout",
     "output_type": "stream",
     "text": [
      "/home/mayur/mayank/Error-Driven-ASR-Personalization/mozilla/cv-corpus-7.0-2021-07-21/en/clips/common_voice_en_20203181.mp3\n"
     ]
    },
    {
     "name": "stderr",
     "output_type": "stream",
     "text": [
      "\r",
      "  4%|▎         | 111/3000 [00:15<12:02,  4.00it/s]"
     ]
    },
    {
     "name": "stdout",
     "output_type": "stream",
     "text": [
      "/home/mayur/mayank/Error-Driven-ASR-Personalization/mozilla/cv-corpus-7.0-2021-07-21/en/clips/common_voice_en_23628547.mp3\n"
     ]
    },
    {
     "name": "stderr",
     "output_type": "stream",
     "text": [
      "  3%|▎         | 96/3000 [00:15<17:33,  2.76it/s]"
     ]
    },
    {
     "name": "stdout",
     "output_type": "stream",
     "text": [
      "/home/mayur/mayank/Error-Driven-ASR-Personalization/mozilla/cv-corpus-7.0-2021-07-21/en/clips/common_voice_en_20400264.mp3/home/mayur/mayank/Error-Driven-ASR-Personalization/mozilla/cv-corpus-7.0-2021-07-21/en/clips/common_voice_en_19150375.mp3/home/mayur/mayank/Error-Driven-ASR-Personalization/mozilla/cv-corpus-7.0-2021-07-21/en/clips/common_voice_en_24523081.mp3\n",
      "\n"
     ]
    },
    {
     "name": "stderr",
     "output_type": "stream",
     "text": [
      "\r",
      "  7%|▋         | 105/1598 [00:15<06:39,  3.74it/s]"
     ]
    },
    {
     "name": "stdout",
     "output_type": "stream",
     "text": [
      "\n",
      "/home/mayur/mayank/Error-Driven-ASR-Personalization/mozilla/cv-corpus-7.0-2021-07-21/en/clips/common_voice_en_17860952.mp3\n"
     ]
    },
    {
     "name": "stderr",
     "output_type": "stream",
     "text": [
      "  3%|▎         | 91/3000 [00:15<14:06,  3.44it/s]]"
     ]
    },
    {
     "name": "stdout",
     "output_type": "stream",
     "text": [
      "/home/mayur/mayank/Error-Driven-ASR-Personalization/mozilla/cv-corpus-7.0-2021-07-21/en/clips/common_voice_en_22248910.mp3/home/mayur/mayank/Error-Driven-ASR-Personalization/mozilla/cv-corpus-7.0-2021-07-21/en/clips/common_voice_en_20870897.mp3/home/mayur/mayank/Error-Driven-ASR-Personalization/mozilla/cv-corpus-7.0-2021-07-21/en/clips/common_voice_en_17347932.mp3\n",
      "\n",
      "\n"
     ]
    },
    {
     "name": "stderr",
     "output_type": "stream",
     "text": [
      "  3%|▎         | 100/3000 [00:15<13:20,  3.62it/s]"
     ]
    },
    {
     "name": "stdout",
     "output_type": "stream",
     "text": [
      "/home/mayur/mayank/Error-Driven-ASR-Personalization/mozilla/cv-corpus-7.0-2021-07-21/en/clips/common_voice_en_48704.mp3/home/mayur/mayank/Error-Driven-ASR-Personalization/mozilla/cv-corpus-7.0-2021-07-21/en/clips/common_voice_en_170438.mp3/home/mayur/mayank/Error-Driven-ASR-Personalization/mozilla/cv-corpus-7.0-2021-07-21/en/clips/common_voice_en_17816519.mp3/home/mayur/mayank/Error-Driven-ASR-Personalization/mozilla/cv-corpus-7.0-2021-07-21/en/clips/common_voice_en_17269388.mp3\n",
      "\n",
      "\n",
      "\n"
     ]
    },
    {
     "name": "stderr",
     "output_type": "stream",
     "text": [
      "  3%|▎         | 97/3000 [00:15<14:59,  3.23it/s]]"
     ]
    },
    {
     "name": "stdout",
     "output_type": "stream",
     "text": [
      "/home/mayur/mayank/Error-Driven-ASR-Personalization/mozilla/cv-corpus-7.0-2021-07-21/en/clips/common_voice_en_247071.mp3/home/mayur/mayank/Error-Driven-ASR-Personalization/mozilla/cv-corpus-7.0-2021-07-21/en/clips/common_voice_en_22265027.mp3/home/mayur/mayank/Error-Driven-ASR-Personalization/mozilla/cv-corpus-7.0-2021-07-21/en/clips/common_voice_en_21060787.mp3/home/mayur/mayank/Error-Driven-ASR-Personalization/mozilla/cv-corpus-7.0-2021-07-21/en/clips/common_voice_en_19357873.mp3\n",
      "\n",
      "\n",
      "\n"
     ]
    },
    {
     "name": "stderr",
     "output_type": "stream",
     "text": [
      "\r",
      "  3%|▎         | 101/3000 [00:15<12:52,  3.75it/s]"
     ]
    },
    {
     "name": "stdout",
     "output_type": "stream",
     "text": [
      "/home/mayur/mayank/Error-Driven-ASR-Personalization/mozilla/cv-corpus-7.0-2021-07-21/en/clips/common_voice_en_21647992.mp3\n"
     ]
    },
    {
     "name": "stderr",
     "output_type": "stream",
     "text": [
      "  7%|▋         | 107/1598 [00:15<06:05,  4.08it/s]"
     ]
    },
    {
     "name": "stdout",
     "output_type": "stream",
     "text": [
      "/home/mayur/mayank/Error-Driven-ASR-Personalization/mozilla/cv-corpus-7.0-2021-07-21/en/clips/common_voice_en_18813645.mp3"
     ]
    },
    {
     "name": "stderr",
     "output_type": "stream",
     "text": [
      "\r",
      "  3%|▎         | 93/3000 [00:15<11:37,  4.17it/s]"
     ]
    },
    {
     "name": "stdout",
     "output_type": "stream",
     "text": [
      "/home/mayur/mayank/Error-Driven-ASR-Personalization/mozilla/cv-corpus-7.0-2021-07-21/en/clips/common_voice_en_18134142.mp3/home/mayur/mayank/Error-Driven-ASR-Personalization/mozilla/cv-corpus-7.0-2021-07-21/en/clips/common_voice_en_22263878.mp3"
     ]
    },
    {
     "name": "stderr",
     "output_type": "stream",
     "text": [
      "  3%|▎         | 88/3000 [00:15<13:50,  3.50it/s]]"
     ]
    },
    {
     "name": "stdout",
     "output_type": "stream",
     "text": [
      "\n",
      "\n",
      "/home/mayur/mayank/Error-Driven-ASR-Personalization/mozilla/cv-corpus-7.0-2021-07-21/en/clips/common_voice_en_42015.mp3/home/mayur/mayank/Error-Driven-ASR-Personalization/mozilla/cv-corpus-7.0-2021-07-21/en/clips/common_voice_en_26989336.mp3\n",
      "/home/mayur/mayank/Error-Driven-ASR-Personalization/mozilla/cv-corpus-7.0-2021-07-21/en/clips/common_voice_en_19646019.mp3/home/mayur/mayank/Error-Driven-ASR-Personalization/mozilla/cv-corpus-7.0-2021-07-21/en/clips/common_voice_en_568213.mp3\n",
      "/home/mayur/mayank/Error-Driven-ASR-Personalization/mozilla/cv-corpus-7.0-2021-07-21/en/clips/common_voice_en_25659224.mp3\n",
      "\n",
      "\n",
      "\n"
     ]
    },
    {
     "name": "stderr",
     "output_type": "stream",
     "text": [
      "\r",
      "  3%|▎         | 102/3000 [00:15<10:53,  4.44it/s]"
     ]
    },
    {
     "name": "stdout",
     "output_type": "stream",
     "text": [
      "/home/mayur/mayank/Error-Driven-ASR-Personalization/mozilla/cv-corpus-7.0-2021-07-21/en/clips/common_voice_en_20878744.mp3\n"
     ]
    },
    {
     "name": "stderr",
     "output_type": "stream",
     "text": [
      "\r",
      "  6%|▌         | 134/2169 [00:15<07:35,  4.47it/s]"
     ]
    },
    {
     "name": "stdout",
     "output_type": "stream",
     "text": [
      "/home/mayur/mayank/Error-Driven-ASR-Personalization/mozilla/cv-corpus-7.0-2021-07-21/en/clips/common_voice_en_20114577.mp3\n"
     ]
    },
    {
     "name": "stderr",
     "output_type": "stream",
     "text": [
      "  7%|▋         | 108/1598 [00:16<07:09,  3.47it/s]"
     ]
    },
    {
     "name": "stdout",
     "output_type": "stream",
     "text": [
      "/home/mayur/mayank/Error-Driven-ASR-Personalization/mozilla/cv-corpus-7.0-2021-07-21/en/clips/common_voice_en_21224863.mp3/home/mayur/mayank/Error-Driven-ASR-Personalization/mozilla/cv-corpus-7.0-2021-07-21/en/clips/common_voice_en_22233494.mp3/home/mayur/mayank/Error-Driven-ASR-Personalization/mozilla/cv-corpus-7.0-2021-07-21/en/clips/common_voice_en_23989308.mp3/home/mayur/mayank/Error-Driven-ASR-Personalization/mozilla/cv-corpus-7.0-2021-07-21/en/clips/common_voice_en_21877657.mp3/home/mayur/mayank/Error-Driven-ASR-Personalization/mozilla/cv-corpus-7.0-2021-07-21/en/clips/common_voice_en_19351851.mp3/home/mayur/mayank/Error-Driven-ASR-Personalization/mozilla/cv-corpus-7.0-2021-07-21/en/clips/common_voice_en_10209044.mp3/home/mayur/mayank/Error-Driven-ASR-Personalization/mozilla/cv-corpus-7.0-2021-07-21/en/clips/common_voice_en_17388535.mp3\n",
      "\n",
      "\n",
      "\n",
      "\n",
      "\n",
      "\n"
     ]
    },
    {
     "name": "stderr",
     "output_type": "stream",
     "text": [
      "\r",
      "  3%|▎         | 95/3000 [00:16<17:12,  2.81it/s]"
     ]
    },
    {
     "name": "stdout",
     "output_type": "stream",
     "text": [
      "/home/mayur/mayank/Error-Driven-ASR-Personalization/mozilla/cv-corpus-7.0-2021-07-21/en/clips/common_voice_en_29324.mp3\n"
     ]
    },
    {
     "name": "stderr",
     "output_type": "stream",
     "text": [
      "\r",
      "  6%|▌         | 135/2169 [00:16<07:33,  4.48it/s]"
     ]
    },
    {
     "name": "stdout",
     "output_type": "stream",
     "text": [
      "/home/mayur/mayank/Error-Driven-ASR-Personalization/mozilla/cv-corpus-7.0-2021-07-21/en/clips/common_voice_en_25647756.mp3\n"
     ]
    },
    {
     "name": "stderr",
     "output_type": "stream",
     "text": [
      "  4%|▍         | 115/3000 [00:16<13:23,  3.59it/s]"
     ]
    },
    {
     "name": "stdout",
     "output_type": "stream",
     "text": [
      "/home/mayur/mayank/Error-Driven-ASR-Personalization/mozilla/cv-corpus-7.0-2021-07-21/en/clips/common_voice_en_568182.mp3/home/mayur/mayank/Error-Driven-ASR-Personalization/mozilla/cv-corpus-7.0-2021-07-21/en/clips/common_voice_en_22167995.mp3\n",
      "\n"
     ]
    },
    {
     "name": "stderr",
     "output_type": "stream",
     "text": [
      "  3%|▎         | 95/3000 [00:16<16:41,  2.90it/s]]"
     ]
    },
    {
     "name": "stdout",
     "output_type": "stream",
     "text": [
      "/home/mayur/mayank/Error-Driven-ASR-Personalization/mozilla/cv-corpus-7.0-2021-07-21/en/clips/common_voice_en_19632558.mp3/home/mayur/mayank/Error-Driven-ASR-Personalization/mozilla/cv-corpus-7.0-2021-07-21/en/clips/common_voice_en_20176339.mp3/home/mayur/mayank/Error-Driven-ASR-Personalization/mozilla/cv-corpus-7.0-2021-07-21/en/clips/common_voice_en_657861.mp3/home/mayur/mayank/Error-Driven-ASR-Personalization/mozilla/cv-corpus-7.0-2021-07-21/en/clips/common_voice_en_17808911.mp3/home/mayur/mayank/Error-Driven-ASR-Personalization/mozilla/cv-corpus-7.0-2021-07-21/en/clips/common_voice_en_22105112.mp3\n",
      "\n",
      "\n",
      "\n",
      "\n",
      "/home/mayur/mayank/Error-Driven-ASR-Personalization/mozilla/cv-corpus-7.0-2021-07-21/en/clips/common_voice_en_17344045.mp3\n"
     ]
    },
    {
     "name": "stderr",
     "output_type": "stream",
     "text": [
      "\r",
      "  6%|▋         | 137/2169 [00:16<07:52,  4.30it/s]"
     ]
    },
    {
     "name": "stdout",
     "output_type": "stream",
     "text": [
      "/home/mayur/mayank/Error-Driven-ASR-Personalization/mozilla/cv-corpus-7.0-2021-07-21/en/clips/common_voice_en_17453340.mp3\n"
     ]
    },
    {
     "name": "stderr",
     "output_type": "stream",
     "text": [
      "\r",
      "  3%|▎         | 96/3000 [00:16<19:24,  2.49it/s]"
     ]
    },
    {
     "name": "stdout",
     "output_type": "stream",
     "text": [
      "/home/mayur/mayank/Error-Driven-ASR-Personalization/mozilla/cv-corpus-7.0-2021-07-21/en/clips/common_voice_en_27012502.mp3\n"
     ]
    },
    {
     "name": "stderr",
     "output_type": "stream",
     "text": [
      "  3%|▎         | 101/3000 [00:16<14:18,  3.38it/s]"
     ]
    },
    {
     "name": "stdout",
     "output_type": "stream",
     "text": [
      "/home/mayur/mayank/Error-Driven-ASR-Personalization/mozilla/cv-corpus-7.0-2021-07-21/en/clips/common_voice_en_17776636.mp3/home/mayur/mayank/Error-Driven-ASR-Personalization/mozilla/cv-corpus-7.0-2021-07-21/en/clips/common_voice_en_25170608.mp3"
     ]
    },
    {
     "name": "stderr",
     "output_type": "stream",
     "text": [
      "  4%|▎         | 105/3000 [00:16<12:42,  3.80it/s]"
     ]
    },
    {
     "name": "stdout",
     "output_type": "stream",
     "text": [
      "\n",
      "\n",
      "/home/mayur/mayank/Error-Driven-ASR-Personalization/mozilla/cv-corpus-7.0-2021-07-21/en/clips/common_voice_en_21896902.mp3/home/mayur/mayank/Error-Driven-ASR-Personalization/mozilla/cv-corpus-7.0-2021-07-21/en/clips/common_voice_en_19656748.mp3/home/mayur/mayank/Error-Driven-ASR-Personalization/mozilla/cv-corpus-7.0-2021-07-21/en/clips/common_voice_en_47336.mp3/home/mayur/mayank/Error-Driven-ASR-Personalization/mozilla/cv-corpus-7.0-2021-07-21/en/clips/common_voice_en_25892157.mp3\n",
      "\n",
      "/home/mayur/mayank/Error-Driven-ASR-Personalization/mozilla/cv-corpus-7.0-2021-07-21/en/clips/common_voice_en_20433814.mp3/home/mayur/mayank/Error-Driven-ASR-Personalization/mozilla/cv-corpus-7.0-2021-07-21/en/clips/common_voice_en_23610754.mp3\n",
      "\n",
      "\n",
      "\n"
     ]
    },
    {
     "name": "stderr",
     "output_type": "stream",
     "text": [
      "\r",
      "  3%|▎         | 97/3000 [00:16<18:11,  2.66it/s]"
     ]
    },
    {
     "name": "stdout",
     "output_type": "stream",
     "text": [
      "/home/mayur/mayank/Error-Driven-ASR-Personalization/mozilla/cv-corpus-7.0-2021-07-21/en/clips/common_voice_en_21269307.mp3\n"
     ]
    },
    {
     "name": "stderr",
     "output_type": "stream",
     "text": [
      "\r",
      "  6%|▋         | 139/2169 [00:16<06:54,  4.89it/s]"
     ]
    },
    {
     "name": "stdout",
     "output_type": "stream",
     "text": [
      "/home/mayur/mayank/Error-Driven-ASR-Personalization/mozilla/cv-corpus-7.0-2021-07-21/en/clips/common_voice_en_21949582.mp3\n"
     ]
    },
    {
     "name": "stderr",
     "output_type": "stream",
     "text": [
      "  3%|▎         | 94/3000 [00:16<14:41,  3.30it/s]]"
     ]
    },
    {
     "name": "stdout",
     "output_type": "stream",
     "text": [
      "/home/mayur/mayank/Error-Driven-ASR-Personalization/mozilla/cv-corpus-7.0-2021-07-21/en/clips/common_voice_en_20391181.mp3/home/mayur/mayank/Error-Driven-ASR-Personalization/mozilla/cv-corpus-7.0-2021-07-21/en/clips/common_voice_en_22168063.mp3/home/mayur/mayank/Error-Driven-ASR-Personalization/mozilla/cv-corpus-7.0-2021-07-21/en/clips/common_voice_en_22967846.mp3/home/mayur/mayank/Error-Driven-ASR-Personalization/mozilla/cv-corpus-7.0-2021-07-21/en/clips/common_voice_en_26996390.mp3/home/mayur/mayank/Error-Driven-ASR-Personalization/mozilla/cv-corpus-7.0-2021-07-21/en/clips/common_voice_en_533208.mp3\n",
      "\n"
     ]
    },
    {
     "name": "stderr",
     "output_type": "stream",
     "text": [
      "\r",
      "  3%|▎         | 92/3000 [00:16<14:53,  3.25it/s]"
     ]
    },
    {
     "name": "stdout",
     "output_type": "stream",
     "text": [
      "\n",
      "\n",
      "\n",
      "/home/mayur/mayank/Error-Driven-ASR-Personalization/mozilla/cv-corpus-7.0-2021-07-21/en/clips/common_voice_en_193864.mp3"
     ]
    },
    {
     "name": "stderr",
     "output_type": "stream",
     "text": [
      "\r",
      "  3%|▎         | 102/3000 [00:16<14:51,  3.25it/s]"
     ]
    },
    {
     "name": "stdout",
     "output_type": "stream",
     "text": [
      "\n",
      "/home/mayur/mayank/Error-Driven-ASR-Personalization/mozilla/cv-corpus-7.0-2021-07-21/en/clips/common_voice_en_18594440.mp3\n"
     ]
    },
    {
     "name": "stderr",
     "output_type": "stream",
     "text": [
      "  6%|▋         | 140/2169 [00:17<06:06,  5.54it/s]"
     ]
    },
    {
     "name": "stdout",
     "output_type": "stream",
     "text": [
      "/home/mayur/mayank/Error-Driven-ASR-Personalization/mozilla/cv-corpus-7.0-2021-07-21/en/clips/common_voice_en_568228.mp3/home/mayur/mayank/Error-Driven-ASR-Personalization/mozilla/cv-corpus-7.0-2021-07-21/en/clips/common_voice_en_22362060.mp3\n",
      "\n"
     ]
    },
    {
     "name": "stderr",
     "output_type": "stream",
     "text": [
      "\r",
      "  4%|▎         | 107/3000 [00:17<13:43,  3.51it/s]"
     ]
    },
    {
     "name": "stdout",
     "output_type": "stream",
     "text": [
      "/home/mayur/mayank/Error-Driven-ASR-Personalization/mozilla/cv-corpus-7.0-2021-07-21/en/clips/common_voice_en_19773232.mp3\n"
     ]
    },
    {
     "name": "stderr",
     "output_type": "stream",
     "text": [
      "  3%|▎         | 98/3000 [00:17<15:41,  3.08it/s]]"
     ]
    },
    {
     "name": "stdout",
     "output_type": "stream",
     "text": [
      "/home/mayur/mayank/Error-Driven-ASR-Personalization/mozilla/cv-corpus-7.0-2021-07-21/en/clips/common_voice_en_23930410.mp3/home/mayur/mayank/Error-Driven-ASR-Personalization/mozilla/cv-corpus-7.0-2021-07-21/en/clips/common_voice_en_20120161.mp3\n",
      "\n"
     ]
    },
    {
     "name": "stderr",
     "output_type": "stream",
     "text": [
      "\r",
      "  3%|▎         | 95/3000 [00:17<16:28,  2.94it/s]"
     ]
    },
    {
     "name": "stdout",
     "output_type": "stream",
     "text": [
      "/home/mayur/mayank/Error-Driven-ASR-Personalization/mozilla/cv-corpus-7.0-2021-07-21/en/clips/common_voice_en_616587.mp3"
     ]
    },
    {
     "name": "stderr",
     "output_type": "stream",
     "text": [
      "\r",
      "  4%|▍         | 118/3000 [00:17<16:30,  2.91it/s]"
     ]
    },
    {
     "name": "stdout",
     "output_type": "stream",
     "text": [
      "\n"
     ]
    },
    {
     "name": "stderr",
     "output_type": "stream",
     "text": [
      "\r",
      "  7%|▋         | 112/1598 [00:17<08:15,  3.00it/s]"
     ]
    },
    {
     "name": "stdout",
     "output_type": "stream",
     "text": [
      "/home/mayur/mayank/Error-Driven-ASR-Personalization/mozilla/cv-corpus-7.0-2021-07-21/en/clips/common_voice_en_22168002.mp3/home/mayur/mayank/Error-Driven-ASR-Personalization/mozilla/cv-corpus-7.0-2021-07-21/en/clips/common_voice_en_22449610.mp3\n"
     ]
    },
    {
     "name": "stderr",
     "output_type": "stream",
     "text": [
      "\r",
      "  3%|▎         | 93/3000 [00:17<16:37,  2.91it/s]"
     ]
    },
    {
     "name": "stdout",
     "output_type": "stream",
     "text": [
      "\n"
     ]
    },
    {
     "name": "stderr",
     "output_type": "stream",
     "text": [
      "\r",
      "  3%|▎         | 103/3000 [00:17<16:34,  2.91it/s]"
     ]
    },
    {
     "name": "stdout",
     "output_type": "stream",
     "text": [
      "/home/mayur/mayank/Error-Driven-ASR-Personalization/mozilla/cv-corpus-7.0-2021-07-21/en/clips/common_voice_en_18480725.mp3"
     ]
    },
    {
     "name": "stderr",
     "output_type": "stream",
     "text": [
      "\r",
      "  3%|▎         | 99/3000 [00:17<15:19,  3.15it/s]"
     ]
    },
    {
     "name": "stdout",
     "output_type": "stream",
     "text": [
      "/home/mayur/mayank/Error-Driven-ASR-Personalization/mozilla/cv-corpus-7.0-2021-07-21/en/clips/common_voice_en_20197208.mp3\n",
      "/home/mayur/mayank/Error-Driven-ASR-Personalization/mozilla/cv-corpus-7.0-2021-07-21/en/clips/common_voice_en_22303360.mp3\n",
      "\n"
     ]
    },
    {
     "name": "stderr",
     "output_type": "stream",
     "text": [
      "  4%|▎         | 108/3000 [00:17<12:35,  3.83it/s]"
     ]
    },
    {
     "name": "stdout",
     "output_type": "stream",
     "text": [
      "/home/mayur/mayank/Error-Driven-ASR-Personalization/mozilla/cv-corpus-7.0-2021-07-21/en/clips/common_voice_en_20870532.mp3/home/mayur/mayank/Error-Driven-ASR-Personalization/mozilla/cv-corpus-7.0-2021-07-21/en/clips/common_voice_en_656331.mp3/home/mayur/mayank/Error-Driven-ASR-Personalization/mozilla/cv-corpus-7.0-2021-07-21/en/clips/common_voice_en_19438396.mp3\n",
      "\n",
      "\n"
     ]
    },
    {
     "name": "stderr",
     "output_type": "stream",
     "text": [
      "\r",
      "  7%|▋         | 143/2169 [00:17<08:58,  3.77it/s]"
     ]
    },
    {
     "name": "stdout",
     "output_type": "stream",
     "text": [
      "/home/mayur/mayank/Error-Driven-ASR-Personalization/mozilla/cv-corpus-7.0-2021-07-21/en/clips/common_voice_en_23840869.mp3\n"
     ]
    },
    {
     "name": "stderr",
     "output_type": "stream",
     "text": [
      "  3%|▎         | 104/3000 [00:17<20:17,  2.38it/s]"
     ]
    },
    {
     "name": "stdout",
     "output_type": "stream",
     "text": [
      "/home/mayur/mayank/Error-Driven-ASR-Personalization/mozilla/cv-corpus-7.0-2021-07-21/en/clips/common_voice_en_19665938.mp3/home/mayur/mayank/Error-Driven-ASR-Personalization/mozilla/cv-corpus-7.0-2021-07-21/en/clips/common_voice_en_25971271.mp3/home/mayur/mayank/Error-Driven-ASR-Personalization/mozilla/cv-corpus-7.0-2021-07-21/en/clips/common_voice_en_17272448.mp3/home/mayur/mayank/Error-Driven-ASR-Personalization/mozilla/cv-corpus-7.0-2021-07-21/en/clips/common_voice_en_2139.mp3"
     ]
    },
    {
     "name": "stderr",
     "output_type": "stream",
     "text": [
      "\r",
      "  3%|▎         | 96/3000 [00:17<20:18,  2.38it/s]"
     ]
    },
    {
     "name": "stdout",
     "output_type": "stream",
     "text": [
      "/home/mayur/mayank/Error-Driven-ASR-Personalization/mozilla/cv-corpus-7.0-2021-07-21/en/clips/common_voice_en_22969901.mp3/home/mayur/mayank/Error-Driven-ASR-Personalization/mozilla/cv-corpus-7.0-2021-07-21/en/clips/common_voice_en_564346.mp3\n",
      "/home/mayur/mayank/Error-Driven-ASR-Personalization/mozilla/cv-corpus-7.0-2021-07-21/en/clips/common_voice_en_23348327.mp3\n",
      "\n",
      "\n",
      "\n",
      "\n",
      "\n",
      "/home/mayur/mayank/Error-Driven-ASR-Personalization/mozilla/cv-corpus-7.0-2021-07-21/en/clips/common_voice_en_20232485.mp3\n"
     ]
    },
    {
     "name": "stderr",
     "output_type": "stream",
     "text": [
      "Process ForkPoolWorker-134:\n",
      "Traceback (most recent call last):\n",
      "  File \"/home/mayur/exp/anaconda3/envs/w2v2_new/lib/python3.6/multiprocessing/process.py\", line 258, in _bootstrap\n",
      "    self.run()\n",
      "  File \"/home/mayur/exp/anaconda3/envs/w2v2_new/lib/python3.6/multiprocessing/process.py\", line 93, in run\n",
      "    self._target(*self._args, **self._kwargs)\n",
      "  File \"/home/mayur/exp/anaconda3/envs/w2v2_new/lib/python3.6/multiprocessing/pool.py\", line 108, in worker\n",
      "    task = get()\n",
      "  File \"/home/mayur/exp/anaconda3/envs/w2v2_new/lib/python3.6/multiprocessing/queues.py\", line 334, in get\n",
      "    with self._rlock:\n",
      "  File \"/home/mayur/exp/anaconda3/envs/w2v2_new/lib/python3.6/multiprocessing/synchronize.py\", line 95, in __enter__\n",
      "    return self._semlock.__enter__()\n",
      "  File \"/home/mayur/exp/anaconda3/envs/w2v2_new/lib/python3.6/multiprocessing/pool.py\", line 44, in mapstar\n",
      "    return list(map(*args))\n",
      "KeyboardInterrupt\n",
      "  3%|▎         | 94/3000 [00:17<09:11,  5.27it/s]\n",
      "  3%|▎         | 100/3000 [00:18<08:46,  5.50it/s]"
     ]
    },
    {
     "ename": "KeyboardInterrupt",
     "evalue": "",
     "output_type": "error",
     "traceback": [
      "\u001b[0;31m---------------------------------------------------------------------------\u001b[0m",
      "\u001b[0;31mKeyboardInterrupt\u001b[0m                         Traceback (most recent call last)",
      "\u001b[0;32m<ipython-input-7-d2322854fabd>\u001b[0m in \u001b[0;36m<module>\u001b[0;34m\u001b[0m\n\u001b[1;32m     39\u001b[0m \u001b[0mL\u001b[0m \u001b[0;34m=\u001b[0m \u001b[0mmanager\u001b[0m\u001b[0;34m.\u001b[0m\u001b[0mlist\u001b[0m\u001b[0;34m(\u001b[0m\u001b[0;34m)\u001b[0m\u001b[0;34m\u001b[0m\u001b[0;34m\u001b[0m\u001b[0m\n\u001b[1;32m     40\u001b[0m \u001b[0mpool\u001b[0m \u001b[0;34m=\u001b[0m \u001b[0mPool\u001b[0m\u001b[0;34m(\u001b[0m\u001b[0;36m16\u001b[0m\u001b[0;34m)\u001b[0m\u001b[0;34m\u001b[0m\u001b[0;34m\u001b[0m\u001b[0m\n\u001b[0;32m---> 41\u001b[0;31m \u001b[0mpool\u001b[0m\u001b[0;34m.\u001b[0m\u001b[0mmap\u001b[0m\u001b[0;34m(\u001b[0m\u001b[0mprocess_jsons\u001b[0m\u001b[0;34m,\u001b[0m \u001b[0mjsons\u001b[0m\u001b[0;34m)\u001b[0m\u001b[0;34m\u001b[0m\u001b[0;34m\u001b[0m\u001b[0m\n\u001b[0m\u001b[1;32m     42\u001b[0m \u001b[0mpool\u001b[0m\u001b[0;34m.\u001b[0m\u001b[0mclose\u001b[0m\u001b[0;34m(\u001b[0m\u001b[0;34m)\u001b[0m\u001b[0;34m\u001b[0m\u001b[0;34m\u001b[0m\u001b[0m\n\u001b[1;32m     43\u001b[0m \u001b[0mpool\u001b[0m\u001b[0;34m.\u001b[0m\u001b[0mjoin\u001b[0m\u001b[0;34m(\u001b[0m\u001b[0;34m)\u001b[0m\u001b[0;34m\u001b[0m\u001b[0;34m\u001b[0m\u001b[0m\n",
      "\u001b[0;32m~/exp/anaconda3/envs/w2v2_new/lib/python3.6/multiprocessing/pool.py\u001b[0m in \u001b[0;36mmap\u001b[0;34m(self, func, iterable, chunksize)\u001b[0m\n\u001b[1;32m    264\u001b[0m         \u001b[0;32min\u001b[0m \u001b[0ma\u001b[0m \u001b[0mlist\u001b[0m \u001b[0mthat\u001b[0m \u001b[0;32mis\u001b[0m \u001b[0mreturned\u001b[0m\u001b[0;34m.\u001b[0m\u001b[0;34m\u001b[0m\u001b[0;34m\u001b[0m\u001b[0m\n\u001b[1;32m    265\u001b[0m         '''\n\u001b[0;32m--> 266\u001b[0;31m         \u001b[0;32mreturn\u001b[0m \u001b[0mself\u001b[0m\u001b[0;34m.\u001b[0m\u001b[0m_map_async\u001b[0m\u001b[0;34m(\u001b[0m\u001b[0mfunc\u001b[0m\u001b[0;34m,\u001b[0m \u001b[0miterable\u001b[0m\u001b[0;34m,\u001b[0m \u001b[0mmapstar\u001b[0m\u001b[0;34m,\u001b[0m \u001b[0mchunksize\u001b[0m\u001b[0;34m)\u001b[0m\u001b[0;34m.\u001b[0m\u001b[0mget\u001b[0m\u001b[0;34m(\u001b[0m\u001b[0;34m)\u001b[0m\u001b[0;34m\u001b[0m\u001b[0;34m\u001b[0m\u001b[0m\n\u001b[0m\u001b[1;32m    267\u001b[0m \u001b[0;34m\u001b[0m\u001b[0m\n\u001b[1;32m    268\u001b[0m     \u001b[0;32mdef\u001b[0m \u001b[0mstarmap\u001b[0m\u001b[0;34m(\u001b[0m\u001b[0mself\u001b[0m\u001b[0;34m,\u001b[0m \u001b[0mfunc\u001b[0m\u001b[0;34m,\u001b[0m \u001b[0miterable\u001b[0m\u001b[0;34m,\u001b[0m \u001b[0mchunksize\u001b[0m\u001b[0;34m=\u001b[0m\u001b[0;32mNone\u001b[0m\u001b[0;34m)\u001b[0m\u001b[0;34m:\u001b[0m\u001b[0;34m\u001b[0m\u001b[0;34m\u001b[0m\u001b[0m\n",
      "\u001b[0;32m~/exp/anaconda3/envs/w2v2_new/lib/python3.6/multiprocessing/pool.py\u001b[0m in \u001b[0;36mget\u001b[0;34m(self, timeout)\u001b[0m\n\u001b[1;32m    636\u001b[0m \u001b[0;34m\u001b[0m\u001b[0m\n\u001b[1;32m    637\u001b[0m     \u001b[0;32mdef\u001b[0m \u001b[0mget\u001b[0m\u001b[0;34m(\u001b[0m\u001b[0mself\u001b[0m\u001b[0;34m,\u001b[0m \u001b[0mtimeout\u001b[0m\u001b[0;34m=\u001b[0m\u001b[0;32mNone\u001b[0m\u001b[0;34m)\u001b[0m\u001b[0;34m:\u001b[0m\u001b[0;34m\u001b[0m\u001b[0;34m\u001b[0m\u001b[0m\n\u001b[0;32m--> 638\u001b[0;31m         \u001b[0mself\u001b[0m\u001b[0;34m.\u001b[0m\u001b[0mwait\u001b[0m\u001b[0;34m(\u001b[0m\u001b[0mtimeout\u001b[0m\u001b[0;34m)\u001b[0m\u001b[0;34m\u001b[0m\u001b[0;34m\u001b[0m\u001b[0m\n\u001b[0m\u001b[1;32m    639\u001b[0m         \u001b[0;32mif\u001b[0m \u001b[0;32mnot\u001b[0m \u001b[0mself\u001b[0m\u001b[0;34m.\u001b[0m\u001b[0mready\u001b[0m\u001b[0;34m(\u001b[0m\u001b[0;34m)\u001b[0m\u001b[0;34m:\u001b[0m\u001b[0;34m\u001b[0m\u001b[0;34m\u001b[0m\u001b[0m\n\u001b[1;32m    640\u001b[0m             \u001b[0;32mraise\u001b[0m \u001b[0mTimeoutError\u001b[0m\u001b[0;34m\u001b[0m\u001b[0;34m\u001b[0m\u001b[0m\n",
      "\u001b[0;32m~/exp/anaconda3/envs/w2v2_new/lib/python3.6/multiprocessing/pool.py\u001b[0m in \u001b[0;36mwait\u001b[0;34m(self, timeout)\u001b[0m\n\u001b[1;32m    633\u001b[0m \u001b[0;34m\u001b[0m\u001b[0m\n\u001b[1;32m    634\u001b[0m     \u001b[0;32mdef\u001b[0m \u001b[0mwait\u001b[0m\u001b[0;34m(\u001b[0m\u001b[0mself\u001b[0m\u001b[0;34m,\u001b[0m \u001b[0mtimeout\u001b[0m\u001b[0;34m=\u001b[0m\u001b[0;32mNone\u001b[0m\u001b[0;34m)\u001b[0m\u001b[0;34m:\u001b[0m\u001b[0;34m\u001b[0m\u001b[0;34m\u001b[0m\u001b[0m\n\u001b[0;32m--> 635\u001b[0;31m         \u001b[0mself\u001b[0m\u001b[0;34m.\u001b[0m\u001b[0m_event\u001b[0m\u001b[0;34m.\u001b[0m\u001b[0mwait\u001b[0m\u001b[0;34m(\u001b[0m\u001b[0mtimeout\u001b[0m\u001b[0;34m)\u001b[0m\u001b[0;34m\u001b[0m\u001b[0;34m\u001b[0m\u001b[0m\n\u001b[0m\u001b[1;32m    636\u001b[0m \u001b[0;34m\u001b[0m\u001b[0m\n\u001b[1;32m    637\u001b[0m     \u001b[0;32mdef\u001b[0m \u001b[0mget\u001b[0m\u001b[0;34m(\u001b[0m\u001b[0mself\u001b[0m\u001b[0;34m,\u001b[0m \u001b[0mtimeout\u001b[0m\u001b[0;34m=\u001b[0m\u001b[0;32mNone\u001b[0m\u001b[0;34m)\u001b[0m\u001b[0;34m:\u001b[0m\u001b[0;34m\u001b[0m\u001b[0;34m\u001b[0m\u001b[0m\n",
      "\u001b[0;32m~/exp/anaconda3/envs/w2v2_new/lib/python3.6/threading.py\u001b[0m in \u001b[0;36mwait\u001b[0;34m(self, timeout)\u001b[0m\n\u001b[1;32m    549\u001b[0m             \u001b[0msignaled\u001b[0m \u001b[0;34m=\u001b[0m \u001b[0mself\u001b[0m\u001b[0;34m.\u001b[0m\u001b[0m_flag\u001b[0m\u001b[0;34m\u001b[0m\u001b[0;34m\u001b[0m\u001b[0m\n\u001b[1;32m    550\u001b[0m             \u001b[0;32mif\u001b[0m \u001b[0;32mnot\u001b[0m \u001b[0msignaled\u001b[0m\u001b[0;34m:\u001b[0m\u001b[0;34m\u001b[0m\u001b[0;34m\u001b[0m\u001b[0m\n\u001b[0;32m--> 551\u001b[0;31m                 \u001b[0msignaled\u001b[0m \u001b[0;34m=\u001b[0m \u001b[0mself\u001b[0m\u001b[0;34m.\u001b[0m\u001b[0m_cond\u001b[0m\u001b[0;34m.\u001b[0m\u001b[0mwait\u001b[0m\u001b[0;34m(\u001b[0m\u001b[0mtimeout\u001b[0m\u001b[0;34m)\u001b[0m\u001b[0;34m\u001b[0m\u001b[0;34m\u001b[0m\u001b[0m\n\u001b[0m\u001b[1;32m    552\u001b[0m             \u001b[0;32mreturn\u001b[0m \u001b[0msignaled\u001b[0m\u001b[0;34m\u001b[0m\u001b[0;34m\u001b[0m\u001b[0m\n\u001b[1;32m    553\u001b[0m \u001b[0;34m\u001b[0m\u001b[0m\n",
      "\u001b[0;32m~/exp/anaconda3/envs/w2v2_new/lib/python3.6/threading.py\u001b[0m in \u001b[0;36mwait\u001b[0;34m(self, timeout)\u001b[0m\n\u001b[1;32m    293\u001b[0m         \u001b[0;32mtry\u001b[0m\u001b[0;34m:\u001b[0m    \u001b[0;31m# restore state no matter what (e.g., KeyboardInterrupt)\u001b[0m\u001b[0;34m\u001b[0m\u001b[0;34m\u001b[0m\u001b[0m\n\u001b[1;32m    294\u001b[0m             \u001b[0;32mif\u001b[0m \u001b[0mtimeout\u001b[0m \u001b[0;32mis\u001b[0m \u001b[0;32mNone\u001b[0m\u001b[0;34m:\u001b[0m\u001b[0;34m\u001b[0m\u001b[0;34m\u001b[0m\u001b[0m\n\u001b[0;32m--> 295\u001b[0;31m                 \u001b[0mwaiter\u001b[0m\u001b[0;34m.\u001b[0m\u001b[0macquire\u001b[0m\u001b[0;34m(\u001b[0m\u001b[0;34m)\u001b[0m\u001b[0;34m\u001b[0m\u001b[0;34m\u001b[0m\u001b[0m\n\u001b[0m\u001b[1;32m    296\u001b[0m                 \u001b[0mgotit\u001b[0m \u001b[0;34m=\u001b[0m \u001b[0;32mTrue\u001b[0m\u001b[0;34m\u001b[0m\u001b[0;34m\u001b[0m\u001b[0m\n\u001b[1;32m    297\u001b[0m             \u001b[0;32melse\u001b[0m\u001b[0;34m:\u001b[0m\u001b[0;34m\u001b[0m\u001b[0;34m\u001b[0m\u001b[0m\n",
      "\u001b[0;31mKeyboardInterrupt\u001b[0m: "
     ]
    },
    {
     "name": "stderr",
     "output_type": "stream",
     "text": [
      "  4%|▎         | 109/3000 [00:18<08:00,  6.01it/s]\n",
      "\n",
      "\n",
      "\n",
      "\n",
      "  3%|▎         | 104/3000 [00:18<08:25,  5.72it/s]Process ForkPoolWorker-121:\n",
      "\n",
      "Process ForkPoolWorker-125:\n",
      "Process ForkPoolWorker-128:\n",
      "Process ForkPoolWorker-123:\n",
      "Process ForkPoolWorker-124:\n",
      "Process ForkPoolWorker-122:\n",
      "Process ForkPoolWorker-120:\n",
      "  3%|▎         | 100/3000 [00:18<08:45,  5.52it/s]Traceback (most recent call last):\n",
      "\n",
      "  File \"/home/mayur/exp/anaconda3/envs/w2v2_new/lib/python3.6/multiprocessing/process.py\", line 258, in _bootstrap\n",
      "    self.run()\n",
      "Process ForkPoolWorker-119:\n",
      "  File \"/home/mayur/exp/anaconda3/envs/w2v2_new/lib/python3.6/multiprocessing/process.py\", line 93, in run\n",
      "    self._target(*self._args, **self._kwargs)\n",
      "Traceback (most recent call last):\n",
      "Traceback (most recent call last):\n",
      "  File \"/home/mayur/exp/anaconda3/envs/w2v2_new/lib/python3.6/multiprocessing/pool.py\", line 119, in worker\n",
      "    result = (True, func(*args, **kwds))\n",
      "Traceback (most recent call last):\n",
      "  File \"/home/mayur/exp/anaconda3/envs/w2v2_new/lib/python3.6/multiprocessing/process.py\", line 258, in _bootstrap\n",
      "    self.run()\n",
      "Traceback (most recent call last):\n",
      "Traceback (most recent call last):\n",
      "Traceback (most recent call last):\n",
      "  File \"/home/mayur/exp/anaconda3/envs/w2v2_new/lib/python3.6/multiprocessing/process.py\", line 258, in _bootstrap\n",
      "    self.run()\n",
      "  File \"/home/mayur/exp/anaconda3/envs/w2v2_new/lib/python3.6/multiprocessing/process.py\", line 258, in _bootstrap\n",
      "    self.run()\n",
      "  File \"/home/mayur/exp/anaconda3/envs/w2v2_new/lib/python3.6/multiprocessing/process.py\", line 93, in run\n",
      "    self._target(*self._args, **self._kwargs)\n",
      "  3%|▎         | 96/3000 [00:18<09:06,  5.32it/s]  File \"/home/mayur/exp/anaconda3/envs/w2v2_new/lib/python3.6/multiprocessing/process.py\", line 258, in _bootstrap\n",
      "    self.run()\n",
      "  File \"/home/mayur/exp/anaconda3/envs/w2v2_new/lib/python3.6/multiprocessing/process.py\", line 258, in _bootstrap\n",
      "    self.run()\n",
      "  File \"/home/mayur/exp/anaconda3/envs/w2v2_new/lib/python3.6/multiprocessing/process.py\", line 258, in _bootstrap\n",
      "    self.run()\n",
      "  File \"/home/mayur/exp/anaconda3/envs/w2v2_new/lib/python3.6/multiprocessing/process.py\", line 93, in run\n",
      "    self._target(*self._args, **self._kwargs)\n",
      "  File \"/home/mayur/exp/anaconda3/envs/w2v2_new/lib/python3.6/multiprocessing/pool.py\", line 119, in worker\n",
      "    result = (True, func(*args, **kwds))\n",
      "  File \"/home/mayur/exp/anaconda3/envs/w2v2_new/lib/python3.6/multiprocessing/process.py\", line 93, in run\n",
      "    self._target(*self._args, **self._kwargs)\n",
      "  File \"<ipython-input-7-d2322854fabd>\", line 19, in process_jsons\n",
      "    x, y = torchaudio.load(path)\n",
      "\n",
      "  File \"/home/mayur/exp/anaconda3/envs/w2v2_new/lib/python3.6/multiprocessing/process.py\", line 93, in run\n",
      "    self._target(*self._args, **self._kwargs)\n",
      "  File \"/home/mayur/exp/anaconda3/envs/w2v2_new/lib/python3.6/multiprocessing/process.py\", line 93, in run\n",
      "    self._target(*self._args, **self._kwargs)\n",
      "  File \"/home/mayur/exp/anaconda3/envs/w2v2_new/lib/python3.6/multiprocessing/process.py\", line 93, in run\n",
      "    self._target(*self._args, **self._kwargs)\n",
      "  File \"/home/mayur/exp/anaconda3/envs/w2v2_new/lib/python3.6/multiprocessing/pool.py\", line 119, in worker\n",
      "    result = (True, func(*args, **kwds))\n",
      "  File \"/home/mayur/exp/anaconda3/envs/w2v2_new/lib/python3.6/multiprocessing/pool.py\", line 44, in mapstar\n",
      "    return list(map(*args))\n",
      "Traceback (most recent call last):\n",
      "  File \"/home/mayur/exp/anaconda3/envs/w2v2_new/lib/python3.6/multiprocessing/pool.py\", line 119, in worker\n",
      "    result = (True, func(*args, **kwds))\n",
      "  File \"/home/mayur/exp/anaconda3/envs/w2v2_new/lib/python3.6/site-packages/torchaudio/backend/sox_io_backend.py\", line 153, in load\n",
      "    filepath, frame_offset, num_frames, normalize, channels_first, format)\n",
      "  File \"/home/mayur/exp/anaconda3/envs/w2v2_new/lib/python3.6/multiprocessing/pool.py\", line 119, in worker\n",
      "    result = (True, func(*args, **kwds))\n",
      "  File \"/home/mayur/exp/anaconda3/envs/w2v2_new/lib/python3.6/multiprocessing/pool.py\", line 44, in mapstar\n",
      "    return list(map(*args))\n",
      "  File \"/home/mayur/exp/anaconda3/envs/w2v2_new/lib/python3.6/multiprocessing/pool.py\", line 119, in worker\n",
      "    result = (True, func(*args, **kwds))\n",
      "  File \"/home/mayur/exp/anaconda3/envs/w2v2_new/lib/python3.6/multiprocessing/pool.py\", line 119, in worker\n",
      "    result = (True, func(*args, **kwds))\n",
      "  File \"<ipython-input-7-d2322854fabd>\", line 20, in process_jsons\n",
      "    duration = librosa.get_duration(filename=path)\n",
      "Process ForkPoolWorker-127:\n",
      "  File \"/home/mayur/exp/anaconda3/envs/w2v2_new/lib/python3.6/multiprocessing/pool.py\", line 44, in mapstar\n",
      "    return list(map(*args))\n",
      "  File \"/home/mayur/exp/anaconda3/envs/w2v2_new/lib/python3.6/multiprocessing/pool.py\", line 44, in mapstar\n",
      "    return list(map(*args))\n",
      "  File \"/home/mayur/exp/anaconda3/envs/w2v2_new/lib/python3.6/multiprocessing/process.py\", line 258, in _bootstrap\n",
      "    self.run()\n",
      "KeyboardInterrupt\n",
      "  File \"<ipython-input-7-d2322854fabd>\", line 19, in process_jsons\n",
      "    x, y = torchaudio.load(path)\n",
      "  File \"/home/mayur/exp/anaconda3/envs/w2v2_new/lib/python3.6/multiprocessing/pool.py\", line 44, in mapstar\n",
      "    return list(map(*args))\n",
      "  File \"/home/mayur/exp/anaconda3/envs/w2v2_new/lib/python3.6/multiprocessing/pool.py\", line 44, in mapstar\n",
      "    return list(map(*args))\n",
      "  File \"/home/mayur/exp/anaconda3/envs/w2v2_new/lib/python3.6/site-packages/librosa/util/decorators.py\", line 88, in inner_f\n",
      "    return f(*args, **kwargs)\n",
      "  File \"<ipython-input-7-d2322854fabd>\", line 20, in process_jsons\n",
      "    duration = librosa.get_duration(filename=path)\n",
      "  File \"<ipython-input-7-d2322854fabd>\", line 20, in process_jsons\n",
      "    duration = librosa.get_duration(filename=path)\n",
      "  File \"/home/mayur/exp/anaconda3/envs/w2v2_new/lib/python3.6/site-packages/torchaudio/backend/sox_io_backend.py\", line 153, in load\n",
      "    filepath, frame_offset, num_frames, normalize, channels_first, format)\n",
      "  File \"<ipython-input-7-d2322854fabd>\", line 19, in process_jsons\n",
      "    x, y = torchaudio.load(path)\n",
      "  File \"<ipython-input-7-d2322854fabd>\", line 20, in process_jsons\n",
      "    duration = librosa.get_duration(filename=path)\n",
      "  File \"/home/mayur/exp/anaconda3/envs/w2v2_new/lib/python3.6/site-packages/librosa/core/audio.py\", line 743, in get_duration\n",
      "    return sf.info(filename).duration\n",
      "  File \"/home/mayur/exp/anaconda3/envs/w2v2_new/lib/python3.6/multiprocessing/process.py\", line 93, in run\n",
      "    self._target(*self._args, **self._kwargs)\n",
      "  File \"/home/mayur/exp/anaconda3/envs/w2v2_new/lib/python3.6/site-packages/librosa/util/decorators.py\", line 88, in inner_f\n",
      "    return f(*args, **kwargs)\n",
      "  File \"/home/mayur/exp/anaconda3/envs/w2v2_new/lib/python3.6/site-packages/librosa/util/decorators.py\", line 88, in inner_f\n",
      "    return f(*args, **kwargs)\n",
      "KeyboardInterrupt\n",
      "Process ForkPoolWorker-129:\n",
      "  File \"/home/mayur/exp/anaconda3/envs/w2v2_new/lib/python3.6/site-packages/torchaudio/backend/sox_io_backend.py\", line 153, in load\n",
      "    filepath, frame_offset, num_frames, normalize, channels_first, format)\n",
      "Traceback (most recent call last):\n",
      "  File \"/home/mayur/exp/anaconda3/envs/w2v2_new/lib/python3.6/site-packages/librosa/util/decorators.py\", line 88, in inner_f\n",
      "    return f(*args, **kwargs)\n",
      "  File \"/home/mayur/exp/anaconda3/envs/w2v2_new/lib/python3.6/site-packages/librosa/core/audio.py\", line 743, in get_duration\n",
      "    return sf.info(filename).duration\n",
      "  File \"/home/mayur/exp/anaconda3/envs/w2v2_new/lib/python3.6/site-packages/soundfile.py\", line 464, in info\n",
      "    return _SoundFileInfo(file, verbose)\n",
      "  File \"/home/mayur/exp/anaconda3/envs/w2v2_new/lib/python3.6/site-packages/librosa/core/audio.py\", line 743, in get_duration\n",
      "    return sf.info(filename).duration\n",
      "  File \"/home/mayur/exp/anaconda3/envs/w2v2_new/lib/python3.6/multiprocessing/pool.py\", line 119, in worker\n",
      "    result = (True, func(*args, **kwds))\n",
      "KeyboardInterrupt\n",
      "  File \"/home/mayur/exp/anaconda3/envs/w2v2_new/lib/python3.6/site-packages/librosa/core/audio.py\", line 743, in get_duration\n",
      "    return sf.info(filename).duration\n",
      "  File \"/home/mayur/exp/anaconda3/envs/w2v2_new/lib/python3.6/site-packages/soundfile.py\", line 464, in info\n",
      "    return _SoundFileInfo(file, verbose)\n",
      "  File \"/home/mayur/exp/anaconda3/envs/w2v2_new/lib/python3.6/site-packages/soundfile.py\", line 464, in info\n",
      "    return _SoundFileInfo(file, verbose)\n"
     ]
    },
    {
     "name": "stderr",
     "output_type": "stream",
     "text": [
      "  File \"/home/mayur/exp/anaconda3/envs/w2v2_new/lib/python3.6/multiprocessing/process.py\", line 258, in _bootstrap\n",
      "    self.run()\n",
      "  File \"/home/mayur/exp/anaconda3/envs/w2v2_new/lib/python3.6/site-packages/soundfile.py\", line 409, in __init__\n",
      "    with SoundFile(file) as f:\n",
      "  File \"/home/mayur/exp/anaconda3/envs/w2v2_new/lib/python3.6/multiprocessing/pool.py\", line 44, in mapstar\n",
      "    return list(map(*args))\n",
      "  File \"/home/mayur/exp/anaconda3/envs/w2v2_new/lib/python3.6/site-packages/soundfile.py\", line 464, in info\n",
      "    return _SoundFileInfo(file, verbose)\n",
      "Traceback (most recent call last):\n",
      "  File \"/home/mayur/exp/anaconda3/envs/w2v2_new/lib/python3.6/site-packages/soundfile.py\", line 655, in __init__\n",
      "    self._file = self._open(file, mode_int, closefd)\n",
      "  File \"/home/mayur/exp/anaconda3/envs/w2v2_new/lib/python3.6/multiprocessing/process.py\", line 93, in run\n",
      "    self._target(*self._args, **self._kwargs)\n",
      "  File \"/home/mayur/exp/anaconda3/envs/w2v2_new/lib/python3.6/site-packages/soundfile.py\", line 409, in __init__\n",
      "    with SoundFile(file) as f:\n",
      "  File \"/home/mayur/exp/anaconda3/envs/w2v2_new/lib/python3.6/site-packages/soundfile.py\", line 409, in __init__\n",
      "    with SoundFile(file) as f:\n",
      "  File \"<ipython-input-7-d2322854fabd>\", line 19, in process_jsons\n",
      "    x, y = torchaudio.load(path)\n",
      "  File \"/home/mayur/exp/anaconda3/envs/w2v2_new/lib/python3.6/multiprocessing/process.py\", line 258, in _bootstrap\n",
      "    self.run()\n",
      "  File \"/home/mayur/exp/anaconda3/envs/w2v2_new/lib/python3.6/site-packages/soundfile.py\", line 1202, in _open\n",
      "    file_ptr = openfunction(file, mode_int, self._info)\n",
      "  File \"/home/mayur/exp/anaconda3/envs/w2v2_new/lib/python3.6/site-packages/soundfile.py\", line 409, in __init__\n",
      "    with SoundFile(file) as f:\n",
      "  File \"/home/mayur/exp/anaconda3/envs/w2v2_new/lib/python3.6/site-packages/soundfile.py\", line 655, in __init__\n",
      "    self._file = self._open(file, mode_int, closefd)\n",
      "  File \"/home/mayur/exp/anaconda3/envs/w2v2_new/lib/python3.6/site-packages/soundfile.py\", line 655, in __init__\n",
      "    self._file = self._open(file, mode_int, closefd)\n",
      "  File \"/home/mayur/exp/anaconda3/envs/w2v2_new/lib/python3.6/multiprocessing/pool.py\", line 119, in worker\n",
      "    result = (True, func(*args, **kwds))\n",
      "  File \"/home/mayur/exp/anaconda3/envs/w2v2_new/lib/python3.6/multiprocessing/process.py\", line 93, in run\n",
      "    self._target(*self._args, **self._kwargs)\n",
      "  File \"/home/mayur/exp/anaconda3/envs/w2v2_new/lib/python3.6/site-packages/soundfile.py\", line 655, in __init__\n",
      "    self._file = self._open(file, mode_int, closefd)\n",
      "KeyboardInterrupt\n",
      "  File \"/home/mayur/exp/anaconda3/envs/w2v2_new/lib/python3.6/site-packages/soundfile.py\", line 1202, in _open\n",
      "    file_ptr = openfunction(file, mode_int, self._info)\n",
      "  File \"/home/mayur/exp/anaconda3/envs/w2v2_new/lib/python3.6/site-packages/soundfile.py\", line 1202, in _open\n",
      "    file_ptr = openfunction(file, mode_int, self._info)\n",
      "  File \"/home/mayur/exp/anaconda3/envs/w2v2_new/lib/python3.6/multiprocessing/pool.py\", line 44, in mapstar\n",
      "    return list(map(*args))\n",
      "  File \"/home/mayur/exp/anaconda3/envs/w2v2_new/lib/python3.6/multiprocessing/pool.py\", line 108, in worker\n",
      "    task = get()\n",
      "  File \"/home/mayur/exp/anaconda3/envs/w2v2_new/lib/python3.6/site-packages/torchaudio/backend/sox_io_backend.py\", line 153, in load\n",
      "    filepath, frame_offset, num_frames, normalize, channels_first, format)\n",
      "KeyboardInterrupt\n",
      "  File \"/home/mayur/exp/anaconda3/envs/w2v2_new/lib/python3.6/site-packages/soundfile.py\", line 1202, in _open\n",
      "    file_ptr = openfunction(file, mode_int, self._info)\n",
      "  File \"<ipython-input-7-d2322854fabd>\", line 19, in process_jsons\n",
      "    x, y = torchaudio.load(path)\n",
      "KeyboardInterrupt\n",
      "  File \"/home/mayur/exp/anaconda3/envs/w2v2_new/lib/python3.6/multiprocessing/queues.py\", line 334, in get\n",
      "    with self._rlock:\n",
      "KeyboardInterrupt\n",
      "  File \"/home/mayur/exp/anaconda3/envs/w2v2_new/lib/python3.6/site-packages/torchaudio/backend/sox_io_backend.py\", line 153, in load\n",
      "    filepath, frame_offset, num_frames, normalize, channels_first, format)\n",
      "KeyboardInterrupt\n",
      "  File \"/home/mayur/exp/anaconda3/envs/w2v2_new/lib/python3.6/multiprocessing/synchronize.py\", line 95, in __enter__\n",
      "    return self._semlock.__enter__()\n",
      "KeyboardInterrupt\n",
      "KeyboardInterrupt\n",
      "Process ForkPoolWorker-132:\n",
      "Process ForkPoolWorker-133:\n",
      "Process ForkPoolWorker-126:\n",
      "Traceback (most recent call last):\n",
      "Traceback (most recent call last):\n",
      "  File \"/home/mayur/exp/anaconda3/envs/w2v2_new/lib/python3.6/multiprocessing/process.py\", line 258, in _bootstrap\n",
      "    self.run()\n",
      "  File \"/home/mayur/exp/anaconda3/envs/w2v2_new/lib/python3.6/multiprocessing/process.py\", line 93, in run\n",
      "    self._target(*self._args, **self._kwargs)\n",
      "Traceback (most recent call last):\n",
      "  File \"/home/mayur/exp/anaconda3/envs/w2v2_new/lib/python3.6/multiprocessing/pool.py\", line 108, in worker\n",
      "    task = get()\n",
      "  File \"/home/mayur/exp/anaconda3/envs/w2v2_new/lib/python3.6/multiprocessing/process.py\", line 258, in _bootstrap\n",
      "    self.run()\n",
      "  File \"/home/mayur/exp/anaconda3/envs/w2v2_new/lib/python3.6/multiprocessing/queues.py\", line 334, in get\n",
      "    with self._rlock:\n",
      "  File \"/home/mayur/exp/anaconda3/envs/w2v2_new/lib/python3.6/multiprocessing/process.py\", line 93, in run\n",
      "    self._target(*self._args, **self._kwargs)\n",
      "  File \"/home/mayur/exp/anaconda3/envs/w2v2_new/lib/python3.6/multiprocessing/synchronize.py\", line 95, in __enter__\n",
      "    return self._semlock.__enter__()\n",
      "  File \"/home/mayur/exp/anaconda3/envs/w2v2_new/lib/python3.6/multiprocessing/process.py\", line 258, in _bootstrap\n",
      "    self.run()\n",
      "  File \"/home/mayur/exp/anaconda3/envs/w2v2_new/lib/python3.6/multiprocessing/pool.py\", line 108, in worker\n",
      "    task = get()\n",
      "KeyboardInterrupt\n",
      "  File \"/home/mayur/exp/anaconda3/envs/w2v2_new/lib/python3.6/multiprocessing/process.py\", line 93, in run\n",
      "    self._target(*self._args, **self._kwargs)\n",
      "  File \"/home/mayur/exp/anaconda3/envs/w2v2_new/lib/python3.6/multiprocessing/queues.py\", line 335, in get\n",
      "    res = self._reader.recv_bytes()\n",
      "  File \"/home/mayur/exp/anaconda3/envs/w2v2_new/lib/python3.6/multiprocessing/pool.py\", line 108, in worker\n",
      "    task = get()\n",
      "  File \"/home/mayur/exp/anaconda3/envs/w2v2_new/lib/python3.6/multiprocessing/connection.py\", line 216, in recv_bytes\n",
      "    buf = self._recv_bytes(maxlength)\n",
      "  File \"/home/mayur/exp/anaconda3/envs/w2v2_new/lib/python3.6/multiprocessing/queues.py\", line 334, in get\n",
      "    with self._rlock:\n",
      "  File \"/home/mayur/exp/anaconda3/envs/w2v2_new/lib/python3.6/multiprocessing/synchronize.py\", line 95, in __enter__\n",
      "    return self._semlock.__enter__()\n",
      "  File \"/home/mayur/exp/anaconda3/envs/w2v2_new/lib/python3.6/multiprocessing/connection.py\", line 407, in _recv_bytes\n",
      "    buf = self._recv(4)\n",
      "  File \"/home/mayur/exp/anaconda3/envs/w2v2_new/lib/python3.6/multiprocessing/connection.py\", line 379, in _recv\n",
      "    chunk = read(handle, remaining)\n",
      "KeyboardInterrupt\n",
      "KeyboardInterrupt\n",
      "Process ForkPoolWorker-130:\n",
      "Process ForkPoolWorker-131:\n",
      "Traceback (most recent call last):\n",
      "Traceback (most recent call last):\n",
      "  File \"/home/mayur/exp/anaconda3/envs/w2v2_new/lib/python3.6/multiprocessing/process.py\", line 258, in _bootstrap\n",
      "    self.run()\n",
      "  File \"/home/mayur/exp/anaconda3/envs/w2v2_new/lib/python3.6/multiprocessing/process.py\", line 258, in _bootstrap\n",
      "    self.run()\n",
      "  File \"/home/mayur/exp/anaconda3/envs/w2v2_new/lib/python3.6/multiprocessing/process.py\", line 93, in run\n",
      "    self._target(*self._args, **self._kwargs)\n",
      "  File \"/home/mayur/exp/anaconda3/envs/w2v2_new/lib/python3.6/multiprocessing/process.py\", line 93, in run\n",
      "    self._target(*self._args, **self._kwargs)\n",
      "  File \"/home/mayur/exp/anaconda3/envs/w2v2_new/lib/python3.6/multiprocessing/pool.py\", line 108, in worker\n",
      "    task = get()\n",
      "  File \"/home/mayur/exp/anaconda3/envs/w2v2_new/lib/python3.6/multiprocessing/pool.py\", line 108, in worker\n",
      "    task = get()\n",
      "  File \"/home/mayur/exp/anaconda3/envs/w2v2_new/lib/python3.6/multiprocessing/queues.py\", line 334, in get\n",
      "    with self._rlock:\n",
      "  File \"/home/mayur/exp/anaconda3/envs/w2v2_new/lib/python3.6/multiprocessing/queues.py\", line 334, in get\n",
      "    with self._rlock:\n",
      "  File \"/home/mayur/exp/anaconda3/envs/w2v2_new/lib/python3.6/multiprocessing/synchronize.py\", line 95, in __enter__\n",
      "    return self._semlock.__enter__()\n"
     ]
    },
    {
     "name": "stderr",
     "output_type": "stream",
     "text": [
      "  File \"/home/mayur/exp/anaconda3/envs/w2v2_new/lib/python3.6/multiprocessing/synchronize.py\", line 95, in __enter__\n",
      "    return self._semlock.__enter__()\n",
      "KeyboardInterrupt\n",
      "KeyboardInterrupt\n"
     ]
    }
   ],
   "source": [
    "from multiprocessing import Pool, Manager\n",
    "\n",
    "def process_jsons(accent):\n",
    "    print(\"loading\", accent)\n",
    "    json_path = json_folder + accent +'.json'\n",
    "    json_file = open(json_path)\n",
    "    json_item_list = [line for line in json_file]\n",
    "    random.shuffle(json_item_list)\n",
    "    json_item_list = json_item_list[:3000]\n",
    "    json_item_list = [json.loads(line.strip()) for line in json_item_list]\n",
    "    for sample in tqdm(json_item_list):\n",
    "        try:\n",
    "            path = sample['audio_filepath'].replace('.wav', '.mp3').replace('wav', 'clips')\n",
    "#             path = sample['audio_filepath']\n",
    "            path = path.replace('/home/mayank/MTP/begin_again/', '/home/mayur/mayank/')\n",
    "            name = str(path).split('/')[-1].split('.')[0]\n",
    "            label = sample['accent']\n",
    "#             print(path)\n",
    "#             x, y = torchaudio.load(path)\n",
    "            duration = librosa.get_duration(filename=path)\n",
    "            if duration > 30:\n",
    "                continue\n",
    "            L.append({\n",
    "                \"name\": name,\n",
    "                \"path\": path,\n",
    "                \"accent\": label\n",
    "            })\n",
    "        except Exception as e:\n",
    "            print(str(path), e)\n",
    "            pass\n",
    "#         break\n",
    "\n",
    "json_folder = '../validated/accent-trans/classifier-train/'\n",
    "\n",
    "\n",
    "jsons = ['indian', 'us', 'scotland', 'philippines', 'african', 'hongkong', 'ireland', 'england', 'australia']\n",
    "\n",
    "manager = Manager()\n",
    "L = manager.list()\n",
    "pool = Pool(16)\n",
    "pool.map(process_jsons, jsons)\n",
    "pool.close()\n",
    "pool.join()\n",
    "print(len(L))"
   ]
  },
  {
   "cell_type": "code",
   "execution_count": null,
   "id": "5a292f76",
   "metadata": {},
   "outputs": [],
   "source": []
  },
  {
   "cell_type": "code",
   "execution_count": 18,
   "id": "bcd6e24d",
   "metadata": {},
   "outputs": [
    {
     "name": "stdout",
     "output_type": "stream",
     "text": [
      "24767\n",
      "[{'name': 'common_voice_en_656329', 'path': '/home/mayur/mayank/Error-Driven-ASR-Personalization/mozilla/cv-corpus-7.0-2021-07-21/en/clips/common_voice_en_656329.mp3', 'accent': 'philippines'}, {'name': 'common_voice_en_23865956', 'path': '/home/mayur/mayank/Error-Driven-ASR-Personalization/mozilla/cv-corpus-7.0-2021-07-21/en/clips/common_voice_en_23865956.mp3', 'accent': 'philippines'}, {'name': 'common_voice_en_22281133', 'path': '/home/mayur/mayank/Error-Driven-ASR-Personalization/mozilla/cv-corpus-7.0-2021-07-21/en/clips/common_voice_en_22281133.mp3', 'accent': 'australia'}]\n"
     ]
    }
   ],
   "source": [
    "data = list(L)\n",
    "print(len(data))\n",
    "print(data[:3])"
   ]
  },
  {
   "cell_type": "code",
   "execution_count": 19,
   "id": "38eb6295",
   "metadata": {},
   "outputs": [
    {
     "data": {
      "text/html": [
       "<div>\n",
       "<style scoped>\n",
       "    .dataframe tbody tr th:only-of-type {\n",
       "        vertical-align: middle;\n",
       "    }\n",
       "\n",
       "    .dataframe tbody tr th {\n",
       "        vertical-align: top;\n",
       "    }\n",
       "\n",
       "    .dataframe thead th {\n",
       "        text-align: right;\n",
       "    }\n",
       "</style>\n",
       "<table border=\"1\" class=\"dataframe\">\n",
       "  <thead>\n",
       "    <tr style=\"text-align: right;\">\n",
       "      <th></th>\n",
       "      <th>name</th>\n",
       "      <th>path</th>\n",
       "      <th>accent</th>\n",
       "    </tr>\n",
       "  </thead>\n",
       "  <tbody>\n",
       "    <tr>\n",
       "      <th>0</th>\n",
       "      <td>common_voice_en_656329</td>\n",
       "      <td>/home/mayur/mayank/Error-Driven-ASR-Personaliz...</td>\n",
       "      <td>philippines</td>\n",
       "    </tr>\n",
       "    <tr>\n",
       "      <th>1</th>\n",
       "      <td>common_voice_en_23865956</td>\n",
       "      <td>/home/mayur/mayank/Error-Driven-ASR-Personaliz...</td>\n",
       "      <td>philippines</td>\n",
       "    </tr>\n",
       "    <tr>\n",
       "      <th>2</th>\n",
       "      <td>common_voice_en_22281133</td>\n",
       "      <td>/home/mayur/mayank/Error-Driven-ASR-Personaliz...</td>\n",
       "      <td>australia</td>\n",
       "    </tr>\n",
       "    <tr>\n",
       "      <th>3</th>\n",
       "      <td>common_voice_en_17280999</td>\n",
       "      <td>/home/mayur/mayank/Error-Driven-ASR-Personaliz...</td>\n",
       "      <td>philippines</td>\n",
       "    </tr>\n",
       "    <tr>\n",
       "      <th>4</th>\n",
       "      <td>common_voice_en_17808820</td>\n",
       "      <td>/home/mayur/mayank/Error-Driven-ASR-Personaliz...</td>\n",
       "      <td>hongkong</td>\n",
       "    </tr>\n",
       "  </tbody>\n",
       "</table>\n",
       "</div>"
      ],
      "text/plain": [
       "                       name  \\\n",
       "0    common_voice_en_656329   \n",
       "1  common_voice_en_23865956   \n",
       "2  common_voice_en_22281133   \n",
       "3  common_voice_en_17280999   \n",
       "4  common_voice_en_17808820   \n",
       "\n",
       "                                                path       accent  \n",
       "0  /home/mayur/mayank/Error-Driven-ASR-Personaliz...  philippines  \n",
       "1  /home/mayur/mayank/Error-Driven-ASR-Personaliz...  philippines  \n",
       "2  /home/mayur/mayank/Error-Driven-ASR-Personaliz...    australia  \n",
       "3  /home/mayur/mayank/Error-Driven-ASR-Personaliz...  philippines  \n",
       "4  /home/mayur/mayank/Error-Driven-ASR-Personaliz...     hongkong  "
      ]
     },
     "execution_count": 19,
     "metadata": {},
     "output_type": "execute_result"
    }
   ],
   "source": [
    "df = pd.DataFrame(data)\n",
    "df.head()"
   ]
  },
  {
   "cell_type": "code",
   "execution_count": 63,
   "id": "4943f1b2",
   "metadata": {},
   "outputs": [],
   "source": [
    "# df['mp3path'] = df['path'].str.replace('.wav', '.mp3').replace('wav', 'clips')\n",
    "# df.head()"
   ]
  },
  {
   "cell_type": "code",
   "execution_count": 20,
   "id": "ccd3f1b7",
   "metadata": {},
   "outputs": [
    {
     "name": "stdout",
     "output_type": "stream",
     "text": [
      "Step 0: 24767\n",
      "Step 1: 24767\n"
     ]
    },
    {
     "data": {
      "text/html": [
       "<div>\n",
       "<style scoped>\n",
       "    .dataframe tbody tr th:only-of-type {\n",
       "        vertical-align: middle;\n",
       "    }\n",
       "\n",
       "    .dataframe tbody tr th {\n",
       "        vertical-align: top;\n",
       "    }\n",
       "\n",
       "    .dataframe thead th {\n",
       "        text-align: right;\n",
       "    }\n",
       "</style>\n",
       "<table border=\"1\" class=\"dataframe\">\n",
       "  <thead>\n",
       "    <tr style=\"text-align: right;\">\n",
       "      <th></th>\n",
       "      <th>name</th>\n",
       "      <th>path</th>\n",
       "      <th>accent</th>\n",
       "    </tr>\n",
       "  </thead>\n",
       "  <tbody>\n",
       "    <tr>\n",
       "      <th>0</th>\n",
       "      <td>common_voice_en_656329</td>\n",
       "      <td>/home/mayur/mayank/Error-Driven-ASR-Personaliz...</td>\n",
       "      <td>philippines</td>\n",
       "    </tr>\n",
       "    <tr>\n",
       "      <th>1</th>\n",
       "      <td>common_voice_en_23865956</td>\n",
       "      <td>/home/mayur/mayank/Error-Driven-ASR-Personaliz...</td>\n",
       "      <td>philippines</td>\n",
       "    </tr>\n",
       "    <tr>\n",
       "      <th>2</th>\n",
       "      <td>common_voice_en_22281133</td>\n",
       "      <td>/home/mayur/mayank/Error-Driven-ASR-Personaliz...</td>\n",
       "      <td>australia</td>\n",
       "    </tr>\n",
       "    <tr>\n",
       "      <th>3</th>\n",
       "      <td>common_voice_en_17280999</td>\n",
       "      <td>/home/mayur/mayank/Error-Driven-ASR-Personaliz...</td>\n",
       "      <td>philippines</td>\n",
       "    </tr>\n",
       "    <tr>\n",
       "      <th>4</th>\n",
       "      <td>common_voice_en_17808820</td>\n",
       "      <td>/home/mayur/mayank/Error-Driven-ASR-Personaliz...</td>\n",
       "      <td>hongkong</td>\n",
       "    </tr>\n",
       "  </tbody>\n",
       "</table>\n",
       "</div>"
      ],
      "text/plain": [
       "                       name  \\\n",
       "0    common_voice_en_656329   \n",
       "1  common_voice_en_23865956   \n",
       "2  common_voice_en_22281133   \n",
       "3  common_voice_en_17280999   \n",
       "4  common_voice_en_17808820   \n",
       "\n",
       "                                                path       accent  \n",
       "0  /home/mayur/mayank/Error-Driven-ASR-Personaliz...  philippines  \n",
       "1  /home/mayur/mayank/Error-Driven-ASR-Personaliz...  philippines  \n",
       "2  /home/mayur/mayank/Error-Driven-ASR-Personaliz...    australia  \n",
       "3  /home/mayur/mayank/Error-Driven-ASR-Personaliz...  philippines  \n",
       "4  /home/mayur/mayank/Error-Driven-ASR-Personaliz...     hongkong  "
      ]
     },
     "execution_count": 20,
     "metadata": {},
     "output_type": "execute_result"
    }
   ],
   "source": [
    "## Filter broken and non-existed paths\n",
    "\n",
    "print(f\"Step 0: {len(df)}\")\n",
    "\n",
    "df[\"status\"] = df[\"path\"].apply(lambda path: True if os.path.exists(path) else None)\n",
    "df = df.dropna(subset=[\"path\"])\n",
    "df = df.drop(\"status\", 1)\n",
    "print(f\"Step 1: {len(df)}\")\n",
    "\n",
    "# df = df.sample(frac=1)\n",
    "# df = df.reset_index(drop=True)\n",
    "df.head()"
   ]
  },
  {
   "cell_type": "code",
   "execution_count": 21,
   "id": "39c49bd2",
   "metadata": {},
   "outputs": [
    {
     "name": "stdout",
     "output_type": "stream",
     "text": [
      "Labels:  ['philippines' 'australia' 'hongkong' 'african' 'scotland' 'ireland'\n",
      " 'indian' 'england' 'us']\n",
      "\n"
     ]
    },
    {
     "data": {
      "text/html": [
       "<div>\n",
       "<style scoped>\n",
       "    .dataframe tbody tr th:only-of-type {\n",
       "        vertical-align: middle;\n",
       "    }\n",
       "\n",
       "    .dataframe tbody tr th {\n",
       "        vertical-align: top;\n",
       "    }\n",
       "\n",
       "    .dataframe thead th {\n",
       "        text-align: right;\n",
       "    }\n",
       "</style>\n",
       "<table border=\"1\" class=\"dataframe\">\n",
       "  <thead>\n",
       "    <tr style=\"text-align: right;\">\n",
       "      <th></th>\n",
       "      <th>path</th>\n",
       "    </tr>\n",
       "    <tr>\n",
       "      <th>accent</th>\n",
       "      <th></th>\n",
       "    </tr>\n",
       "  </thead>\n",
       "  <tbody>\n",
       "    <tr>\n",
       "      <th>african</th>\n",
       "      <td>3000</td>\n",
       "    </tr>\n",
       "    <tr>\n",
       "      <th>australia</th>\n",
       "      <td>3000</td>\n",
       "    </tr>\n",
       "    <tr>\n",
       "      <th>england</th>\n",
       "      <td>3000</td>\n",
       "    </tr>\n",
       "    <tr>\n",
       "      <th>hongkong</th>\n",
       "      <td>1598</td>\n",
       "    </tr>\n",
       "    <tr>\n",
       "      <th>indian</th>\n",
       "      <td>3000</td>\n",
       "    </tr>\n",
       "    <tr>\n",
       "      <th>ireland</th>\n",
       "      <td>3000</td>\n",
       "    </tr>\n",
       "    <tr>\n",
       "      <th>philippines</th>\n",
       "      <td>2169</td>\n",
       "    </tr>\n",
       "    <tr>\n",
       "      <th>scotland</th>\n",
       "      <td>3000</td>\n",
       "    </tr>\n",
       "    <tr>\n",
       "      <th>us</th>\n",
       "      <td>3000</td>\n",
       "    </tr>\n",
       "  </tbody>\n",
       "</table>\n",
       "</div>"
      ],
      "text/plain": [
       "             path\n",
       "accent           \n",
       "african      3000\n",
       "australia    3000\n",
       "england      3000\n",
       "hongkong     1598\n",
       "indian       3000\n",
       "ireland      3000\n",
       "philippines  2169\n",
       "scotland     3000\n",
       "us           3000"
      ]
     },
     "execution_count": 21,
     "metadata": {},
     "output_type": "execute_result"
    }
   ],
   "source": [
    "print(\"Labels: \", df[\"accent\"].unique())\n",
    "print()\n",
    "df.groupby(\"accent\").count()[[\"path\"]]"
   ]
  },
  {
   "cell_type": "code",
   "execution_count": 13,
   "id": "407ea3b4",
   "metadata": {},
   "outputs": [],
   "source": [
    "!mkdir -p MCV_training_data/init"
   ]
  },
  {
   "cell_type": "code",
   "execution_count": 22,
   "id": "034d59f1",
   "metadata": {},
   "outputs": [
    {
     "name": "stdout",
     "output_type": "stream",
     "text": [
      "(19813, 3)\n",
      "(2477, 3)\n",
      "(2477, 3)\n"
     ]
    }
   ],
   "source": [
    "save_path = \"MCV_training_data/init\"\n",
    "\n",
    "train_df, rem_df = train_test_split(df, train_size=0.8, random_state=101, stratify=df[\"accent\"])\n",
    "dev_df, test_df = train_test_split(rem_df, test_size=0.5, random_state=101, stratify=rem_df['accent'])\n",
    "\n",
    "train_df = train_df.reset_index(drop=True)\n",
    "dev_df = dev_df.reset_index(drop=True)\n",
    "test_df = test_df.reset_index(drop=True)\n",
    "\n",
    "train_df.to_csv(f\"{save_path}/train.csv\", sep=\"\\t\", encoding=\"utf-8\", index=False)\n",
    "dev_df.to_csv(f\"{save_path}/dev.csv\", sep=\"\\t\", encoding=\"utf-8\", index=False)\n",
    "test_df.to_csv(f\"{save_path}/test.csv\", sep=\"\\t\", encoding=\"utf-8\", index=False)\n",
    "\n",
    "print(train_df.shape)\n",
    "print(dev_df.shape)\n",
    "print(test_df.shape)"
   ]
  },
  {
   "cell_type": "code",
   "execution_count": null,
   "id": "bb26985e",
   "metadata": {},
   "outputs": [],
   "source": []
  },
  {
   "cell_type": "code",
   "execution_count": null,
   "id": "27ba239e",
   "metadata": {},
   "outputs": [],
   "source": []
  },
  {
   "cell_type": "markdown",
   "id": "d47a776d",
   "metadata": {},
   "source": [
    "### MCV test file generation"
   ]
  },
  {
   "cell_type": "code",
   "execution_count": 4,
   "id": "6aa0aedb",
   "metadata": {},
   "outputs": [
    {
     "name": "stdout",
     "output_type": "stream",
     "text": [
      "loadingloadingloadingloadingloadingloadingloadingloadingloading        australia africanirelandenglandscotlandphilippineshongkongindianus\n",
      "\n",
      "\n",
      "\n",
      "\n",
      "\n",
      "\n",
      "\n",
      "\n"
     ]
    },
    {
     "name": "stderr",
     "output_type": "stream",
     "text": [
      " 57%|█████████████████████████████████████████████████████████████████████████████████████████████████▍                                                                          | 170/300 [00:50<00:41,  3.14it/s]\n",
      "100%|████████████████████████████████████████████████████████████████████████████████████████████████████████████████████████████████████████████████████████████████████████████| 300/300 [01:15<00:00,  3.95it/s]\n",
      "100%|████████████████████████████████████████████████████████████████████████████████████████████████████████████████████████████████████████████████████████████████████████████| 300/300 [01:22<00:00,  3.62it/s]\n",
      "100%|████████████████████████████████████████████████████████████████████████████████████████████████████████████████████████████████████████████████████████████████████████████| 300/300 [01:24<00:00,  3.56it/s]\n",
      "100%|████████████████████████████████████████████████████████████████████████████████████████████████████████████████████████████████████████████████████████████████████████████| 300/300 [01:24<00:00,  3.55it/s]\n",
      "100%|████████████████████████████████████████████████████████████████████████████████████████████████████████████████████████████████████████████████████████████████████████████| 300/300 [01:24<00:00,  5.43it/s]\n",
      "100%|████████████████████████████████████████████████████████████████████████████████████████████████████████████████████████████████████████████████████████████████████████████| 300/300 [01:24<00:00,  3.53it/s]\n",
      "100%|████████████████████████████████████████████████████████████████████████████████████████████████████████████████████████████████████████████████████████████████████████████| 300/300 [01:25<00:00,  3.52it/s]\n",
      "100%|████████████████████████████████████████████████████████████████████████████████████████████████████████████████████████████████████████████████████████████████████████████| 300/300 [01:25<00:00,  3.50it/s]\n"
     ]
    },
    {
     "name": "stdout",
     "output_type": "stream",
     "text": [
      "2700\n"
     ]
    }
   ],
   "source": [
    "from multiprocessing import Pool, Manager\n",
    "\n",
    "def process_jsons(accent):\n",
    "    print(\"loading\", accent)\n",
    "    json_path = json_folder + accent +'.json'\n",
    "    json_file = open(json_path)\n",
    "    json_item_list = [line for line in json_file]\n",
    "    random.shuffle(json_item_list)\n",
    "    json_item_list = json_item_list[:300]\n",
    "    json_item_list = [json.loads(line.strip()) for line in json_item_list]\n",
    "    for sample in tqdm(json_item_list):\n",
    "        try:\n",
    "            path = sample['audio_filepath'].replace('.wav', '.mp3').replace('wav', 'clips')\n",
    "#             path = sample['audio_filepath']\n",
    "            path = path.replace('/home/mayank/MTP/begin_again/', '/home/mayur/mayank/')\n",
    "            name = str(path).split('/')[-1].split('.')[0]\n",
    "            label = sample['accent']\n",
    "#             print(path)\n",
    "#             x, y = torchaudio.load(path)\n",
    "            duration = librosa.get_duration(filename=path)\n",
    "            if duration > 30:\n",
    "                continue\n",
    "            L.append({\n",
    "                \"name\": name,\n",
    "                \"path\": path,\n",
    "                \"accent\": label\n",
    "            })\n",
    "        except Exception as e:\n",
    "            print(str(path), e)\n",
    "            pass\n",
    "#         break\n",
    "\n",
    "json_folder = '../validated/accent-trans/ground/'\n",
    "\n",
    "\n",
    "jsons = ['indian', 'us', 'scotland', 'philippines', 'african', 'hongkong', 'ireland', 'england', 'australia']\n",
    "\n",
    "manager = Manager()\n",
    "L = manager.list()\n",
    "pool = Pool(16)\n",
    "pool.map(process_jsons, jsons)\n",
    "pool.close()\n",
    "pool.join()\n",
    "print(len(L))"
   ]
  },
  {
   "cell_type": "code",
   "execution_count": 5,
   "id": "ee259de0",
   "metadata": {},
   "outputs": [
    {
     "name": "stdout",
     "output_type": "stream",
     "text": [
      "2700\n",
      "[{'name': 'common_voice_en_22292620', 'path': '/home/mayur/mayank/Error-Driven-ASR-Personalization/mozilla/cv-corpus-7.0-2021-07-21/en/clips/common_voice_en_22292620.mp3', 'accent': 'african'}, {'name': 'common_voice_en_24164602', 'path': '/home/mayur/mayank/Error-Driven-ASR-Personalization/mozilla/cv-corpus-7.0-2021-07-21/en/clips/common_voice_en_24164602.mp3', 'accent': 'african'}, {'name': 'common_voice_en_22474669', 'path': '/home/mayur/mayank/Error-Driven-ASR-Personalization/mozilla/cv-corpus-7.0-2021-07-21/en/clips/common_voice_en_22474669.mp3', 'accent': 'scotland'}]\n"
     ]
    }
   ],
   "source": [
    "data = list(L)\n",
    "print(len(data))\n",
    "print(data[:3])"
   ]
  },
  {
   "cell_type": "code",
   "execution_count": 6,
   "id": "47330c6f",
   "metadata": {},
   "outputs": [
    {
     "data": {
      "text/html": [
       "<div>\n",
       "<style scoped>\n",
       "    .dataframe tbody tr th:only-of-type {\n",
       "        vertical-align: middle;\n",
       "    }\n",
       "\n",
       "    .dataframe tbody tr th {\n",
       "        vertical-align: top;\n",
       "    }\n",
       "\n",
       "    .dataframe thead th {\n",
       "        text-align: right;\n",
       "    }\n",
       "</style>\n",
       "<table border=\"1\" class=\"dataframe\">\n",
       "  <thead>\n",
       "    <tr style=\"text-align: right;\">\n",
       "      <th></th>\n",
       "      <th>name</th>\n",
       "      <th>path</th>\n",
       "      <th>accent</th>\n",
       "    </tr>\n",
       "  </thead>\n",
       "  <tbody>\n",
       "    <tr>\n",
       "      <th>0</th>\n",
       "      <td>common_voice_en_22292620</td>\n",
       "      <td>/home/mayur/mayank/Error-Driven-ASR-Personaliz...</td>\n",
       "      <td>african</td>\n",
       "    </tr>\n",
       "    <tr>\n",
       "      <th>1</th>\n",
       "      <td>common_voice_en_24164602</td>\n",
       "      <td>/home/mayur/mayank/Error-Driven-ASR-Personaliz...</td>\n",
       "      <td>african</td>\n",
       "    </tr>\n",
       "    <tr>\n",
       "      <th>2</th>\n",
       "      <td>common_voice_en_22474669</td>\n",
       "      <td>/home/mayur/mayank/Error-Driven-ASR-Personaliz...</td>\n",
       "      <td>scotland</td>\n",
       "    </tr>\n",
       "    <tr>\n",
       "      <th>3</th>\n",
       "      <td>common_voice_en_22946480</td>\n",
       "      <td>/home/mayur/mayank/Error-Driven-ASR-Personaliz...</td>\n",
       "      <td>australia</td>\n",
       "    </tr>\n",
       "    <tr>\n",
       "      <th>4</th>\n",
       "      <td>common_voice_en_18414180</td>\n",
       "      <td>/home/mayur/mayank/Error-Driven-ASR-Personaliz...</td>\n",
       "      <td>england</td>\n",
       "    </tr>\n",
       "  </tbody>\n",
       "</table>\n",
       "</div>"
      ],
      "text/plain": [
       "                       name  \\\n",
       "0  common_voice_en_22292620   \n",
       "1  common_voice_en_24164602   \n",
       "2  common_voice_en_22474669   \n",
       "3  common_voice_en_22946480   \n",
       "4  common_voice_en_18414180   \n",
       "\n",
       "                                                path     accent  \n",
       "0  /home/mayur/mayank/Error-Driven-ASR-Personaliz...    african  \n",
       "1  /home/mayur/mayank/Error-Driven-ASR-Personaliz...    african  \n",
       "2  /home/mayur/mayank/Error-Driven-ASR-Personaliz...   scotland  \n",
       "3  /home/mayur/mayank/Error-Driven-ASR-Personaliz...  australia  \n",
       "4  /home/mayur/mayank/Error-Driven-ASR-Personaliz...    england  "
      ]
     },
     "execution_count": 6,
     "metadata": {},
     "output_type": "execute_result"
    }
   ],
   "source": [
    "df = pd.DataFrame(data)\n",
    "df.head()"
   ]
  },
  {
   "cell_type": "code",
   "execution_count": 7,
   "id": "a6c1f727",
   "metadata": {},
   "outputs": [
    {
     "name": "stdout",
     "output_type": "stream",
     "text": [
      "Labels:  ['african' 'scotland' 'australia' 'england' 'philippines' 'us' 'indian'\n",
      " 'hongkong' 'ireland']\n",
      "\n"
     ]
    },
    {
     "data": {
      "text/html": [
       "<div>\n",
       "<style scoped>\n",
       "    .dataframe tbody tr th:only-of-type {\n",
       "        vertical-align: middle;\n",
       "    }\n",
       "\n",
       "    .dataframe tbody tr th {\n",
       "        vertical-align: top;\n",
       "    }\n",
       "\n",
       "    .dataframe thead th {\n",
       "        text-align: right;\n",
       "    }\n",
       "</style>\n",
       "<table border=\"1\" class=\"dataframe\">\n",
       "  <thead>\n",
       "    <tr style=\"text-align: right;\">\n",
       "      <th></th>\n",
       "      <th>path</th>\n",
       "    </tr>\n",
       "    <tr>\n",
       "      <th>accent</th>\n",
       "      <th></th>\n",
       "    </tr>\n",
       "  </thead>\n",
       "  <tbody>\n",
       "    <tr>\n",
       "      <th>african</th>\n",
       "      <td>300</td>\n",
       "    </tr>\n",
       "    <tr>\n",
       "      <th>australia</th>\n",
       "      <td>300</td>\n",
       "    </tr>\n",
       "    <tr>\n",
       "      <th>england</th>\n",
       "      <td>300</td>\n",
       "    </tr>\n",
       "    <tr>\n",
       "      <th>hongkong</th>\n",
       "      <td>300</td>\n",
       "    </tr>\n",
       "    <tr>\n",
       "      <th>indian</th>\n",
       "      <td>300</td>\n",
       "    </tr>\n",
       "    <tr>\n",
       "      <th>ireland</th>\n",
       "      <td>300</td>\n",
       "    </tr>\n",
       "    <tr>\n",
       "      <th>philippines</th>\n",
       "      <td>300</td>\n",
       "    </tr>\n",
       "    <tr>\n",
       "      <th>scotland</th>\n",
       "      <td>300</td>\n",
       "    </tr>\n",
       "    <tr>\n",
       "      <th>us</th>\n",
       "      <td>300</td>\n",
       "    </tr>\n",
       "  </tbody>\n",
       "</table>\n",
       "</div>"
      ],
      "text/plain": [
       "             path\n",
       "accent           \n",
       "african       300\n",
       "australia     300\n",
       "england       300\n",
       "hongkong      300\n",
       "indian        300\n",
       "ireland       300\n",
       "philippines   300\n",
       "scotland      300\n",
       "us            300"
      ]
     },
     "execution_count": 7,
     "metadata": {},
     "output_type": "execute_result"
    }
   ],
   "source": [
    "print(\"Labels: \", df[\"accent\"].unique())\n",
    "print()\n",
    "df.groupby(\"accent\").count()[[\"path\"]]"
   ]
  },
  {
   "cell_type": "code",
   "execution_count": 8,
   "id": "6a8d2c28",
   "metadata": {},
   "outputs": [
    {
     "name": "stdout",
     "output_type": "stream",
     "text": [
      "(2700, 3)\n"
     ]
    }
   ],
   "source": [
    "save_path = \"MCV_training_data/init\"\n",
    "\n",
    "test_df = df.reset_index(drop=True)\n",
    "\n",
    "test_df.to_csv(f\"{save_path}/test.csv\", sep=\"\\t\", encoding=\"utf-8\", index=False)\n",
    "\n",
    "print(test_df.shape)"
   ]
  },
  {
   "cell_type": "code",
   "execution_count": null,
   "id": "cc1b9793",
   "metadata": {},
   "outputs": [],
   "source": []
  },
  {
   "cell_type": "code",
   "execution_count": null,
   "id": "1d6c73dd",
   "metadata": {},
   "outputs": [],
   "source": []
  },
  {
   "cell_type": "markdown",
   "id": "7e4512cb",
   "metadata": {},
   "source": [
    "## Test set Evaluation"
   ]
  },
  {
   "cell_type": "code",
   "execution_count": null,
   "id": "6c2ee269",
   "metadata": {},
   "outputs": [],
   "source": []
  },
  {
   "cell_type": "code",
   "execution_count": 1,
   "id": "266e8773",
   "metadata": {},
   "outputs": [],
   "source": [
    "def speech_file_to_array_fn(path):\n",
    "    speech_array, sampling_rate = torchaudio.load(path)\n",
    "    resampler = torchaudio.transforms.Resample(sampling_rate, target_sampling_rate)\n",
    "    speech = resampler(speech_array).squeeze().numpy()\n",
    "    return speech\n",
    "\n",
    "def label_to_id(label, label_list):\n",
    "    if len(label_list) > 0:\n",
    "        return label_list.index(label) if label in label_list else -1\n",
    "\n",
    "    return label\n",
    "\n",
    "def preprocess_function(examples):\n",
    "    speech_list = [speech_file_to_array_fn(path) for path in examples[input_column]]\n",
    "    target_list = [label_to_id(label, label_list) for label in examples[output_column]]\n",
    "\n",
    "    result = processor(speech_list, sampling_rate=target_sampling_rate)\n",
    "    result[\"labels\"] = list(target_list)\n",
    "\n",
    "    return result"
   ]
  },
  {
   "cell_type": "code",
   "execution_count": 2,
   "id": "ad60caa9",
   "metadata": {},
   "outputs": [
    {
     "name": "stderr",
     "output_type": "stream",
     "text": [
      "/home/mayur/exp/anaconda3/envs/tnew/lib/python3.7/site-packages/tqdm/auto.py:22: TqdmWarning: IProgress not found. Please update jupyter and ipywidgets. See https://ipywidgets.readthedocs.io/en/stable/user_install.html\n",
      "  from .autonotebook import tqdm as notebook_tqdm\n"
     ]
    }
   ],
   "source": [
    "from dataclasses import dataclass\n",
    "from typing import Optional, Tuple\n",
    "import torch\n",
    "from transformers.file_utils import ModelOutput\n",
    "\n",
    "@dataclass\n",
    "class SpeechClassifierOutput(ModelOutput):\n",
    "    loss: Optional[torch.FloatTensor] = None\n",
    "    logits: torch.FloatTensor = None\n",
    "    hidden_states: Optional[Tuple[torch.FloatTensor]] = None\n",
    "    attentions: Optional[Tuple[torch.FloatTensor]] = None\n",
    "    h1: Optional[Tuple[torch.FloatTensor]] = None\n",
    "    h2: Optional[Tuple[torch.FloatTensor]] = None"
   ]
  },
  {
   "cell_type": "code",
   "execution_count": 61,
   "id": "00709cd0",
   "metadata": {},
   "outputs": [],
   "source": [
    "import torch\n",
    "import torch.nn as nn\n",
    "from torch.nn import BCEWithLogitsLoss, CrossEntropyLoss, MSELoss\n",
    "import pdb \n",
    "\n",
    "from transformers.models.wav2vec2.modeling_wav2vec2 import (\n",
    "    Wav2Vec2PreTrainedModel,\n",
    "    Wav2Vec2Model\n",
    ")\n",
    "\n",
    "class Wav2Vec2ClassificationHead(nn.Module):\n",
    "    \"\"\"Head for wav2vec classification task.\"\"\"\n",
    "\n",
    "    def __init__(self, config):\n",
    "        super().__init__()\n",
    "        self.dense1 = nn.Linear(config.hidden_size, 300)\n",
    "        self.dense2 = nn.Linear(300, 100)\n",
    "        self.dropout = nn.Dropout(config.final_dropout)\n",
    "        self.out_proj = nn.Linear(100, config.num_labels)\n",
    "\n",
    "    def forward(self, features, **kwargs):\n",
    "        x = features\n",
    "        x = self.dropout(x)\n",
    "        x = self.dense1(x)\n",
    "        x1 = torch.tanh(x)\n",
    "        x2 = self.dropout(x1)\n",
    "        x2 = self.dense2(x2)\n",
    "        x2 = torch.tanh(x2)\n",
    "        x3 = self.dropout(x2)        \n",
    "        x3 = self.out_proj(x3)\n",
    "        return x1, x2, x3\n",
    "\n",
    "class Wav2Vec2ForSpeechClassification(Wav2Vec2PreTrainedModel):\n",
    "    def __init__(self, config):\n",
    "        super().__init__(config)\n",
    "        self.num_labels = config.num_labels\n",
    "        self.pooling_mode = config.pooling_mode\n",
    "        self.config = config\n",
    "\n",
    "        self.wav2vec2 = Wav2Vec2Model(config)\n",
    "        self.classifier = Wav2Vec2ClassificationHead(config)\n",
    "\n",
    "        self.init_weights()\n",
    "\n",
    "    def freeze_feature_extractor(self):\n",
    "        self.wav2vec2.feature_extractor._freeze_parameters()\n",
    "        for module in self.wav2vec2.encoder.layers[:10]:\n",
    "            for param in module.parameters():\n",
    "                param.requires_grad = False\n",
    "\n",
    "    def merged_strategy(\n",
    "            self,\n",
    "            hidden_states,\n",
    "            mode=\"mean\"\n",
    "    ):\n",
    "        if mode == \"mean\":\n",
    "            outputs = torch.mean(hidden_states, dim=1)\n",
    "        elif mode == \"sum\":\n",
    "            outputs = torch.sum(hidden_states, dim=1)\n",
    "        elif mode == \"max\":\n",
    "            outputs = torch.max(hidden_states, dim=1)[0]\n",
    "        else:\n",
    "            raise Exception(\n",
    "                \"The pooling method hasn't been defined! Your pooling mode must be one of these ['mean', 'sum', 'max']\")\n",
    "\n",
    "        return outputs\n",
    "\n",
    "    def forward(\n",
    "            self,\n",
    "            input_values,\n",
    "            attention_mask=None,\n",
    "            output_attentions=None,\n",
    "            output_hidden_states=True,\n",
    "            return_dict=None,\n",
    "            labels=None,\n",
    "    ):\n",
    "        return_dict = return_dict if return_dict is not None else self.config.use_return_dict\n",
    "        outputs = self.wav2vec2(\n",
    "            input_values,\n",
    "            attention_mask=attention_mask,\n",
    "            output_attentions=output_attentions,\n",
    "            output_hidden_states=output_hidden_states,\n",
    "            return_dict=return_dict,\n",
    "        )\n",
    "\n",
    "        hidden_states = outputs[0]\n",
    "#         print(hidden_states.shape)\n",
    "        #hidden_states = outputs[2][7]  ## taking output of 7th layer\n",
    "        hidden_states = self.merged_strategy(hidden_states, mode=self.pooling_mode)\n",
    "        h1, h2, logits = self.classifier(hidden_states)\n",
    "\n",
    "        loss = None\n",
    "        if labels is not None:\n",
    "            if self.config.problem_type is None:\n",
    "                if self.num_labels == 1:\n",
    "                    self.config.problem_type = \"regression\"\n",
    "                elif self.num_labels > 1 and (labels.dtype == torch.long or labels.dtype == torch.int):\n",
    "                    self.config.problem_type = \"single_label_classification\"\n",
    "                else:\n",
    "                    self.config.problem_type = \"multi_label_classification\"\n",
    "\n",
    "            if self.config.problem_type == \"regression\":\n",
    "                loss_fct = MSELoss()\n",
    "                loss = loss_fct(logits.view(-1, self.num_labels), labels)\n",
    "            elif self.config.problem_type == \"single_label_classification\":\n",
    "                loss_fct = CrossEntropyLoss()\n",
    "                loss = loss_fct(logits.view(-1, self.num_labels), labels.view(-1))\n",
    "            elif self.config.problem_type == \"multi_label_classification\":\n",
    "                loss_fct = BCEWithLogitsLoss()\n",
    "                loss = loss_fct(logits, labels)\n",
    "\n",
    "        if not return_dict:\n",
    "            output = (h1 + h2 + logits,) + outputs[2:]\n",
    "            return ((loss,) + output) if loss is not None else output\n",
    "\n",
    "        return SpeechClassifierOutput(\n",
    "            loss=loss,\n",
    "            logits=logits,\n",
    "            hidden_states=outputs.hidden_states,\n",
    "            attentions=outputs.attentions,\n",
    "            h1=h1,\n",
    "            h2=h2\n",
    "        )"
   ]
  },
  {
   "cell_type": "code",
   "execution_count": 49,
   "id": "28a21420",
   "metadata": {},
   "outputs": [],
   "source": [
    "from dataclasses import dataclass\n",
    "from typing import Dict, List, Optional, Union\n",
    "import torch\n",
    "\n",
    "import transformers\n",
    "from transformers import Wav2Vec2Processor\n",
    "\n",
    "@dataclass\n",
    "class DataCollatorCTCWithPadding:\n",
    "\n",
    "    processor: Wav2Vec2Processor\n",
    "    padding: Union[bool, str] = True\n",
    "    max_length: Optional[int] = None\n",
    "    max_length_labels: Optional[int] = None\n",
    "    pad_to_multiple_of: Optional[int] = None\n",
    "    pad_to_multiple_of_labels: Optional[int] = None\n",
    "\n",
    "    def __call__(self, features: List[Dict[str, Union[List[int], torch.Tensor]]]) -> Dict[str, torch.Tensor]:\n",
    "        input_features = [{\"input_values\": feature[\"input_values\"]} for feature in features]\n",
    "        label_features = [feature[\"labels\"] for feature in features]\n",
    "\n",
    "        d_type = torch.long if isinstance(label_features[0], int) else torch.float\n",
    "\n",
    "        batch = self.processor.pad(\n",
    "            input_features,\n",
    "            padding=self.padding,\n",
    "            max_length=self.max_length,\n",
    "            pad_to_multiple_of=self.pad_to_multiple_of,\n",
    "            return_tensors=\"pt\",\n",
    "        )\n",
    "\n",
    "        batch[\"labels\"] = torch.tensor(label_features, dtype=d_type)\n",
    "\n",
    "        return batch\n",
    "\n",
    "data_collator = DataCollatorCTCWithPadding(processor=processor, padding=True)"
   ]
  },
  {
   "cell_type": "code",
   "execution_count": 50,
   "id": "bd92bcae",
   "metadata": {},
   "outputs": [],
   "source": [
    "is_regression = False\n",
    "\n",
    "import numpy as np\n",
    "from transformers import EvalPrediction\n",
    "\n",
    "def compute_metrics(p: EvalPrediction):\n",
    "    preds = p.predictions[0] if isinstance(p.predictions, tuple) else p.predictions\n",
    "    preds = np.squeeze(preds) if is_regression else np.argmax(preds, axis=1)\n",
    "\n",
    "    if is_regression:\n",
    "        return {\"mse\": ((preds - p.label_ids) ** 2).mean().item()}\n",
    "    else:\n",
    "        return {\"accuracy\": (preds == p.label_ids).astype(np.float32).mean().item()}\n",
    "\n",
    "model = Wav2Vec2ForSpeechClassification.from_pretrained(\n",
    "    model_name_or_path,\n",
    "    config=config,\n",
    ")"
   ]
  },
  {
   "cell_type": "code",
   "execution_count": null,
   "id": "5c412ff6",
   "metadata": {},
   "outputs": [],
   "source": []
  },
  {
   "cell_type": "code",
   "execution_count": 42,
   "id": "0304884a",
   "metadata": {},
   "outputs": [],
   "source": [
    "def speech_file_to_array_fn(batch):\n",
    "    speech_array, sampling_rate = torchaudio.load(batch[\"path\"])\n",
    "    resampler = torchaudio.transforms.Resample(sampling_rate, processor.feature_extractor.sampling_rate)\n",
    "    speech = resampler(speech_array).squeeze().numpy()\n",
    "    batch[\"speech\"] = speech\n",
    "    return batch\n",
    "\n",
    "def predict(batch):\n",
    "    features = processor(batch[\"speech\"], sampling_rate=processor.feature_extractor.sampling_rate, return_tensors=\"pt\", padding=True)\n",
    "\n",
    "    input_values = features.input_values#.to(device)\n",
    "    attention_mask = None\n",
    "\n",
    "    with torch.no_grad():\n",
    "        logits = model(input_values, attention_mask=attention_mask).logits \n",
    "\n",
    "    pred_ids = torch.argmax(logits, dim=-1).detach().cpu().numpy()\n",
    "    batch[\"predicted\"] = pred_ids\n",
    "    return batch"
   ]
  },
  {
   "cell_type": "code",
   "execution_count": 4,
   "id": "0846ed49",
   "metadata": {},
   "outputs": [],
   "source": [
    "import numpy as np\n",
    "import librosa\n",
    "import torch\n",
    "import torchaudio\n",
    "from sklearn.metrics import classification_report\n",
    "from datasets import load_dataset, load_metric\n",
    "from transformers import AutoConfig, Wav2Vec2Processor"
   ]
  },
  {
   "cell_type": "code",
   "execution_count": 5,
   "id": "c05724f3",
   "metadata": {},
   "outputs": [
    {
     "name": "stdout",
     "output_type": "stream",
     "text": [
      "Device: cuda\n"
     ]
    }
   ],
   "source": [
    "device = torch.device(\"cuda\" if torch.cuda.is_available() else \"cpu\")\n",
    "print(f\"Device: {device}\")"
   ]
  },
  {
   "cell_type": "code",
   "execution_count": 76,
   "id": "6418f385",
   "metadata": {},
   "outputs": [],
   "source": [
    "model_name_or_path = \"MCV_checkpoints/wav2vec2_out7_freezeafter/checkpoint-9600\"\n",
    "config = AutoConfig.from_pretrained(model_name_or_path)\n",
    "processor = Wav2Vec2Processor.from_pretrained(model_name_or_path)\n",
    "model = Wav2Vec2ForSpeechClassification.from_pretrained(model_name_or_path)#.to(device)"
   ]
  },
  {
   "cell_type": "code",
   "execution_count": 77,
   "id": "9894928d",
   "metadata": {},
   "outputs": [
    {
     "name": "stderr",
     "output_type": "stream",
     "text": [
      "Using custom data configuration default-0bc84ae57798d4a8\n",
      "Found cached dataset csv (/home/mayur/.cache/huggingface/datasets/csv/default-0bc84ae57798d4a8/0.0.0/6b34fb8fcf56f7c8ba51dc895bfa2bfbe43546f190a60fcf74bb5e8afdcc2317)\n",
      "100%|███████████████████████████████████████████████████████████████████████████████████████████████████████████████████████████████████████████████████████████████████████████████| 1/1 [00:00<00:00, 381.06it/s]\n"
     ]
    },
    {
     "data": {
      "text/plain": [
       "Dataset({\n",
       "    features: ['name', 'path', 'accent'],\n",
       "    num_rows: 2700\n",
       "})"
      ]
     },
     "execution_count": 77,
     "metadata": {},
     "output_type": "execute_result"
    }
   ],
   "source": [
    "test_dataset = load_dataset(\"csv\", data_files={\"test\": \"MCV_training_data/init/test.csv\"}, delimiter=\"\\t\")[\"test\"]\n",
    "test_dataset"
   ]
  },
  {
   "cell_type": "code",
   "execution_count": 79,
   "id": "fc0e5169",
   "metadata": {},
   "outputs": [
    {
     "name": "stderr",
     "output_type": "stream",
     "text": [
      "100%|██████████████████████████████████████████████████████████████████████████████████████████████████████████████████████████████████████████████████████████████████████████| 2700/2700 [02:41<00:00, 16.74ex/s]\n"
     ]
    }
   ],
   "source": [
    "test_dataset = test_dataset.map(speech_file_to_array_fn)"
   ]
  },
  {
   "cell_type": "code",
   "execution_count": 80,
   "id": "3db45506",
   "metadata": {},
   "outputs": [
    {
     "name": "stderr",
     "output_type": "stream",
     "text": [
      "100%|███████████████████████████████████████████████████████████████████████████████████████████████████████████████████████████████████████████████████████████████████████████▍| 337/338 [11:28<00:02,  2.04s/ba]\n"
     ]
    }
   ],
   "source": [
    "result = test_dataset.map(predict, batched=True, batch_size=8)"
   ]
  },
  {
   "cell_type": "code",
   "execution_count": 81,
   "id": "e98eb73d",
   "metadata": {},
   "outputs": [
    {
     "data": {
      "text/plain": [
       "['african',\n",
       " 'australia',\n",
       " 'england',\n",
       " 'hongkong',\n",
       " 'indian',\n",
       " 'ireland',\n",
       " 'philippines',\n",
       " 'scotland',\n",
       " 'us']"
      ]
     },
     "execution_count": 81,
     "metadata": {},
     "output_type": "execute_result"
    }
   ],
   "source": [
    "label_names = [config.id2label[i] for i in range(config.num_labels)]\n",
    "label_names"
   ]
  },
  {
   "cell_type": "code",
   "execution_count": 82,
   "id": "407a741b",
   "metadata": {},
   "outputs": [
    {
     "name": "stdout",
     "output_type": "stream",
     "text": [
      "[0, 0, 7, 1, 2]\n",
      "[8, 4, 2, 1, 2]\n"
     ]
    }
   ],
   "source": [
    "y_true = [config.label2id[name] for name in result[\"accent\"]]\n",
    "y_pred = result[\"predicted\"]\n",
    "\n",
    "print(y_true[:5])\n",
    "print(y_pred[:5])"
   ]
  },
  {
   "cell_type": "code",
   "execution_count": 83,
   "id": "62e41945",
   "metadata": {},
   "outputs": [
    {
     "name": "stdout",
     "output_type": "stream",
     "text": [
      "              precision    recall  f1-score   support\n",
      "\n",
      "     african       0.25      0.02      0.03       300\n",
      "   australia       0.35      0.86      0.50       300\n",
      "     england       0.38      0.68      0.49       300\n",
      "    hongkong       0.82      0.11      0.19       300\n",
      "      indian       0.75      0.60      0.66       300\n",
      "     ireland       0.52      0.10      0.16       300\n",
      " philippines       0.67      0.01      0.01       300\n",
      "    scotland       0.62      0.30      0.40       300\n",
      "          us       0.28      0.88      0.43       300\n",
      "\n",
      "    accuracy                           0.39      2700\n",
      "   macro avg       0.52      0.39      0.32      2700\n",
      "weighted avg       0.52      0.39      0.32      2700\n",
      "\n"
     ]
    }
   ],
   "source": [
    "print(classification_report(y_true, y_pred, target_names=label_names))"
   ]
  },
  {
   "cell_type": "code",
   "execution_count": 32,
   "id": "a04b90ce",
   "metadata": {},
   "outputs": [
    {
     "data": {
      "text/plain": [
       "Dataset({\n",
       "    features: ['name', 'path', 'accent', 'speech'],\n",
       "    num_rows: 2700\n",
       "})"
      ]
     },
     "execution_count": 32,
     "metadata": {},
     "output_type": "execute_result"
    }
   ],
   "source": [
    "test_dataset"
   ]
  },
  {
   "cell_type": "code",
   "execution_count": 33,
   "id": "fea6a1f2",
   "metadata": {},
   "outputs": [],
   "source": [
    "_len = []\n",
    "for ex in test_dataset:\n",
    "    _len.append(len(ex['speech']))"
   ]
  },
  {
   "cell_type": "code",
   "execution_count": 34,
   "id": "afd027de",
   "metadata": {},
   "outputs": [
    {
     "data": {
      "text/plain": [
       "(20352, 223104, 78914.51185185186)"
      ]
     },
     "execution_count": 34,
     "metadata": {},
     "output_type": "execute_result"
    }
   ],
   "source": [
    "min(_len), max(_len), sum(_len)/len(_len) "
   ]
  },
  {
   "cell_type": "code",
   "execution_count": null,
   "id": "aadf9f35",
   "metadata": {},
   "outputs": [],
   "source": []
  },
  {
   "cell_type": "code",
   "execution_count": null,
   "id": "77fa969c",
   "metadata": {},
   "outputs": [],
   "source": []
  }
 ],
 "metadata": {
  "kernelspec": {
   "display_name": "tnew",
   "language": "python",
   "name": "tnew"
  },
  "language_info": {
   "codemirror_mode": {
    "name": "ipython",
    "version": 3
   },
   "file_extension": ".py",
   "mimetype": "text/x-python",
   "name": "python",
   "nbconvert_exporter": "python",
   "pygments_lexer": "ipython3",
   "version": "3.7.13"
  }
 },
 "nbformat": 4,
 "nbformat_minor": 5
}
