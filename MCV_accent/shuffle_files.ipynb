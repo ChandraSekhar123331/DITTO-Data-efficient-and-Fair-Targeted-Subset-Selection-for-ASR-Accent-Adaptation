{
 "cells": [
  {
   "cell_type": "code",
   "execution_count": 1,
   "id": "1adde5eb",
   "metadata": {},
   "outputs": [],
   "source": [
    "import json\n",
    "import numpy as np\n",
    "import os"
   ]
  },
  {
   "cell_type": "code",
   "execution_count": 5,
   "id": "0230b25e",
   "metadata": {},
   "outputs": [],
   "source": [
    "input_dirs = [\"../mz-isca/invalidated/accent/\", \"../mz-isca/invalidated/accent-trans/\", \"../mz-isca/invalidated/trans/\"]\n",
    "extra_path = \"shuffled/\"\n",
    "new_dirs = [_+extra_path for _ in input_dirs]"
   ]
  },
  {
   "cell_type": "code",
   "execution_count": 6,
   "id": "21e3dd62",
   "metadata": {},
   "outputs": [
    {
     "name": "stdout",
     "output_type": "stream",
     "text": [
      "['../mz-isca/invalidated/accent/shuffled/', '../mz-isca/invalidated/accent-trans/shuffled/', '../mz-isca/invalidated/trans/shuffled/']\n"
     ]
    }
   ],
   "source": [
    "print(new_dirs)"
   ]
  },
  {
   "cell_type": "code",
   "execution_count": null,
   "id": "7a00b4d1",
   "metadata": {},
   "outputs": [],
   "source": []
  },
  {
   "cell_type": "code",
   "execution_count": 7,
   "id": "f1674108",
   "metadata": {},
   "outputs": [],
   "source": [
    "seed = 50\n",
    "for old_dir, new_dir in zip(input_dirs, new_dirs):\n",
    "    os.mkdir(new_dir)\n",
    "    reqd_files = [fname for fname in os.listdir(old_dir) if fname.find('.json') != -1 and os.path.isfile(os.path.join(old_dir, fname))]\n",
    "    for fname in reqd_files:\n",
    "        with open(os.path.join(old_dir, fname)) as f:\n",
    "            lines = f.readlines()\n",
    "            rng = np.random.default_rng(seed = seed)\n",
    "            permuted_index = np.arange(len(lines))\n",
    "            rng.shuffle(permuted_index)\n",
    "            new_lines = [lines[ind] for ind in permuted_index]\n",
    "            with open(os.path.join(new_dir, fname), 'w+') as new_f:\n",
    "                new_f.writelines(new_lines)"
   ]
  },
  {
   "cell_type": "code",
   "execution_count": null,
   "id": "a6e21e7c",
   "metadata": {},
   "outputs": [],
   "source": []
  }
 ],
 "metadata": {
  "kernelspec": {
   "display_name": "w2v2",
   "language": "python",
   "name": "w2v2"
  },
  "language_info": {
   "codemirror_mode": {
    "name": "ipython",
    "version": 3
   },
   "file_extension": ".py",
   "mimetype": "text/x-python",
   "name": "python",
   "nbconvert_exporter": "python",
   "pygments_lexer": "ipython3",
   "version": "3.6.13"
  }
 },
 "nbformat": 4,
 "nbformat_minor": 5
}
