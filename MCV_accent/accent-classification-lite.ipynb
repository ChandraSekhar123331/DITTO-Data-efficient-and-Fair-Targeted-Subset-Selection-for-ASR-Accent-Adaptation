{
 "cells": [
  {
   "cell_type": "code",
   "execution_count": 1,
   "metadata": {},
   "outputs": [
    {
     "name": "stderr",
     "output_type": "stream",
     "text": [
      "<ipython-input-1-ac09909db896>:1: DeprecationWarning: Importing display from IPython.core.display is deprecated since IPython 7.14, please import from IPython display\n",
      "  from IPython.core.display import display, HTML\n"
     ]
    },
    {
     "data": {
      "text/html": [
       "<style>.container { width:100% !important; }</style>"
      ],
      "text/plain": [
       "<IPython.core.display.HTML object>"
      ]
     },
     "metadata": {},
     "output_type": "display_data"
    }
   ],
   "source": [
    "from IPython.core.display import display, HTML\n",
    "display(HTML(\"<style>.container { width:100% !important; }</style>\"))"
   ]
  },
  {
   "cell_type": "code",
   "execution_count": 2,
   "metadata": {},
   "outputs": [
    {
     "name": "stdout",
     "output_type": "stream",
     "text": [
      "3.8.10\n"
     ]
    }
   ],
   "source": [
    "from platform import python_version\n",
    "print(python_version())"
   ]
  },
  {
   "cell_type": "code",
   "execution_count": 3,
   "metadata": {},
   "outputs": [],
   "source": [
    "!unset CUDA_VISIBLE_DEVICES\n",
    "!export CUDA_VISIBLE_DEVICES=1"
   ]
  },
  {
   "cell_type": "code",
   "execution_count": 4,
   "metadata": {},
   "outputs": [
    {
     "name": "stdout",
     "output_type": "stream",
     "text": [
      "Thu May 12 19:13:08 2022       \n",
      "+-----------------------------------------------------------------------------+\n",
      "| NVIDIA-SMI 460.32.03    Driver Version: 460.32.03    CUDA Version: 11.2     |\n",
      "|-------------------------------+----------------------+----------------------+\n",
      "| GPU  Name        Persistence-M| Bus-Id        Disp.A | Volatile Uncorr. ECC |\n",
      "| Fan  Temp  Perf  Pwr:Usage/Cap|         Memory-Usage | GPU-Util  Compute M. |\n",
      "|                               |                      |               MIG M. |\n",
      "|===============================+======================+======================|\n",
      "|   0  GeForce GTX 108...  On   | 00000000:3B:00.0 Off |                  N/A |\n",
      "| 27%   37C    P8     9W / 250W |      1MiB / 11178MiB |      0%      Default |\n",
      "|                               |                      |                  N/A |\n",
      "+-------------------------------+----------------------+----------------------+\n",
      "|   1  GeForce GTX 108...  On   | 00000000:5E:00.0 Off |                  N/A |\n",
      "| 27%   36C    P8     9W / 250W |      1MiB / 11178MiB |      0%      Default |\n",
      "|                               |                      |                  N/A |\n",
      "+-------------------------------+----------------------+----------------------+\n",
      "|   2  GeForce GTX 108...  On   | 00000000:86:00.0 Off |                  N/A |\n",
      "| 27%   32C    P8     8W / 250W |      1MiB / 11178MiB |      0%      Default |\n",
      "|                               |                      |                  N/A |\n",
      "+-------------------------------+----------------------+----------------------+\n",
      "|   3  GeForce GTX 108...  On   | 00000000:AF:00.0 Off |                  N/A |\n",
      "| 31%   46C    P8    21W / 250W |      1MiB / 11177MiB |      0%      Default |\n",
      "|                               |                      |                  N/A |\n",
      "+-------------------------------+----------------------+----------------------+\n",
      "                                                                               \n",
      "+-----------------------------------------------------------------------------+\n",
      "| Processes:                                                                  |\n",
      "|  GPU   GI   CI        PID   Type   Process name                  GPU Memory |\n",
      "|        ID   ID                                                   Usage      |\n",
      "|=============================================================================|\n",
      "|  No running processes found                                                 |\n",
      "+-----------------------------------------------------------------------------+\n",
      "\n"
     ]
    }
   ],
   "source": [
    "!nvidia-smi\n",
    "!echo $CUDA_VISIBLE_DEVICES"
   ]
  },
  {
   "cell_type": "code",
   "execution_count": 5,
   "metadata": {
    "id": "TYsw43ULuXC_"
   },
   "outputs": [],
   "source": [
    "# %%capture\n",
    "\n",
    "# !pip install git+https://github.com/huggingface/datasets.git\n",
    "# !pip install git+https://github.com/huggingface/transformers.git\n",
    "# !pip install jiwer\n",
    "# !pip install torchaudio\n",
    "# !pip install librosa\n",
    "\n",
    "# # Monitor the training process\n",
    "# # !pip install wandb"
   ]
  },
  {
   "cell_type": "code",
   "execution_count": 6,
   "metadata": {
    "id": "cp4-LTa2uphv"
   },
   "outputs": [
    {
     "name": "stdout",
     "output_type": "stream",
     "text": [
      "env: LC_ALL=C.UTF-8\n",
      "env: LANG=C.UTF-8\n",
      "env: TRANSFORMERS_CACHE=content/cache\n",
      "env: HF_DATASETS_CACHE=content/cache\n",
      "env: CUDA_LAUNCH_BLOCKING=1\n",
      "env: CUDA_DEVICE_ORDER=PCI_BUS_ID\n",
      "env: CUDA_VISIBLE_DEVICES=0\n"
     ]
    }
   ],
   "source": [
    "%env LC_ALL=C.UTF-8\n",
    "%env LANG=C.UTF-8\n",
    "%env TRANSFORMERS_CACHE=content/cache\n",
    "%env HF_DATASETS_CACHE=content/cache\n",
    "%env CUDA_LAUNCH_BLOCKING=1\n",
    "%env CUDA_DEVICE_ORDER=PCI_BUS_ID\n",
    "%env CUDA_VISIBLE_DEVICES=0"
   ]
  },
  {
   "cell_type": "code",
   "execution_count": 7,
   "metadata": {},
   "outputs": [
    {
     "name": "stdout",
     "output_type": "stream",
     "text": [
      "0\n",
      "1\n"
     ]
    }
   ],
   "source": [
    "import os\n",
    "print(os.environ['CUDA_VISIBLE_DEVICES'])\n",
    "os.environ['CUDA_VISIBLE_DEVICES']='1'\n",
    "print(os.environ['CUDA_VISIBLE_DEVICES'])"
   ]
  },
  {
   "cell_type": "code",
   "execution_count": 8,
   "metadata": {
    "id": "pFSqZ0jwCMSv"
   },
   "outputs": [
    {
     "ename": "ModuleNotFoundError",
     "evalue": "No module named 'torchaudio'",
     "output_type": "error",
     "traceback": [
      "\u001b[0;31m---------------------------------------------------------------------------\u001b[0m",
      "\u001b[0;31mModuleNotFoundError\u001b[0m                       Traceback (most recent call last)",
      "\u001b[1;32m/home/mayank/MTP/begin_again/Error-Driven-ASR-Personalization/MCV_accent/accent-classification-lite.ipynb Cell 8'\u001b[0m in \u001b[0;36m<cell line: 7>\u001b[0;34m()\u001b[0m\n\u001b[1;32m      <a href='vscode-notebook-cell://ssh-remote%2Bswara.cse.iitb.ac.in/home/mayank/MTP/begin_again/Error-Driven-ASR-Personalization/MCV_accent/accent-classification-lite.ipynb#ch0000007vscode-remote?line=3'>4</a>\u001b[0m \u001b[39mfrom\u001b[39;00m \u001b[39mpathlib\u001b[39;00m \u001b[39mimport\u001b[39;00m Path\n\u001b[1;32m      <a href='vscode-notebook-cell://ssh-remote%2Bswara.cse.iitb.ac.in/home/mayank/MTP/begin_again/Error-Driven-ASR-Personalization/MCV_accent/accent-classification-lite.ipynb#ch0000007vscode-remote?line=4'>5</a>\u001b[0m \u001b[39mfrom\u001b[39;00m \u001b[39mtqdm\u001b[39;00m \u001b[39mimport\u001b[39;00m tqdm\n\u001b[0;32m----> <a href='vscode-notebook-cell://ssh-remote%2Bswara.cse.iitb.ac.in/home/mayank/MTP/begin_again/Error-Driven-ASR-Personalization/MCV_accent/accent-classification-lite.ipynb#ch0000007vscode-remote?line=6'>7</a>\u001b[0m \u001b[39mimport\u001b[39;00m \u001b[39mtorchaudio\u001b[39;00m\n\u001b[1;32m      <a href='vscode-notebook-cell://ssh-remote%2Bswara.cse.iitb.ac.in/home/mayank/MTP/begin_again/Error-Driven-ASR-Personalization/MCV_accent/accent-classification-lite.ipynb#ch0000007vscode-remote?line=7'>8</a>\u001b[0m \u001b[39mfrom\u001b[39;00m \u001b[39msklearn\u001b[39;00m\u001b[39m.\u001b[39;00m\u001b[39mmodel_selection\u001b[39;00m \u001b[39mimport\u001b[39;00m train_test_split\n\u001b[1;32m     <a href='vscode-notebook-cell://ssh-remote%2Bswara.cse.iitb.ac.in/home/mayank/MTP/begin_again/Error-Driven-ASR-Personalization/MCV_accent/accent-classification-lite.ipynb#ch0000007vscode-remote?line=9'>10</a>\u001b[0m \u001b[39mimport\u001b[39;00m \u001b[39mos\u001b[39;00m\u001b[39m,\u001b[39m \u001b[39msys\u001b[39;00m\u001b[39m,\u001b[39m \u001b[39mjson\u001b[39;00m\u001b[39m,\u001b[39m \u001b[39mrandom\u001b[39;00m\n",
      "\u001b[0;31mModuleNotFoundError\u001b[0m: No module named 'torchaudio'"
     ]
    }
   ],
   "source": [
    "import numpy as np\n",
    "import pandas as pd\n",
    "\n",
    "from pathlib import Path\n",
    "from tqdm import tqdm\n",
    "\n",
    "import torchaudio\n",
    "from sklearn.model_selection import train_test_split\n",
    "\n",
    "import os, sys, json, random\n",
    "import librosa"
   ]
  },
  {
   "cell_type": "code",
   "execution_count": 9,
   "metadata": {
    "id": "7MXAESg_Dqr6"
   },
   "outputs": [],
   "source": [
    "# data = []\n",
    "# json_folder = '/home/mayank/MTP/begin_again/Error-Driven-ASR-Personalization/MCV_accent/jsons/'\n",
    "# jsons = [f.name for f in os.scandir(json_folder) if 'json' in f.name and f.name.split('.')[0] not in ['unlabelled', 'other']]\n",
    "\n",
    "# print(jsons)\n",
    "# for accent in jsons:\n",
    "#     print(\"loading\", accent)\n",
    "#     json_path = json_folder + accent\n",
    "#     json_file = open(json_path)\n",
    "#     json_item_list = [line for line in json_file]\n",
    "#     json_item_list = json_item_list[:4000]\n",
    "#     json_item_list = [json.loads(line.strip()) for line in json_item_list]\n",
    "#     for sample in tqdm(json_item_list):\n",
    "#         try:\n",
    "#             path = sample['audio_filepath']\n",
    "#             name = str(path).split('/')[-1].split('.')[0]\n",
    "#             label = sample['accent']\n",
    "#             duration = librosa.get_duration(filename=path)\n",
    "#             if duration > 30:\n",
    "#                 continue\n",
    "#             data.append({\n",
    "#                 \"name\": name,\n",
    "#                 \"path\": path,\n",
    "#                 \"accent\": label\n",
    "#             })\n",
    "#         except Exception as e:\n",
    "#             print(str(path), e)\n",
    "#             pass"
   ]
  },
  {
   "cell_type": "code",
   "execution_count": 10,
   "metadata": {},
   "outputs": [
    {
     "name": "stdout",
     "output_type": "stream",
     "text": [
      "loadingloadingloadingloadingloadingloadingloadingloadingloadingloadingloadingloadingloadingloading loadingloading              wales.json philippines.jsonscotland.jsonindian.jsonsouthatlandtic.jsonaustralia.jsonhongkong.jsonmalaysia.jsonengland.jsonus.jsonireland.jsoncanada.jsonsingapore.jsonnewzealand.jsonbermuda.json\n",
      "\n",
      "african.json\n",
      "\n",
      "\n",
      "\n",
      "\n",
      "\n",
      "\n",
      "\n",
      "\n",
      "\n",
      "\n",
      "\n",
      "\n",
      "\n"
     ]
    },
    {
     "name": "stderr",
     "output_type": "stream",
     "text": [
      "100%|██████████| 33/33 [00:08<00:00,  4.11it/s]s]\n",
      "100%|██████████| 248/248 [01:00<00:00,  4.10it/s]]\n",
      "100%|██████████| 452/452 [01:50<00:00,  4.10it/s]]\n",
      "100%|██████████| 1000/1000 [03:59<00:00,  4.18it/s]\n",
      "100%|██████████| 1000/1000 [03:59<00:00,  4.17it/s]\n",
      "100%|██████████| 1000/1000 [04:00<00:00,  4.15it/s]\n",
      "100%|██████████| 1000/1000 [04:00<00:00,  4.15it/s]\n",
      "100%|██████████| 1000/1000 [04:00<00:00,  4.15it/s]\n",
      "100%|██████████| 1000/1000 [04:00<00:00,  4.15it/s]\n",
      "100%|██████████| 1000/1000 [04:01<00:00,  4.15it/s]\n",
      "100%|██████████| 1000/1000 [04:01<00:00,  4.14it/s]\n",
      "100%|██████████| 1000/1000 [04:01<00:00,  4.14it/s]\n",
      "100%|██████████| 1000/1000 [04:01<00:00,  4.14it/s]\n",
      "100%|██████████| 1000/1000 [04:02<00:00,  4.45it/s]\n",
      "100%|██████████| 1000/1000 [04:02<00:00,  4.13it/s]\n",
      "100%|██████████| 1000/1000 [04:02<00:00,  4.12it/s]\n"
     ]
    },
    {
     "name": "stdout",
     "output_type": "stream",
     "text": [
      "13733\n"
     ]
    }
   ],
   "source": [
    "from multiprocessing import Pool, Manager\n",
    "\n",
    "def process_jsons(accent):\n",
    "    print(\"loading\", accent)\n",
    "    json_path = json_folder + accent\n",
    "    json_file = open(json_path)\n",
    "    json_item_list = [line for line in json_file]\n",
    "    random.shuffle(json_item_list)\n",
    "    json_item_list = json_item_list[:1000]\n",
    "    json_item_list = [json.loads(line.strip()) for line in json_item_list]\n",
    "    for sample in tqdm(json_item_list):\n",
    "        try:\n",
    "            path = sample['audio_filepath']\n",
    "            name = str(path).split('/')[-1].split('.')[0]\n",
    "            label = sample['accent']\n",
    "            duration = librosa.get_duration(filename=path)\n",
    "            if duration > 20:\n",
    "                continue\n",
    "            L.append({\n",
    "                \"name\": name,\n",
    "                \"path\": path,\n",
    "                \"accent\": label\n",
    "            })\n",
    "        except Exception as e:\n",
    "            print(str(path), e)\n",
    "            pass\n",
    "#         break\n",
    "\n",
    "json_folder = '/home/mayank/MTP/begin_again/Error-Driven-ASR-Personalization/MCV_accent/jsons/'\n",
    "\n",
    "jsons = ['indian', 'us', 'england', 'philippines', 'african', 'hongkong', 'ireland', 'malaysia']\n",
    "# p = Pool(16)\n",
    "# with Manager() as manager:\n",
    "#     L = manager.list()\n",
    "#     with p:\n",
    "#         p.map(process_jsons, jsons)\n",
    "#     print(L)\n",
    "\n",
    "\n",
    "manager = Manager()\n",
    "L = manager.list()\n",
    "pool = Pool(16)\n",
    "pool.map(process_jsons, jsons)\n",
    "# tqdm(pool.imap(process_jsons, jsons), len(jsons))\n",
    "pool.close()\n",
    "pool.join()\n",
    "print(len(L))"
   ]
  },
  {
   "cell_type": "code",
   "execution_count": 11,
   "metadata": {},
   "outputs": [
    {
     "name": "stdout",
     "output_type": "stream",
     "text": [
      "13733\n",
      "[{'name': 'common_voice_en_635502', 'path': '/home/mayank/MTP/begin_again/Error-Driven-ASR-Personalization/mozilla/cv-corpus-7.0-2021-07-21/en/clips/common_voice_en_635502.mp3', 'accent': 'southatlandtic'}, {'name': 'common_voice_en_23785465', 'path': '/home/mayank/MTP/begin_again/Error-Driven-ASR-Personalization/mozilla/cv-corpus-7.0-2021-07-21/en/clips/common_voice_en_23785465.mp3', 'accent': 'scotland'}, {'name': 'common_voice_en_18949331', 'path': '/home/mayank/MTP/begin_again/Error-Driven-ASR-Personalization/mozilla/cv-corpus-7.0-2021-07-21/en/clips/common_voice_en_18949331.mp3', 'accent': 'wales'}]\n"
     ]
    }
   ],
   "source": [
    "data = list(L)\n",
    "print(len(data))\n",
    "print(data[:3])"
   ]
  },
  {
   "cell_type": "code",
   "execution_count": 12,
   "metadata": {
    "id": "10b89ZpLDqx9"
   },
   "outputs": [
    {
     "data": {
      "text/html": [
       "<div>\n",
       "<style scoped>\n",
       "    .dataframe tbody tr th:only-of-type {\n",
       "        vertical-align: middle;\n",
       "    }\n",
       "\n",
       "    .dataframe tbody tr th {\n",
       "        vertical-align: top;\n",
       "    }\n",
       "\n",
       "    .dataframe thead th {\n",
       "        text-align: right;\n",
       "    }\n",
       "</style>\n",
       "<table border=\"1\" class=\"dataframe\">\n",
       "  <thead>\n",
       "    <tr style=\"text-align: right;\">\n",
       "      <th></th>\n",
       "      <th>name</th>\n",
       "      <th>path</th>\n",
       "      <th>accent</th>\n",
       "    </tr>\n",
       "  </thead>\n",
       "  <tbody>\n",
       "    <tr>\n",
       "      <th>0</th>\n",
       "      <td>common_voice_en_635502</td>\n",
       "      <td>/home/mayank/MTP/begin_again/Error-Driven-ASR-...</td>\n",
       "      <td>southatlandtic</td>\n",
       "    </tr>\n",
       "    <tr>\n",
       "      <th>1</th>\n",
       "      <td>common_voice_en_23785465</td>\n",
       "      <td>/home/mayank/MTP/begin_again/Error-Driven-ASR-...</td>\n",
       "      <td>scotland</td>\n",
       "    </tr>\n",
       "    <tr>\n",
       "      <th>2</th>\n",
       "      <td>common_voice_en_18949331</td>\n",
       "      <td>/home/mayank/MTP/begin_again/Error-Driven-ASR-...</td>\n",
       "      <td>wales</td>\n",
       "    </tr>\n",
       "    <tr>\n",
       "      <th>3</th>\n",
       "      <td>common_voice_en_24681430</td>\n",
       "      <td>/home/mayank/MTP/begin_again/Error-Driven-ASR-...</td>\n",
       "      <td>african</td>\n",
       "    </tr>\n",
       "    <tr>\n",
       "      <th>4</th>\n",
       "      <td>common_voice_en_20538780</td>\n",
       "      <td>/home/mayank/MTP/begin_again/Error-Driven-ASR-...</td>\n",
       "      <td>ireland</td>\n",
       "    </tr>\n",
       "  </tbody>\n",
       "</table>\n",
       "</div>"
      ],
      "text/plain": [
       "                       name  \\\n",
       "0    common_voice_en_635502   \n",
       "1  common_voice_en_23785465   \n",
       "2  common_voice_en_18949331   \n",
       "3  common_voice_en_24681430   \n",
       "4  common_voice_en_20538780   \n",
       "\n",
       "                                                path          accent  \n",
       "0  /home/mayank/MTP/begin_again/Error-Driven-ASR-...  southatlandtic  \n",
       "1  /home/mayank/MTP/begin_again/Error-Driven-ASR-...        scotland  \n",
       "2  /home/mayank/MTP/begin_again/Error-Driven-ASR-...           wales  \n",
       "3  /home/mayank/MTP/begin_again/Error-Driven-ASR-...         african  \n",
       "4  /home/mayank/MTP/begin_again/Error-Driven-ASR-...         ireland  "
      ]
     },
     "execution_count": 12,
     "metadata": {},
     "output_type": "execute_result"
    }
   ],
   "source": [
    "df = pd.DataFrame(data)\n",
    "# df = df.sample(frac=1).reset_index(drop=True)\n",
    "df.head()"
   ]
  },
  {
   "cell_type": "code",
   "execution_count": 13,
   "metadata": {
    "id": "iMhTHur8voOp"
   },
   "outputs": [
    {
     "name": "stdout",
     "output_type": "stream",
     "text": [
      "Step 0: 13733\n",
      "Step 1: 13733\n"
     ]
    },
    {
     "data": {
      "text/html": [
       "<div>\n",
       "<style scoped>\n",
       "    .dataframe tbody tr th:only-of-type {\n",
       "        vertical-align: middle;\n",
       "    }\n",
       "\n",
       "    .dataframe tbody tr th {\n",
       "        vertical-align: top;\n",
       "    }\n",
       "\n",
       "    .dataframe thead th {\n",
       "        text-align: right;\n",
       "    }\n",
       "</style>\n",
       "<table border=\"1\" class=\"dataframe\">\n",
       "  <thead>\n",
       "    <tr style=\"text-align: right;\">\n",
       "      <th></th>\n",
       "      <th>name</th>\n",
       "      <th>path</th>\n",
       "      <th>accent</th>\n",
       "    </tr>\n",
       "  </thead>\n",
       "  <tbody>\n",
       "    <tr>\n",
       "      <th>0</th>\n",
       "      <td>common_voice_en_635502</td>\n",
       "      <td>/home/mayank/MTP/begin_again/Error-Driven-ASR-...</td>\n",
       "      <td>southatlandtic</td>\n",
       "    </tr>\n",
       "    <tr>\n",
       "      <th>1</th>\n",
       "      <td>common_voice_en_23785465</td>\n",
       "      <td>/home/mayank/MTP/begin_again/Error-Driven-ASR-...</td>\n",
       "      <td>scotland</td>\n",
       "    </tr>\n",
       "    <tr>\n",
       "      <th>2</th>\n",
       "      <td>common_voice_en_18949331</td>\n",
       "      <td>/home/mayank/MTP/begin_again/Error-Driven-ASR-...</td>\n",
       "      <td>wales</td>\n",
       "    </tr>\n",
       "    <tr>\n",
       "      <th>3</th>\n",
       "      <td>common_voice_en_24681430</td>\n",
       "      <td>/home/mayank/MTP/begin_again/Error-Driven-ASR-...</td>\n",
       "      <td>african</td>\n",
       "    </tr>\n",
       "    <tr>\n",
       "      <th>4</th>\n",
       "      <td>common_voice_en_20538780</td>\n",
       "      <td>/home/mayank/MTP/begin_again/Error-Driven-ASR-...</td>\n",
       "      <td>ireland</td>\n",
       "    </tr>\n",
       "  </tbody>\n",
       "</table>\n",
       "</div>"
      ],
      "text/plain": [
       "                       name  \\\n",
       "0    common_voice_en_635502   \n",
       "1  common_voice_en_23785465   \n",
       "2  common_voice_en_18949331   \n",
       "3  common_voice_en_24681430   \n",
       "4  common_voice_en_20538780   \n",
       "\n",
       "                                                path          accent  \n",
       "0  /home/mayank/MTP/begin_again/Error-Driven-ASR-...  southatlandtic  \n",
       "1  /home/mayank/MTP/begin_again/Error-Driven-ASR-...        scotland  \n",
       "2  /home/mayank/MTP/begin_again/Error-Driven-ASR-...           wales  \n",
       "3  /home/mayank/MTP/begin_again/Error-Driven-ASR-...         african  \n",
       "4  /home/mayank/MTP/begin_again/Error-Driven-ASR-...         ireland  "
      ]
     },
     "execution_count": 13,
     "metadata": {},
     "output_type": "execute_result"
    }
   ],
   "source": [
    "## Filter broken and non-existed paths\n",
    "\n",
    "print(f\"Step 0: {len(df)}\")\n",
    "\n",
    "df[\"status\"] = df[\"path\"].apply(lambda path: True if os.path.exists(path) else None)\n",
    "df = df.dropna(subset=[\"path\"])\n",
    "df = df.drop(\"status\", 1)\n",
    "print(f\"Step 1: {len(df)}\")\n",
    "\n",
    "# df = df.sample(frac=1)\n",
    "# df = df.reset_index(drop=True)\n",
    "df.head()"
   ]
  },
  {
   "cell_type": "code",
   "execution_count": 14,
   "metadata": {
    "id": "beNpKMh5xXmX"
   },
   "outputs": [
    {
     "name": "stdout",
     "output_type": "stream",
     "text": [
      "Labels:  ['southatlandtic' 'scotland' 'wales' 'african' 'ireland' 'bermuda'\n",
      " 'philippines' 'newzealand' 'hongkong' 'canada' 'malaysia' 'australia'\n",
      " 'indian' 'england' 'singapore' 'us']\n",
      "\n"
     ]
    },
    {
     "data": {
      "text/html": [
       "<div>\n",
       "<style scoped>\n",
       "    .dataframe tbody tr th:only-of-type {\n",
       "        vertical-align: middle;\n",
       "    }\n",
       "\n",
       "    .dataframe tbody tr th {\n",
       "        vertical-align: top;\n",
       "    }\n",
       "\n",
       "    .dataframe thead th {\n",
       "        text-align: right;\n",
       "    }\n",
       "</style>\n",
       "<table border=\"1\" class=\"dataframe\">\n",
       "  <thead>\n",
       "    <tr style=\"text-align: right;\">\n",
       "      <th></th>\n",
       "      <th>path</th>\n",
       "    </tr>\n",
       "    <tr>\n",
       "      <th>accent</th>\n",
       "      <th></th>\n",
       "    </tr>\n",
       "  </thead>\n",
       "  <tbody>\n",
       "    <tr>\n",
       "      <th>african</th>\n",
       "      <td>1000</td>\n",
       "    </tr>\n",
       "    <tr>\n",
       "      <th>australia</th>\n",
       "      <td>1000</td>\n",
       "    </tr>\n",
       "    <tr>\n",
       "      <th>bermuda</th>\n",
       "      <td>248</td>\n",
       "    </tr>\n",
       "    <tr>\n",
       "      <th>canada</th>\n",
       "      <td>1000</td>\n",
       "    </tr>\n",
       "    <tr>\n",
       "      <th>england</th>\n",
       "      <td>1000</td>\n",
       "    </tr>\n",
       "    <tr>\n",
       "      <th>hongkong</th>\n",
       "      <td>1000</td>\n",
       "    </tr>\n",
       "    <tr>\n",
       "      <th>indian</th>\n",
       "      <td>1000</td>\n",
       "    </tr>\n",
       "    <tr>\n",
       "      <th>ireland</th>\n",
       "      <td>1000</td>\n",
       "    </tr>\n",
       "    <tr>\n",
       "      <th>malaysia</th>\n",
       "      <td>1000</td>\n",
       "    </tr>\n",
       "    <tr>\n",
       "      <th>newzealand</th>\n",
       "      <td>1000</td>\n",
       "    </tr>\n",
       "    <tr>\n",
       "      <th>philippines</th>\n",
       "      <td>1000</td>\n",
       "    </tr>\n",
       "    <tr>\n",
       "      <th>scotland</th>\n",
       "      <td>1000</td>\n",
       "    </tr>\n",
       "    <tr>\n",
       "      <th>singapore</th>\n",
       "      <td>1000</td>\n",
       "    </tr>\n",
       "    <tr>\n",
       "      <th>southatlandtic</th>\n",
       "      <td>33</td>\n",
       "    </tr>\n",
       "    <tr>\n",
       "      <th>us</th>\n",
       "      <td>1000</td>\n",
       "    </tr>\n",
       "    <tr>\n",
       "      <th>wales</th>\n",
       "      <td>452</td>\n",
       "    </tr>\n",
       "  </tbody>\n",
       "</table>\n",
       "</div>"
      ],
      "text/plain": [
       "                path\n",
       "accent              \n",
       "african         1000\n",
       "australia       1000\n",
       "bermuda          248\n",
       "canada          1000\n",
       "england         1000\n",
       "hongkong        1000\n",
       "indian          1000\n",
       "ireland         1000\n",
       "malaysia        1000\n",
       "newzealand      1000\n",
       "philippines     1000\n",
       "scotland        1000\n",
       "singapore       1000\n",
       "southatlandtic    33\n",
       "us              1000\n",
       "wales            452"
      ]
     },
     "execution_count": 14,
     "metadata": {},
     "output_type": "execute_result"
    }
   ],
   "source": [
    "print(\"Labels: \", df[\"accent\"].unique())\n",
    "print()\n",
    "df.groupby(\"accent\").count()[[\"path\"]]"
   ]
  },
  {
   "cell_type": "markdown",
   "metadata": {
    "id": "i2hwRai7BNrx"
   },
   "source": [
    "Let's display some random sample of the dataset and run it a couple of times to get a feeling for the audio and the emotional label."
   ]
  },
  {
   "cell_type": "code",
   "execution_count": 15,
   "metadata": {
    "id": "DZaQ_sP5xkIX"
   },
   "outputs": [
    {
     "name": "stdout",
     "output_type": "stream",
     "text": [
      "ID Location: 7772\n",
      "      Label: african\n",
      "\n",
      "48000\n"
     ]
    }
   ],
   "source": [
    "import torchaudio\n",
    "import librosa\n",
    "import IPython.display as ipd\n",
    "import numpy as np\n",
    "\n",
    "idx = np.random.randint(0, len(df))\n",
    "sample = df.iloc[idx]\n",
    "path = sample[\"path\"]\n",
    "label = sample[\"accent\"]\n",
    "\n",
    "\n",
    "print(f\"ID Location: {idx}\")\n",
    "print(f\"      Label: {label}\")\n",
    "print()\n",
    "\n",
    "speech, sr = torchaudio.load(path)\n",
    "\n",
    "print(sr)\n",
    "# speech = speech[0].numpy().squeeze()\n",
    "# speech = librosa.resample(np.asarray(speech), sr, 16_000)\n",
    "# ipd.Audio(data=np.asarray(speech), autoplay=True, rate=16000)"
   ]
  },
  {
   "cell_type": "code",
   "execution_count": 16,
   "metadata": {},
   "outputs": [
    {
     "name": "stdout",
     "output_type": "stream",
     "text": [
      "Listening_Audio_Samples.ipynb\t\t    extract_mfcc_features.py\r\n",
      "accent-classification-lite.ipynb\t    extract_mfcc_features_Multi.py\r\n",
      "accent-classification.ipynb\t\t    invalidated\r\n",
      "accent_classifier_using_wav2vec2.py\t    jsons\r\n",
      "classifier_dummy_play.ipynb\t\t    mfcc.ipynb\r\n",
      "content\t\t\t\t\t    process.ipynb\r\n",
      "data\t\t\t\t\t    wav2vec2_inference-lite.ipynb\r\n",
      "dristi_accent_classifier_using_wav2vec2.py  wav2vec2_inference.ipynb\r\n",
      "dristi_train_logs.txt\r\n"
     ]
    }
   ],
   "source": [
    "!ls"
   ]
  },
  {
   "cell_type": "code",
   "execution_count": 17,
   "metadata": {},
   "outputs": [],
   "source": [
    "!mkdir -p data/lite_8acc"
   ]
  },
  {
   "cell_type": "markdown",
   "metadata": {
    "id": "7WNjWoWRCmPk"
   },
   "source": [
    "For training purposes, we need to split data into train test sets; in this specific example, we break with a `20%` rate for the test set."
   ]
  },
  {
   "cell_type": "code",
   "execution_count": 18,
   "metadata": {
    "id": "mlim-044xtJN"
   },
   "outputs": [
    {
     "name": "stdout",
     "output_type": "stream",
     "text": [
      "(10986, 3)\n",
      "(2747, 3)\n"
     ]
    }
   ],
   "source": [
    "save_path = \"data/lite_8acc/\"\n",
    "\n",
    "train_df, test_df = train_test_split(df, test_size=0.2, random_state=101, stratify=df[\"accent\"])\n",
    "\n",
    "train_df = train_df.reset_index(drop=True)\n",
    "test_df = test_df.reset_index(drop=True)\n",
    "\n",
    "train_df.to_csv(f\"{save_path}/train.csv\", sep=\"\\t\", encoding=\"utf-8\", index=False)\n",
    "test_df.to_csv(f\"{save_path}/test.csv\", sep=\"\\t\", encoding=\"utf-8\", index=False)\n",
    "\n",
    "\n",
    "print(train_df.shape)\n",
    "print(test_df.shape)"
   ]
  },
  {
   "cell_type": "markdown",
   "metadata": {
    "id": "kcnD-d_rDElt"
   },
   "source": [
    "## Prepare Data for Training"
   ]
  },
  {
   "cell_type": "code",
   "execution_count": 20,
   "metadata": {
    "id": "nnVfxQYDDIc6"
   },
   "outputs": [
    {
     "name": "stderr",
     "output_type": "stream",
     "text": [
      "Using custom data configuration default-29351d27fa4aca6e\n",
      "Reusing dataset csv (content/cache/csv/default-29351d27fa4aca6e/0.0.0/6b9057d9e23d9d8a2f05b985917a0da84d70c5dae3d22ddd8a3f22fb01c69d9e)\n"
     ]
    },
    {
     "data": {
      "application/vnd.jupyter.widget-view+json": {
       "model_id": "9ea10f654d4840209e32684dc5d1bd3c",
       "version_major": 2,
       "version_minor": 0
      },
      "text/plain": [
       "  0%|          | 0/2 [00:00<?, ?it/s]"
      ]
     },
     "metadata": {},
     "output_type": "display_data"
    },
    {
     "name": "stdout",
     "output_type": "stream",
     "text": [
      "Dataset({\n",
      "    features: ['name', 'path', 'accent'],\n",
      "    num_rows: 15832\n",
      "})\n",
      "Dataset({\n",
      "    features: ['name', 'path', 'accent'],\n",
      "    num_rows: 3958\n",
      "})\n"
     ]
    }
   ],
   "source": [
    "# Loading the created dataset using datasets\n",
    "from datasets import load_dataset, load_metric\n",
    "\n",
    "data_files = {\n",
    "    \"train\": \"data/lite_8acc/train.csv\", \n",
    "    \"validation\": \"data/lite_8acc/test.csv\",\n",
    "}\n",
    "\n",
    "dataset = load_dataset(\"csv\", data_files=data_files, delimiter=\"\\t\", )\n",
    "train_dataset = dataset[\"train\"]\n",
    "eval_dataset = dataset[\"validation\"]\n",
    "\n",
    "print(train_dataset)\n",
    "print(eval_dataset)"
   ]
  },
  {
   "cell_type": "code",
   "execution_count": 21,
   "metadata": {
    "id": "rsOrQPBOEVOy"
   },
   "outputs": [],
   "source": [
    "# We need to specify the input and output column\n",
    "input_column = \"path\"\n",
    "output_column = \"accent\""
   ]
  },
  {
   "cell_type": "code",
   "execution_count": 22,
   "metadata": {
    "id": "-gh7fQ1XEpC7"
   },
   "outputs": [
    {
     "name": "stdout",
     "output_type": "stream",
     "text": [
      "A classification problem with 16 classes: ['african', 'australia', 'bermuda', 'canada', 'england', 'hongkong', 'indian', 'ireland', 'malaysia', 'newzealand', 'philippines', 'scotland', 'singapore', 'southatlandtic', 'us', 'wales']\n"
     ]
    }
   ],
   "source": [
    "# we need to distinguish the unique labels in our SER dataset\n",
    "label_list = train_dataset.unique(output_column)\n",
    "label_list.sort()  # Let's sort it for determinism\n",
    "num_labels = len(label_list)\n",
    "print(f\"A classification problem with {num_labels} classes: {label_list}\")"
   ]
  },
  {
   "cell_type": "code",
   "execution_count": 23,
   "metadata": {
    "id": "rQrGaFohGzVo"
   },
   "outputs": [],
   "source": [
    "from transformers import AutoConfig, Wav2Vec2Processor"
   ]
  },
  {
   "cell_type": "code",
   "execution_count": 24,
   "metadata": {
    "id": "9Y1adr7vFrq7"
   },
   "outputs": [],
   "source": [
    "# model_name_or_path = \"facebook/wav2vec2-large-lv60\" #\"facebook/wav2vec2-base-960h\" #\"facebook/wav2vec2-large-960h\" #\"facebook/wav2vec2-base\"\n",
    "model_name_or_path = \"facebook/wav2vec2-base\" #\"facebook/wav2vec2-base-960h\" #\"facebook/wav2vec2-large-960h\" #\"facebook/wav2vec2-base\"\n",
    "pooling_mode = \"mean\""
   ]
  },
  {
   "cell_type": "code",
   "execution_count": 26,
   "metadata": {
    "id": "AZjDSmBRGqr6"
   },
   "outputs": [
    {
     "ename": "KeyboardInterrupt",
     "evalue": "",
     "output_type": "error",
     "traceback": [
      "\u001b[0;31m---------------------------------------------------------------------------\u001b[0m",
      "\u001b[0;31mKeyboardInterrupt\u001b[0m                         Traceback (most recent call last)",
      "\u001b[0;32m<ipython-input-26-2089c4e25ad6>\u001b[0m in \u001b[0;36m<module>\u001b[0;34m\u001b[0m\n\u001b[1;32m      5\u001b[0m     \u001b[0mlabel2id\u001b[0m\u001b[0;34m=\u001b[0m\u001b[0;34m{\u001b[0m\u001b[0mlabel\u001b[0m\u001b[0;34m:\u001b[0m \u001b[0mi\u001b[0m \u001b[0;32mfor\u001b[0m \u001b[0mi\u001b[0m\u001b[0;34m,\u001b[0m \u001b[0mlabel\u001b[0m \u001b[0;32min\u001b[0m \u001b[0menumerate\u001b[0m\u001b[0;34m(\u001b[0m\u001b[0mlabel_list\u001b[0m\u001b[0;34m)\u001b[0m\u001b[0;34m}\u001b[0m\u001b[0;34m,\u001b[0m\u001b[0;34m\u001b[0m\u001b[0;34m\u001b[0m\u001b[0m\n\u001b[1;32m      6\u001b[0m     \u001b[0mid2label\u001b[0m\u001b[0;34m=\u001b[0m\u001b[0;34m{\u001b[0m\u001b[0mi\u001b[0m\u001b[0;34m:\u001b[0m \u001b[0mlabel\u001b[0m \u001b[0;32mfor\u001b[0m \u001b[0mi\u001b[0m\u001b[0;34m,\u001b[0m \u001b[0mlabel\u001b[0m \u001b[0;32min\u001b[0m \u001b[0menumerate\u001b[0m\u001b[0;34m(\u001b[0m\u001b[0mlabel_list\u001b[0m\u001b[0;34m)\u001b[0m\u001b[0;34m}\u001b[0m\u001b[0;34m,\u001b[0m\u001b[0;34m\u001b[0m\u001b[0;34m\u001b[0m\u001b[0m\n\u001b[0;32m----> 7\u001b[0;31m     \u001b[0mfinetuning_task\u001b[0m\u001b[0;34m=\u001b[0m\u001b[0;34m\"wav2vec2_clf\"\u001b[0m\u001b[0;34m,\u001b[0m\u001b[0;34m\u001b[0m\u001b[0;34m\u001b[0m\u001b[0m\n\u001b[0m\u001b[1;32m      8\u001b[0m )\n\u001b[1;32m      9\u001b[0m \u001b[0msetattr\u001b[0m\u001b[0;34m(\u001b[0m\u001b[0mconfig\u001b[0m\u001b[0;34m,\u001b[0m \u001b[0;34m'pooling_mode'\u001b[0m\u001b[0;34m,\u001b[0m \u001b[0mpooling_mode\u001b[0m\u001b[0;34m)\u001b[0m\u001b[0;34m\u001b[0m\u001b[0;34m\u001b[0m\u001b[0m\n",
      "\u001b[0;32m~/.conda/envs/w2v2/lib/python3.6/site-packages/transformers/models/auto/configuration_auto.py\u001b[0m in \u001b[0;36mfrom_pretrained\u001b[0;34m(cls, pretrained_model_name_or_path, **kwargs)\u001b[0m\n\u001b[1;32m    580\u001b[0m         \u001b[0mkwargs\u001b[0m\u001b[0;34m[\u001b[0m\u001b[0;34m\"name_or_path\"\u001b[0m\u001b[0;34m]\u001b[0m \u001b[0;34m=\u001b[0m \u001b[0mpretrained_model_name_or_path\u001b[0m\u001b[0;34m\u001b[0m\u001b[0;34m\u001b[0m\u001b[0m\n\u001b[1;32m    581\u001b[0m         \u001b[0mtrust_remote_code\u001b[0m \u001b[0;34m=\u001b[0m \u001b[0mkwargs\u001b[0m\u001b[0;34m.\u001b[0m\u001b[0mpop\u001b[0m\u001b[0;34m(\u001b[0m\u001b[0;34m\"trust_remote_code\"\u001b[0m\u001b[0;34m,\u001b[0m \u001b[0;32mFalse\u001b[0m\u001b[0;34m)\u001b[0m\u001b[0;34m\u001b[0m\u001b[0;34m\u001b[0m\u001b[0m\n\u001b[0;32m--> 582\u001b[0;31m         \u001b[0mconfig_dict\u001b[0m\u001b[0;34m,\u001b[0m \u001b[0m_\u001b[0m \u001b[0;34m=\u001b[0m \u001b[0mPretrainedConfig\u001b[0m\u001b[0;34m.\u001b[0m\u001b[0mget_config_dict\u001b[0m\u001b[0;34m(\u001b[0m\u001b[0mpretrained_model_name_or_path\u001b[0m\u001b[0;34m,\u001b[0m \u001b[0;34m**\u001b[0m\u001b[0mkwargs\u001b[0m\u001b[0;34m)\u001b[0m\u001b[0;34m\u001b[0m\u001b[0;34m\u001b[0m\u001b[0m\n\u001b[0m\u001b[1;32m    583\u001b[0m         \u001b[0;32mif\u001b[0m \u001b[0;34m\"auto_map\"\u001b[0m \u001b[0;32min\u001b[0m \u001b[0mconfig_dict\u001b[0m \u001b[0;32mand\u001b[0m \u001b[0;34m\"AutoConfig\"\u001b[0m \u001b[0;32min\u001b[0m \u001b[0mconfig_dict\u001b[0m\u001b[0;34m[\u001b[0m\u001b[0;34m\"auto_map\"\u001b[0m\u001b[0;34m]\u001b[0m\u001b[0;34m:\u001b[0m\u001b[0;34m\u001b[0m\u001b[0;34m\u001b[0m\u001b[0m\n\u001b[1;32m    584\u001b[0m             \u001b[0;32mif\u001b[0m \u001b[0;32mnot\u001b[0m \u001b[0mtrust_remote_code\u001b[0m\u001b[0;34m:\u001b[0m\u001b[0;34m\u001b[0m\u001b[0;34m\u001b[0m\u001b[0m\n",
      "\u001b[0;32m~/.conda/envs/w2v2/lib/python3.6/site-packages/transformers/configuration_utils.py\u001b[0m in \u001b[0;36mget_config_dict\u001b[0;34m(cls, pretrained_model_name_or_path, **kwargs)\u001b[0m\n\u001b[1;32m    554\u001b[0m                 \u001b[0mrevision\u001b[0m\u001b[0;34m=\u001b[0m\u001b[0mrevision\u001b[0m\u001b[0;34m,\u001b[0m\u001b[0;34m\u001b[0m\u001b[0;34m\u001b[0m\u001b[0m\n\u001b[1;32m    555\u001b[0m                 \u001b[0muse_auth_token\u001b[0m\u001b[0;34m=\u001b[0m\u001b[0muse_auth_token\u001b[0m\u001b[0;34m,\u001b[0m\u001b[0;34m\u001b[0m\u001b[0;34m\u001b[0m\u001b[0m\n\u001b[0;32m--> 556\u001b[0;31m                 \u001b[0mlocal_files_only\u001b[0m\u001b[0;34m=\u001b[0m\u001b[0mlocal_files_only\u001b[0m\u001b[0;34m,\u001b[0m\u001b[0;34m\u001b[0m\u001b[0;34m\u001b[0m\u001b[0m\n\u001b[0m\u001b[1;32m    557\u001b[0m             )\n\u001b[1;32m    558\u001b[0m \u001b[0;34m\u001b[0m\u001b[0m\n",
      "\u001b[0;32m~/.conda/envs/w2v2/lib/python3.6/site-packages/transformers/configuration_utils.py\u001b[0m in \u001b[0;36mget_configuration_file\u001b[0;34m(path_or_repo, revision, use_auth_token, local_files_only)\u001b[0m\n\u001b[1;32m    842\u001b[0m     \u001b[0;31m# Inspect all files from the repo/folder.\u001b[0m\u001b[0;34m\u001b[0m\u001b[0;34m\u001b[0m\u001b[0;34m\u001b[0m\u001b[0m\n\u001b[1;32m    843\u001b[0m     all_files = get_list_of_files(\n\u001b[0;32m--> 844\u001b[0;31m         \u001b[0mpath_or_repo\u001b[0m\u001b[0;34m,\u001b[0m \u001b[0mrevision\u001b[0m\u001b[0;34m=\u001b[0m\u001b[0mrevision\u001b[0m\u001b[0;34m,\u001b[0m \u001b[0muse_auth_token\u001b[0m\u001b[0;34m=\u001b[0m\u001b[0muse_auth_token\u001b[0m\u001b[0;34m,\u001b[0m \u001b[0mlocal_files_only\u001b[0m\u001b[0;34m=\u001b[0m\u001b[0mlocal_files_only\u001b[0m\u001b[0;34m\u001b[0m\u001b[0;34m\u001b[0m\u001b[0m\n\u001b[0m\u001b[1;32m    845\u001b[0m     )\n\u001b[1;32m    846\u001b[0m     \u001b[0mconfiguration_files_map\u001b[0m \u001b[0;34m=\u001b[0m \u001b[0;34m{\u001b[0m\u001b[0;34m}\u001b[0m\u001b[0;34m\u001b[0m\u001b[0;34m\u001b[0m\u001b[0m\n",
      "\u001b[0;32m~/.conda/envs/w2v2/lib/python3.6/site-packages/transformers/file_utils.py\u001b[0m in \u001b[0;36mget_list_of_files\u001b[0;34m(path_or_repo, revision, use_auth_token, local_files_only)\u001b[0m\n\u001b[1;32m   2101\u001b[0m     \u001b[0;32melse\u001b[0m\u001b[0;34m:\u001b[0m\u001b[0;34m\u001b[0m\u001b[0;34m\u001b[0m\u001b[0m\n\u001b[1;32m   2102\u001b[0m         \u001b[0mtoken\u001b[0m \u001b[0;34m=\u001b[0m \u001b[0;32mNone\u001b[0m\u001b[0;34m\u001b[0m\u001b[0;34m\u001b[0m\u001b[0m\n\u001b[0;32m-> 2103\u001b[0;31m     \u001b[0;32mreturn\u001b[0m \u001b[0mlist_repo_files\u001b[0m\u001b[0;34m(\u001b[0m\u001b[0mpath_or_repo\u001b[0m\u001b[0;34m,\u001b[0m \u001b[0mrevision\u001b[0m\u001b[0;34m=\u001b[0m\u001b[0mrevision\u001b[0m\u001b[0;34m,\u001b[0m \u001b[0mtoken\u001b[0m\u001b[0;34m=\u001b[0m\u001b[0mtoken\u001b[0m\u001b[0;34m)\u001b[0m\u001b[0;34m\u001b[0m\u001b[0;34m\u001b[0m\u001b[0m\n\u001b[0m\u001b[1;32m   2104\u001b[0m \u001b[0;34m\u001b[0m\u001b[0m\n\u001b[1;32m   2105\u001b[0m \u001b[0;34m\u001b[0m\u001b[0m\n",
      "\u001b[0;32m~/.conda/envs/w2v2/lib/python3.6/site-packages/huggingface_hub/hf_api.py\u001b[0m in \u001b[0;36mlist_repo_files\u001b[0;34m(self, repo_id, revision, repo_type, token, timeout)\u001b[0m\n\u001b[1;32m    883\u001b[0m         \u001b[0;32mif\u001b[0m \u001b[0mrepo_type\u001b[0m \u001b[0;32mis\u001b[0m \u001b[0;32mNone\u001b[0m\u001b[0;34m:\u001b[0m\u001b[0;34m\u001b[0m\u001b[0;34m\u001b[0m\u001b[0m\n\u001b[1;32m    884\u001b[0m             info = self.model_info(\n\u001b[0;32m--> 885\u001b[0;31m                 \u001b[0mrepo_id\u001b[0m\u001b[0;34m,\u001b[0m \u001b[0mrevision\u001b[0m\u001b[0;34m=\u001b[0m\u001b[0mrevision\u001b[0m\u001b[0;34m,\u001b[0m \u001b[0mtoken\u001b[0m\u001b[0;34m=\u001b[0m\u001b[0mtoken\u001b[0m\u001b[0;34m,\u001b[0m \u001b[0mtimeout\u001b[0m\u001b[0;34m=\u001b[0m\u001b[0mtimeout\u001b[0m\u001b[0;34m\u001b[0m\u001b[0;34m\u001b[0m\u001b[0m\n\u001b[0m\u001b[1;32m    886\u001b[0m             )\n\u001b[1;32m    887\u001b[0m         \u001b[0;32melif\u001b[0m \u001b[0mrepo_type\u001b[0m \u001b[0;34m==\u001b[0m \u001b[0;34m\"dataset\"\u001b[0m\u001b[0;34m:\u001b[0m\u001b[0;34m\u001b[0m\u001b[0;34m\u001b[0m\u001b[0m\n",
      "\u001b[0;32m~/.conda/envs/w2v2/lib/python3.6/site-packages/huggingface_hub/hf_api.py\u001b[0m in \u001b[0;36mmodel_info\u001b[0;34m(self, repo_id, revision, token, timeout)\u001b[0m\n\u001b[1;32m    865\u001b[0m         )\n\u001b[1;32m    866\u001b[0m         \u001b[0mheaders\u001b[0m \u001b[0;34m=\u001b[0m \u001b[0;34m{\u001b[0m\u001b[0;34m\"authorization\"\u001b[0m\u001b[0;34m:\u001b[0m \u001b[0;34mf\"Bearer {token}\"\u001b[0m\u001b[0;34m}\u001b[0m \u001b[0;32mif\u001b[0m \u001b[0mtoken\u001b[0m \u001b[0;32mis\u001b[0m \u001b[0;32mnot\u001b[0m \u001b[0;32mNone\u001b[0m \u001b[0;32melse\u001b[0m \u001b[0;32mNone\u001b[0m\u001b[0;34m\u001b[0m\u001b[0;34m\u001b[0m\u001b[0m\n\u001b[0;32m--> 867\u001b[0;31m         \u001b[0mr\u001b[0m \u001b[0;34m=\u001b[0m \u001b[0mrequests\u001b[0m\u001b[0;34m.\u001b[0m\u001b[0mget\u001b[0m\u001b[0;34m(\u001b[0m\u001b[0mpath\u001b[0m\u001b[0;34m,\u001b[0m \u001b[0mheaders\u001b[0m\u001b[0;34m=\u001b[0m\u001b[0mheaders\u001b[0m\u001b[0;34m,\u001b[0m \u001b[0mtimeout\u001b[0m\u001b[0;34m=\u001b[0m\u001b[0mtimeout\u001b[0m\u001b[0;34m)\u001b[0m\u001b[0;34m\u001b[0m\u001b[0;34m\u001b[0m\u001b[0m\n\u001b[0m\u001b[1;32m    868\u001b[0m         \u001b[0mr\u001b[0m\u001b[0;34m.\u001b[0m\u001b[0mraise_for_status\u001b[0m\u001b[0;34m(\u001b[0m\u001b[0;34m)\u001b[0m\u001b[0;34m\u001b[0m\u001b[0;34m\u001b[0m\u001b[0m\n\u001b[1;32m    869\u001b[0m         \u001b[0md\u001b[0m \u001b[0;34m=\u001b[0m \u001b[0mr\u001b[0m\u001b[0;34m.\u001b[0m\u001b[0mjson\u001b[0m\u001b[0;34m(\u001b[0m\u001b[0;34m)\u001b[0m\u001b[0;34m\u001b[0m\u001b[0;34m\u001b[0m\u001b[0m\n",
      "\u001b[0;32m~/.conda/envs/w2v2/lib/python3.6/site-packages/requests/api.py\u001b[0m in \u001b[0;36mget\u001b[0;34m(url, params, **kwargs)\u001b[0m\n\u001b[1;32m     73\u001b[0m     \"\"\"\n\u001b[1;32m     74\u001b[0m \u001b[0;34m\u001b[0m\u001b[0m\n\u001b[0;32m---> 75\u001b[0;31m     \u001b[0;32mreturn\u001b[0m \u001b[0mrequest\u001b[0m\u001b[0;34m(\u001b[0m\u001b[0;34m'get'\u001b[0m\u001b[0;34m,\u001b[0m \u001b[0murl\u001b[0m\u001b[0;34m,\u001b[0m \u001b[0mparams\u001b[0m\u001b[0;34m=\u001b[0m\u001b[0mparams\u001b[0m\u001b[0;34m,\u001b[0m \u001b[0;34m**\u001b[0m\u001b[0mkwargs\u001b[0m\u001b[0;34m)\u001b[0m\u001b[0;34m\u001b[0m\u001b[0;34m\u001b[0m\u001b[0m\n\u001b[0m\u001b[1;32m     76\u001b[0m \u001b[0;34m\u001b[0m\u001b[0m\n\u001b[1;32m     77\u001b[0m \u001b[0;34m\u001b[0m\u001b[0m\n",
      "\u001b[0;32m~/.conda/envs/w2v2/lib/python3.6/site-packages/requests/api.py\u001b[0m in \u001b[0;36mrequest\u001b[0;34m(method, url, **kwargs)\u001b[0m\n\u001b[1;32m     59\u001b[0m     \u001b[0;31m# cases, and look like a memory leak in others.\u001b[0m\u001b[0;34m\u001b[0m\u001b[0;34m\u001b[0m\u001b[0;34m\u001b[0m\u001b[0m\n\u001b[1;32m     60\u001b[0m     \u001b[0;32mwith\u001b[0m \u001b[0msessions\u001b[0m\u001b[0;34m.\u001b[0m\u001b[0mSession\u001b[0m\u001b[0;34m(\u001b[0m\u001b[0;34m)\u001b[0m \u001b[0;32mas\u001b[0m \u001b[0msession\u001b[0m\u001b[0;34m:\u001b[0m\u001b[0;34m\u001b[0m\u001b[0;34m\u001b[0m\u001b[0m\n\u001b[0;32m---> 61\u001b[0;31m         \u001b[0;32mreturn\u001b[0m \u001b[0msession\u001b[0m\u001b[0;34m.\u001b[0m\u001b[0mrequest\u001b[0m\u001b[0;34m(\u001b[0m\u001b[0mmethod\u001b[0m\u001b[0;34m=\u001b[0m\u001b[0mmethod\u001b[0m\u001b[0;34m,\u001b[0m \u001b[0murl\u001b[0m\u001b[0;34m=\u001b[0m\u001b[0murl\u001b[0m\u001b[0;34m,\u001b[0m \u001b[0;34m**\u001b[0m\u001b[0mkwargs\u001b[0m\u001b[0;34m)\u001b[0m\u001b[0;34m\u001b[0m\u001b[0;34m\u001b[0m\u001b[0m\n\u001b[0m\u001b[1;32m     62\u001b[0m \u001b[0;34m\u001b[0m\u001b[0m\n\u001b[1;32m     63\u001b[0m \u001b[0;34m\u001b[0m\u001b[0m\n",
      "\u001b[0;32m~/.conda/envs/w2v2/lib/python3.6/site-packages/requests/sessions.py\u001b[0m in \u001b[0;36mrequest\u001b[0;34m(self, method, url, params, data, headers, cookies, files, auth, timeout, allow_redirects, proxies, hooks, stream, verify, cert, json)\u001b[0m\n\u001b[1;32m    527\u001b[0m         }\n\u001b[1;32m    528\u001b[0m         \u001b[0msend_kwargs\u001b[0m\u001b[0;34m.\u001b[0m\u001b[0mupdate\u001b[0m\u001b[0;34m(\u001b[0m\u001b[0msettings\u001b[0m\u001b[0;34m)\u001b[0m\u001b[0;34m\u001b[0m\u001b[0;34m\u001b[0m\u001b[0m\n\u001b[0;32m--> 529\u001b[0;31m         \u001b[0mresp\u001b[0m \u001b[0;34m=\u001b[0m \u001b[0mself\u001b[0m\u001b[0;34m.\u001b[0m\u001b[0msend\u001b[0m\u001b[0;34m(\u001b[0m\u001b[0mprep\u001b[0m\u001b[0;34m,\u001b[0m \u001b[0;34m**\u001b[0m\u001b[0msend_kwargs\u001b[0m\u001b[0;34m)\u001b[0m\u001b[0;34m\u001b[0m\u001b[0;34m\u001b[0m\u001b[0m\n\u001b[0m\u001b[1;32m    530\u001b[0m \u001b[0;34m\u001b[0m\u001b[0m\n\u001b[1;32m    531\u001b[0m         \u001b[0;32mreturn\u001b[0m \u001b[0mresp\u001b[0m\u001b[0;34m\u001b[0m\u001b[0;34m\u001b[0m\u001b[0m\n",
      "\u001b[0;32m~/.conda/envs/w2v2/lib/python3.6/site-packages/requests/sessions.py\u001b[0m in \u001b[0;36msend\u001b[0;34m(self, request, **kwargs)\u001b[0m\n\u001b[1;32m    643\u001b[0m \u001b[0;34m\u001b[0m\u001b[0m\n\u001b[1;32m    644\u001b[0m         \u001b[0;31m# Send the request\u001b[0m\u001b[0;34m\u001b[0m\u001b[0;34m\u001b[0m\u001b[0;34m\u001b[0m\u001b[0m\n\u001b[0;32m--> 645\u001b[0;31m         \u001b[0mr\u001b[0m \u001b[0;34m=\u001b[0m \u001b[0madapter\u001b[0m\u001b[0;34m.\u001b[0m\u001b[0msend\u001b[0m\u001b[0;34m(\u001b[0m\u001b[0mrequest\u001b[0m\u001b[0;34m,\u001b[0m \u001b[0;34m**\u001b[0m\u001b[0mkwargs\u001b[0m\u001b[0;34m)\u001b[0m\u001b[0;34m\u001b[0m\u001b[0;34m\u001b[0m\u001b[0m\n\u001b[0m\u001b[1;32m    646\u001b[0m \u001b[0;34m\u001b[0m\u001b[0m\n\u001b[1;32m    647\u001b[0m         \u001b[0;31m# Total elapsed time of the request (approximately)\u001b[0m\u001b[0;34m\u001b[0m\u001b[0;34m\u001b[0m\u001b[0;34m\u001b[0m\u001b[0m\n",
      "\u001b[0;32m~/.conda/envs/w2v2/lib/python3.6/site-packages/requests/adapters.py\u001b[0m in \u001b[0;36msend\u001b[0;34m(self, request, stream, timeout, verify, cert, proxies)\u001b[0m\n\u001b[1;32m    448\u001b[0m                     \u001b[0mdecode_content\u001b[0m\u001b[0;34m=\u001b[0m\u001b[0;32mFalse\u001b[0m\u001b[0;34m,\u001b[0m\u001b[0;34m\u001b[0m\u001b[0;34m\u001b[0m\u001b[0m\n\u001b[1;32m    449\u001b[0m                     \u001b[0mretries\u001b[0m\u001b[0;34m=\u001b[0m\u001b[0mself\u001b[0m\u001b[0;34m.\u001b[0m\u001b[0mmax_retries\u001b[0m\u001b[0;34m,\u001b[0m\u001b[0;34m\u001b[0m\u001b[0;34m\u001b[0m\u001b[0m\n\u001b[0;32m--> 450\u001b[0;31m                     \u001b[0mtimeout\u001b[0m\u001b[0;34m=\u001b[0m\u001b[0mtimeout\u001b[0m\u001b[0;34m\u001b[0m\u001b[0;34m\u001b[0m\u001b[0m\n\u001b[0m\u001b[1;32m    451\u001b[0m                 )\n\u001b[1;32m    452\u001b[0m \u001b[0;34m\u001b[0m\u001b[0m\n",
      "\u001b[0;32m~/.conda/envs/w2v2/lib/python3.6/site-packages/urllib3/connectionpool.py\u001b[0m in \u001b[0;36murlopen\u001b[0;34m(self, method, url, body, headers, retries, redirect, assert_same_host, timeout, pool_timeout, release_conn, chunked, body_pos, **response_kw)\u001b[0m\n\u001b[1;32m    708\u001b[0m                 \u001b[0mbody\u001b[0m\u001b[0;34m=\u001b[0m\u001b[0mbody\u001b[0m\u001b[0;34m,\u001b[0m\u001b[0;34m\u001b[0m\u001b[0;34m\u001b[0m\u001b[0m\n\u001b[1;32m    709\u001b[0m                 \u001b[0mheaders\u001b[0m\u001b[0;34m=\u001b[0m\u001b[0mheaders\u001b[0m\u001b[0;34m,\u001b[0m\u001b[0;34m\u001b[0m\u001b[0;34m\u001b[0m\u001b[0m\n\u001b[0;32m--> 710\u001b[0;31m                 \u001b[0mchunked\u001b[0m\u001b[0;34m=\u001b[0m\u001b[0mchunked\u001b[0m\u001b[0;34m,\u001b[0m\u001b[0;34m\u001b[0m\u001b[0;34m\u001b[0m\u001b[0m\n\u001b[0m\u001b[1;32m    711\u001b[0m             )\n\u001b[1;32m    712\u001b[0m \u001b[0;34m\u001b[0m\u001b[0m\n",
      "\u001b[0;32m~/.conda/envs/w2v2/lib/python3.6/site-packages/urllib3/connectionpool.py\u001b[0m in \u001b[0;36m_make_request\u001b[0;34m(self, conn, method, url, timeout, chunked, **httplib_request_kw)\u001b[0m\n\u001b[1;32m    384\u001b[0m         \u001b[0;31m# Trigger any extra validation we need to do.\u001b[0m\u001b[0;34m\u001b[0m\u001b[0;34m\u001b[0m\u001b[0;34m\u001b[0m\u001b[0m\n\u001b[1;32m    385\u001b[0m         \u001b[0;32mtry\u001b[0m\u001b[0;34m:\u001b[0m\u001b[0;34m\u001b[0m\u001b[0;34m\u001b[0m\u001b[0m\n\u001b[0;32m--> 386\u001b[0;31m             \u001b[0mself\u001b[0m\u001b[0;34m.\u001b[0m\u001b[0m_validate_conn\u001b[0m\u001b[0;34m(\u001b[0m\u001b[0mconn\u001b[0m\u001b[0;34m)\u001b[0m\u001b[0;34m\u001b[0m\u001b[0;34m\u001b[0m\u001b[0m\n\u001b[0m\u001b[1;32m    387\u001b[0m         \u001b[0;32mexcept\u001b[0m \u001b[0;34m(\u001b[0m\u001b[0mSocketTimeout\u001b[0m\u001b[0;34m,\u001b[0m \u001b[0mBaseSSLError\u001b[0m\u001b[0;34m)\u001b[0m \u001b[0;32mas\u001b[0m \u001b[0me\u001b[0m\u001b[0;34m:\u001b[0m\u001b[0;34m\u001b[0m\u001b[0;34m\u001b[0m\u001b[0m\n\u001b[1;32m    388\u001b[0m             \u001b[0;31m# Py2 raises this as a BaseSSLError, Py3 raises it as socket timeout.\u001b[0m\u001b[0;34m\u001b[0m\u001b[0;34m\u001b[0m\u001b[0;34m\u001b[0m\u001b[0m\n",
      "\u001b[0;32m~/.conda/envs/w2v2/lib/python3.6/site-packages/urllib3/connectionpool.py\u001b[0m in \u001b[0;36m_validate_conn\u001b[0;34m(self, conn)\u001b[0m\n\u001b[1;32m   1038\u001b[0m         \u001b[0;31m# Force connect early to allow us to validate the connection.\u001b[0m\u001b[0;34m\u001b[0m\u001b[0;34m\u001b[0m\u001b[0;34m\u001b[0m\u001b[0m\n\u001b[1;32m   1039\u001b[0m         \u001b[0;32mif\u001b[0m \u001b[0;32mnot\u001b[0m \u001b[0mgetattr\u001b[0m\u001b[0;34m(\u001b[0m\u001b[0mconn\u001b[0m\u001b[0;34m,\u001b[0m \u001b[0;34m\"sock\"\u001b[0m\u001b[0;34m,\u001b[0m \u001b[0;32mNone\u001b[0m\u001b[0;34m)\u001b[0m\u001b[0;34m:\u001b[0m  \u001b[0;31m# AppEngine might not have  `.sock`\u001b[0m\u001b[0;34m\u001b[0m\u001b[0;34m\u001b[0m\u001b[0m\n\u001b[0;32m-> 1040\u001b[0;31m             \u001b[0mconn\u001b[0m\u001b[0;34m.\u001b[0m\u001b[0mconnect\u001b[0m\u001b[0;34m(\u001b[0m\u001b[0;34m)\u001b[0m\u001b[0;34m\u001b[0m\u001b[0;34m\u001b[0m\u001b[0m\n\u001b[0m\u001b[1;32m   1041\u001b[0m \u001b[0;34m\u001b[0m\u001b[0m\n\u001b[1;32m   1042\u001b[0m         \u001b[0;32mif\u001b[0m \u001b[0;32mnot\u001b[0m \u001b[0mconn\u001b[0m\u001b[0;34m.\u001b[0m\u001b[0mis_verified\u001b[0m\u001b[0;34m:\u001b[0m\u001b[0;34m\u001b[0m\u001b[0;34m\u001b[0m\u001b[0m\n",
      "\u001b[0;32m~/.conda/envs/w2v2/lib/python3.6/site-packages/urllib3/connection.py\u001b[0m in \u001b[0;36mconnect\u001b[0;34m(self)\u001b[0m\n\u001b[1;32m    356\u001b[0m     \u001b[0;32mdef\u001b[0m \u001b[0mconnect\u001b[0m\u001b[0;34m(\u001b[0m\u001b[0mself\u001b[0m\u001b[0;34m)\u001b[0m\u001b[0;34m:\u001b[0m\u001b[0;34m\u001b[0m\u001b[0;34m\u001b[0m\u001b[0m\n\u001b[1;32m    357\u001b[0m         \u001b[0;31m# Add certificate verification\u001b[0m\u001b[0;34m\u001b[0m\u001b[0;34m\u001b[0m\u001b[0;34m\u001b[0m\u001b[0m\n\u001b[0;32m--> 358\u001b[0;31m         \u001b[0mconn\u001b[0m \u001b[0;34m=\u001b[0m \u001b[0mself\u001b[0m\u001b[0;34m.\u001b[0m\u001b[0m_new_conn\u001b[0m\u001b[0;34m(\u001b[0m\u001b[0;34m)\u001b[0m\u001b[0;34m\u001b[0m\u001b[0;34m\u001b[0m\u001b[0m\n\u001b[0m\u001b[1;32m    359\u001b[0m         \u001b[0mhostname\u001b[0m \u001b[0;34m=\u001b[0m \u001b[0mself\u001b[0m\u001b[0;34m.\u001b[0m\u001b[0mhost\u001b[0m\u001b[0;34m\u001b[0m\u001b[0;34m\u001b[0m\u001b[0m\n\u001b[1;32m    360\u001b[0m         \u001b[0mtls_in_tls\u001b[0m \u001b[0;34m=\u001b[0m \u001b[0;32mFalse\u001b[0m\u001b[0;34m\u001b[0m\u001b[0;34m\u001b[0m\u001b[0m\n",
      "\u001b[0;32m~/.conda/envs/w2v2/lib/python3.6/site-packages/urllib3/connection.py\u001b[0m in \u001b[0;36m_new_conn\u001b[0;34m(self)\u001b[0m\n\u001b[1;32m    173\u001b[0m         \u001b[0;32mtry\u001b[0m\u001b[0;34m:\u001b[0m\u001b[0;34m\u001b[0m\u001b[0;34m\u001b[0m\u001b[0m\n\u001b[1;32m    174\u001b[0m             conn = connection.create_connection(\n\u001b[0;32m--> 175\u001b[0;31m                 \u001b[0;34m(\u001b[0m\u001b[0mself\u001b[0m\u001b[0;34m.\u001b[0m\u001b[0m_dns_host\u001b[0m\u001b[0;34m,\u001b[0m \u001b[0mself\u001b[0m\u001b[0;34m.\u001b[0m\u001b[0mport\u001b[0m\u001b[0;34m)\u001b[0m\u001b[0;34m,\u001b[0m \u001b[0mself\u001b[0m\u001b[0;34m.\u001b[0m\u001b[0mtimeout\u001b[0m\u001b[0;34m,\u001b[0m \u001b[0;34m**\u001b[0m\u001b[0mextra_kw\u001b[0m\u001b[0;34m\u001b[0m\u001b[0;34m\u001b[0m\u001b[0m\n\u001b[0m\u001b[1;32m    176\u001b[0m             )\n\u001b[1;32m    177\u001b[0m \u001b[0;34m\u001b[0m\u001b[0m\n",
      "\u001b[0;32m~/.conda/envs/w2v2/lib/python3.6/site-packages/urllib3/util/connection.py\u001b[0m in \u001b[0;36mcreate_connection\u001b[0;34m(address, timeout, source_address, socket_options)\u001b[0m\n\u001b[1;32m     83\u001b[0m             \u001b[0;32mif\u001b[0m \u001b[0msource_address\u001b[0m\u001b[0;34m:\u001b[0m\u001b[0;34m\u001b[0m\u001b[0;34m\u001b[0m\u001b[0m\n\u001b[1;32m     84\u001b[0m                 \u001b[0msock\u001b[0m\u001b[0;34m.\u001b[0m\u001b[0mbind\u001b[0m\u001b[0;34m(\u001b[0m\u001b[0msource_address\u001b[0m\u001b[0;34m)\u001b[0m\u001b[0;34m\u001b[0m\u001b[0;34m\u001b[0m\u001b[0m\n\u001b[0;32m---> 85\u001b[0;31m             \u001b[0msock\u001b[0m\u001b[0;34m.\u001b[0m\u001b[0mconnect\u001b[0m\u001b[0;34m(\u001b[0m\u001b[0msa\u001b[0m\u001b[0;34m)\u001b[0m\u001b[0;34m\u001b[0m\u001b[0;34m\u001b[0m\u001b[0m\n\u001b[0m\u001b[1;32m     86\u001b[0m             \u001b[0;32mreturn\u001b[0m \u001b[0msock\u001b[0m\u001b[0;34m\u001b[0m\u001b[0;34m\u001b[0m\u001b[0m\n\u001b[1;32m     87\u001b[0m \u001b[0;34m\u001b[0m\u001b[0m\n",
      "\u001b[0;31mKeyboardInterrupt\u001b[0m: "
     ]
    },
    {
     "name": "stderr",
     "output_type": "stream",
     "text": [
      "Process ForkPoolWorker-50:\n",
      "Process ForkPoolWorker-51:\n",
      "Traceback (most recent call last):\n",
      "Traceback (most recent call last):\n",
      "  File \"/home/mayank/.conda/envs/w2v2/lib/python3.6/multiprocessing/process.py\", line 258, in _bootstrap\n",
      "    self.run()\n",
      "  File \"/home/mayank/.conda/envs/w2v2/lib/python3.6/multiprocessing/process.py\", line 258, in _bootstrap\n",
      "    self.run()\n",
      "  File \"/home/mayank/.conda/envs/w2v2/lib/python3.6/multiprocessing/process.py\", line 93, in run\n",
      "    self._target(*self._args, **self._kwargs)\n",
      "  File \"/home/mayank/.conda/envs/w2v2/lib/python3.6/multiprocessing/process.py\", line 93, in run\n",
      "    self._target(*self._args, **self._kwargs)\n",
      "  File \"/home/mayank/.conda/envs/w2v2/lib/python3.6/multiprocessing/pool.py\", line 108, in worker\n",
      "    task = get()\n",
      "  File \"/home/mayank/.conda/envs/w2v2/lib/python3.6/multiprocessing/pool.py\", line 108, in worker\n",
      "    task = get()\n",
      "  File \"/home/mayank/.conda/envs/w2v2/lib/python3.6/multiprocessing/queues.py\", line 335, in get\n",
      "    res = self._reader.recv_bytes()\n",
      "  File \"/home/mayank/.conda/envs/w2v2/lib/python3.6/multiprocessing/queues.py\", line 334, in get\n",
      "    with self._rlock:\n",
      "  File \"/home/mayank/.conda/envs/w2v2/lib/python3.6/multiprocessing/connection.py\", line 216, in recv_bytes\n",
      "    buf = self._recv_bytes(maxlength)\n",
      "  File \"/home/mayank/.conda/envs/w2v2/lib/python3.6/multiprocessing/synchronize.py\", line 95, in __enter__\n",
      "    return self._semlock.__enter__()\n",
      "  File \"/home/mayank/.conda/envs/w2v2/lib/python3.6/multiprocessing/connection.py\", line 407, in _recv_bytes\n",
      "    buf = self._recv(4)\n",
      "KeyboardInterrupt\n",
      "  File \"/home/mayank/.conda/envs/w2v2/lib/python3.6/multiprocessing/connection.py\", line 379, in _recv\n",
      "    chunk = read(handle, remaining)\n",
      "KeyboardInterrupt\n"
     ]
    }
   ],
   "source": [
    "# config\n",
    "config = AutoConfig.from_pretrained(\n",
    "    model_name_or_path,\n",
    "    num_labels=num_labels,\n",
    "    label2id={label: i for i, label in enumerate(label_list)},\n",
    "    id2label={i: label for i, label in enumerate(label_list)},\n",
    "    finetuning_task=\"wav2vec2_clf\",\n",
    ")\n",
    "setattr(config, 'pooling_mode', pooling_mode)"
   ]
  },
  {
   "cell_type": "code",
   "execution_count": 28,
   "metadata": {
    "id": "ZXVl9qW1Gw_-"
   },
   "outputs": [
    {
     "ename": "KeyboardInterrupt",
     "evalue": "",
     "output_type": "error",
     "traceback": [
      "\u001b[0;31m---------------------------------------------------------------------------\u001b[0m",
      "\u001b[0;31mKeyboardInterrupt\u001b[0m                         Traceback (most recent call last)",
      "\u001b[0;32m<ipython-input-28-315c54ec87f1>\u001b[0m in \u001b[0;36m<module>\u001b[0;34m\u001b[0m\n\u001b[0;32m----> 1\u001b[0;31m \u001b[0mprocessor\u001b[0m \u001b[0;34m=\u001b[0m \u001b[0mWav2Vec2Processor\u001b[0m\u001b[0;34m.\u001b[0m\u001b[0mfrom_pretrained\u001b[0m\u001b[0;34m(\u001b[0m\u001b[0mmodel_name_or_path\u001b[0m\u001b[0;34m,\u001b[0m\u001b[0;34m)\u001b[0m\u001b[0;34m\u001b[0m\u001b[0;34m\u001b[0m\u001b[0m\n\u001b[0m\u001b[1;32m      2\u001b[0m \u001b[0mtarget_sampling_rate\u001b[0m \u001b[0;34m=\u001b[0m \u001b[0mprocessor\u001b[0m\u001b[0;34m.\u001b[0m\u001b[0mfeature_extractor\u001b[0m\u001b[0;34m.\u001b[0m\u001b[0msampling_rate\u001b[0m\u001b[0;34m\u001b[0m\u001b[0;34m\u001b[0m\u001b[0m\n\u001b[1;32m      3\u001b[0m \u001b[0mprint\u001b[0m\u001b[0;34m(\u001b[0m\u001b[0;34mf\"The target sampling rate: {target_sampling_rate}\"\u001b[0m\u001b[0;34m)\u001b[0m\u001b[0;34m\u001b[0m\u001b[0;34m\u001b[0m\u001b[0m\n",
      "\u001b[0;32m~/.conda/envs/w2v2/lib/python3.6/site-packages/transformers/models/wav2vec2/processing_wav2vec2.py\u001b[0m in \u001b[0;36mfrom_pretrained\u001b[0;34m(cls, pretrained_model_name_or_path, **kwargs)\u001b[0m\n\u001b[1;32m    109\u001b[0m                 \u001b[0;34m[\u001b[0m\u001b[0;31m`\u001b[0m\u001b[0mPreTrainedTokenizer\u001b[0m\u001b[0;31m`\u001b[0m\u001b[0;34m]\u001b[0m\u001b[0;34m\u001b[0m\u001b[0;34m\u001b[0m\u001b[0m\n\u001b[1;32m    110\u001b[0m         \"\"\"\n\u001b[0;32m--> 111\u001b[0;31m         \u001b[0mfeature_extractor\u001b[0m \u001b[0;34m=\u001b[0m \u001b[0mWav2Vec2FeatureExtractor\u001b[0m\u001b[0;34m.\u001b[0m\u001b[0mfrom_pretrained\u001b[0m\u001b[0;34m(\u001b[0m\u001b[0mpretrained_model_name_or_path\u001b[0m\u001b[0;34m,\u001b[0m \u001b[0;34m**\u001b[0m\u001b[0mkwargs\u001b[0m\u001b[0;34m)\u001b[0m\u001b[0;34m\u001b[0m\u001b[0;34m\u001b[0m\u001b[0m\n\u001b[0m\u001b[1;32m    112\u001b[0m \u001b[0;34m\u001b[0m\u001b[0m\n\u001b[1;32m    113\u001b[0m         \u001b[0;31m# load generic `AutoTokenizer`\u001b[0m\u001b[0;34m\u001b[0m\u001b[0;34m\u001b[0m\u001b[0;34m\u001b[0m\u001b[0m\n",
      "\u001b[0;32m~/.conda/envs/w2v2/lib/python3.6/site-packages/transformers/feature_extraction_utils.py\u001b[0m in \u001b[0;36mfrom_pretrained\u001b[0;34m(cls, pretrained_model_name_or_path, **kwargs)\u001b[0m\n\u001b[1;32m    284\u001b[0m         \u001b[0;32massert\u001b[0m \u001b[0munused_kwargs\u001b[0m \u001b[0;34m==\u001b[0m \u001b[0;34m{\u001b[0m\u001b[0;34m'foo'\u001b[0m\u001b[0;34m:\u001b[0m \u001b[0;32mFalse\u001b[0m\u001b[0;34m}\u001b[0m\u001b[0;34m\u001b[0m\u001b[0;34m\u001b[0m\u001b[0m\n\u001b[1;32m    285\u001b[0m         ```\"\"\"\n\u001b[0;32m--> 286\u001b[0;31m         \u001b[0mfeature_extractor_dict\u001b[0m\u001b[0;34m,\u001b[0m \u001b[0mkwargs\u001b[0m \u001b[0;34m=\u001b[0m \u001b[0mcls\u001b[0m\u001b[0;34m.\u001b[0m\u001b[0mget_feature_extractor_dict\u001b[0m\u001b[0;34m(\u001b[0m\u001b[0mpretrained_model_name_or_path\u001b[0m\u001b[0;34m,\u001b[0m \u001b[0;34m**\u001b[0m\u001b[0mkwargs\u001b[0m\u001b[0;34m)\u001b[0m\u001b[0;34m\u001b[0m\u001b[0;34m\u001b[0m\u001b[0m\n\u001b[0m\u001b[1;32m    287\u001b[0m \u001b[0;34m\u001b[0m\u001b[0m\n\u001b[1;32m    288\u001b[0m         \u001b[0;32mreturn\u001b[0m \u001b[0mcls\u001b[0m\u001b[0;34m.\u001b[0m\u001b[0mfrom_dict\u001b[0m\u001b[0;34m(\u001b[0m\u001b[0mfeature_extractor_dict\u001b[0m\u001b[0;34m,\u001b[0m \u001b[0;34m**\u001b[0m\u001b[0mkwargs\u001b[0m\u001b[0;34m)\u001b[0m\u001b[0;34m\u001b[0m\u001b[0;34m\u001b[0m\u001b[0m\n",
      "\u001b[0;32m~/.conda/envs/w2v2/lib/python3.6/site-packages/transformers/feature_extraction_utils.py\u001b[0m in \u001b[0;36mget_feature_extractor_dict\u001b[0;34m(cls, pretrained_model_name_or_path, **kwargs)\u001b[0m\n\u001b[1;32m    362\u001b[0m                 \u001b[0mlocal_files_only\u001b[0m\u001b[0;34m=\u001b[0m\u001b[0mlocal_files_only\u001b[0m\u001b[0;34m,\u001b[0m\u001b[0;34m\u001b[0m\u001b[0;34m\u001b[0m\u001b[0m\n\u001b[1;32m    363\u001b[0m                 \u001b[0muse_auth_token\u001b[0m\u001b[0;34m=\u001b[0m\u001b[0muse_auth_token\u001b[0m\u001b[0;34m,\u001b[0m\u001b[0;34m\u001b[0m\u001b[0;34m\u001b[0m\u001b[0m\n\u001b[0;32m--> 364\u001b[0;31m                 \u001b[0muser_agent\u001b[0m\u001b[0;34m=\u001b[0m\u001b[0muser_agent\u001b[0m\u001b[0;34m,\u001b[0m\u001b[0;34m\u001b[0m\u001b[0;34m\u001b[0m\u001b[0m\n\u001b[0m\u001b[1;32m    365\u001b[0m             )\n\u001b[1;32m    366\u001b[0m             \u001b[0;31m# Load feature_extractor dict\u001b[0m\u001b[0;34m\u001b[0m\u001b[0;34m\u001b[0m\u001b[0;34m\u001b[0m\u001b[0m\n",
      "\u001b[0;32m~/.conda/envs/w2v2/lib/python3.6/site-packages/transformers/file_utils.py\u001b[0m in \u001b[0;36mcached_path\u001b[0;34m(url_or_filename, cache_dir, force_download, proxies, resume_download, user_agent, extract_compressed_file, force_extract, use_auth_token, local_files_only)\u001b[0m\n\u001b[1;32m   1782\u001b[0m             \u001b[0muser_agent\u001b[0m\u001b[0;34m=\u001b[0m\u001b[0muser_agent\u001b[0m\u001b[0;34m,\u001b[0m\u001b[0;34m\u001b[0m\u001b[0;34m\u001b[0m\u001b[0m\n\u001b[1;32m   1783\u001b[0m             \u001b[0muse_auth_token\u001b[0m\u001b[0;34m=\u001b[0m\u001b[0muse_auth_token\u001b[0m\u001b[0;34m,\u001b[0m\u001b[0;34m\u001b[0m\u001b[0;34m\u001b[0m\u001b[0m\n\u001b[0;32m-> 1784\u001b[0;31m             \u001b[0mlocal_files_only\u001b[0m\u001b[0;34m=\u001b[0m\u001b[0mlocal_files_only\u001b[0m\u001b[0;34m,\u001b[0m\u001b[0;34m\u001b[0m\u001b[0;34m\u001b[0m\u001b[0m\n\u001b[0m\u001b[1;32m   1785\u001b[0m         )\n\u001b[1;32m   1786\u001b[0m     \u001b[0;32melif\u001b[0m \u001b[0mos\u001b[0m\u001b[0;34m.\u001b[0m\u001b[0mpath\u001b[0m\u001b[0;34m.\u001b[0m\u001b[0mexists\u001b[0m\u001b[0;34m(\u001b[0m\u001b[0murl_or_filename\u001b[0m\u001b[0;34m)\u001b[0m\u001b[0;34m:\u001b[0m\u001b[0;34m\u001b[0m\u001b[0;34m\u001b[0m\u001b[0m\n",
      "\u001b[0;32m~/.conda/envs/w2v2/lib/python3.6/site-packages/transformers/file_utils.py\u001b[0m in \u001b[0;36mget_from_cache\u001b[0;34m(url, cache_dir, force_download, proxies, etag_timeout, resume_download, user_agent, use_auth_token, local_files_only)\u001b[0m\n\u001b[1;32m   1945\u001b[0m     \u001b[0;32mif\u001b[0m \u001b[0;32mnot\u001b[0m \u001b[0mlocal_files_only\u001b[0m\u001b[0;34m:\u001b[0m\u001b[0;34m\u001b[0m\u001b[0;34m\u001b[0m\u001b[0m\n\u001b[1;32m   1946\u001b[0m         \u001b[0;32mtry\u001b[0m\u001b[0;34m:\u001b[0m\u001b[0;34m\u001b[0m\u001b[0;34m\u001b[0m\u001b[0m\n\u001b[0;32m-> 1947\u001b[0;31m             \u001b[0mr\u001b[0m \u001b[0;34m=\u001b[0m \u001b[0mrequests\u001b[0m\u001b[0;34m.\u001b[0m\u001b[0mhead\u001b[0m\u001b[0;34m(\u001b[0m\u001b[0murl\u001b[0m\u001b[0;34m,\u001b[0m \u001b[0mheaders\u001b[0m\u001b[0;34m=\u001b[0m\u001b[0mheaders\u001b[0m\u001b[0;34m,\u001b[0m \u001b[0mallow_redirects\u001b[0m\u001b[0;34m=\u001b[0m\u001b[0;32mFalse\u001b[0m\u001b[0;34m,\u001b[0m \u001b[0mproxies\u001b[0m\u001b[0;34m=\u001b[0m\u001b[0mproxies\u001b[0m\u001b[0;34m,\u001b[0m \u001b[0mtimeout\u001b[0m\u001b[0;34m=\u001b[0m\u001b[0metag_timeout\u001b[0m\u001b[0;34m)\u001b[0m\u001b[0;34m\u001b[0m\u001b[0;34m\u001b[0m\u001b[0m\n\u001b[0m\u001b[1;32m   1948\u001b[0m             \u001b[0mr\u001b[0m\u001b[0;34m.\u001b[0m\u001b[0mraise_for_status\u001b[0m\u001b[0;34m(\u001b[0m\u001b[0;34m)\u001b[0m\u001b[0;34m\u001b[0m\u001b[0;34m\u001b[0m\u001b[0m\n\u001b[1;32m   1949\u001b[0m             \u001b[0metag\u001b[0m \u001b[0;34m=\u001b[0m \u001b[0mr\u001b[0m\u001b[0;34m.\u001b[0m\u001b[0mheaders\u001b[0m\u001b[0;34m.\u001b[0m\u001b[0mget\u001b[0m\u001b[0;34m(\u001b[0m\u001b[0;34m\"X-Linked-Etag\"\u001b[0m\u001b[0;34m)\u001b[0m \u001b[0;32mor\u001b[0m \u001b[0mr\u001b[0m\u001b[0;34m.\u001b[0m\u001b[0mheaders\u001b[0m\u001b[0;34m.\u001b[0m\u001b[0mget\u001b[0m\u001b[0;34m(\u001b[0m\u001b[0;34m\"ETag\"\u001b[0m\u001b[0;34m)\u001b[0m\u001b[0;34m\u001b[0m\u001b[0;34m\u001b[0m\u001b[0m\n",
      "\u001b[0;32m~/.conda/envs/w2v2/lib/python3.6/site-packages/requests/api.py\u001b[0m in \u001b[0;36mhead\u001b[0;34m(url, **kwargs)\u001b[0m\n\u001b[1;32m    100\u001b[0m \u001b[0;34m\u001b[0m\u001b[0m\n\u001b[1;32m    101\u001b[0m     \u001b[0mkwargs\u001b[0m\u001b[0;34m.\u001b[0m\u001b[0msetdefault\u001b[0m\u001b[0;34m(\u001b[0m\u001b[0;34m'allow_redirects'\u001b[0m\u001b[0;34m,\u001b[0m \u001b[0;32mFalse\u001b[0m\u001b[0;34m)\u001b[0m\u001b[0;34m\u001b[0m\u001b[0;34m\u001b[0m\u001b[0m\n\u001b[0;32m--> 102\u001b[0;31m     \u001b[0;32mreturn\u001b[0m \u001b[0mrequest\u001b[0m\u001b[0;34m(\u001b[0m\u001b[0;34m'head'\u001b[0m\u001b[0;34m,\u001b[0m \u001b[0murl\u001b[0m\u001b[0;34m,\u001b[0m \u001b[0;34m**\u001b[0m\u001b[0mkwargs\u001b[0m\u001b[0;34m)\u001b[0m\u001b[0;34m\u001b[0m\u001b[0;34m\u001b[0m\u001b[0m\n\u001b[0m\u001b[1;32m    103\u001b[0m \u001b[0;34m\u001b[0m\u001b[0m\n\u001b[1;32m    104\u001b[0m \u001b[0;34m\u001b[0m\u001b[0m\n",
      "\u001b[0;32m~/.conda/envs/w2v2/lib/python3.6/site-packages/requests/api.py\u001b[0m in \u001b[0;36mrequest\u001b[0;34m(method, url, **kwargs)\u001b[0m\n\u001b[1;32m     59\u001b[0m     \u001b[0;31m# cases, and look like a memory leak in others.\u001b[0m\u001b[0;34m\u001b[0m\u001b[0;34m\u001b[0m\u001b[0;34m\u001b[0m\u001b[0m\n\u001b[1;32m     60\u001b[0m     \u001b[0;32mwith\u001b[0m \u001b[0msessions\u001b[0m\u001b[0;34m.\u001b[0m\u001b[0mSession\u001b[0m\u001b[0;34m(\u001b[0m\u001b[0;34m)\u001b[0m \u001b[0;32mas\u001b[0m \u001b[0msession\u001b[0m\u001b[0;34m:\u001b[0m\u001b[0;34m\u001b[0m\u001b[0;34m\u001b[0m\u001b[0m\n\u001b[0;32m---> 61\u001b[0;31m         \u001b[0;32mreturn\u001b[0m \u001b[0msession\u001b[0m\u001b[0;34m.\u001b[0m\u001b[0mrequest\u001b[0m\u001b[0;34m(\u001b[0m\u001b[0mmethod\u001b[0m\u001b[0;34m=\u001b[0m\u001b[0mmethod\u001b[0m\u001b[0;34m,\u001b[0m \u001b[0murl\u001b[0m\u001b[0;34m=\u001b[0m\u001b[0murl\u001b[0m\u001b[0;34m,\u001b[0m \u001b[0;34m**\u001b[0m\u001b[0mkwargs\u001b[0m\u001b[0;34m)\u001b[0m\u001b[0;34m\u001b[0m\u001b[0;34m\u001b[0m\u001b[0m\n\u001b[0m\u001b[1;32m     62\u001b[0m \u001b[0;34m\u001b[0m\u001b[0m\n\u001b[1;32m     63\u001b[0m \u001b[0;34m\u001b[0m\u001b[0m\n",
      "\u001b[0;32m~/.conda/envs/w2v2/lib/python3.6/site-packages/requests/sessions.py\u001b[0m in \u001b[0;36mrequest\u001b[0;34m(self, method, url, params, data, headers, cookies, files, auth, timeout, allow_redirects, proxies, hooks, stream, verify, cert, json)\u001b[0m\n\u001b[1;32m    527\u001b[0m         }\n\u001b[1;32m    528\u001b[0m         \u001b[0msend_kwargs\u001b[0m\u001b[0;34m.\u001b[0m\u001b[0mupdate\u001b[0m\u001b[0;34m(\u001b[0m\u001b[0msettings\u001b[0m\u001b[0;34m)\u001b[0m\u001b[0;34m\u001b[0m\u001b[0;34m\u001b[0m\u001b[0m\n\u001b[0;32m--> 529\u001b[0;31m         \u001b[0mresp\u001b[0m \u001b[0;34m=\u001b[0m \u001b[0mself\u001b[0m\u001b[0;34m.\u001b[0m\u001b[0msend\u001b[0m\u001b[0;34m(\u001b[0m\u001b[0mprep\u001b[0m\u001b[0;34m,\u001b[0m \u001b[0;34m**\u001b[0m\u001b[0msend_kwargs\u001b[0m\u001b[0;34m)\u001b[0m\u001b[0;34m\u001b[0m\u001b[0;34m\u001b[0m\u001b[0m\n\u001b[0m\u001b[1;32m    530\u001b[0m \u001b[0;34m\u001b[0m\u001b[0m\n\u001b[1;32m    531\u001b[0m         \u001b[0;32mreturn\u001b[0m \u001b[0mresp\u001b[0m\u001b[0;34m\u001b[0m\u001b[0;34m\u001b[0m\u001b[0m\n",
      "\u001b[0;32m~/.conda/envs/w2v2/lib/python3.6/site-packages/requests/sessions.py\u001b[0m in \u001b[0;36msend\u001b[0;34m(self, request, **kwargs)\u001b[0m\n\u001b[1;32m    643\u001b[0m \u001b[0;34m\u001b[0m\u001b[0m\n\u001b[1;32m    644\u001b[0m         \u001b[0;31m# Send the request\u001b[0m\u001b[0;34m\u001b[0m\u001b[0;34m\u001b[0m\u001b[0;34m\u001b[0m\u001b[0m\n\u001b[0;32m--> 645\u001b[0;31m         \u001b[0mr\u001b[0m \u001b[0;34m=\u001b[0m \u001b[0madapter\u001b[0m\u001b[0;34m.\u001b[0m\u001b[0msend\u001b[0m\u001b[0;34m(\u001b[0m\u001b[0mrequest\u001b[0m\u001b[0;34m,\u001b[0m \u001b[0;34m**\u001b[0m\u001b[0mkwargs\u001b[0m\u001b[0;34m)\u001b[0m\u001b[0;34m\u001b[0m\u001b[0;34m\u001b[0m\u001b[0m\n\u001b[0m\u001b[1;32m    646\u001b[0m \u001b[0;34m\u001b[0m\u001b[0m\n\u001b[1;32m    647\u001b[0m         \u001b[0;31m# Total elapsed time of the request (approximately)\u001b[0m\u001b[0;34m\u001b[0m\u001b[0;34m\u001b[0m\u001b[0;34m\u001b[0m\u001b[0m\n",
      "\u001b[0;32m~/.conda/envs/w2v2/lib/python3.6/site-packages/requests/adapters.py\u001b[0m in \u001b[0;36msend\u001b[0;34m(self, request, stream, timeout, verify, cert, proxies)\u001b[0m\n\u001b[1;32m    448\u001b[0m                     \u001b[0mdecode_content\u001b[0m\u001b[0;34m=\u001b[0m\u001b[0;32mFalse\u001b[0m\u001b[0;34m,\u001b[0m\u001b[0;34m\u001b[0m\u001b[0;34m\u001b[0m\u001b[0m\n\u001b[1;32m    449\u001b[0m                     \u001b[0mretries\u001b[0m\u001b[0;34m=\u001b[0m\u001b[0mself\u001b[0m\u001b[0;34m.\u001b[0m\u001b[0mmax_retries\u001b[0m\u001b[0;34m,\u001b[0m\u001b[0;34m\u001b[0m\u001b[0;34m\u001b[0m\u001b[0m\n\u001b[0;32m--> 450\u001b[0;31m                     \u001b[0mtimeout\u001b[0m\u001b[0;34m=\u001b[0m\u001b[0mtimeout\u001b[0m\u001b[0;34m\u001b[0m\u001b[0;34m\u001b[0m\u001b[0m\n\u001b[0m\u001b[1;32m    451\u001b[0m                 )\n\u001b[1;32m    452\u001b[0m \u001b[0;34m\u001b[0m\u001b[0m\n",
      "\u001b[0;32m~/.conda/envs/w2v2/lib/python3.6/site-packages/urllib3/connectionpool.py\u001b[0m in \u001b[0;36murlopen\u001b[0;34m(self, method, url, body, headers, retries, redirect, assert_same_host, timeout, pool_timeout, release_conn, chunked, body_pos, **response_kw)\u001b[0m\n\u001b[1;32m    708\u001b[0m                 \u001b[0mbody\u001b[0m\u001b[0;34m=\u001b[0m\u001b[0mbody\u001b[0m\u001b[0;34m,\u001b[0m\u001b[0;34m\u001b[0m\u001b[0;34m\u001b[0m\u001b[0m\n\u001b[1;32m    709\u001b[0m                 \u001b[0mheaders\u001b[0m\u001b[0;34m=\u001b[0m\u001b[0mheaders\u001b[0m\u001b[0;34m,\u001b[0m\u001b[0;34m\u001b[0m\u001b[0;34m\u001b[0m\u001b[0m\n\u001b[0;32m--> 710\u001b[0;31m                 \u001b[0mchunked\u001b[0m\u001b[0;34m=\u001b[0m\u001b[0mchunked\u001b[0m\u001b[0;34m,\u001b[0m\u001b[0;34m\u001b[0m\u001b[0;34m\u001b[0m\u001b[0m\n\u001b[0m\u001b[1;32m    711\u001b[0m             )\n\u001b[1;32m    712\u001b[0m \u001b[0;34m\u001b[0m\u001b[0m\n",
      "\u001b[0;32m~/.conda/envs/w2v2/lib/python3.6/site-packages/urllib3/connectionpool.py\u001b[0m in \u001b[0;36m_make_request\u001b[0;34m(self, conn, method, url, timeout, chunked, **httplib_request_kw)\u001b[0m\n\u001b[1;32m    384\u001b[0m         \u001b[0;31m# Trigger any extra validation we need to do.\u001b[0m\u001b[0;34m\u001b[0m\u001b[0;34m\u001b[0m\u001b[0;34m\u001b[0m\u001b[0m\n\u001b[1;32m    385\u001b[0m         \u001b[0;32mtry\u001b[0m\u001b[0;34m:\u001b[0m\u001b[0;34m\u001b[0m\u001b[0;34m\u001b[0m\u001b[0m\n\u001b[0;32m--> 386\u001b[0;31m             \u001b[0mself\u001b[0m\u001b[0;34m.\u001b[0m\u001b[0m_validate_conn\u001b[0m\u001b[0;34m(\u001b[0m\u001b[0mconn\u001b[0m\u001b[0;34m)\u001b[0m\u001b[0;34m\u001b[0m\u001b[0;34m\u001b[0m\u001b[0m\n\u001b[0m\u001b[1;32m    387\u001b[0m         \u001b[0;32mexcept\u001b[0m \u001b[0;34m(\u001b[0m\u001b[0mSocketTimeout\u001b[0m\u001b[0;34m,\u001b[0m \u001b[0mBaseSSLError\u001b[0m\u001b[0;34m)\u001b[0m \u001b[0;32mas\u001b[0m \u001b[0me\u001b[0m\u001b[0;34m:\u001b[0m\u001b[0;34m\u001b[0m\u001b[0;34m\u001b[0m\u001b[0m\n\u001b[1;32m    388\u001b[0m             \u001b[0;31m# Py2 raises this as a BaseSSLError, Py3 raises it as socket timeout.\u001b[0m\u001b[0;34m\u001b[0m\u001b[0;34m\u001b[0m\u001b[0;34m\u001b[0m\u001b[0m\n",
      "\u001b[0;32m~/.conda/envs/w2v2/lib/python3.6/site-packages/urllib3/connectionpool.py\u001b[0m in \u001b[0;36m_validate_conn\u001b[0;34m(self, conn)\u001b[0m\n\u001b[1;32m   1038\u001b[0m         \u001b[0;31m# Force connect early to allow us to validate the connection.\u001b[0m\u001b[0;34m\u001b[0m\u001b[0;34m\u001b[0m\u001b[0;34m\u001b[0m\u001b[0m\n\u001b[1;32m   1039\u001b[0m         \u001b[0;32mif\u001b[0m \u001b[0;32mnot\u001b[0m \u001b[0mgetattr\u001b[0m\u001b[0;34m(\u001b[0m\u001b[0mconn\u001b[0m\u001b[0;34m,\u001b[0m \u001b[0;34m\"sock\"\u001b[0m\u001b[0;34m,\u001b[0m \u001b[0;32mNone\u001b[0m\u001b[0;34m)\u001b[0m\u001b[0;34m:\u001b[0m  \u001b[0;31m# AppEngine might not have  `.sock`\u001b[0m\u001b[0;34m\u001b[0m\u001b[0;34m\u001b[0m\u001b[0m\n\u001b[0;32m-> 1040\u001b[0;31m             \u001b[0mconn\u001b[0m\u001b[0;34m.\u001b[0m\u001b[0mconnect\u001b[0m\u001b[0;34m(\u001b[0m\u001b[0;34m)\u001b[0m\u001b[0;34m\u001b[0m\u001b[0;34m\u001b[0m\u001b[0m\n\u001b[0m\u001b[1;32m   1041\u001b[0m \u001b[0;34m\u001b[0m\u001b[0m\n\u001b[1;32m   1042\u001b[0m         \u001b[0;32mif\u001b[0m \u001b[0;32mnot\u001b[0m \u001b[0mconn\u001b[0m\u001b[0;34m.\u001b[0m\u001b[0mis_verified\u001b[0m\u001b[0;34m:\u001b[0m\u001b[0;34m\u001b[0m\u001b[0;34m\u001b[0m\u001b[0m\n",
      "\u001b[0;32m~/.conda/envs/w2v2/lib/python3.6/site-packages/urllib3/connection.py\u001b[0m in \u001b[0;36mconnect\u001b[0;34m(self)\u001b[0m\n\u001b[1;32m    356\u001b[0m     \u001b[0;32mdef\u001b[0m \u001b[0mconnect\u001b[0m\u001b[0;34m(\u001b[0m\u001b[0mself\u001b[0m\u001b[0;34m)\u001b[0m\u001b[0;34m:\u001b[0m\u001b[0;34m\u001b[0m\u001b[0;34m\u001b[0m\u001b[0m\n\u001b[1;32m    357\u001b[0m         \u001b[0;31m# Add certificate verification\u001b[0m\u001b[0;34m\u001b[0m\u001b[0;34m\u001b[0m\u001b[0;34m\u001b[0m\u001b[0m\n\u001b[0;32m--> 358\u001b[0;31m         \u001b[0mconn\u001b[0m \u001b[0;34m=\u001b[0m \u001b[0mself\u001b[0m\u001b[0;34m.\u001b[0m\u001b[0m_new_conn\u001b[0m\u001b[0;34m(\u001b[0m\u001b[0;34m)\u001b[0m\u001b[0;34m\u001b[0m\u001b[0;34m\u001b[0m\u001b[0m\n\u001b[0m\u001b[1;32m    359\u001b[0m         \u001b[0mhostname\u001b[0m \u001b[0;34m=\u001b[0m \u001b[0mself\u001b[0m\u001b[0;34m.\u001b[0m\u001b[0mhost\u001b[0m\u001b[0;34m\u001b[0m\u001b[0;34m\u001b[0m\u001b[0m\n\u001b[1;32m    360\u001b[0m         \u001b[0mtls_in_tls\u001b[0m \u001b[0;34m=\u001b[0m \u001b[0;32mFalse\u001b[0m\u001b[0;34m\u001b[0m\u001b[0;34m\u001b[0m\u001b[0m\n",
      "\u001b[0;32m~/.conda/envs/w2v2/lib/python3.6/site-packages/urllib3/connection.py\u001b[0m in \u001b[0;36m_new_conn\u001b[0;34m(self)\u001b[0m\n\u001b[1;32m    173\u001b[0m         \u001b[0;32mtry\u001b[0m\u001b[0;34m:\u001b[0m\u001b[0;34m\u001b[0m\u001b[0;34m\u001b[0m\u001b[0m\n\u001b[1;32m    174\u001b[0m             conn = connection.create_connection(\n\u001b[0;32m--> 175\u001b[0;31m                 \u001b[0;34m(\u001b[0m\u001b[0mself\u001b[0m\u001b[0;34m.\u001b[0m\u001b[0m_dns_host\u001b[0m\u001b[0;34m,\u001b[0m \u001b[0mself\u001b[0m\u001b[0;34m.\u001b[0m\u001b[0mport\u001b[0m\u001b[0;34m)\u001b[0m\u001b[0;34m,\u001b[0m \u001b[0mself\u001b[0m\u001b[0;34m.\u001b[0m\u001b[0mtimeout\u001b[0m\u001b[0;34m,\u001b[0m \u001b[0;34m**\u001b[0m\u001b[0mextra_kw\u001b[0m\u001b[0;34m\u001b[0m\u001b[0;34m\u001b[0m\u001b[0m\n\u001b[0m\u001b[1;32m    176\u001b[0m             )\n\u001b[1;32m    177\u001b[0m \u001b[0;34m\u001b[0m\u001b[0m\n",
      "\u001b[0;32m~/.conda/envs/w2v2/lib/python3.6/site-packages/urllib3/util/connection.py\u001b[0m in \u001b[0;36mcreate_connection\u001b[0;34m(address, timeout, source_address, socket_options)\u001b[0m\n\u001b[1;32m     83\u001b[0m             \u001b[0;32mif\u001b[0m \u001b[0msource_address\u001b[0m\u001b[0;34m:\u001b[0m\u001b[0;34m\u001b[0m\u001b[0;34m\u001b[0m\u001b[0m\n\u001b[1;32m     84\u001b[0m                 \u001b[0msock\u001b[0m\u001b[0;34m.\u001b[0m\u001b[0mbind\u001b[0m\u001b[0;34m(\u001b[0m\u001b[0msource_address\u001b[0m\u001b[0;34m)\u001b[0m\u001b[0;34m\u001b[0m\u001b[0;34m\u001b[0m\u001b[0m\n\u001b[0;32m---> 85\u001b[0;31m             \u001b[0msock\u001b[0m\u001b[0;34m.\u001b[0m\u001b[0mconnect\u001b[0m\u001b[0;34m(\u001b[0m\u001b[0msa\u001b[0m\u001b[0;34m)\u001b[0m\u001b[0;34m\u001b[0m\u001b[0;34m\u001b[0m\u001b[0m\n\u001b[0m\u001b[1;32m     86\u001b[0m             \u001b[0;32mreturn\u001b[0m \u001b[0msock\u001b[0m\u001b[0;34m\u001b[0m\u001b[0;34m\u001b[0m\u001b[0m\n\u001b[1;32m     87\u001b[0m \u001b[0;34m\u001b[0m\u001b[0m\n",
      "\u001b[0;31mKeyboardInterrupt\u001b[0m: "
     ]
    }
   ],
   "source": [
    "processor = Wav2Vec2Processor.from_pretrained(model_name_or_path,)\n",
    "target_sampling_rate = processor.feature_extractor.sampling_rate\n",
    "print(f\"The target sampling rate: {target_sampling_rate}\")"
   ]
  },
  {
   "cell_type": "markdown",
   "metadata": {
    "id": "CbGuYgLqHXZg"
   },
   "source": [
    "# Preprocess Data"
   ]
  },
  {
   "cell_type": "code",
   "execution_count": null,
   "metadata": {
    "id": "6UqlIV3uGxDA"
   },
   "outputs": [],
   "source": [
    "def speech_file_to_array_fn(path):\n",
    "    speech_array, sampling_rate = torchaudio.load(path)\n",
    "    resampler = torchaudio.transforms.Resample(sampling_rate, target_sampling_rate)\n",
    "    speech = resampler(speech_array).squeeze().numpy()\n",
    "    return speech\n",
    "\n",
    "def label_to_id(label, label_list):\n",
    "    if len(label_list) > 0:\n",
    "        return label_list.index(label) if label in label_list else -1\n",
    "\n",
    "    return label\n",
    "\n",
    "def preprocess_function(examples):\n",
    "    speech_list = [speech_file_to_array_fn(path) for path in examples[input_column]]\n",
    "    target_list = [label_to_id(label, label_list) for label in examples[output_column]]\n",
    "\n",
    "    result = processor(speech_list, sampling_rate=target_sampling_rate)\n",
    "    result[\"labels\"] = list(target_list)\n",
    "\n",
    "    return result"
   ]
  },
  {
   "cell_type": "code",
   "execution_count": 27,
   "metadata": {
    "id": "ioP8FfR2GxHi"
   },
   "outputs": [
    {
     "ename": "NameError",
     "evalue": "name 'preprocess_function' is not defined",
     "output_type": "error",
     "traceback": [
      "\u001b[0;31m---------------------------------------------------------------------------\u001b[0m",
      "\u001b[0;31mNameError\u001b[0m                                 Traceback (most recent call last)",
      "\u001b[0;32m<ipython-input-27-6f41c9526c3e>\u001b[0m in \u001b[0;36m<module>\u001b[0;34m\u001b[0m\n\u001b[1;32m      1\u001b[0m train_dataset = train_dataset.map(\n\u001b[0;32m----> 2\u001b[0;31m     \u001b[0mpreprocess_function\u001b[0m\u001b[0;34m,\u001b[0m\u001b[0;34m\u001b[0m\u001b[0;34m\u001b[0m\u001b[0m\n\u001b[0m\u001b[1;32m      3\u001b[0m     \u001b[0mbatch_size\u001b[0m\u001b[0;34m=\u001b[0m\u001b[0;36m100\u001b[0m\u001b[0;34m,\u001b[0m\u001b[0;34m\u001b[0m\u001b[0;34m\u001b[0m\u001b[0m\n\u001b[1;32m      4\u001b[0m     \u001b[0mbatched\u001b[0m\u001b[0;34m=\u001b[0m\u001b[0;32mTrue\u001b[0m\u001b[0;34m,\u001b[0m\u001b[0;34m\u001b[0m\u001b[0;34m\u001b[0m\u001b[0m\n\u001b[1;32m      5\u001b[0m     \u001b[0mnum_proc\u001b[0m\u001b[0;34m=\u001b[0m\u001b[0;36m16\u001b[0m\u001b[0;34m\u001b[0m\u001b[0;34m\u001b[0m\u001b[0m\n",
      "\u001b[0;31mNameError\u001b[0m: name 'preprocess_function' is not defined"
     ]
    }
   ],
   "source": [
    "train_dataset = train_dataset.map(\n",
    "    preprocess_function,\n",
    "    batch_size=100,\n",
    "    batched=True,\n",
    "    num_proc=16\n",
    ")\n",
    "eval_dataset = eval_dataset.map(\n",
    "    preprocess_function,\n",
    "    batch_size=100,\n",
    "    batched=True,\n",
    "    num_proc=16\n",
    ")"
   ]
  },
  {
   "cell_type": "code",
   "execution_count": null,
   "metadata": {
    "id": "eu1qcRucHk6d"
   },
   "outputs": [],
   "source": [
    "idx = 0\n",
    "print(f\"Training input_values: {train_dataset[idx]['input_values']}\")\n",
    "print(f\"Training attention_mask: {train_dataset[idx]['attention_mask']}\")\n",
    "print(f\"Training labels: {train_dataset[idx]['labels']} - {train_dataset[idx]['accent']}\")"
   ]
  },
  {
   "cell_type": "markdown",
   "metadata": {
    "id": "QL7q6DfcH0Fs"
   },
   "source": [
    "## Model\n",
    "\n"
   ]
  },
  {
   "cell_type": "code",
   "execution_count": null,
   "metadata": {
    "id": "uJZoC4T5HpuP"
   },
   "outputs": [],
   "source": [
    "from dataclasses import dataclass\n",
    "from typing import Optional, Tuple\n",
    "import torch\n",
    "from transformers.file_utils import ModelOutput\n",
    "\n",
    "\n",
    "@dataclass\n",
    "class SpeechClassifierOutput(ModelOutput):\n",
    "    loss: Optional[torch.FloatTensor] = None\n",
    "    logits: torch.FloatTensor = None\n",
    "    hidden_states: Optional[Tuple[torch.FloatTensor]] = None\n",
    "    attentions: Optional[Tuple[torch.FloatTensor]] = None"
   ]
  },
  {
   "cell_type": "code",
   "execution_count": null,
   "metadata": {
    "id": "Fv62ShDsH5DZ"
   },
   "outputs": [],
   "source": [
    "import torch\n",
    "import torch.nn as nn\n",
    "from torch.nn import BCEWithLogitsLoss, CrossEntropyLoss, MSELoss\n",
    "\n",
    "from transformers.models.wav2vec2.modeling_wav2vec2 import (\n",
    "    Wav2Vec2PreTrainedModel,\n",
    "    Wav2Vec2Model\n",
    ")\n",
    "\n",
    "\n",
    "class Wav2Vec2ClassificationHead(nn.Module):\n",
    "    \"\"\"Head for wav2vec classification task.\"\"\"\n",
    "\n",
    "    def __init__(self, config):\n",
    "        super().__init__()\n",
    "        self.dense = nn.Linear(config.hidden_size, config.hidden_size)\n",
    "        self.dropout = nn.Dropout(config.final_dropout)\n",
    "        self.out_proj = nn.Linear(config.hidden_size, config.num_labels)\n",
    "\n",
    "    def forward(self, features, **kwargs):\n",
    "        x = features\n",
    "        x = self.dropout(x)\n",
    "        x = self.dense(x)\n",
    "        x = torch.tanh(x)\n",
    "        x = self.dropout(x)\n",
    "        x = self.out_proj(x)\n",
    "        return x\n",
    "\n",
    "\n",
    "class Wav2Vec2ForSpeechClassification(Wav2Vec2PreTrainedModel):\n",
    "    def __init__(self, config):\n",
    "        super().__init__(config)\n",
    "        self.num_labels = config.num_labels\n",
    "        self.pooling_mode = config.pooling_mode\n",
    "        self.config = config\n",
    "\n",
    "        self.wav2vec2 = Wav2Vec2Model(config)\n",
    "        self.classifier = Wav2Vec2ClassificationHead(config)\n",
    "\n",
    "        self.init_weights()\n",
    "\n",
    "    def freeze_feature_extractor(self):\n",
    "        self.wav2vec2.feature_extractor._freeze_parameters()\n",
    "\n",
    "    def merged_strategy(self, hidden_states, mode=\"mean\"):\n",
    "        if mode == \"mean\":\n",
    "            outputs = torch.mean(hidden_states, dim=1)\n",
    "        elif mode == \"sum\":\n",
    "            outputs = torch.sum(hidden_states, dim=1)\n",
    "        elif mode == \"max\":\n",
    "            outputs = torch.max(hidden_states, dim=1)[0]\n",
    "        else:\n",
    "            raise Exception(\"The pooling method hasn't been defined! Your pooling mode must be one of these ['mean', 'sum', 'max']\")\n",
    "\n",
    "        return outputs\n",
    "\n",
    "    def forward(\n",
    "            self,\n",
    "            input_values,\n",
    "            attention_mask=None,\n",
    "            output_attentions=None,\n",
    "            output_hidden_states=None,\n",
    "            return_dict=None,\n",
    "            labels=None,\n",
    "    ):\n",
    "        return_dict = return_dict if return_dict is not None else self.config.use_return_dict\n",
    "        outputs = self.wav2vec2(\n",
    "            input_values,\n",
    "            attention_mask=attention_mask,\n",
    "            output_attentions=output_attentions,\n",
    "            output_hidden_states=output_hidden_states,\n",
    "            return_dict=return_dict,\n",
    "        )\n",
    "        hidden_states = outputs[0]\n",
    "        hidden_states = self.merged_strategy(hidden_states, mode=self.pooling_mode)\n",
    "        logits = self.classifier(hidden_states)\n",
    "\n",
    "        loss = None\n",
    "        if labels is not None:\n",
    "            if self.config.problem_type is None:\n",
    "                if self.num_labels == 1:\n",
    "                    self.config.problem_type = \"regression\"\n",
    "                elif self.num_labels > 1 and (labels.dtype == torch.long or labels.dtype == torch.int):\n",
    "                    self.config.problem_type = \"single_label_classification\"\n",
    "                else:\n",
    "                    self.config.problem_type = \"multi_label_classification\"\n",
    "\n",
    "            if self.config.problem_type == \"regression\":\n",
    "                loss_fct = MSELoss()\n",
    "                loss = loss_fct(logits.view(-1, self.num_labels), labels)\n",
    "            elif self.config.problem_type == \"single_label_classification\":\n",
    "                loss_fct = CrossEntropyLoss()\n",
    "                loss = loss_fct(logits.view(-1, self.num_labels), labels.view(-1))\n",
    "            elif self.config.problem_type == \"multi_label_classification\":\n",
    "                loss_fct = BCEWithLogitsLoss()\n",
    "                loss = loss_fct(logits, labels)\n",
    "\n",
    "        if not return_dict:\n",
    "            output = (logits,) + outputs[2:]\n",
    "            return ((loss,) + output) if loss is not None else output\n",
    "\n",
    "        return SpeechClassifierOutput(\n",
    "            loss=loss,\n",
    "            logits=logits,\n",
    "            hidden_states=outputs.hidden_states,\n",
    "            attentions=outputs.attentions,\n",
    "        )"
   ]
  },
  {
   "cell_type": "code",
   "execution_count": null,
   "metadata": {
    "id": "rkM0VLIwy903"
   },
   "outputs": [],
   "source": [
    "from dataclasses import dataclass\n",
    "from typing import Dict, List, Optional, Union\n",
    "import torch\n",
    "\n",
    "import transformers\n",
    "from transformers import Wav2Vec2Processor\n",
    "\n",
    "@dataclass\n",
    "class DataCollatorCTCWithPadding:\n",
    "    \"\"\"\n",
    "    Data collator that will dynamically pad the inputs received.\n",
    "    Args:\n",
    "        processor (:class:`~transformers.Wav2Vec2Processor`)\n",
    "            The processor used for proccessing the data.\n",
    "        padding (:obj:`bool`, :obj:`str` or :class:`~transformers.tokenization_utils_base.PaddingStrategy`, `optional`, defaults to :obj:`True`):\n",
    "            Select a strategy to pad the returned sequences (according to the model's padding side and padding index)\n",
    "            among:\n",
    "            * :obj:`True` or :obj:`'longest'`: Pad to the longest sequence in the batch (or no padding if only a single\n",
    "              sequence if provided).\n",
    "            * :obj:`'max_length'`: Pad to a maximum length specified with the argument :obj:`max_length` or to the\n",
    "              maximum acceptable input length for the model if that argument is not provided.\n",
    "            * :obj:`False` or :obj:`'do_not_pad'` (default): No padding (i.e., can output a batch with sequences of\n",
    "              different lengths).\n",
    "        max_length (:obj:`int`, `optional`):\n",
    "            Maximum length of the ``input_values`` of the returned list and optionally padding length (see above).\n",
    "        max_length_labels (:obj:`int`, `optional`):\n",
    "            Maximum length of the ``labels`` returned list and optionally padding length (see above).\n",
    "        pad_to_multiple_of (:obj:`int`, `optional`):\n",
    "            If set will pad the sequence to a multiple of the provided value.\n",
    "            This is especially useful to enable the use of Tensor Cores on NVIDIA hardware with compute capability >=\n",
    "            7.5 (Volta).\n",
    "    \"\"\"\n",
    "\n",
    "    processor: Wav2Vec2Processor\n",
    "    padding: Union[bool, str] = True\n",
    "    max_length: Optional[int] = None\n",
    "    max_length_labels: Optional[int] = None\n",
    "    pad_to_multiple_of: Optional[int] = None\n",
    "    pad_to_multiple_of_labels: Optional[int] = None\n",
    "\n",
    "    def __call__(self, features: List[Dict[str, Union[List[int], torch.Tensor]]]) -> Dict[str, torch.Tensor]:\n",
    "        input_features = [{\"input_values\": feature[\"input_values\"]} for feature in features]\n",
    "        label_features = [feature[\"labels\"] for feature in features]\n",
    "\n",
    "        d_type = torch.long if isinstance(label_features[0], int) else torch.float\n",
    "\n",
    "        batch = self.processor.pad(\n",
    "            input_features,\n",
    "            padding=self.padding,\n",
    "            max_length=self.max_length,\n",
    "            pad_to_multiple_of=self.pad_to_multiple_of,\n",
    "            return_tensors=\"pt\",\n",
    "        )\n",
    "\n",
    "        batch[\"labels\"] = torch.tensor(label_features, dtype=d_type)\n",
    "\n",
    "        return batch"
   ]
  },
  {
   "cell_type": "code",
   "execution_count": null,
   "metadata": {
    "id": "-YhJ0OA4RxQe"
   },
   "outputs": [],
   "source": [
    "data_collator = DataCollatorCTCWithPadding(processor=processor, padding=True)"
   ]
  },
  {
   "cell_type": "markdown",
   "metadata": {
    "id": "mYxy2IR-KcU2"
   },
   "source": [
    "Next, the evaluation metric is defined. There are many pre-defined metrics for classification/regression problems, but in this case, we would continue with just **Accuracy** for classification and **MSE** for regression. You can define other metrics on your own."
   ]
  },
  {
   "cell_type": "code",
   "execution_count": null,
   "metadata": {
    "id": "LL8I5MKvPnth"
   },
   "outputs": [],
   "source": [
    "is_regression = False"
   ]
  },
  {
   "cell_type": "code",
   "execution_count": null,
   "metadata": {
    "id": "XK26Z6IfR36K"
   },
   "outputs": [],
   "source": [
    "import numpy as np\n",
    "from transformers import EvalPrediction\n",
    "\n",
    "\n",
    "def compute_metrics(p: EvalPrediction):\n",
    "    preds = p.predictions[0] if isinstance(p.predictions, tuple) else p.predictions\n",
    "    preds = np.squeeze(preds) if is_regression else np.argmax(preds, axis=1)\n",
    "\n",
    "    if is_regression:\n",
    "        return {\"mse\": ((preds - p.label_ids) ** 2).mean().item()}\n",
    "    else:\n",
    "        return {\"accuracy\": (preds == p.label_ids).astype(np.float32).mean().item()}"
   ]
  },
  {
   "cell_type": "markdown",
   "metadata": {
    "id": "ZsH_nKJdK28o"
   },
   "source": [
    "Now, we can load the pretrained XLSR-Wav2Vec2 checkpoint into our classification model with a pooling strategy."
   ]
  },
  {
   "cell_type": "code",
   "execution_count": null,
   "metadata": {
    "id": "0Tl6iKAUR4EL"
   },
   "outputs": [],
   "source": [
    "model = Wav2Vec2ForSpeechClassification.from_pretrained(\n",
    "    model_name_or_path,\n",
    "    config=config,\n",
    ")\n",
    "# this will give a warning which is totally fine"
   ]
  },
  {
   "cell_type": "markdown",
   "metadata": {
    "id": "bqF4rNMzI1M5"
   },
   "source": [
    "The first component of XLSR-Wav2Vec2 consists of a stack of CNN layers that are used to extract acoustically meaningful - but contextually independent - features from the raw speech signal. This part of the model has already been sufficiently trained during pretraining and as stated in the [paper](https://arxiv.org/pdf/2006.13979.pdf) does not need to be fine-tuned anymore. \n",
    "Thus, we can set the `requires_grad` to `False` for all parameters of the *feature extraction* part."
   ]
  },
  {
   "cell_type": "code",
   "execution_count": null,
   "metadata": {
    "id": "KHMhxFGoR4Hb"
   },
   "outputs": [],
   "source": [
    "model.freeze_feature_extractor()"
   ]
  },
  {
   "cell_type": "code",
   "execution_count": null,
   "metadata": {
    "id": "vUtWjldAI9-H"
   },
   "outputs": [],
   "source": [
    "from transformers import TrainingArguments\n",
    "\n",
    "training_args = TrainingArguments(\n",
    "    output_dir=\"data/lite_8acc\",\n",
    "    per_device_train_batch_size=4,\n",
    "    per_device_eval_batch_size=4,\n",
    "    gradient_accumulation_steps=2,\n",
    "    evaluation_strategy=\"steps\",\n",
    "    num_train_epochs=1.0,\n",
    "    fp16=True,\n",
    "    save_steps=800,\n",
    "    eval_steps=800,\n",
    "    logging_steps=800,\n",
    "    learning_rate=1e-4,\n",
    "    save_total_limit=2,\n",
    ")"
   ]
  },
  {
   "cell_type": "markdown",
   "metadata": {
    "id": "XAtuL0APLZSs"
   },
   "source": [
    "For future use we can create our training script, we do it in a simple way. You can add more on you own."
   ]
  },
  {
   "cell_type": "code",
   "execution_count": null,
   "metadata": {
    "id": "KfW6uDolJYZv"
   },
   "outputs": [],
   "source": [
    "from typing import Any, Dict, Union\n",
    "\n",
    "import torch\n",
    "from packaging import version\n",
    "from torch import nn\n",
    "\n",
    "from transformers import (\n",
    "    Trainer,\n",
    "    is_apex_available,\n",
    ")\n",
    "\n",
    "if is_apex_available():\n",
    "    from apex import amp\n",
    "\n",
    "if version.parse(torch.__version__) >= version.parse(\"1.6\"):\n",
    "    _is_native_amp_available = True\n",
    "    from torch.cuda.amp import autocast\n",
    "\n",
    "\n",
    "class CTCTrainer(Trainer):\n",
    "    def training_step(self, model: nn.Module, inputs: Dict[str, Union[torch.Tensor, Any]]) -> torch.Tensor:\n",
    "        \"\"\"\n",
    "        Perform a training step on a batch of inputs.\n",
    "\n",
    "        Subclass and override to inject custom behavior.\n",
    "\n",
    "        Args:\n",
    "            model (:obj:`nn.Module`):\n",
    "                The model to train.\n",
    "            inputs (:obj:`Dict[str, Union[torch.Tensor, Any]]`):\n",
    "                The inputs and targets of the model.\n",
    "\n",
    "                The dictionary will be unpacked before being fed to the model. Most models expect the targets under the\n",
    "                argument :obj:`labels`. Check your model's documentation for all accepted arguments.\n",
    "\n",
    "        Return:\n",
    "            :obj:`torch.Tensor`: The tensor with training loss on this batch.\n",
    "        \"\"\"\n",
    "\n",
    "        model.train()\n",
    "        inputs = self._prepare_inputs(inputs)\n",
    "        \n",
    "#         import pdb\n",
    "#         pdb.set_trace()\n",
    "\n",
    "        if self.use_amp:\n",
    "            with autocast():\n",
    "                loss = self.compute_loss(model, inputs)\n",
    "        else:\n",
    "            loss = self.compute_loss(model, inputs)\n",
    "\n",
    "        if self.args.gradient_accumulation_steps > 1:\n",
    "            loss = loss / self.args.gradient_accumulation_steps\n",
    "\n",
    "        if self.use_amp:\n",
    "            self.scaler.scale(loss).backward()\n",
    "        elif self.use_apex:\n",
    "            with amp.scale_loss(loss, self.optimizer) as scaled_loss:\n",
    "                scaled_loss.backward()\n",
    "        elif self.deepspeed:\n",
    "            self.deepspeed.backward(loss)\n",
    "        else:\n",
    "            loss.backward()\n",
    "\n",
    "        return loss.detach()"
   ]
  },
  {
   "cell_type": "markdown",
   "metadata": {
    "id": "Qv7Ju3qYJeJn"
   },
   "source": [
    "Now, all instances can be passed to Trainer and we are ready to start training!"
   ]
  },
  {
   "cell_type": "code",
   "execution_count": null,
   "metadata": {
    "id": "nEFkfK45JYiZ"
   },
   "outputs": [],
   "source": [
    "trainer = CTCTrainer(\n",
    "    model=model,\n",
    "    data_collator=data_collator,\n",
    "    args=training_args,\n",
    "    compute_metrics=compute_metrics,\n",
    "    train_dataset=train_dataset,\n",
    "    eval_dataset=eval_dataset,\n",
    "    tokenizer=processor.feature_extractor,\n",
    ")"
   ]
  },
  {
   "cell_type": "markdown",
   "metadata": {
    "id": "0gGLwJAOLtDg"
   },
   "source": [
    "### Training"
   ]
  },
  {
   "cell_type": "markdown",
   "metadata": {
    "id": "UpN6xlWCLxJ7"
   },
   "source": [
    "Training will take between 10 and 60 minutes depending on the GPU allocated to this notebook. \n",
    "\n",
    "In case you want to use this google colab to fine-tune your model, you should make sure that your training doesn't stop due to inactivity. A simple hack to prevent this is to paste the following code into the console of this tab (right mouse click -> inspect -> Console tab and insert code)."
   ]
  },
  {
   "cell_type": "markdown",
   "metadata": {
    "id": "zyYZH7YZL8a9"
   },
   "source": [
    "```javascript\n",
    "function ConnectButton(){\n",
    "    console.log(\"Connect pushed\"); \n",
    "    document.querySelector(\"#top-toolbar > colab-connect-button\").shadowRoot.querySelector(\"#connect\").click() \n",
    "}\n",
    "setInterval(ConnectButton,60000);\n",
    "```"
   ]
  },
  {
   "cell_type": "code",
   "execution_count": null,
   "metadata": {
    "id": "6M8bNvLLJnG1"
   },
   "outputs": [],
   "source": [
    "trainer.train()"
   ]
  },
  {
   "cell_type": "code",
   "execution_count": null,
   "metadata": {},
   "outputs": [],
   "source": []
  },
  {
   "cell_type": "markdown",
   "metadata": {
    "id": "VsaOTx_FVm0i"
   },
   "source": [
    "## Evaluation"
   ]
  },
  {
   "cell_type": "code",
   "execution_count": null,
   "metadata": {
    "id": "4tGNY7hRXO44"
   },
   "outputs": [],
   "source": [
    "# need to save the model first\n",
    "import librosa\n",
    "from sklearn.metrics import classification_report"
   ]
  },
  {
   "cell_type": "code",
   "execution_count": null,
   "metadata": {
    "id": "IYxg1Tfo2VUw"
   },
   "outputs": [],
   "source": [
    "test_dataset = load_dataset(\"csv\", data_files={\"test\": \"data/lite_8acc/test.csv\"}, delimiter=\"\\t\")[\"test\"]\n",
    "test_dataset"
   ]
  },
  {
   "cell_type": "code",
   "execution_count": null,
   "metadata": {
    "id": "QgZFkMDHW_Um"
   },
   "outputs": [],
   "source": [
    "device = torch.device(\"cuda\" if torch.cuda.is_available() else \"cpu\")\n",
    "print(f\"Device: {device}\")"
   ]
  },
  {
   "cell_type": "code",
   "execution_count": 7,
   "metadata": {
    "collapsed": true,
    "id": "-ESFEXeaWgua"
   },
   "outputs": [
    {
     "ename": "OSError",
     "evalue": "Can't load tokenizer for '/home/mayank/MTP/begin_again/Error-Driven-ASR-Personalization/MCV_accent/csvs/accent-recognition/checkpoint-4000/'. Make sure that:\n\n- '/home/mayank/MTP/begin_again/Error-Driven-ASR-Personalization/MCV_accent/csvs/accent-recognition/checkpoint-4000/' is a correct model identifier listed on 'https://huggingface.co/models'\n  (make sure '/home/mayank/MTP/begin_again/Error-Driven-ASR-Personalization/MCV_accent/csvs/accent-recognition/checkpoint-4000/' is not a path to a local directory with something else, in that case)\n\n- or '/home/mayank/MTP/begin_again/Error-Driven-ASR-Personalization/MCV_accent/csvs/accent-recognition/checkpoint-4000/' is the correct path to a directory containing relevant tokenizer files\n\n",
     "output_type": "error",
     "traceback": [
      "\u001b[0;31m---------------------------------------------------------------------------\u001b[0m",
      "\u001b[0;31mOSError\u001b[0m                                   Traceback (most recent call last)",
      "\u001b[0;32m~/.conda/envs/w2v2/lib/python3.6/site-packages/transformers/models/wav2vec2/processing_wav2vec2.py\u001b[0m in \u001b[0;36mfrom_pretrained\u001b[0;34m(cls, pretrained_model_name_or_path, **kwargs)\u001b[0m\n\u001b[1;32m    117\u001b[0m         \u001b[0;32mtry\u001b[0m\u001b[0;34m:\u001b[0m\u001b[0;34m\u001b[0m\u001b[0;34m\u001b[0m\u001b[0m\n\u001b[0;32m--> 118\u001b[0;31m             \u001b[0mtokenizer\u001b[0m \u001b[0;34m=\u001b[0m \u001b[0mAutoTokenizer\u001b[0m\u001b[0;34m.\u001b[0m\u001b[0mfrom_pretrained\u001b[0m\u001b[0;34m(\u001b[0m\u001b[0mpretrained_model_name_or_path\u001b[0m\u001b[0;34m,\u001b[0m \u001b[0;34m**\u001b[0m\u001b[0mkwargs\u001b[0m\u001b[0;34m)\u001b[0m\u001b[0;34m\u001b[0m\u001b[0;34m\u001b[0m\u001b[0m\n\u001b[0m\u001b[1;32m    119\u001b[0m         \u001b[0;32mexcept\u001b[0m \u001b[0mOSError\u001b[0m\u001b[0;34m:\u001b[0m\u001b[0;34m\u001b[0m\u001b[0;34m\u001b[0m\u001b[0m\n",
      "\u001b[0;32m~/.conda/envs/w2v2/lib/python3.6/site-packages/transformers/models/auto/tokenization_auto.py\u001b[0m in \u001b[0;36mfrom_pretrained\u001b[0;34m(cls, pretrained_model_name_or_path, *inputs, **kwargs)\u001b[0m\n\u001b[1;32m    552\u001b[0m                 \u001b[0;32mif\u001b[0m \u001b[0mtokenizer_class_py\u001b[0m \u001b[0;32mis\u001b[0m \u001b[0;32mnot\u001b[0m \u001b[0;32mNone\u001b[0m\u001b[0;34m:\u001b[0m\u001b[0;34m\u001b[0m\u001b[0;34m\u001b[0m\u001b[0m\n\u001b[0;32m--> 553\u001b[0;31m                     \u001b[0;32mreturn\u001b[0m \u001b[0mtokenizer_class_py\u001b[0m\u001b[0;34m.\u001b[0m\u001b[0mfrom_pretrained\u001b[0m\u001b[0;34m(\u001b[0m\u001b[0mpretrained_model_name_or_path\u001b[0m\u001b[0;34m,\u001b[0m \u001b[0;34m*\u001b[0m\u001b[0minputs\u001b[0m\u001b[0;34m,\u001b[0m \u001b[0;34m**\u001b[0m\u001b[0mkwargs\u001b[0m\u001b[0;34m)\u001b[0m\u001b[0;34m\u001b[0m\u001b[0;34m\u001b[0m\u001b[0m\n\u001b[0m\u001b[1;32m    554\u001b[0m                 \u001b[0;32melse\u001b[0m\u001b[0;34m:\u001b[0m\u001b[0;34m\u001b[0m\u001b[0;34m\u001b[0m\u001b[0m\n",
      "\u001b[0;32m~/.conda/envs/w2v2/lib/python3.6/site-packages/transformers/tokenization_utils_base.py\u001b[0m in \u001b[0;36mfrom_pretrained\u001b[0;34m(cls, pretrained_model_name_or_path, *init_inputs, **kwargs)\u001b[0m\n\u001b[1;32m   1735\u001b[0m \u001b[0;34m\u001b[0m\u001b[0m\n\u001b[0;32m-> 1736\u001b[0;31m             \u001b[0;32mraise\u001b[0m \u001b[0mEnvironmentError\u001b[0m\u001b[0;34m(\u001b[0m\u001b[0mmsg\u001b[0m\u001b[0;34m)\u001b[0m\u001b[0;34m\u001b[0m\u001b[0;34m\u001b[0m\u001b[0m\n\u001b[0m\u001b[1;32m   1737\u001b[0m \u001b[0;34m\u001b[0m\u001b[0m\n",
      "\u001b[0;31mOSError\u001b[0m: Can't load tokenizer for '/home/mayank/MTP/begin_again/Error-Driven-ASR-Personalization/MCV_accent/csvs/accent-recognition/checkpoint-4000/'. Make sure that:\n\n- '/home/mayank/MTP/begin_again/Error-Driven-ASR-Personalization/MCV_accent/csvs/accent-recognition/checkpoint-4000/' is a correct model identifier listed on 'https://huggingface.co/models'\n  (make sure '/home/mayank/MTP/begin_again/Error-Driven-ASR-Personalization/MCV_accent/csvs/accent-recognition/checkpoint-4000/' is not a path to a local directory with something else, in that case)\n\n- or '/home/mayank/MTP/begin_again/Error-Driven-ASR-Personalization/MCV_accent/csvs/accent-recognition/checkpoint-4000/' is the correct path to a directory containing relevant tokenizer files\n\n",
      "\nDuring handling of the above exception, another exception occurred:\n",
      "\u001b[0;31mOSError\u001b[0m                                   Traceback (most recent call last)",
      "\u001b[0;32m<ipython-input-7-c022f8df26fc>\u001b[0m in \u001b[0;36m<module>\u001b[0;34m\u001b[0m\n\u001b[1;32m      1\u001b[0m \u001b[0mmodel_name_or_path\u001b[0m \u001b[0;34m=\u001b[0m \u001b[0;34m\"/home/mayank/MTP/begin_again/Error-Driven-ASR-Personalization/MCV_accent/csvs/accent-recognition/checkpoint-4000/\"\u001b[0m\u001b[0;34m\u001b[0m\u001b[0;34m\u001b[0m\u001b[0m\n\u001b[1;32m      2\u001b[0m \u001b[0mconfig\u001b[0m \u001b[0;34m=\u001b[0m \u001b[0mAutoConfig\u001b[0m\u001b[0;34m.\u001b[0m\u001b[0mfrom_pretrained\u001b[0m\u001b[0;34m(\u001b[0m\u001b[0mmodel_name_or_path\u001b[0m\u001b[0;34m)\u001b[0m\u001b[0;34m\u001b[0m\u001b[0;34m\u001b[0m\u001b[0m\n\u001b[0;32m----> 3\u001b[0;31m \u001b[0mprocessor\u001b[0m \u001b[0;34m=\u001b[0m \u001b[0mWav2Vec2Processor\u001b[0m\u001b[0;34m.\u001b[0m\u001b[0mfrom_pretrained\u001b[0m\u001b[0;34m(\u001b[0m\u001b[0mmodel_name_or_path\u001b[0m\u001b[0;34m)\u001b[0m\u001b[0;34m\u001b[0m\u001b[0;34m\u001b[0m\u001b[0m\n\u001b[0m\u001b[1;32m      4\u001b[0m \u001b[0mmodel\u001b[0m \u001b[0;34m=\u001b[0m \u001b[0mWav2Vec2ForSpeechClassification\u001b[0m\u001b[0;34m.\u001b[0m\u001b[0mfrom_pretrained\u001b[0m\u001b[0;34m(\u001b[0m\u001b[0mmodel_name_or_path\u001b[0m\u001b[0;34m)\u001b[0m\u001b[0;34m.\u001b[0m\u001b[0mto\u001b[0m\u001b[0;34m(\u001b[0m\u001b[0mdevice\u001b[0m\u001b[0;34m)\u001b[0m\u001b[0;34m\u001b[0m\u001b[0;34m\u001b[0m\u001b[0m\n",
      "\u001b[0;32m~/.conda/envs/w2v2/lib/python3.6/site-packages/transformers/models/wav2vec2/processing_wav2vec2.py\u001b[0m in \u001b[0;36mfrom_pretrained\u001b[0;34m(cls, pretrained_model_name_or_path, **kwargs)\u001b[0m\n\u001b[1;32m    126\u001b[0m                 \u001b[0mFutureWarning\u001b[0m\u001b[0;34m,\u001b[0m\u001b[0;34m\u001b[0m\u001b[0;34m\u001b[0m\u001b[0m\n\u001b[1;32m    127\u001b[0m             )\n\u001b[0;32m--> 128\u001b[0;31m             \u001b[0mtokenizer\u001b[0m \u001b[0;34m=\u001b[0m \u001b[0mWav2Vec2CTCTokenizer\u001b[0m\u001b[0;34m.\u001b[0m\u001b[0mfrom_pretrained\u001b[0m\u001b[0;34m(\u001b[0m\u001b[0mpretrained_model_name_or_path\u001b[0m\u001b[0;34m,\u001b[0m \u001b[0;34m**\u001b[0m\u001b[0mkwargs\u001b[0m\u001b[0;34m)\u001b[0m\u001b[0;34m\u001b[0m\u001b[0;34m\u001b[0m\u001b[0m\n\u001b[0m\u001b[1;32m    129\u001b[0m \u001b[0;34m\u001b[0m\u001b[0m\n\u001b[1;32m    130\u001b[0m         \u001b[0;32mreturn\u001b[0m \u001b[0mcls\u001b[0m\u001b[0;34m(\u001b[0m\u001b[0mfeature_extractor\u001b[0m\u001b[0;34m=\u001b[0m\u001b[0mfeature_extractor\u001b[0m\u001b[0;34m,\u001b[0m \u001b[0mtokenizer\u001b[0m\u001b[0;34m=\u001b[0m\u001b[0mtokenizer\u001b[0m\u001b[0;34m)\u001b[0m\u001b[0;34m\u001b[0m\u001b[0;34m\u001b[0m\u001b[0m\n",
      "\u001b[0;32m~/.conda/envs/w2v2/lib/python3.6/site-packages/transformers/tokenization_utils_base.py\u001b[0m in \u001b[0;36mfrom_pretrained\u001b[0;34m(cls, pretrained_model_name_or_path, *init_inputs, **kwargs)\u001b[0m\n\u001b[1;32m   1734\u001b[0m                 \u001b[0mmsg\u001b[0m \u001b[0;34m+=\u001b[0m \u001b[0;34mf\"- or '{revision}' is a valid git identifier (branch name, a tag name, or a commit id) that exists for this model name as listed on its model page on 'https://huggingface.co/models'\\n\\n\"\u001b[0m\u001b[0;34m\u001b[0m\u001b[0;34m\u001b[0m\u001b[0m\n\u001b[1;32m   1735\u001b[0m \u001b[0;34m\u001b[0m\u001b[0m\n\u001b[0;32m-> 1736\u001b[0;31m             \u001b[0;32mraise\u001b[0m \u001b[0mEnvironmentError\u001b[0m\u001b[0;34m(\u001b[0m\u001b[0mmsg\u001b[0m\u001b[0;34m)\u001b[0m\u001b[0;34m\u001b[0m\u001b[0;34m\u001b[0m\u001b[0m\n\u001b[0m\u001b[1;32m   1737\u001b[0m \u001b[0;34m\u001b[0m\u001b[0m\n\u001b[1;32m   1738\u001b[0m         \u001b[0;32mfor\u001b[0m \u001b[0mfile_id\u001b[0m\u001b[0;34m,\u001b[0m \u001b[0mfile_path\u001b[0m \u001b[0;32min\u001b[0m \u001b[0mvocab_files\u001b[0m\u001b[0;34m.\u001b[0m\u001b[0mitems\u001b[0m\u001b[0;34m(\u001b[0m\u001b[0;34m)\u001b[0m\u001b[0;34m:\u001b[0m\u001b[0;34m\u001b[0m\u001b[0;34m\u001b[0m\u001b[0m\n",
      "\u001b[0;31mOSError\u001b[0m: Can't load tokenizer for '/home/mayank/MTP/begin_again/Error-Driven-ASR-Personalization/MCV_accent/csvs/accent-recognition/checkpoint-4000/'. Make sure that:\n\n- '/home/mayank/MTP/begin_again/Error-Driven-ASR-Personalization/MCV_accent/csvs/accent-recognition/checkpoint-4000/' is a correct model identifier listed on 'https://huggingface.co/models'\n  (make sure '/home/mayank/MTP/begin_again/Error-Driven-ASR-Personalization/MCV_accent/csvs/accent-recognition/checkpoint-4000/' is not a path to a local directory with something else, in that case)\n\n- or '/home/mayank/MTP/begin_again/Error-Driven-ASR-Personalization/MCV_accent/csvs/accent-recognition/checkpoint-4000/' is the correct path to a directory containing relevant tokenizer files\n\n"
     ]
    }
   ],
   "source": [
    "model_name_or_path = \"/home/mayank/MTP/begin_again/Error-Driven-ASR-Personalization/MCV_accent/data/w2v2-accent-recognition-lite/checkpoint-4000/\"\n",
    "config = AutoConfig.from_pretrained(model_name_or_path)\n",
    "processor = Wav2Vec2Processor.from_pretrained(model_name_or_path)\n",
    "model = Wav2Vec2ForSpeechClassification.from_pretrained(model_name_or_path).to(device)"
   ]
  },
  {
   "cell_type": "code",
   "execution_count": null,
   "metadata": {
    "id": "BkEd4w8IV7kZ"
   },
   "outputs": [],
   "source": [
    "def speech_file_to_array_fn(batch):\n",
    "    speech_array, sampling_rate = torchaudio.load(batch[\"path\"])\n",
    "    speech_array = speech_array.squeeze().numpy()\n",
    "    speech_array = librosa.resample(np.asarray(speech_array), sampling_rate, processor.feature_extractor.sampling_rate)\n",
    "\n",
    "    batch[\"speech\"] = speech_array\n",
    "    return batch\n",
    "\n",
    "\n",
    "def predict(batch):\n",
    "    features = processor(batch[\"speech\"], sampling_rate=processor.feature_extractor.sampling_rate, return_tensors=\"pt\", padding=True)\n",
    "\n",
    "    input_values = features.input_values.to(device)\n",
    "    attention_mask = features.attention_mask.to(device)\n",
    "\n",
    "    with torch.no_grad():\n",
    "        logits = model(input_values, attention_mask=attention_mask).logits \n",
    "\n",
    "    pred_ids = torch.argmax(logits, dim=-1).detach().cpu().numpy()\n",
    "    batch[\"predicted\"] = pred_ids\n",
    "    return batch"
   ]
  },
  {
   "cell_type": "code",
   "execution_count": null,
   "metadata": {
    "id": "S4P6P6XwW85p"
   },
   "outputs": [],
   "source": [
    "test_dataset = test_dataset.map(speech_file_to_array_fn)"
   ]
  },
  {
   "cell_type": "code",
   "execution_count": null,
   "metadata": {
    "id": "K_oZJzHsXKHv"
   },
   "outputs": [],
   "source": [
    "result = test_dataset.map(predict, batched=True, batch_size=8)"
   ]
  },
  {
   "cell_type": "code",
   "execution_count": null,
   "metadata": {
    "id": "BnfJLZvAaxTo"
   },
   "outputs": [],
   "source": [
    "label_names = [config.id2label[i] for i in range(config.num_labels)]\n",
    "label_names"
   ]
  },
  {
   "cell_type": "code",
   "execution_count": null,
   "metadata": {
    "id": "vRtajzvTabeH"
   },
   "outputs": [],
   "source": [
    "y_true = [config.label2id[name] for name in result[\"accent\"]]\n",
    "y_pred = result[\"predicted\"]\n",
    "\n",
    "print(y_true[:5])\n",
    "print(y_pred[:5])"
   ]
  },
  {
   "cell_type": "code",
   "execution_count": null,
   "metadata": {
    "id": "tUt5rIppXrzl"
   },
   "outputs": [],
   "source": [
    "print(classification_report(y_true, y_pred, target_names=label_names))"
   ]
  },
  {
   "cell_type": "code",
   "execution_count": null,
   "metadata": {},
   "outputs": [],
   "source": []
  },
  {
   "cell_type": "code",
   "execution_count": null,
   "metadata": {},
   "outputs": [],
   "source": []
  },
  {
   "cell_type": "code",
   "execution_count": null,
   "metadata": {},
   "outputs": [],
   "source": []
  },
  {
   "cell_type": "code",
   "execution_count": null,
   "metadata": {},
   "outputs": [],
   "source": []
  },
  {
   "cell_type": "markdown",
   "metadata": {
    "id": "Ylb2Z6Xke2ro"
   },
   "source": [
    "# Prediction"
   ]
  },
  {
   "cell_type": "code",
   "execution_count": 2,
   "metadata": {
    "id": "EQzCioPhWIiX"
   },
   "outputs": [],
   "source": [
    "import torch\n",
    "import torch.nn as nn\n",
    "import torch.nn.functional as F\n",
    "import torchaudio\n",
    "from transformers import AutoConfig, Wav2Vec2Processor\n",
    "\n",
    "import librosa\n",
    "import IPython.display as ipd\n",
    "import numpy as np\n",
    "import pandas as pd"
   ]
  },
  {
   "cell_type": "code",
   "execution_count": null,
   "metadata": {},
   "outputs": [],
   "source": [
    "from dataclasses import dataclass\n",
    "from typing import Optional, Tuple\n",
    "import torch\n",
    "from transformers.file_utils import ModelOutput\n",
    "\n",
    "@dataclass\n",
    "class SpeechClassifierOutput(ModelOutput):\n",
    "    loss: Optional[torch.FloatTensor] = None\n",
    "    logits: torch.FloatTensor = None\n",
    "    hidden_states: Optional[Tuple[torch.FloatTensor]] = None\n",
    "    attentions: Optional[Tuple[torch.FloatTensor]] = None"
   ]
  },
  {
   "cell_type": "code",
   "execution_count": 4,
   "metadata": {},
   "outputs": [],
   "source": [
    "import torch\n",
    "import torch.nn as nn\n",
    "from torch.nn import BCEWithLogitsLoss, CrossEntropyLoss, MSELoss\n",
    "\n",
    "from transformers.models.wav2vec2.modeling_wav2vec2 import (\n",
    "    Wav2Vec2PreTrainedModel,\n",
    "    Wav2Vec2Model\n",
    ")\n",
    "\n",
    "class Wav2Vec2ClassificationHead(nn.Module):\n",
    "    \"\"\"Head for wav2vec classification task.\"\"\"\n",
    "\n",
    "    def __init__(self, config):\n",
    "        super().__init__()\n",
    "        self.dense = nn.Linear(config.hidden_size, config.hidden_size)\n",
    "        self.dropout = nn.Dropout(config.final_dropout)\n",
    "        self.out_proj = nn.Linear(config.hidden_size, config.num_labels)\n",
    "\n",
    "    def forward(self, features, **kwargs):\n",
    "        x = features\n",
    "        x = self.dropout(x)\n",
    "        x = self.dense(x)\n",
    "        x = torch.tanh(x)\n",
    "        x = self.dropout(x)\n",
    "        print('----------------------------')\n",
    "        print(x)\n",
    "        print(x.shape)\n",
    "        print('----------------------------')\n",
    "        x = self.out_proj(x)\n",
    "        return x\n",
    "\n",
    "\n",
    "class Wav2Vec2ForSpeechClassification(Wav2Vec2PreTrainedModel):\n",
    "    def __init__(self, config):\n",
    "        super().__init__(config)\n",
    "        self.num_labels = config.num_labels\n",
    "        self.pooling_mode = config.pooling_mode\n",
    "        self.config = config\n",
    "\n",
    "        self.wav2vec2 = Wav2Vec2Model(config)\n",
    "        self.classifier = Wav2Vec2ClassificationHead(config)\n",
    "\n",
    "        self.init_weights()\n",
    "\n",
    "    def freeze_feature_extractor(self):\n",
    "        self.wav2vec2.feature_extractor._freeze_parameters()\n",
    "\n",
    "    def merged_strategy(self, hidden_states, mode=\"mean\"):\n",
    "        if mode == \"mean\":\n",
    "            outputs = torch.mean(hidden_states, dim=1)\n",
    "        elif mode == \"sum\":\n",
    "            outputs = torch.sum(hidden_states, dim=1)\n",
    "        elif mode == \"max\":\n",
    "            outputs = torch.max(hidden_states, dim=1)[0]\n",
    "        else:\n",
    "            raise Exception(\"The pooling method hasn't been defined! Your pooling mode must be one of these ['mean', 'sum', 'max']\")\n",
    "\n",
    "        return outputs\n",
    "\n",
    "    def forward(\n",
    "            self,\n",
    "            input_values,\n",
    "            attention_mask=None,\n",
    "            output_attentions=None,\n",
    "            output_hidden_states=None,\n",
    "            return_dict=None,\n",
    "            labels=None,\n",
    "    ):\n",
    "        return_dict = return_dict if return_dict is not None else self.config.use_return_dict\n",
    "        outputs = self.wav2vec2(\n",
    "            input_values,\n",
    "            attention_mask=attention_mask,\n",
    "            output_attentions=output_attentions,\n",
    "            output_hidden_states=output_hidden_states,\n",
    "            return_dict=return_dict,\n",
    "        )\n",
    "        hidden_states = outputs[0]\n",
    "        hidden_states = self.merged_strategy(hidden_states, mode=self.pooling_mode)\n",
    "        logits = self.classifier(hidden_states)\n",
    "\n",
    "        loss = None\n",
    "        if labels is not None:\n",
    "            if self.config.problem_type is None:\n",
    "                if self.num_labels == 1:\n",
    "                    self.config.problem_type = \"regression\"\n",
    "                elif self.num_labels > 1 and (labels.dtype == torch.long or labels.dtype == torch.int):\n",
    "                    self.config.problem_type = \"single_label_classification\"\n",
    "                else:\n",
    "                    self.config.problem_type = \"multi_label_classification\"\n",
    "\n",
    "            if self.config.problem_type == \"regression\":\n",
    "                loss_fct = MSELoss()\n",
    "                loss = loss_fct(logits.view(-1, self.num_labels), labels)\n",
    "            elif self.config.problem_type == \"single_label_classification\":\n",
    "                loss_fct = CrossEntropyLoss()\n",
    "                loss = loss_fct(logits.view(-1, self.num_labels), labels.view(-1))\n",
    "            elif self.config.problem_type == \"multi_label_classification\":\n",
    "                loss_fct = BCEWithLogitsLoss()\n",
    "                loss = loss_fct(logits, labels)\n",
    "\n",
    "        if not return_dict:\n",
    "            output = (logits,) + outputs[2:]\n",
    "            return ((loss,) + output) if loss is not None else output\n",
    "\n",
    "        return SpeechClassifierOutput(\n",
    "            loss=loss,\n",
    "            logits=logits,\n",
    "            hidden_states=outputs.hidden_states,\n",
    "            attentions=outputs.attentions,\n",
    "        )"
   ]
  },
  {
   "cell_type": "code",
   "execution_count": 6,
   "metadata": {
    "id": "DocavTvQWIr_"
   },
   "outputs": [],
   "source": [
    "device = torch.device(\"cuda\" if torch.cuda.is_available() else \"cpu\")\n",
    "# model_name_or_path = \"/mnt/data/aman/mayank/MTP/mount_points/jan_19/Error-Driven-ASR-Personalization/MCV_accent/data/dristi_accent-recognition/checkpoint-6400/\"\n",
    "model_name_or_path = \"/home/mayank/MTP/begin_again/Error-Driven-ASR-Personalization/MCV_accent/data/w2v2-accent-recognition-lite/checkpoint-6400/\"\n",
    "config = AutoConfig.from_pretrained(model_name_or_path)\n",
    "processor = Wav2Vec2Processor.from_pretrained(model_name_or_path)\n",
    "sampling_rate = processor.feature_extractor.sampling_rate\n",
    "model = Wav2Vec2ForSpeechClassification.from_pretrained(model_name_or_path).to(device)"
   ]
  },
  {
   "cell_type": "code",
   "execution_count": 7,
   "metadata": {
    "collapsed": true
   },
   "outputs": [
    {
     "name": "stdout",
     "output_type": "stream",
     "text": [
      "Model's state_dict:\n",
      "wav2vec2.masked_spec_embed \t torch.Size([768])\n",
      "wav2vec2.feature_extractor.conv_layers.0.conv.weight \t torch.Size([512, 1, 10])\n",
      "wav2vec2.feature_extractor.conv_layers.0.layer_norm.weight \t torch.Size([512])\n",
      "wav2vec2.feature_extractor.conv_layers.0.layer_norm.bias \t torch.Size([512])\n",
      "wav2vec2.feature_extractor.conv_layers.1.conv.weight \t torch.Size([512, 512, 3])\n",
      "wav2vec2.feature_extractor.conv_layers.2.conv.weight \t torch.Size([512, 512, 3])\n",
      "wav2vec2.feature_extractor.conv_layers.3.conv.weight \t torch.Size([512, 512, 3])\n",
      "wav2vec2.feature_extractor.conv_layers.4.conv.weight \t torch.Size([512, 512, 3])\n",
      "wav2vec2.feature_extractor.conv_layers.5.conv.weight \t torch.Size([512, 512, 2])\n",
      "wav2vec2.feature_extractor.conv_layers.6.conv.weight \t torch.Size([512, 512, 2])\n",
      "wav2vec2.feature_projection.layer_norm.weight \t torch.Size([512])\n",
      "wav2vec2.feature_projection.layer_norm.bias \t torch.Size([512])\n",
      "wav2vec2.feature_projection.projection.weight \t torch.Size([768, 512])\n",
      "wav2vec2.feature_projection.projection.bias \t torch.Size([768])\n",
      "wav2vec2.encoder.pos_conv_embed.conv.bias \t torch.Size([768])\n",
      "wav2vec2.encoder.pos_conv_embed.conv.weight_g \t torch.Size([1, 1, 128])\n",
      "wav2vec2.encoder.pos_conv_embed.conv.weight_v \t torch.Size([768, 48, 128])\n",
      "wav2vec2.encoder.layer_norm.weight \t torch.Size([768])\n",
      "wav2vec2.encoder.layer_norm.bias \t torch.Size([768])\n",
      "wav2vec2.encoder.layers.0.attention.k_proj.weight \t torch.Size([768, 768])\n",
      "wav2vec2.encoder.layers.0.attention.k_proj.bias \t torch.Size([768])\n",
      "wav2vec2.encoder.layers.0.attention.v_proj.weight \t torch.Size([768, 768])\n",
      "wav2vec2.encoder.layers.0.attention.v_proj.bias \t torch.Size([768])\n",
      "wav2vec2.encoder.layers.0.attention.q_proj.weight \t torch.Size([768, 768])\n",
      "wav2vec2.encoder.layers.0.attention.q_proj.bias \t torch.Size([768])\n",
      "wav2vec2.encoder.layers.0.attention.out_proj.weight \t torch.Size([768, 768])\n",
      "wav2vec2.encoder.layers.0.attention.out_proj.bias \t torch.Size([768])\n",
      "wav2vec2.encoder.layers.0.layer_norm.weight \t torch.Size([768])\n",
      "wav2vec2.encoder.layers.0.layer_norm.bias \t torch.Size([768])\n",
      "wav2vec2.encoder.layers.0.feed_forward.intermediate_dense.weight \t torch.Size([3072, 768])\n",
      "wav2vec2.encoder.layers.0.feed_forward.intermediate_dense.bias \t torch.Size([3072])\n",
      "wav2vec2.encoder.layers.0.feed_forward.output_dense.weight \t torch.Size([768, 3072])\n",
      "wav2vec2.encoder.layers.0.feed_forward.output_dense.bias \t torch.Size([768])\n",
      "wav2vec2.encoder.layers.0.final_layer_norm.weight \t torch.Size([768])\n",
      "wav2vec2.encoder.layers.0.final_layer_norm.bias \t torch.Size([768])\n",
      "wav2vec2.encoder.layers.1.attention.k_proj.weight \t torch.Size([768, 768])\n",
      "wav2vec2.encoder.layers.1.attention.k_proj.bias \t torch.Size([768])\n",
      "wav2vec2.encoder.layers.1.attention.v_proj.weight \t torch.Size([768, 768])\n",
      "wav2vec2.encoder.layers.1.attention.v_proj.bias \t torch.Size([768])\n",
      "wav2vec2.encoder.layers.1.attention.q_proj.weight \t torch.Size([768, 768])\n",
      "wav2vec2.encoder.layers.1.attention.q_proj.bias \t torch.Size([768])\n",
      "wav2vec2.encoder.layers.1.attention.out_proj.weight \t torch.Size([768, 768])\n",
      "wav2vec2.encoder.layers.1.attention.out_proj.bias \t torch.Size([768])\n",
      "wav2vec2.encoder.layers.1.layer_norm.weight \t torch.Size([768])\n",
      "wav2vec2.encoder.layers.1.layer_norm.bias \t torch.Size([768])\n",
      "wav2vec2.encoder.layers.1.feed_forward.intermediate_dense.weight \t torch.Size([3072, 768])\n",
      "wav2vec2.encoder.layers.1.feed_forward.intermediate_dense.bias \t torch.Size([3072])\n",
      "wav2vec2.encoder.layers.1.feed_forward.output_dense.weight \t torch.Size([768, 3072])\n",
      "wav2vec2.encoder.layers.1.feed_forward.output_dense.bias \t torch.Size([768])\n",
      "wav2vec2.encoder.layers.1.final_layer_norm.weight \t torch.Size([768])\n",
      "wav2vec2.encoder.layers.1.final_layer_norm.bias \t torch.Size([768])\n",
      "wav2vec2.encoder.layers.2.attention.k_proj.weight \t torch.Size([768, 768])\n",
      "wav2vec2.encoder.layers.2.attention.k_proj.bias \t torch.Size([768])\n",
      "wav2vec2.encoder.layers.2.attention.v_proj.weight \t torch.Size([768, 768])\n",
      "wav2vec2.encoder.layers.2.attention.v_proj.bias \t torch.Size([768])\n",
      "wav2vec2.encoder.layers.2.attention.q_proj.weight \t torch.Size([768, 768])\n",
      "wav2vec2.encoder.layers.2.attention.q_proj.bias \t torch.Size([768])\n",
      "wav2vec2.encoder.layers.2.attention.out_proj.weight \t torch.Size([768, 768])\n",
      "wav2vec2.encoder.layers.2.attention.out_proj.bias \t torch.Size([768])\n",
      "wav2vec2.encoder.layers.2.layer_norm.weight \t torch.Size([768])\n",
      "wav2vec2.encoder.layers.2.layer_norm.bias \t torch.Size([768])\n",
      "wav2vec2.encoder.layers.2.feed_forward.intermediate_dense.weight \t torch.Size([3072, 768])\n",
      "wav2vec2.encoder.layers.2.feed_forward.intermediate_dense.bias \t torch.Size([3072])\n",
      "wav2vec2.encoder.layers.2.feed_forward.output_dense.weight \t torch.Size([768, 3072])\n",
      "wav2vec2.encoder.layers.2.feed_forward.output_dense.bias \t torch.Size([768])\n",
      "wav2vec2.encoder.layers.2.final_layer_norm.weight \t torch.Size([768])\n",
      "wav2vec2.encoder.layers.2.final_layer_norm.bias \t torch.Size([768])\n",
      "wav2vec2.encoder.layers.3.attention.k_proj.weight \t torch.Size([768, 768])\n",
      "wav2vec2.encoder.layers.3.attention.k_proj.bias \t torch.Size([768])\n",
      "wav2vec2.encoder.layers.3.attention.v_proj.weight \t torch.Size([768, 768])\n",
      "wav2vec2.encoder.layers.3.attention.v_proj.bias \t torch.Size([768])\n",
      "wav2vec2.encoder.layers.3.attention.q_proj.weight \t torch.Size([768, 768])\n",
      "wav2vec2.encoder.layers.3.attention.q_proj.bias \t torch.Size([768])\n",
      "wav2vec2.encoder.layers.3.attention.out_proj.weight \t torch.Size([768, 768])\n",
      "wav2vec2.encoder.layers.3.attention.out_proj.bias \t torch.Size([768])\n",
      "wav2vec2.encoder.layers.3.layer_norm.weight \t torch.Size([768])\n",
      "wav2vec2.encoder.layers.3.layer_norm.bias \t torch.Size([768])\n",
      "wav2vec2.encoder.layers.3.feed_forward.intermediate_dense.weight \t torch.Size([3072, 768])\n",
      "wav2vec2.encoder.layers.3.feed_forward.intermediate_dense.bias \t torch.Size([3072])\n",
      "wav2vec2.encoder.layers.3.feed_forward.output_dense.weight \t torch.Size([768, 3072])\n",
      "wav2vec2.encoder.layers.3.feed_forward.output_dense.bias \t torch.Size([768])\n",
      "wav2vec2.encoder.layers.3.final_layer_norm.weight \t torch.Size([768])\n",
      "wav2vec2.encoder.layers.3.final_layer_norm.bias \t torch.Size([768])\n",
      "wav2vec2.encoder.layers.4.attention.k_proj.weight \t torch.Size([768, 768])\n",
      "wav2vec2.encoder.layers.4.attention.k_proj.bias \t torch.Size([768])\n",
      "wav2vec2.encoder.layers.4.attention.v_proj.weight \t torch.Size([768, 768])\n",
      "wav2vec2.encoder.layers.4.attention.v_proj.bias \t torch.Size([768])\n",
      "wav2vec2.encoder.layers.4.attention.q_proj.weight \t torch.Size([768, 768])\n",
      "wav2vec2.encoder.layers.4.attention.q_proj.bias \t torch.Size([768])\n",
      "wav2vec2.encoder.layers.4.attention.out_proj.weight \t torch.Size([768, 768])\n",
      "wav2vec2.encoder.layers.4.attention.out_proj.bias \t torch.Size([768])\n",
      "wav2vec2.encoder.layers.4.layer_norm.weight \t torch.Size([768])\n",
      "wav2vec2.encoder.layers.4.layer_norm.bias \t torch.Size([768])\n",
      "wav2vec2.encoder.layers.4.feed_forward.intermediate_dense.weight \t torch.Size([3072, 768])\n",
      "wav2vec2.encoder.layers.4.feed_forward.intermediate_dense.bias \t torch.Size([3072])\n",
      "wav2vec2.encoder.layers.4.feed_forward.output_dense.weight \t torch.Size([768, 3072])\n",
      "wav2vec2.encoder.layers.4.feed_forward.output_dense.bias \t torch.Size([768])\n",
      "wav2vec2.encoder.layers.4.final_layer_norm.weight \t torch.Size([768])\n",
      "wav2vec2.encoder.layers.4.final_layer_norm.bias \t torch.Size([768])\n",
      "wav2vec2.encoder.layers.5.attention.k_proj.weight \t torch.Size([768, 768])\n",
      "wav2vec2.encoder.layers.5.attention.k_proj.bias \t torch.Size([768])\n",
      "wav2vec2.encoder.layers.5.attention.v_proj.weight \t torch.Size([768, 768])\n",
      "wav2vec2.encoder.layers.5.attention.v_proj.bias \t torch.Size([768])\n",
      "wav2vec2.encoder.layers.5.attention.q_proj.weight \t torch.Size([768, 768])\n",
      "wav2vec2.encoder.layers.5.attention.q_proj.bias \t torch.Size([768])\n",
      "wav2vec2.encoder.layers.5.attention.out_proj.weight \t torch.Size([768, 768])\n",
      "wav2vec2.encoder.layers.5.attention.out_proj.bias \t torch.Size([768])\n",
      "wav2vec2.encoder.layers.5.layer_norm.weight \t torch.Size([768])\n",
      "wav2vec2.encoder.layers.5.layer_norm.bias \t torch.Size([768])\n",
      "wav2vec2.encoder.layers.5.feed_forward.intermediate_dense.weight \t torch.Size([3072, 768])\n",
      "wav2vec2.encoder.layers.5.feed_forward.intermediate_dense.bias \t torch.Size([3072])\n",
      "wav2vec2.encoder.layers.5.feed_forward.output_dense.weight \t torch.Size([768, 3072])\n",
      "wav2vec2.encoder.layers.5.feed_forward.output_dense.bias \t torch.Size([768])\n",
      "wav2vec2.encoder.layers.5.final_layer_norm.weight \t torch.Size([768])\n",
      "wav2vec2.encoder.layers.5.final_layer_norm.bias \t torch.Size([768])\n",
      "wav2vec2.encoder.layers.6.attention.k_proj.weight \t torch.Size([768, 768])\n",
      "wav2vec2.encoder.layers.6.attention.k_proj.bias \t torch.Size([768])\n",
      "wav2vec2.encoder.layers.6.attention.v_proj.weight \t torch.Size([768, 768])\n",
      "wav2vec2.encoder.layers.6.attention.v_proj.bias \t torch.Size([768])\n",
      "wav2vec2.encoder.layers.6.attention.q_proj.weight \t torch.Size([768, 768])\n",
      "wav2vec2.encoder.layers.6.attention.q_proj.bias \t torch.Size([768])\n",
      "wav2vec2.encoder.layers.6.attention.out_proj.weight \t torch.Size([768, 768])\n",
      "wav2vec2.encoder.layers.6.attention.out_proj.bias \t torch.Size([768])\n",
      "wav2vec2.encoder.layers.6.layer_norm.weight \t torch.Size([768])\n",
      "wav2vec2.encoder.layers.6.layer_norm.bias \t torch.Size([768])\n",
      "wav2vec2.encoder.layers.6.feed_forward.intermediate_dense.weight \t torch.Size([3072, 768])\n",
      "wav2vec2.encoder.layers.6.feed_forward.intermediate_dense.bias \t torch.Size([3072])\n",
      "wav2vec2.encoder.layers.6.feed_forward.output_dense.weight \t torch.Size([768, 3072])\n",
      "wav2vec2.encoder.layers.6.feed_forward.output_dense.bias \t torch.Size([768])\n",
      "wav2vec2.encoder.layers.6.final_layer_norm.weight \t torch.Size([768])\n",
      "wav2vec2.encoder.layers.6.final_layer_norm.bias \t torch.Size([768])\n",
      "wav2vec2.encoder.layers.7.attention.k_proj.weight \t torch.Size([768, 768])\n",
      "wav2vec2.encoder.layers.7.attention.k_proj.bias \t torch.Size([768])\n",
      "wav2vec2.encoder.layers.7.attention.v_proj.weight \t torch.Size([768, 768])\n",
      "wav2vec2.encoder.layers.7.attention.v_proj.bias \t torch.Size([768])\n",
      "wav2vec2.encoder.layers.7.attention.q_proj.weight \t torch.Size([768, 768])\n",
      "wav2vec2.encoder.layers.7.attention.q_proj.bias \t torch.Size([768])\n"
     ]
    },
    {
     "name": "stdout",
     "output_type": "stream",
     "text": [
      "wav2vec2.encoder.layers.7.attention.out_proj.weight \t torch.Size([768, 768])\n",
      "wav2vec2.encoder.layers.7.attention.out_proj.bias \t torch.Size([768])\n",
      "wav2vec2.encoder.layers.7.layer_norm.weight \t torch.Size([768])\n",
      "wav2vec2.encoder.layers.7.layer_norm.bias \t torch.Size([768])\n",
      "wav2vec2.encoder.layers.7.feed_forward.intermediate_dense.weight \t torch.Size([3072, 768])\n",
      "wav2vec2.encoder.layers.7.feed_forward.intermediate_dense.bias \t torch.Size([3072])\n",
      "wav2vec2.encoder.layers.7.feed_forward.output_dense.weight \t torch.Size([768, 3072])\n",
      "wav2vec2.encoder.layers.7.feed_forward.output_dense.bias \t torch.Size([768])\n",
      "wav2vec2.encoder.layers.7.final_layer_norm.weight \t torch.Size([768])\n",
      "wav2vec2.encoder.layers.7.final_layer_norm.bias \t torch.Size([768])\n",
      "wav2vec2.encoder.layers.8.attention.k_proj.weight \t torch.Size([768, 768])\n",
      "wav2vec2.encoder.layers.8.attention.k_proj.bias \t torch.Size([768])\n",
      "wav2vec2.encoder.layers.8.attention.v_proj.weight \t torch.Size([768, 768])\n",
      "wav2vec2.encoder.layers.8.attention.v_proj.bias \t torch.Size([768])\n",
      "wav2vec2.encoder.layers.8.attention.q_proj.weight \t torch.Size([768, 768])\n",
      "wav2vec2.encoder.layers.8.attention.q_proj.bias \t torch.Size([768])\n",
      "wav2vec2.encoder.layers.8.attention.out_proj.weight \t torch.Size([768, 768])\n",
      "wav2vec2.encoder.layers.8.attention.out_proj.bias \t torch.Size([768])\n",
      "wav2vec2.encoder.layers.8.layer_norm.weight \t torch.Size([768])\n",
      "wav2vec2.encoder.layers.8.layer_norm.bias \t torch.Size([768])\n",
      "wav2vec2.encoder.layers.8.feed_forward.intermediate_dense.weight \t torch.Size([3072, 768])\n",
      "wav2vec2.encoder.layers.8.feed_forward.intermediate_dense.bias \t torch.Size([3072])\n",
      "wav2vec2.encoder.layers.8.feed_forward.output_dense.weight \t torch.Size([768, 3072])\n",
      "wav2vec2.encoder.layers.8.feed_forward.output_dense.bias \t torch.Size([768])\n",
      "wav2vec2.encoder.layers.8.final_layer_norm.weight \t torch.Size([768])\n",
      "wav2vec2.encoder.layers.8.final_layer_norm.bias \t torch.Size([768])\n",
      "wav2vec2.encoder.layers.9.attention.k_proj.weight \t torch.Size([768, 768])\n",
      "wav2vec2.encoder.layers.9.attention.k_proj.bias \t torch.Size([768])\n",
      "wav2vec2.encoder.layers.9.attention.v_proj.weight \t torch.Size([768, 768])\n",
      "wav2vec2.encoder.layers.9.attention.v_proj.bias \t torch.Size([768])\n",
      "wav2vec2.encoder.layers.9.attention.q_proj.weight \t torch.Size([768, 768])\n",
      "wav2vec2.encoder.layers.9.attention.q_proj.bias \t torch.Size([768])\n",
      "wav2vec2.encoder.layers.9.attention.out_proj.weight \t torch.Size([768, 768])\n",
      "wav2vec2.encoder.layers.9.attention.out_proj.bias \t torch.Size([768])\n",
      "wav2vec2.encoder.layers.9.layer_norm.weight \t torch.Size([768])\n",
      "wav2vec2.encoder.layers.9.layer_norm.bias \t torch.Size([768])\n",
      "wav2vec2.encoder.layers.9.feed_forward.intermediate_dense.weight \t torch.Size([3072, 768])\n",
      "wav2vec2.encoder.layers.9.feed_forward.intermediate_dense.bias \t torch.Size([3072])\n",
      "wav2vec2.encoder.layers.9.feed_forward.output_dense.weight \t torch.Size([768, 3072])\n",
      "wav2vec2.encoder.layers.9.feed_forward.output_dense.bias \t torch.Size([768])\n",
      "wav2vec2.encoder.layers.9.final_layer_norm.weight \t torch.Size([768])\n",
      "wav2vec2.encoder.layers.9.final_layer_norm.bias \t torch.Size([768])\n",
      "wav2vec2.encoder.layers.10.attention.k_proj.weight \t torch.Size([768, 768])\n",
      "wav2vec2.encoder.layers.10.attention.k_proj.bias \t torch.Size([768])\n",
      "wav2vec2.encoder.layers.10.attention.v_proj.weight \t torch.Size([768, 768])\n",
      "wav2vec2.encoder.layers.10.attention.v_proj.bias \t torch.Size([768])\n",
      "wav2vec2.encoder.layers.10.attention.q_proj.weight \t torch.Size([768, 768])\n",
      "wav2vec2.encoder.layers.10.attention.q_proj.bias \t torch.Size([768])\n",
      "wav2vec2.encoder.layers.10.attention.out_proj.weight \t torch.Size([768, 768])\n",
      "wav2vec2.encoder.layers.10.attention.out_proj.bias \t torch.Size([768])\n",
      "wav2vec2.encoder.layers.10.layer_norm.weight \t torch.Size([768])\n",
      "wav2vec2.encoder.layers.10.layer_norm.bias \t torch.Size([768])\n",
      "wav2vec2.encoder.layers.10.feed_forward.intermediate_dense.weight \t torch.Size([3072, 768])\n",
      "wav2vec2.encoder.layers.10.feed_forward.intermediate_dense.bias \t torch.Size([3072])\n",
      "wav2vec2.encoder.layers.10.feed_forward.output_dense.weight \t torch.Size([768, 3072])\n",
      "wav2vec2.encoder.layers.10.feed_forward.output_dense.bias \t torch.Size([768])\n",
      "wav2vec2.encoder.layers.10.final_layer_norm.weight \t torch.Size([768])\n",
      "wav2vec2.encoder.layers.10.final_layer_norm.bias \t torch.Size([768])\n",
      "wav2vec2.encoder.layers.11.attention.k_proj.weight \t torch.Size([768, 768])\n",
      "wav2vec2.encoder.layers.11.attention.k_proj.bias \t torch.Size([768])\n",
      "wav2vec2.encoder.layers.11.attention.v_proj.weight \t torch.Size([768, 768])\n",
      "wav2vec2.encoder.layers.11.attention.v_proj.bias \t torch.Size([768])\n",
      "wav2vec2.encoder.layers.11.attention.q_proj.weight \t torch.Size([768, 768])\n",
      "wav2vec2.encoder.layers.11.attention.q_proj.bias \t torch.Size([768])\n",
      "wav2vec2.encoder.layers.11.attention.out_proj.weight \t torch.Size([768, 768])\n",
      "wav2vec2.encoder.layers.11.attention.out_proj.bias \t torch.Size([768])\n",
      "wav2vec2.encoder.layers.11.layer_norm.weight \t torch.Size([768])\n",
      "wav2vec2.encoder.layers.11.layer_norm.bias \t torch.Size([768])\n",
      "wav2vec2.encoder.layers.11.feed_forward.intermediate_dense.weight \t torch.Size([3072, 768])\n",
      "wav2vec2.encoder.layers.11.feed_forward.intermediate_dense.bias \t torch.Size([3072])\n",
      "wav2vec2.encoder.layers.11.feed_forward.output_dense.weight \t torch.Size([768, 3072])\n",
      "wav2vec2.encoder.layers.11.feed_forward.output_dense.bias \t torch.Size([768])\n",
      "wav2vec2.encoder.layers.11.final_layer_norm.weight \t torch.Size([768])\n",
      "wav2vec2.encoder.layers.11.final_layer_norm.bias \t torch.Size([768])\n",
      "classifier.dense.weight \t torch.Size([768, 768])\n",
      "classifier.dense.bias \t torch.Size([768])\n",
      "classifier.out_proj.weight \t torch.Size([16, 768])\n",
      "classifier.out_proj.bias \t torch.Size([16])\n"
     ]
    }
   ],
   "source": [
    "print(\"Model's state_dict:\")\n",
    "for param_tensor in model.state_dict():\n",
    "    print(param_tensor, \"\\t\", model.state_dict()[param_tensor].size())"
   ]
  },
  {
   "cell_type": "code",
   "execution_count": 8,
   "metadata": {},
   "outputs": [
    {
     "data": {
      "text/plain": [
       "Linear(in_features=768, out_features=768, bias=True)"
      ]
     },
     "execution_count": 8,
     "metadata": {},
     "output_type": "execute_result"
    }
   ],
   "source": [
    "model.classifier.dense"
   ]
  },
  {
   "cell_type": "code",
   "execution_count": null,
   "metadata": {},
   "outputs": [],
   "source": []
  },
  {
   "cell_type": "code",
   "execution_count": 13,
   "metadata": {
    "id": "1SSs95o9WIvK"
   },
   "outputs": [],
   "source": [
    "def speech_file_to_array_fn(path, sampling_rate):\n",
    "    speech_array, _sampling_rate = torchaudio.load(path)\n",
    "    resampler = torchaudio.transforms.Resample(_sampling_rate)\n",
    "    speech = resampler(speech_array).squeeze().numpy()\n",
    "    return speech\n",
    "\n",
    "\n",
    "def predict(path, sampling_rate):\n",
    "    speech = speech_file_to_array_fn(path, sampling_rate)\n",
    "    features = processor(speech, sampling_rate=sampling_rate, return_tensors=\"pt\", padding=True)\n",
    "\n",
    "    input_values = features.input_values.to(device)\n",
    "#     attention_mask = features.attention_mask.to(device)\n",
    "#### just trying ####\n",
    "    attention_mask = None\n",
    "#### just trying ####\n",
    "\n",
    "    with torch.no_grad():\n",
    "        logits = model(input_values, attention_mask=attention_mask).logits\n",
    "\n",
    "    scores = F.softmax(logits, dim=1).detach().cpu().numpy()[0]\n",
    "    outputs = [{\"Accent\": config.id2label[i], \"Score\": f\"{round(score * 100, 3):.1f}%\"} for i, score in enumerate(scores)]\n",
    "    return outputs\n",
    "\n",
    "\n",
    "STYLES = \"\"\"\n",
    "<style>\n",
    "div.display_data {\n",
    "    margin: 0 auto;\n",
    "    max-width: 500px;\n",
    "}\n",
    "table.xxx {\n",
    "    margin: 50px !important;\n",
    "    float: right !important;\n",
    "    clear: both !important;\n",
    "}\n",
    "table.xxx td {\n",
    "    min-width: 300px !important;\n",
    "    text-align: center !important;\n",
    "}\n",
    "</style>\n",
    "\"\"\".strip()\n",
    "\n",
    "def prediction(df_row):\n",
    "    path, accent = df_row[\"path\"], df_row[\"accent\"]\n",
    "    df = pd.DataFrame([{\"Accent\": accent, \"Sentence\": \"    \"}])\n",
    "    setup = {\n",
    "        'border': 2,\n",
    "        'show_dimensions': True,\n",
    "        'justify': 'center',\n",
    "        'classes': 'xxx',\n",
    "        'escape': False,\n",
    "    }\n",
    "    ipd.display(ipd.HTML(STYLES + df.to_html(**setup) + \"<br />\"))\n",
    "    speech, sr = torchaudio.load(path)\n",
    "    speech = speech[0].numpy().squeeze()\n",
    "    speech = librosa.resample(np.asarray(speech), sr, sampling_rate)\n",
    "    ipd.display(ipd.Audio(data=np.asarray(speech), autoplay=True, rate=sampling_rate))\n",
    "\n",
    "    outputs = predict(path, sampling_rate)\n",
    "    r = pd.DataFrame(outputs)\n",
    "    ipd.display(ipd.HTML(STYLES + r.to_html(**setup) + \"<br />\"))"
   ]
  },
  {
   "cell_type": "code",
   "execution_count": 14,
   "metadata": {
    "id": "UD7oUP20YwYT"
   },
   "outputs": [
    {
     "data": {
      "text/html": [
       "<div>\n",
       "<style scoped>\n",
       "    .dataframe tbody tr th:only-of-type {\n",
       "        vertical-align: middle;\n",
       "    }\n",
       "\n",
       "    .dataframe tbody tr th {\n",
       "        vertical-align: top;\n",
       "    }\n",
       "\n",
       "    .dataframe thead th {\n",
       "        text-align: right;\n",
       "    }\n",
       "</style>\n",
       "<table border=\"1\" class=\"dataframe\">\n",
       "  <thead>\n",
       "    <tr style=\"text-align: right;\">\n",
       "      <th></th>\n",
       "      <th>name</th>\n",
       "      <th>path</th>\n",
       "      <th>accent</th>\n",
       "    </tr>\n",
       "  </thead>\n",
       "  <tbody>\n",
       "    <tr>\n",
       "      <th>0</th>\n",
       "      <td>common_voice_en_37020</td>\n",
       "      <td>/home/mayank/MTP/begin_again/Error-Driven-ASR-...</td>\n",
       "      <td>wales</td>\n",
       "    </tr>\n",
       "    <tr>\n",
       "      <th>1</th>\n",
       "      <td>common_voice_en_19046599</td>\n",
       "      <td>/home/mayank/MTP/begin_again/Error-Driven-ASR-...</td>\n",
       "      <td>ireland</td>\n",
       "    </tr>\n",
       "    <tr>\n",
       "      <th>2</th>\n",
       "      <td>common_voice_en_17581289</td>\n",
       "      <td>/home/mayank/MTP/begin_again/Error-Driven-ASR-...</td>\n",
       "      <td>bermuda</td>\n",
       "    </tr>\n",
       "    <tr>\n",
       "      <th>3</th>\n",
       "      <td>common_voice_en_18558116</td>\n",
       "      <td>/home/mayank/MTP/begin_again/Error-Driven-ASR-...</td>\n",
       "      <td>us</td>\n",
       "    </tr>\n",
       "    <tr>\n",
       "      <th>4</th>\n",
       "      <td>common_voice_en_24997856</td>\n",
       "      <td>/home/mayank/MTP/begin_again/Error-Driven-ASR-...</td>\n",
       "      <td>philippines</td>\n",
       "    </tr>\n",
       "  </tbody>\n",
       "</table>\n",
       "</div>"
      ],
      "text/plain": [
       "                       name  \\\n",
       "0     common_voice_en_37020   \n",
       "1  common_voice_en_19046599   \n",
       "2  common_voice_en_17581289   \n",
       "3  common_voice_en_18558116   \n",
       "4  common_voice_en_24997856   \n",
       "\n",
       "                                                path       accent  \n",
       "0  /home/mayank/MTP/begin_again/Error-Driven-ASR-...        wales  \n",
       "1  /home/mayank/MTP/begin_again/Error-Driven-ASR-...      ireland  \n",
       "2  /home/mayank/MTP/begin_again/Error-Driven-ASR-...      bermuda  \n",
       "3  /home/mayank/MTP/begin_again/Error-Driven-ASR-...           us  \n",
       "4  /home/mayank/MTP/begin_again/Error-Driven-ASR-...  philippines  "
      ]
     },
     "execution_count": 14,
     "metadata": {},
     "output_type": "execute_result"
    }
   ],
   "source": [
    "test = pd.read_csv(\"data/with_all_1k/test.csv\", sep=\"\\t\")\n",
    "test.head()"
   ]
  },
  {
   "cell_type": "code",
   "execution_count": 15,
   "metadata": {},
   "outputs": [
    {
     "data": {
      "text/plain": [
       "name                               common_voice_en_18558116\n",
       "path      /home/mayank/MTP/begin_again/Error-Driven-ASR-...\n",
       "accent                                                   us\n",
       "Name: 3, dtype: object"
      ]
     },
     "execution_count": 15,
     "metadata": {},
     "output_type": "execute_result"
    }
   ],
   "source": [
    "test.iloc[3]"
   ]
  },
  {
   "cell_type": "code",
   "execution_count": 18,
   "metadata": {
    "collapsed": true,
    "id": "FlJO2LfVWIyT"
   },
   "outputs": [
    {
     "data": {
      "text/html": [
       "<style>\n",
       "div.display_data {\n",
       "    margin: 0 auto;\n",
       "    max-width: 500px;\n",
       "}\n",
       "table.xxx {\n",
       "    margin: 50px !important;\n",
       "    float: right !important;\n",
       "    clear: both !important;\n",
       "}\n",
       "table.xxx td {\n",
       "    min-width: 300px !important;\n",
       "    text-align: center !important;\n",
       "}\n",
       "</style><table border=\"2\" class=\"dataframe xxx\">\n",
       "  <thead>\n",
       "    <tr style=\"text-align: center;\">\n",
       "      <th></th>\n",
       "      <th>Accent</th>\n",
       "      <th>Sentence</th>\n",
       "    </tr>\n",
       "  </thead>\n",
       "  <tbody>\n",
       "    <tr>\n",
       "      <th>0</th>\n",
       "      <td>us</td>\n",
       "      <td></td>\n",
       "    </tr>\n",
       "  </tbody>\n",
       "</table>\n",
       "<p>1 rows × 2 columns</p><br />"
      ],
      "text/plain": [
       "<IPython.core.display.HTML object>"
      ]
     },
     "metadata": {},
     "output_type": "display_data"
    },
    {
     "data": {
      "text/html": [
       "\n",
       "                <audio  controls=\"controls\" autoplay=\"autoplay\">\n",
       "                    <source src=\"data:audio/wav;base64,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\" type=\"audio/wav\" />\n",
       "                    Your browser does not support the audio element.\n",
       "                </audio>\n",
       "              "
      ],
      "text/plain": [
       "<IPython.lib.display.Audio object>"
      ]
     },
     "metadata": {},
     "output_type": "display_data"
    },
    {
     "name": "stdout",
     "output_type": "stream",
     "text": [
      "----------------------------\n",
      "tensor([[ 0.6380,  0.4538, -0.6216, -0.1487, -0.2259,  0.4072, -0.3208, -0.3406,\n",
      "         -0.0744,  0.4975,  0.6141, -0.6491, -0.7860,  0.7984, -0.0450,  0.7170,\n",
      "          0.3164, -0.8108,  0.2395,  0.9135, -0.8438, -0.6810,  0.3190, -0.7073,\n",
      "          0.4431,  0.6747, -0.8412, -0.8838,  0.3657, -0.6211, -0.5514,  0.5275,\n",
      "          0.1765, -0.2143,  0.0710, -0.3310,  0.3699, -0.5275,  0.4960, -0.0243,\n",
      "         -0.5171, -0.0187,  0.4351,  0.2703, -0.6955,  0.3754,  0.8166, -0.5852,\n",
      "         -0.3795, -0.5020, -0.0746, -0.7623,  0.5649,  0.1282, -0.5238,  0.5795,\n",
      "         -0.0567,  0.7104,  0.4449, -0.0055, -0.6379,  0.8639, -0.1471, -0.6576,\n",
      "          0.5014, -0.7628, -0.8134, -0.4666,  0.8642, -0.1523,  0.7685, -0.8991,\n",
      "          0.7981,  0.2253, -0.0217, -0.5101,  0.7464,  0.7537, -0.6667, -0.7466,\n",
      "         -0.6503, -0.0338, -0.6900, -0.2404,  0.6847, -0.6509,  0.2080, -0.3107,\n",
      "         -0.2071,  0.3492,  0.7795,  0.3154,  0.6850,  0.7272,  0.6920, -0.1145,\n",
      "         -0.7432, -0.6816,  0.8064, -0.8146,  0.5453,  0.2392,  0.6429, -0.2599,\n",
      "         -0.7268, -0.6127,  0.7659, -0.7188, -0.5089, -0.7548, -0.0471, -0.6353,\n",
      "         -0.2817, -0.6607,  0.6384,  0.2795,  0.4467,  0.5256, -0.2432,  0.7446,\n",
      "         -0.5149, -0.7423, -0.5625, -0.5553,  0.2044,  0.5065,  0.1818, -0.7972,\n",
      "          0.7651, -0.1759, -0.3690,  0.6208, -0.1129,  0.8566, -0.7131,  0.3504,\n",
      "         -0.6475,  0.6346, -0.6461,  0.5985, -0.7534, -0.4356, -0.2579,  0.6897,\n",
      "         -0.4566,  0.2134,  0.4518, -0.4597,  0.1128, -0.4533, -0.8339,  0.3759,\n",
      "         -0.8214, -0.3457, -0.2206,  0.8250, -0.7137,  0.0718, -0.6305,  0.3861,\n",
      "          0.4094, -0.5305,  0.7448, -0.7694,  0.8433, -0.5003,  0.8418, -0.1022,\n",
      "          0.0319,  0.0262, -0.5207,  0.8997, -0.2403, -0.5965,  0.7530,  0.0632,\n",
      "         -0.8849, -0.0081, -0.4535,  0.5490,  0.8451, -0.2894,  0.1958, -0.6568,\n",
      "         -0.8578,  0.7412,  0.7740,  0.7716,  0.4089, -0.5285, -0.7891, -0.7063,\n",
      "          0.5510, -0.6685,  0.6543,  0.7319,  0.5044, -0.6886, -0.2368, -0.4718,\n",
      "         -0.7130, -0.8350, -0.1909,  0.1459,  0.5869, -0.7286,  0.4748,  0.6589,\n",
      "          0.4527, -0.4914,  0.1439, -0.0255,  0.0290,  0.8571, -0.8730,  0.6946,\n",
      "         -0.8571, -0.5576,  0.3969, -0.1467,  0.5764, -0.6331,  0.7508, -0.3632,\n",
      "         -0.7157, -0.7945,  0.2297, -0.7700, -0.5213, -0.2929, -0.8817, -0.2781,\n",
      "          0.7119, -0.7246, -0.0458, -0.1847,  0.2526, -0.9086,  0.2212,  0.8364,\n",
      "          0.5110,  0.8978, -0.6927, -0.3751,  0.2326, -0.1078, -0.8844, -0.7876,\n",
      "         -0.3260,  0.5848,  0.6839, -0.7401,  0.5907, -0.7485,  0.7830,  0.7164,\n",
      "          0.2436, -0.8238,  0.7294,  0.7579, -0.5851, -0.2134,  0.6969, -0.7452,\n",
      "          0.2619, -0.4394, -0.7351, -0.1246,  0.5970,  0.5915, -0.6193, -0.5298,\n",
      "          0.7088,  0.6107, -0.7238,  0.7243, -0.5273,  0.3977,  0.8167,  0.6287,\n",
      "         -0.4400, -0.7698, -0.6843, -0.2453,  0.1438, -0.7156,  0.3954, -0.8209,\n",
      "          0.7462, -0.2630,  0.6496,  0.4720, -0.5911, -0.6546,  0.6104,  0.6218,\n",
      "          0.7080,  0.8363, -0.0085, -0.5623, -0.5814, -0.7609,  0.3731, -0.9015,\n",
      "          0.1918, -0.7768, -0.7960,  0.7073, -0.3221,  0.4917, -0.1469, -0.2489,\n",
      "         -0.5202,  0.5979, -0.3343, -0.1498,  0.7872, -0.2956,  0.8771, -0.5028,\n",
      "          0.8309, -0.8740,  0.4637, -0.8900,  0.6633,  0.2524,  0.8075, -0.2610,\n",
      "         -0.7135,  0.7699,  0.1765, -0.1850, -0.6378, -0.4747, -0.4145, -0.4188,\n",
      "         -0.8688,  0.8079,  0.8717, -0.5666,  0.1968, -0.7432,  0.5993,  0.3846,\n",
      "         -0.6492, -0.5913, -0.6762,  0.1043,  0.5075,  0.0952,  0.5380,  0.2037,\n",
      "         -0.2754,  0.7433,  0.9149, -0.4742,  0.6990, -0.7776,  0.7689, -0.5900,\n",
      "         -0.4516,  0.7028, -0.1738,  0.2313,  0.2569, -0.3842,  0.6193, -0.6386,\n",
      "         -0.8241,  0.6990, -0.5415, -0.0945,  0.7841, -0.6086,  0.0689,  0.1007,\n",
      "         -0.7875,  0.7162,  0.3429,  0.6775,  0.7093, -0.6350, -0.5387,  0.4469,\n",
      "         -0.0593, -0.7793, -0.6473, -0.0224,  0.7765, -0.1772, -0.7594, -0.7229,\n",
      "          0.2350,  0.7548, -0.5579,  0.0039, -0.6797,  0.4651, -0.5945,  0.6843,\n",
      "         -0.7206,  0.6959, -0.7047, -0.6924,  0.0194, -0.2626,  0.0771, -0.3235,\n",
      "          0.7874,  0.6679,  0.4070, -0.8373,  0.6512, -0.3350,  0.7121,  0.3123,\n",
      "         -0.0283,  0.6604, -0.5672, -0.8794,  0.4817, -0.4031, -0.4905,  0.5036,\n",
      "         -0.5225,  0.4000,  0.7469,  0.3124,  0.6934,  0.1907, -0.5806,  0.6869,\n",
      "          0.5076, -0.1657, -0.7191,  0.7786, -0.7967,  0.4113, -0.2780,  0.0572,\n",
      "         -0.4363,  0.6978,  0.7372, -0.2209,  0.4873,  0.8208, -0.8489,  0.0291,\n",
      "         -0.7672,  0.3057,  0.8664, -0.5625, -0.4886,  0.0024,  0.4391, -0.4450,\n",
      "          0.4791, -0.3103,  0.8435,  0.2933,  0.5030, -0.2711, -0.5255, -0.4750,\n",
      "         -0.7342, -0.0333,  0.4449, -0.4125,  0.3904,  0.2937, -0.8160, -0.7258,\n",
      "         -0.2058, -0.6560,  0.7493,  0.7176, -0.4401,  0.8200, -0.6282,  0.0073,\n",
      "         -0.2837, -0.1706, -0.8755,  0.5074,  0.4398,  0.7130,  0.7645, -0.3519,\n",
      "         -0.3717, -0.8040,  0.4315, -0.8747, -0.8236, -0.7660,  0.8558, -0.1670,\n",
      "         -0.2604, -0.9211,  0.6423, -0.7541,  0.6031,  0.6898,  0.5975,  0.1782,\n",
      "         -0.7582, -0.8237,  0.4917,  0.5906, -0.4611, -0.7768,  0.7310, -0.4050,\n",
      "         -0.7671, -0.6219,  0.0636,  0.3064, -0.2450,  0.7039,  0.8051,  0.5926,\n",
      "         -0.2958,  0.7111, -0.8331, -0.5357, -0.7731,  0.2546,  0.5580,  0.7544,\n",
      "          0.2107, -0.5782, -0.3170,  0.5947, -0.5611,  0.6054, -0.7365, -0.7564,\n",
      "         -0.3433,  0.5617, -0.1215, -0.1115, -0.4015,  0.6458,  0.7076, -0.5775,\n",
      "          0.8568, -0.2925,  0.5399, -0.4211,  0.1901,  0.7319,  0.5953,  0.5162,\n",
      "          0.5787, -0.7893, -0.0315,  0.2099,  0.5193, -0.5753,  0.3291, -0.6122,\n",
      "         -0.6240, -0.3724, -0.7993, -0.7530, -0.7794, -0.7283,  0.4740,  0.8292,\n",
      "         -0.5655, -0.6317, -0.6735,  0.6812, -0.7696, -0.4504, -0.8538,  0.4656,\n",
      "          0.5480, -0.6589,  0.3201, -0.6725,  0.7199,  0.0081,  0.0132,  0.8504,\n",
      "         -0.5950, -0.6146, -0.7460, -0.4282,  0.8039,  0.8915, -0.8808, -0.3642,\n",
      "          0.2307, -0.8403,  0.7298,  0.7499,  0.4393,  0.8543,  0.4598,  0.5297,\n",
      "          0.5901, -0.6941,  0.8606,  0.3981, -0.0444,  0.8164, -0.8368, -0.0977,\n",
      "         -0.6469, -0.0399,  0.8904, -0.4047, -0.1874, -0.3213,  0.7245, -0.8023,\n",
      "         -0.7120, -0.6976, -0.8228,  0.8731, -0.2432,  0.2448, -0.7011, -0.2812,\n",
      "          0.2353, -0.2824,  0.7729, -0.6451, -0.0916,  0.8636, -0.6853, -0.6349,\n",
      "          0.8056,  0.7876,  0.7523, -0.6450, -0.0422, -0.4972, -0.4806,  0.2591,\n",
      "         -0.4998, -0.7912, -0.6954, -0.7367,  0.1721,  0.5475,  0.8179,  0.4183,\n",
      "          0.7682, -0.2253, -0.5710,  0.8029, -0.7928, -0.3531,  0.7907, -0.8929,\n",
      "         -0.5032,  0.7763,  0.0606,  0.1861,  0.0168,  0.8786,  0.5498, -0.4187,\n",
      "         -0.8226, -0.6118, -0.1033,  0.6617,  0.2352,  0.9154, -0.3968, -0.1579,\n",
      "          0.8304,  0.5215, -0.5237,  0.4201,  0.7953, -0.0174,  0.0016,  0.7572,\n",
      "         -0.2451,  0.0020,  0.7882, -0.6272, -0.7186, -0.7027, -0.8347, -0.6385,\n",
      "          0.3037,  0.2468, -0.7065,  0.7864,  0.3993,  0.4516,  0.0290, -0.1930,\n",
      "          0.5206, -0.6572, -0.5509, -0.6815, -0.4836,  0.7502, -0.8480, -0.8284,\n",
      "         -0.2596,  0.3044,  0.4314,  0.8385, -0.6635,  0.2384, -0.2767, -0.4312,\n",
      "         -0.7922, -0.5588, -0.7245,  0.9110, -0.8440, -0.8960,  0.0859,  0.7190,\n",
      "         -0.8302, -0.6296,  0.7836, -0.5328, -0.3553, -0.5108, -0.7458, -0.3618,\n",
      "          0.5203, -0.6267, -0.2801,  0.8747,  0.7020,  0.3373, -0.2520,  0.8651,\n",
      "          0.8498,  0.2172,  0.1271,  0.6349, -0.4968,  0.7881, -0.8582,  0.8109,\n",
      "          0.8927,  0.9098,  0.4910, -0.5137, -0.5806,  0.3940, -0.6289,  0.2300,\n",
      "         -0.3362, -0.6761, -0.8427, -0.1736, -0.6330, -0.2074, -0.0450,  0.4801,\n",
      "         -0.3822, -0.7666,  0.7480,  0.6350, -0.3998, -0.5953,  0.3648, -0.2698]],\n",
      "       device='cuda:0')\n",
      "torch.Size([1, 768])\n",
      "----------------------------\n"
     ]
    },
    {
     "data": {
      "text/html": [
       "<style>\n",
       "div.display_data {\n",
       "    margin: 0 auto;\n",
       "    max-width: 500px;\n",
       "}\n",
       "table.xxx {\n",
       "    margin: 50px !important;\n",
       "    float: right !important;\n",
       "    clear: both !important;\n",
       "}\n",
       "table.xxx td {\n",
       "    min-width: 300px !important;\n",
       "    text-align: center !important;\n",
       "}\n",
       "</style><table border=\"2\" class=\"dataframe xxx\">\n",
       "  <thead>\n",
       "    <tr style=\"text-align: center;\">\n",
       "      <th></th>\n",
       "      <th>Accent</th>\n",
       "      <th>Score</th>\n",
       "    </tr>\n",
       "  </thead>\n",
       "  <tbody>\n",
       "    <tr>\n",
       "      <th>0</th>\n",
       "      <td>african</td>\n",
       "      <td>0.0%</td>\n",
       "    </tr>\n",
       "    <tr>\n",
       "      <th>1</th>\n",
       "      <td>australia</td>\n",
       "      <td>0.0%</td>\n",
       "    </tr>\n",
       "    <tr>\n",
       "      <th>2</th>\n",
       "      <td>bermuda</td>\n",
       "      <td>0.0%</td>\n",
       "    </tr>\n",
       "    <tr>\n",
       "      <th>3</th>\n",
       "      <td>canada</td>\n",
       "      <td>0.0%</td>\n",
       "    </tr>\n",
       "    <tr>\n",
       "      <th>4</th>\n",
       "      <td>england</td>\n",
       "      <td>0.0%</td>\n",
       "    </tr>\n",
       "    <tr>\n",
       "      <th>5</th>\n",
       "      <td>hongkong</td>\n",
       "      <td>0.0%</td>\n",
       "    </tr>\n",
       "    <tr>\n",
       "      <th>6</th>\n",
       "      <td>indian</td>\n",
       "      <td>0.0%</td>\n",
       "    </tr>\n",
       "    <tr>\n",
       "      <th>7</th>\n",
       "      <td>ireland</td>\n",
       "      <td>0.0%</td>\n",
       "    </tr>\n",
       "    <tr>\n",
       "      <th>8</th>\n",
       "      <td>malaysia</td>\n",
       "      <td>0.0%</td>\n",
       "    </tr>\n",
       "    <tr>\n",
       "      <th>9</th>\n",
       "      <td>newzealand</td>\n",
       "      <td>0.0%</td>\n",
       "    </tr>\n",
       "    <tr>\n",
       "      <th>10</th>\n",
       "      <td>philippines</td>\n",
       "      <td>0.0%</td>\n",
       "    </tr>\n",
       "    <tr>\n",
       "      <th>11</th>\n",
       "      <td>scotland</td>\n",
       "      <td>0.0%</td>\n",
       "    </tr>\n",
       "    <tr>\n",
       "      <th>12</th>\n",
       "      <td>singapore</td>\n",
       "      <td>0.0%</td>\n",
       "    </tr>\n",
       "    <tr>\n",
       "      <th>13</th>\n",
       "      <td>southatlandtic</td>\n",
       "      <td>0.0%</td>\n",
       "    </tr>\n",
       "    <tr>\n",
       "      <th>14</th>\n",
       "      <td>us</td>\n",
       "      <td>100.0%</td>\n",
       "    </tr>\n",
       "    <tr>\n",
       "      <th>15</th>\n",
       "      <td>wales</td>\n",
       "      <td>0.0%</td>\n",
       "    </tr>\n",
       "  </tbody>\n",
       "</table>\n",
       "<p>16 rows × 2 columns</p><br />"
      ],
      "text/plain": [
       "<IPython.core.display.HTML object>"
      ]
     },
     "metadata": {},
     "output_type": "display_data"
    }
   ],
   "source": [
    "prediction(test.iloc[3])"
   ]
  },
  {
   "cell_type": "code",
   "execution_count": 19,
   "metadata": {
    "collapsed": true,
    "id": "hzoKOgpoWI1K"
   },
   "outputs": [
    {
     "name": "stdout",
     "output_type": "stream",
     "text": [
      "name                               common_voice_en_19046599\n",
      "path      /home/mayank/MTP/begin_again/Error-Driven-ASR-...\n",
      "accent                                              ireland\n",
      "Name: 1, dtype: object\n"
     ]
    },
    {
     "data": {
      "text/html": [
       "<style>\n",
       "div.display_data {\n",
       "    margin: 0 auto;\n",
       "    max-width: 500px;\n",
       "}\n",
       "table.xxx {\n",
       "    margin: 50px !important;\n",
       "    float: right !important;\n",
       "    clear: both !important;\n",
       "}\n",
       "table.xxx td {\n",
       "    min-width: 300px !important;\n",
       "    text-align: center !important;\n",
       "}\n",
       "</style><table border=\"2\" class=\"dataframe xxx\">\n",
       "  <thead>\n",
       "    <tr style=\"text-align: center;\">\n",
       "      <th></th>\n",
       "      <th>Accent</th>\n",
       "      <th>Sentence</th>\n",
       "    </tr>\n",
       "  </thead>\n",
       "  <tbody>\n",
       "    <tr>\n",
       "      <th>0</th>\n",
       "      <td>ireland</td>\n",
       "      <td></td>\n",
       "    </tr>\n",
       "  </tbody>\n",
       "</table>\n",
       "<p>1 rows × 2 columns</p><br />"
      ],
      "text/plain": [
       "<IPython.core.display.HTML object>"
      ]
     },
     "metadata": {},
     "output_type": "display_data"
    },
    {
     "data": {
      "text/html": [
       "\n",
       "                <audio  controls=\"controls\" autoplay=\"autoplay\">\n",
       "                    <source src=\"data:audio/wav;base64,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\" type=\"audio/wav\" />\n",
       "                    Your browser does not support the audio element.\n",
       "                </audio>\n",
       "              "
      ],
      "text/plain": [
       "<IPython.lib.display.Audio object>"
      ]
     },
     "metadata": {},
     "output_type": "display_data"
    },
    {
     "name": "stdout",
     "output_type": "stream",
     "text": [
      "----------------------------\n",
      "tensor([[-0.3604, -0.5015,  0.5872, -0.7396, -0.8553, -0.8409, -0.3025, -0.6030,\n",
      "          0.5019, -0.7891, -0.2193,  0.7910, -0.6881, -0.4744,  0.7632,  0.2645,\n",
      "         -0.5625, -0.4870, -0.7536,  0.7234,  0.7052,  0.4127,  0.8077,  0.8328,\n",
      "         -0.5481, -0.8586, -0.2990,  0.5092,  0.2156, -0.5565, -0.5920, -0.1352,\n",
      "          0.4027, -0.6018,  0.6802, -0.3259, -0.8174, -0.3766, -0.0789,  0.4465,\n",
      "          0.7930,  0.9042, -0.7596, -0.7964, -0.7144,  0.5105, -0.4559, -0.0338,\n",
      "         -0.6765, -0.1597, -0.8678, -0.4116,  0.3043,  0.5955, -0.1498,  0.4865,\n",
      "         -0.6807, -0.6949,  0.4006,  0.5696, -0.7316, -0.8384,  0.2837, -0.4042,\n",
      "         -0.8144,  0.7488,  0.7497,  0.5894, -0.1367, -0.8820, -0.2325, -0.5952,\n",
      "         -0.8967, -0.8156, -0.6474,  0.8483, -0.5507,  0.6613,  0.8286,  0.4074,\n",
      "          0.8415,  0.7009, -0.3253, -0.3987, -0.7224, -0.6438, -0.1427,  0.0512,\n",
      "         -0.8593, -0.4745, -0.3878,  0.0240, -0.0655, -0.3107,  0.5302, -0.3431,\n",
      "          0.6473,  0.8767, -0.5365, -0.3931, -0.6780,  0.0811,  0.0650,  0.1202,\n",
      "          0.7856, -0.7800, -0.5634,  0.7770, -0.2377, -0.3883,  0.1642, -0.2898,\n",
      "         -0.7652,  0.5820,  0.3101, -0.0290, -0.0091, -0.5504,  0.8926, -0.5467,\n",
      "         -0.0898,  0.6987, -0.6091,  0.7339,  0.8701,  0.3400,  0.0506, -0.5013,\n",
      "         -0.7960, -0.8619,  0.2421,  0.7232,  0.3505,  0.1713, -0.2832, -0.3055,\n",
      "          0.5841, -0.5722,  0.5590,  0.4807, -0.6483,  0.1837,  0.2263, -0.6850,\n",
      "         -0.5276,  0.0709, -0.5737,  0.7409, -0.2240,  0.7862, -0.3840,  0.2200,\n",
      "          0.1109, -0.7496,  0.5115,  0.6482,  0.5215,  0.8611,  0.1578,  0.4489,\n",
      "          0.7999,  0.5102, -0.4267, -0.1106,  0.1907,  0.4130, -0.6781,  0.1785,\n",
      "         -0.3104, -0.8168, -0.6065,  0.1204, -0.5269,  0.3228, -0.3661, -0.6454,\n",
      "          0.6348, -0.3077,  0.5619,  0.4360,  0.7601,  0.8103, -0.4060, -0.1452,\n",
      "          0.2616,  0.6308,  0.3044, -0.7879, -0.8788, -0.6245, -0.3322, -0.6433,\n",
      "         -0.6268,  0.8172,  0.6779,  0.1508, -0.0032, -0.6657,  0.4611, -0.6838,\n",
      "         -0.5129, -0.1514, -0.8248,  0.1882, -0.3909,  0.3884,  0.5386, -0.6306,\n",
      "          0.8163, -0.6862,  0.5667,  0.2653, -0.8898,  0.2761, -0.0516,  0.4033,\n",
      "          0.2883,  0.6682, -0.5609,  0.8029,  0.3101,  0.0462, -0.5010,  0.4675,\n",
      "          0.6852,  0.3119, -0.8246,  0.2046, -0.2690,  0.6882,  0.5485, -0.8012,\n",
      "          0.5669,  0.8066,  0.8177, -0.8807,  0.6829,  0.8404, -0.7564, -0.7441,\n",
      "         -0.7691, -0.1714, -0.2089,  0.5565, -0.3846, -0.8654,  0.8158, -0.8030,\n",
      "         -0.7651, -0.4988, -0.5729,  0.8274, -0.0893,  0.3515,  0.6665, -0.3986,\n",
      "         -0.3487, -0.5882,  0.5279, -0.8342,  0.2548, -0.2802, -0.7874,  0.4477,\n",
      "         -0.2069,  0.2360,  0.7050, -0.3883,  0.4006,  0.4019,  0.1477,  0.4108,\n",
      "          0.7252, -0.5347,  0.4085, -0.5917,  0.4310,  0.4675, -0.5652,  0.0511,\n",
      "          0.1430, -0.6472,  0.4530, -0.6151, -0.4403,  0.8905, -0.2057,  0.8077,\n",
      "          0.3903, -0.0912, -0.1729, -0.5792,  0.4960,  0.4862,  0.2881,  0.1313,\n",
      "         -0.7481,  0.0697, -0.4260, -0.2853, -0.0437,  0.4575,  0.5553,  0.6553,\n",
      "          0.4812, -0.7295,  0.6072, -0.5971,  0.5308, -0.6023, -0.7853,  0.6834,\n",
      "          0.0751, -0.7701, -0.3011, -0.3873, -0.7768, -0.6126, -0.8265, -0.2453,\n",
      "         -0.1967, -0.0082, -0.8505,  0.4736, -0.8457, -0.7158, -0.2331,  0.4265,\n",
      "          0.1749, -0.0605, -0.8717, -0.0141, -0.3246,  0.3825,  0.9389,  0.6031,\n",
      "         -0.5341, -0.6829,  0.3409, -0.7915, -0.7873, -0.5120, -0.7486,  0.6754,\n",
      "         -0.0602,  0.3555,  0.4640, -0.3835, -0.0581,  0.8503,  0.8365, -0.3307,\n",
      "         -0.8238,  0.8011,  0.6867, -0.7963,  0.6759, -0.2347, -0.7388,  0.8333,\n",
      "         -0.5769, -0.7375,  0.1561,  0.0726,  0.5771, -0.7796, -0.7933,  0.0694,\n",
      "         -0.5095, -0.4239, -0.8030, -0.8347, -0.5896,  0.1979,  0.8409,  0.0137,\n",
      "         -0.3812,  0.4401, -0.2691, -0.6155, -0.2368, -0.2175,  0.4020,  0.6805,\n",
      "         -0.4056, -0.2218,  0.3623,  0.0801, -0.3203, -0.5943, -0.6882, -0.8032,\n",
      "         -0.4728,  0.6025,  0.7415, -0.1345, -0.2192, -0.5114,  0.7870, -0.7534,\n",
      "         -0.2810, -0.1808, -0.0009, -0.1555, -0.7617, -0.2955, -0.3037, -0.3710,\n",
      "         -0.7794, -0.4149, -0.6319,  0.7525,  0.8165, -0.8007,  0.7618,  0.8391,\n",
      "         -0.7164,  0.6130, -0.4948, -0.5160, -0.7121,  0.1352,  0.5222,  0.3913,\n",
      "          0.6253, -0.6386, -0.7667, -0.8512, -0.8592,  0.3196,  0.7831,  0.7062,\n",
      "         -0.8559, -0.7797,  0.7935, -0.8274, -0.4857,  0.2489, -0.1720,  0.7938,\n",
      "         -0.6672,  0.7209,  0.5245,  0.0153, -0.7846, -0.7660,  0.8319,  0.7800,\n",
      "         -0.0837,  0.6779,  0.8151, -0.8097,  0.6106, -0.4327, -0.2698,  0.2515,\n",
      "         -0.7884,  0.9178, -0.5296, -0.8691, -0.8853,  0.7103,  0.0888, -0.8055,\n",
      "          0.6717, -0.4250,  0.2693, -0.6091, -0.7471, -0.5343,  0.7187,  0.6246,\n",
      "         -0.8386,  0.6523, -0.3274,  0.6404, -0.6069,  0.4957, -0.3704,  0.6556,\n",
      "          0.8563,  0.7460, -0.7745, -0.7712,  0.6174,  0.7032, -0.8335,  0.6352,\n",
      "         -0.7698,  0.6108,  0.8164,  0.8438,  0.3857, -0.4214, -0.6771,  0.3820,\n",
      "          0.7580,  0.0957,  0.0126, -0.5809, -0.7534, -0.7335,  0.7572, -0.7735,\n",
      "          0.6854, -0.1820, -0.4158,  0.0580, -0.4106,  0.7700, -0.4988,  0.7064,\n",
      "         -0.6094, -0.5136,  0.8330, -0.7074,  0.2373, -0.4043, -0.4077,  0.2609,\n",
      "          0.1057, -0.4579,  0.8489,  0.6703,  0.5519, -0.6864,  0.3000, -0.6646,\n",
      "         -0.6989, -0.4154,  0.2354,  0.8977,  0.7213, -0.6891,  0.2478,  0.6745,\n",
      "         -0.6195,  0.4280,  0.7187, -0.4495,  0.8757, -0.6570,  0.2003,  0.6338,\n",
      "          0.3159,  0.5806, -0.2284,  0.6191,  0.7545,  0.5700,  0.3432, -0.4403,\n",
      "         -0.4923, -0.5868,  0.5818, -0.5442,  0.4204,  0.5419, -0.8042,  0.7935,\n",
      "          0.6782,  0.6660,  0.8037, -0.5127,  0.6010,  0.3904, -0.2266,  0.6071,\n",
      "         -0.3987, -0.7633, -0.3678,  0.8479,  0.3925, -0.5329,  0.8174,  0.6688,\n",
      "         -0.4860,  0.5843,  0.0795, -0.5131,  0.5501, -0.3506,  0.2882,  0.5027,\n",
      "          0.6617, -0.8051, -0.3184, -0.2139,  0.5753, -0.1171,  0.7974,  0.3551,\n",
      "          0.4067,  0.6330, -0.5389, -0.1399,  0.5533, -0.5868,  0.8204,  0.4240,\n",
      "         -0.7512, -0.2519, -0.2043,  0.8155,  0.7307,  0.2181, -0.5139,  0.5545,\n",
      "         -0.7143,  0.6721, -0.2562,  0.7024,  0.6630,  0.8998,  0.7542,  0.7597,\n",
      "          0.7359, -0.1651,  0.4726, -0.2578, -0.6083,  0.7537, -0.5875,  0.8644,\n",
      "          0.8009, -0.5127,  0.3661,  0.6198,  0.7648, -0.5030,  0.6551, -0.4204,\n",
      "          0.2372,  0.4700, -0.7674, -0.6637, -0.1982,  0.6970, -0.0060, -0.6741,\n",
      "          0.8895,  0.3585, -0.7829,  0.5473,  0.4357, -0.0826,  0.1932,  0.4160,\n",
      "         -0.5166,  0.5120,  0.5389,  0.0182,  0.5205,  0.0201,  0.1156,  0.6804,\n",
      "         -0.1040,  0.7163, -0.0883, -0.1679, -0.6162,  0.5865, -0.5907, -0.7852,\n",
      "          0.5714,  0.5833,  0.8625,  0.0760,  0.6939, -0.6497,  0.7237, -0.2510,\n",
      "         -0.0123, -0.8311,  0.4598,  0.8168,  0.0460,  0.4007, -0.6962,  0.5891,\n",
      "          0.1380, -0.8508, -0.4818, -0.3582,  0.7906,  0.8426, -0.7277, -0.8170,\n",
      "         -0.7294, -0.5874,  0.6690,  0.6938,  0.6648, -0.8254, -0.6350,  0.4114,\n",
      "          0.3166, -0.6205,  0.6009,  0.7162,  0.6481, -0.6249,  0.4580,  0.7843,\n",
      "          0.9157,  0.0117, -0.7548, -0.7083, -0.2478,  0.5834, -0.2600,  0.5702,\n",
      "          0.6785, -0.0311, -0.3439, -0.2778,  0.6510, -0.0854, -0.1049,  0.1507,\n",
      "          0.6878, -0.7929,  0.6639, -0.8154, -0.5688,  0.5267,  0.8265, -0.5702,\n",
      "         -0.4635,  0.5389, -0.3625,  0.1499, -0.7297,  0.4322, -0.7808, -0.6257,\n",
      "         -0.2699,  0.6735, -0.6251,  0.0648,  0.0305, -0.8560,  0.6614, -0.5038,\n",
      "          0.5677,  0.2670, -0.7382,  0.4996, -0.7125, -0.0075, -0.6460,  0.7119,\n",
      "          0.5307, -0.4605,  0.0238, -0.0195,  0.2004,  0.5498,  0.7437, -0.6319,\n",
      "          0.5577, -0.5426, -0.6425, -0.7369,  0.6573, -0.1505, -0.7918, -0.3243]],\n",
      "       device='cuda:0')\n",
      "torch.Size([1, 768])\n",
      "----------------------------\n"
     ]
    },
    {
     "data": {
      "text/html": [
       "<style>\n",
       "div.display_data {\n",
       "    margin: 0 auto;\n",
       "    max-width: 500px;\n",
       "}\n",
       "table.xxx {\n",
       "    margin: 50px !important;\n",
       "    float: right !important;\n",
       "    clear: both !important;\n",
       "}\n",
       "table.xxx td {\n",
       "    min-width: 300px !important;\n",
       "    text-align: center !important;\n",
       "}\n",
       "</style><table border=\"2\" class=\"dataframe xxx\">\n",
       "  <thead>\n",
       "    <tr style=\"text-align: center;\">\n",
       "      <th></th>\n",
       "      <th>Accent</th>\n",
       "      <th>Score</th>\n",
       "    </tr>\n",
       "  </thead>\n",
       "  <tbody>\n",
       "    <tr>\n",
       "      <th>0</th>\n",
       "      <td>african</td>\n",
       "      <td>0.0%</td>\n",
       "    </tr>\n",
       "    <tr>\n",
       "      <th>1</th>\n",
       "      <td>australia</td>\n",
       "      <td>0.0%</td>\n",
       "    </tr>\n",
       "    <tr>\n",
       "      <th>2</th>\n",
       "      <td>bermuda</td>\n",
       "      <td>0.0%</td>\n",
       "    </tr>\n",
       "    <tr>\n",
       "      <th>3</th>\n",
       "      <td>canada</td>\n",
       "      <td>0.0%</td>\n",
       "    </tr>\n",
       "    <tr>\n",
       "      <th>4</th>\n",
       "      <td>england</td>\n",
       "      <td>0.0%</td>\n",
       "    </tr>\n",
       "    <tr>\n",
       "      <th>5</th>\n",
       "      <td>hongkong</td>\n",
       "      <td>0.0%</td>\n",
       "    </tr>\n",
       "    <tr>\n",
       "      <th>6</th>\n",
       "      <td>indian</td>\n",
       "      <td>0.0%</td>\n",
       "    </tr>\n",
       "    <tr>\n",
       "      <th>7</th>\n",
       "      <td>ireland</td>\n",
       "      <td>100.0%</td>\n",
       "    </tr>\n",
       "    <tr>\n",
       "      <th>8</th>\n",
       "      <td>malaysia</td>\n",
       "      <td>0.0%</td>\n",
       "    </tr>\n",
       "    <tr>\n",
       "      <th>9</th>\n",
       "      <td>newzealand</td>\n",
       "      <td>0.0%</td>\n",
       "    </tr>\n",
       "    <tr>\n",
       "      <th>10</th>\n",
       "      <td>philippines</td>\n",
       "      <td>0.0%</td>\n",
       "    </tr>\n",
       "    <tr>\n",
       "      <th>11</th>\n",
       "      <td>scotland</td>\n",
       "      <td>0.0%</td>\n",
       "    </tr>\n",
       "    <tr>\n",
       "      <th>12</th>\n",
       "      <td>singapore</td>\n",
       "      <td>0.0%</td>\n",
       "    </tr>\n",
       "    <tr>\n",
       "      <th>13</th>\n",
       "      <td>southatlandtic</td>\n",
       "      <td>0.0%</td>\n",
       "    </tr>\n",
       "    <tr>\n",
       "      <th>14</th>\n",
       "      <td>us</td>\n",
       "      <td>0.0%</td>\n",
       "    </tr>\n",
       "    <tr>\n",
       "      <th>15</th>\n",
       "      <td>wales</td>\n",
       "      <td>0.0%</td>\n",
       "    </tr>\n",
       "  </tbody>\n",
       "</table>\n",
       "<p>16 rows × 2 columns</p><br />"
      ],
      "text/plain": [
       "<IPython.core.display.HTML object>"
      ]
     },
     "metadata": {},
     "output_type": "display_data"
    }
   ],
   "source": [
    "print(test.iloc[1])\n",
    "prediction(test.iloc[1])"
   ]
  },
  {
   "cell_type": "code",
   "execution_count": null,
   "metadata": {
    "id": "7nqwbTTXSfMO"
   },
   "outputs": [],
   "source": [
    "prediction(test.iloc[2])"
   ]
  },
  {
   "cell_type": "code",
   "execution_count": null,
   "metadata": {
    "id": "WEwVoZVPNaha"
   },
   "outputs": [],
   "source": []
  },
  {
   "cell_type": "code",
   "execution_count": null,
   "metadata": {},
   "outputs": [],
   "source": []
  },
  {
   "cell_type": "code",
   "execution_count": 24,
   "metadata": {},
   "outputs": [],
   "source": [
    "test.iloc[1]['path']\n",
    "f1 = '/home/mayank/MTP/begin_again/Error-Driven-ASR-Personalization/mozilla/cv-corpus-7.0-2021-07-21/en/clips/common_voice_en_19046599.mp3'"
   ]
  },
  {
   "cell_type": "code",
   "execution_count": 25,
   "metadata": {},
   "outputs": [
    {
     "name": "stderr",
     "output_type": "stream",
     "text": [
      "The tokenizer class you load from this checkpoint is not the same type as the class this function is called from. It may result in unexpected tokenization. \n",
      "The tokenizer class you load from this checkpoint is 'Wav2Vec2CTCTokenizer'. \n",
      "The class this function is called from is 'Wav2Vec2Tokenizer'.\n",
      "/home/mayank/.conda/envs/w2v2/lib/python3.6/site-packages/transformers/models/wav2vec2/tokenization_wav2vec2.py:423: FutureWarning: The class `Wav2Vec2Tokenizer` is deprecated and will be removed in version 5 of Transformers. Please use `Wav2Vec2Processor` or `Wav2Vec2CTCTokenizer` instead.\n",
      "  FutureWarning,\n",
      "Some weights of the model checkpoint at facebook/wav2vec2-large-960h were not used when initializing Wav2Vec2Model: ['lm_head.bias', 'lm_head.weight']\n",
      "- This IS expected if you are initializing Wav2Vec2Model from the checkpoint of a model trained on another task or with another architecture (e.g. initializing a BertForSequenceClassification model from a BertForPreTraining model).\n",
      "- This IS NOT expected if you are initializing Wav2Vec2Model from the checkpoint of a model that you expect to be exactly identical (initializing a BertForSequenceClassification model from a BertForSequenceClassification model).\n",
      "Some weights of Wav2Vec2Model were not initialized from the model checkpoint at facebook/wav2vec2-large-960h and are newly initialized: ['wav2vec2.masked_spec_embed']\n",
      "You should probably TRAIN this model on a down-stream task to be able to use it for predictions and inference.\n",
      "/home/mayank/.conda/envs/w2v2/lib/python3.6/site-packages/librosa/core/audio.py:165: UserWarning: PySoundFile failed. Trying audioread instead.\n",
      "  warnings.warn(\"PySoundFile failed. Trying audioread instead.\")\n"
     ]
    }
   ],
   "source": [
    "import numpy as np\n",
    "import json\n",
    "from tqdm import tqdm\n",
    "import pickle\n",
    "import librosa\n",
    "import torch\n",
    "import torchaudio\n",
    "from transformers import Wav2Vec2Tokenizer, Wav2Vec2Model\n",
    "\n",
    "device = torch.device('cuda')\n",
    "\n",
    "to = Wav2Vec2Tokenizer.from_pretrained(\"facebook/wav2vec2-large-960h\")\n",
    "mo = Wav2Vec2Model.from_pretrained(\"facebook/wav2vec2-large-960h\").to(device)\n",
    "layer_num = 1\n",
    "\n",
    "# waveform, sample_rate = torchaudio.load(test.iloc[3]['path'])\n",
    "waveform, sample_rate = librosa.load(f1, sr=48000)\n",
    "# print(sample_rate)\n",
    "waveform = torch.tensor(waveform)\n",
    "speech_inp = to(waveform, return_tensors='pt', padding='longest').input_values.to(device)\n",
    "w2v2_features = mo(speech_inp, output_hidden_states=True).hidden_states[layer_num - 1].mean(1).cpu().detach().numpy()"
   ]
  },
  {
   "cell_type": "code",
   "execution_count": 26,
   "metadata": {},
   "outputs": [
    {
     "data": {
      "text/plain": [
       "(1, 1024)"
      ]
     },
     "execution_count": 26,
     "metadata": {},
     "output_type": "execute_result"
    }
   ],
   "source": [
    "w2v2_features.shape"
   ]
  },
  {
   "cell_type": "code",
   "execution_count": 28,
   "metadata": {},
   "outputs": [
    {
     "name": "stdout",
     "output_type": "stream",
     "text": [
      "[[ 0.03266818 -0.26813987 -0.04880898 ... -0.49008036  0.20770192\n",
      "   0.20002435]]\n"
     ]
    }
   ],
   "source": [
    "print(w2v2_features)"
   ]
  },
  {
   "cell_type": "code",
   "execution_count": null,
   "metadata": {},
   "outputs": [],
   "source": []
  },
  {
   "cell_type": "code",
   "execution_count": null,
   "metadata": {},
   "outputs": [],
   "source": []
  },
  {
   "cell_type": "code",
   "execution_count": null,
   "metadata": {},
   "outputs": [],
   "source": []
  },
  {
   "cell_type": "code",
   "execution_count": null,
   "metadata": {},
   "outputs": [],
   "source": []
  },
  {
   "cell_type": "code",
   "execution_count": null,
   "metadata": {},
   "outputs": [],
   "source": []
  },
  {
   "cell_type": "code",
   "execution_count": null,
   "metadata": {},
   "outputs": [],
   "source": []
  }
 ],
 "metadata": {
  "accelerator": "GPU",
  "colab": {
   "collapsed_sections": [],
   "name": "Emotion recognition in Greek speech using Wav2Vec2.ipynb",
   "provenance": []
  },
  "kernelspec": {
   "display_name": "error_env",
   "language": "python",
   "name": "error_env"
  },
  "language_info": {
   "codemirror_mode": {
    "name": "ipython",
    "version": 3
   },
   "file_extension": ".py",
   "mimetype": "text/x-python",
   "name": "python",
   "nbconvert_exporter": "python",
   "pygments_lexer": "ipython3",
   "version": "3.8.10"
  }
 },
 "nbformat": 4,
 "nbformat_minor": 1
}
