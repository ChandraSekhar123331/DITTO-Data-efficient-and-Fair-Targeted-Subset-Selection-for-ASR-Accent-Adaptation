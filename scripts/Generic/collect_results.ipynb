{
 "cells": [
  {
   "cell_type": "code",
   "execution_count": null,
   "metadata": {},
   "outputs": [],
   "source": [
    "import os\n",
    "import regex as re\n",
    "from glob import glob\n",
    "from dataset import get_path, Dataset\n",
    "from cmath import inf\n",
    "import numpy as np\n",
    "import math"
   ]
  },
  {
   "cell_type": "code",
   "execution_count": null,
   "metadata": {},
   "outputs": [],
   "source": [
    "def WER_test_file(test_file):\n",
    "    try:\n",
    "        txt_file = open(test_file, \"r\")\n",
    "        lines = txt_file.readlines()\n",
    "        matched = \"\"\n",
    "        for line in lines:\n",
    "            if \"==========>>>>>>Evaluation Greedy WER: \" in line:\n",
    "                txt_file.close()\n",
    "                return float(line.rstrip().split(\": \")[1])\n",
    "    except:\n",
    "        # txt_file.close()\n",
    "        print(test_file)\n",
    "        print(\"weiowdnio\")\n",
    "        return inf"
   ]
  },
  {
   "cell_type": "code",
   "execution_count": null,
   "metadata": {},
   "outputs": [],
   "source": [
    "config = {}\n",
    "\n",
    "config[\"dataset\"] = \"L2\"\n",
    "config[\"HOME_PATH\"], config[\"DATASET_PATH\"], config[\"WAV_PATH\"] = get_path(Dataset[config[\"dataset\"]])\n",
    "config[\"FULL_DATASET_PATH\"] = os.path.join(config[\"HOME_PATH\"], config[\"DATASET_PATH\"])\n",
    "config[\"FULL_WAV_PATH\"] = os.path.join(config[\"HOME_PATH\"], config[\"WAV_PATH\"])"
   ]
  },
  {
   "cell_type": "code",
   "execution_count": null,
   "metadata": {},
   "outputs": [],
   "source": [
    "glob_str = os.path.join(config[\"FULL_DATASET_PATH\"], \"*\", \"budget_*\", \"*\")\n",
    "# lst = glob()\n",
    "print(glob_str)"
   ]
  },
  {
   "cell_type": "code",
   "execution_count": null,
   "metadata": {},
   "outputs": [],
   "source": [
    "lst = glob(glob_str)"
   ]
  },
  {
   "cell_type": "code",
   "execution_count": null,
   "metadata": {},
   "outputs": [],
   "source": [
    "L2_results = []"
   ]
  },
  {
   "cell_type": "code",
   "execution_count": null,
   "metadata": {},
   "outputs": [],
   "source": [
    "for setting in lst:\n",
    "    expt_result = {}\n",
    "    path = os.path.join(setting)\n",
    "    temp_path = path\n",
    "    path = str(path)\n",
    "\n",
    "    path = path.replace(f\"{config['FULL_DATASET_PATH']}/\", \"\")\n",
    "    print(path.split(os.path.sep))\n",
    "    expt_result[\"accent\"], expt_result[\"budget\"], expt_result[\"method\"]= path.split(os.path.sep)\n",
    "    expt_result[\"budget\"] = expt_result[\"budget\"].replace(\"budget_\", \"\")\n",
    "    \n",
    "\n",
    "    wers = []\n",
    "    for run in range(1, 4):\n",
    "        result_path = os.path.join(temp_path, f\"run_{run}\", \"test_infer_log.txt\")\n",
    "        expt_result[f\"WER-{run}\"] = WER_test_file(result_path)\n",
    "        wers.append(expt_result[f\"WER-{run}\"])\n",
    "    expt_result[\"WER-mean\"] = round(np.mean(wers), 3)\n",
    "    expt_result[\"WER-std\"] = round(np.std(wers), 3)\n",
    "\n",
    "    L2_results.append(expt_result)"
   ]
  },
  {
   "cell_type": "code",
   "execution_count": null,
   "metadata": {},
   "outputs": [],
   "source": [
    "import pandas as pd"
   ]
  },
  {
   "cell_type": "code",
   "execution_count": null,
   "metadata": {},
   "outputs": [],
   "source": [
    "df = pd.DataFrame(L2_results) \n",
    "df = df.sort_values([\"accent\", \"method\"], ignore_index=True)"
   ]
  },
  {
   "cell_type": "code",
   "execution_count": null,
   "metadata": {},
   "outputs": [],
   "source": [
    "df"
   ]
  },
  {
   "cell_type": "code",
   "execution_count": null,
   "metadata": {},
   "outputs": [],
   "source": [
    "df.to_csv(\"L2-results.csv\", index=False)"
   ]
  },
  {
   "attachments": {},
   "cell_type": "markdown",
   "metadata": {},
   "source": [
    "### MCV - results"
   ]
  },
  {
   "cell_type": "code",
   "execution_count": null,
   "metadata": {},
   "outputs": [],
   "source": [
    "config[\"dataset\"] = \"MCV\"\n",
    "config[\"HOME_PATH\"], config[\"DATASET_PATH\"], config[\"WAV_PATH\"] = get_path(Dataset[config[\"dataset\"]])\n",
    "config[\"FULL_DATASET_PATH\"] = os.path.join(config[\"HOME_PATH\"], config[\"DATASET_PATH\"])\n",
    "config[\"FULL_WAV_PATH\"] = os.path.join(config[\"HOME_PATH\"], config[\"WAV_PATH\"])"
   ]
  },
  {
   "cell_type": "code",
   "execution_count": null,
   "metadata": {},
   "outputs": [],
   "source": [
    "glob_str = os.path.join(config[\"FULL_DATASET_PATH\"], \"*\", \"all\", \"within\", \"budget_*\", \"*\")\n",
    "print(glob_str)"
   ]
  },
  {
   "cell_type": "code",
   "execution_count": null,
   "metadata": {},
   "outputs": [],
   "source": [
    "lst = glob(glob_str)"
   ]
  },
  {
   "cell_type": "code",
   "execution_count": null,
   "metadata": {},
   "outputs": [],
   "source": [
    "MCV_results = []"
   ]
  },
  {
   "cell_type": "code",
   "execution_count": null,
   "metadata": {},
   "outputs": [],
   "source": [
    "for setting in lst:\n",
    "    expt_result = {}\n",
    "    path = os.path.join(setting)\n",
    "    temp_path = path\n",
    "    path = str(path)\n",
    "\n",
    "    path = path.replace(f\"{config['FULL_DATASET_PATH']}/\", \"\")\n",
    "    path = path.replace(\"all/within/\", \"\")\n",
    "    print(path.split(os.path.sep))\n",
    "    expt_result[\"accent\"], expt_result[\"budget\"], expt_result[\"method\"]= path.split(os.path.sep)\n",
    "    expt_result[\"budget\"] = expt_result[\"budget\"].replace(\"budget_\", \"\")\n",
    "    \n",
    "\n",
    "    wers = []\n",
    "    for run in range(1, 4):\n",
    "        result_path = os.path.join(temp_path, f\"run_{run}\", \"test_infer_log.txt\")\n",
    "        expt_result[f\"WER-{run}\"] = WER_test_file(result_path)\n",
    "        wers.append(expt_result[f\"WER-{run}\"])\n",
    "    expt_result[\"WER-mean\"] = round(np.mean(wers), 3)\n",
    "    expt_result[\"WER-std\"] = round(np.std(wers), 3)\n",
    "\n",
    "    MCV_results.append(expt_result)"
   ]
  },
  {
   "cell_type": "code",
   "execution_count": null,
   "metadata": {},
   "outputs": [],
   "source": []
  },
  {
   "cell_type": "code",
   "execution_count": null,
   "metadata": {},
   "outputs": [],
   "source": [
    "MCV_df = pd.DataFrame(MCV_results) \n",
    "MCV_df = MCV_df.sort_values([\"accent\", \"method\"], ignore_index=True)\n",
    "MCV_df"
   ]
  },
  {
   "cell_type": "code",
   "execution_count": null,
   "metadata": {},
   "outputs": [],
   "source": [
    "MCV_df.to_csv(\"MCV-results.csv\", index=False)"
   ]
  },
  {
   "cell_type": "code",
   "execution_count": null,
   "metadata": {},
   "outputs": [],
   "source": [
    "MCV_df"
   ]
  },
  {
   "cell_type": "code",
   "execution_count": null,
   "metadata": {},
   "outputs": [],
   "source": []
  }
 ],
 "metadata": {
  "kernelspec": {
   "display_name": "error",
   "language": "python",
   "name": "python3"
  },
  "language_info": {
   "codemirror_mode": {
    "name": "ipython",
    "version": 3
   },
   "file_extension": ".py",
   "mimetype": "text/x-python",
   "name": "python",
   "nbconvert_exporter": "python",
   "pygments_lexer": "ipython3",
   "version": "3.8.10 (default, May 19 2021, 18:05:58) \n[GCC 7.3.0]"
  },
  "orig_nbformat": 4,
  "vscode": {
   "interpreter": {
    "hash": "bc33b118a8b882057d92ab3e840283c71bfc0408e638fa49ffb4a6668b810896"
   }
  }
 },
 "nbformat": 4,
 "nbformat_minor": 2
}
