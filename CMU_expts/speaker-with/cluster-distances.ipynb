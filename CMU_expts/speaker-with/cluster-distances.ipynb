{
 "cells": [
  {
   "cell_type": "code",
   "execution_count": null,
   "metadata": {},
   "outputs": [],
   "source": [
    "from IPython.core.display import display, HTML\n",
    "display(HTML(\"<style>.container { width:100% !important; }</style>\"))\n",
    "\n",
    "import json\n",
    "import pickle\n",
    "import numpy as np\n",
    "from __future__ import print_function\n",
    "import time\n",
    "import pandas as pd\n",
    "from sklearn.decomposition import PCA\n",
    "from sklearn.manifold import TSNE\n",
    "%matplotlib inline\n",
    "import matplotlib.pyplot as plt\n",
    "from mpl_toolkits.mplot3d import Axes3D\n",
    "import seaborn as sns\n",
    "from scipy.spatial import distance\n",
    "import random"
   ]
  },
  {
   "cell_type": "code",
   "execution_count": null,
   "metadata": {},
   "outputs": [],
   "source": [
    "def load_features(file_dir):\n",
    "    features = []\n",
    "    with open(file_dir.replace('.json', '_39.file'), 'rb') as f:\n",
    "        while True:\n",
    "            try:\n",
    "                features.append(pickle.load(f))\n",
    "            except EOFError:\n",
    "                break\n",
    "    features = np.concatenate(features, axis=0)\n",
    "    print(features.shape)\n",
    "    return features\n",
    "\n",
    "dirs = ['kannada_male_english', 'malayalam_male_english', 'rajasthani_male_english', 'hindi_male_english', \n",
    "        'tamil_male_english', 'gujarati_female_english', 'manipuri_female_english', 'assamese_female_english']\n",
    "base_dir = '../../../begin_again/Error-Driven-ASR-Personalization/data/'\n",
    "\n",
    "# query_dir = 'hindi_male_english/manifests/' \n",
    "# query_file_path = base_dir + query_dir + 'seed.json'\n",
    "# query_list = [json.loads(line.strip()) for line in open(query_file_path)]\n",
    "# query_features = load_features(query_file_path)\n",
    "\n",
    "universal_m, universal_v = [], []\n",
    "for k in range(5):\n",
    "    random.seed(42+i)\n",
    "    ground_features = []\n",
    "    for i, _dir in enumerate(dirs):\n",
    "        print(_dir)\n",
    "        selection_file_path = base_dir + _dir + '/manifests/selection.json'\n",
    "        selection_features = load_features(selection_file_path)\n",
    "        ground_features.append(selection_features[np.random.randint(selection_features.shape[0], size=3000)][:])\n",
    "    rows_m, rows_v = [], []\n",
    "    for i, _dir in enumerate(dirs):\n",
    "        vec_1 = ground_features[i]\n",
    "        row_m, row_v = [], []\n",
    "        for j, vec_2 in enumerate(ground_features):\n",
    "            print(dirs[i], dirs[j])\n",
    "            dist = distance.cdist(vec_1, vec_2, 'euclidean') \n",
    "            row_m.append(np.mean(dist))\n",
    "            row_v.append(np.std(dist))\n",
    "            print(vec_1.shape, vec_2.shape, dist.shape)\n",
    "        rows_m.append(row_m[:])\n",
    "        rows_v.append(row_v[:])\n",
    "        print()\n",
    "    rows_m = np.array(rows_m)\n",
    "    rows_v = np.array(rows_v)\n",
    "    universal_m.append(rows_m)\n",
    "    universal_v.append(rows_v)"
   ]
  },
  {
   "cell_type": "code",
   "execution_count": null,
   "metadata": {},
   "outputs": [],
   "source": [
    "np.mean(universal_m, axis=0)"
   ]
  },
  {
   "cell_type": "code",
   "execution_count": null,
   "metadata": {},
   "outputs": [],
   "source": [
    "np.mean(universal_v, axis=0)"
   ]
  }
 ],
 "metadata": {
  "kernelspec": {
   "display_name": "Python 3",
   "language": "python",
   "name": "python3"
  },
  "language_info": {
   "codemirror_mode": {
    "name": "ipython",
    "version": 3
   },
   "file_extension": ".py",
   "mimetype": "text/x-python",
   "name": "python",
   "nbconvert_exporter": "python",
   "pygments_lexer": "ipython3",
   "version": "3.7.10"
  }
 },
 "nbformat": 4,
 "nbformat_minor": 2
}
