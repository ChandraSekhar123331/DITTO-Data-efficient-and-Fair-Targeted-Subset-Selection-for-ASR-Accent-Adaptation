{
 "cells": [
  {
   "cell_type": "code",
   "execution_count": 4,
   "metadata": {},
   "outputs": [],
   "source": [
    "import json\n",
    "import pandas as pd\n",
    "import numpy as np\n",
    "import pickle\n",
    "import os\n",
    "import shutil"
   ]
  },
  {
   "cell_type": "code",
   "execution_count": 3,
   "metadata": {},
   "outputs": [],
   "source": [
    "accents = [\n",
    "    \"arabic\",\n",
    "    \"chinese\",\n",
    "    \"hindi\",\n",
    "    \"korean\",\n",
    "    \"spanish\",\n",
    "    \"vietnamese\",\n",
    "]"
   ]
  },
  {
   "cell_type": "code",
   "execution_count": 5,
   "metadata": {},
   "outputs": [],
   "source": [
    "for accent in accents:\n",
    "    for json_file in [\"selection.json\", \"dev.json\", \"seed.json\", \"test.json\"]:\n",
    "        original_path = os.path.join(accent, \"manifests\", json_file)\n",
    "        new_path = os.path.join(accent, json_file)\n",
    "        shutil.copyfile(original_path, new_path)"
   ]
  },
  {
   "cell_type": "code",
   "execution_count": 7,
   "metadata": {},
   "outputs": [],
   "source": [
    "for accent in accents:\n",
    "    for file_type in [\"selection\", \"seed\", \"test\"]:\n",
    "        feature_type = \"39\"\n",
    "        original_path = os.path.join(accent, \"manifests\", f\"{file_type}_{feature_type}.file\")\n",
    "        dest_path = os.path.join(accent, feature_type, f\"{file_type}_{feature_type}.file\")\n",
    "\n",
    "        os.makedirs(os.path.join(accent, feature_type), exist_ok=True)\n",
    "        shutil.copy(original_path, dest_path)\n"
   ]
  },
  {
   "cell_type": "code",
   "execution_count": null,
   "metadata": {},
   "outputs": [],
   "source": []
  }
 ],
 "metadata": {
  "kernelspec": {
   "display_name": "Python 3.8.10 ('error')",
   "language": "python",
   "name": "python3"
  },
  "language_info": {
   "codemirror_mode": {
    "name": "ipython",
    "version": 3
   },
   "file_extension": ".py",
   "mimetype": "text/x-python",
   "name": "python",
   "nbconvert_exporter": "python",
   "pygments_lexer": "ipython3",
   "version": "3.8.10"
  },
  "orig_nbformat": 4,
  "vscode": {
   "interpreter": {
    "hash": "bc33b118a8b882057d92ab3e840283c71bfc0408e638fa49ffb4a6668b810896"
   }
  }
 },
 "nbformat": 4,
 "nbformat_minor": 2
}
