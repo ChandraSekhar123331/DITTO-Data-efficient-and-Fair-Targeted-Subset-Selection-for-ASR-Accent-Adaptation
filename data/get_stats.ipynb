{
 "cells": [
  {
   "cell_type": "code",
   "execution_count": null,
   "metadata": {},
   "outputs": [],
   "source": [
    "import numpy as np\n",
    "import pandas as pd\n",
    "import json\n",
    "import pickle\n",
    "import os\n"
   ]
  },
  {
   "cell_type": "code",
   "execution_count": null,
   "metadata": {},
   "outputs": [],
   "source": [
    "accent_list = [\n",
    "    \"assamese_female_english\",\n",
    "    \"manipuri_female_english\",\n",
    "    \"kannada_male_english\",\n",
    "    \"rajasthani_male_english\",\n",
    "    \"gujarati_female_english\",\n",
    "    \"tamil_male_english\",\n",
    "    \"hindi_male_english\",\n",
    "    \"malayalam_male_english\",\n",
    "]\n"
   ]
  },
  {
   "cell_type": "code",
   "execution_count": null,
   "metadata": {},
   "outputs": [],
   "source": [
    "dct_lst = []\n",
    "\n",
    "for accent in accent_list:\n",
    "    for fxn in (\"GCMI\", \"FL2MI\", \"FL1MI\", \"LogDMI\"):\n",
    "        path = os.path.join(\n",
    "            \".\",\n",
    "            accent,\n",
    "            f\"all/budget_150/target_20/{fxn}_etaScale_1.0/accent_39_3rep/content_tf_idf_2gram/kernel_g=accent_gq=accent_qq=accent/accent_cosine/content_cosine/\",\n",
    "            \"train.json\",\n",
    "        )\n",
    "        with open(path, \"r\") as file:\n",
    "            lines = [line.strip() for line in file.readlines()]\n",
    "\n",
    "        dct_lst.append(\n",
    "            {\n",
    "                \"Accent\": accent,\n",
    "                \"fxn\": fxn,\n",
    "                \"Total_selections\": len(lines),\n",
    "                \"Unique\": len(set(lines)),\n",
    "                \"Fraction\": len(set(lines)) / len(lines) * 100,\n",
    "            }\n",
    "        )\n",
    "        # print(f\"\\tAccent: {accent}\\t\", f\"\\tfxn: {fxn}\\t\", f\"\\tJson_length: {len(lines)}\\t\", f\"\\tUnique_Json_length: {len(set(lines))}\\t\")\n"
   ]
  },
  {
   "cell_type": "code",
   "execution_count": null,
   "metadata": {},
   "outputs": [],
   "source": [
    "df = pd.DataFrame(dct_lst)\n",
    "df.sort_values([\"Accent\", \"Fraction\"], ascending=False).groupby([\"Accent\"]).head()\n"
   ]
  },
  {
   "cell_type": "code",
   "execution_count": null,
   "metadata": {},
   "outputs": [],
   "source": []
  }
 ],
 "metadata": {
  "kernelspec": {
   "display_name": "w2v2",
   "language": "python",
   "name": "python3"
  },
  "language_info": {
   "codemirror_mode": {
    "name": "ipython",
    "version": 3
   },
   "file_extension": ".py",
   "mimetype": "text/x-python",
   "name": "python",
   "nbconvert_exporter": "python",
   "pygments_lexer": "ipython3",
   "version": "3.6.13 |Anaconda, Inc.| (default, Jun  4 2021, 14:25:59) \n[GCC 7.5.0]"
  },
  "vscode": {
   "interpreter": {
    "hash": "c2a1a7c5adb1740f8fe2dd087b575ca5bab2c91d5b8eac06a896a0517011c673"
   }
  }
 },
 "nbformat": 4,
 "nbformat_minor": 2
}
